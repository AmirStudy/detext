{
  "nbformat": 4,
  "nbformat_minor": 0,
  "metadata": {
    "colab": {
      "name": "text_classification_demo.ipynb",
      "provenance": [],
      "collapsed_sections": [],
      "toc_visible": true
    },
    "kernelspec": {
      "name": "python3",
      "display_name": "Python 3"
    }
  },
  "cells": [
    {
      "cell_type": "markdown",
      "metadata": {
        "id": "ISekgAZ1epIS",
        "colab_type": "text"
      },
      "source": [
        "# Text Classification Demo\n",
        "\n",
        "\n",
        "\n"
      ]
    },
    {
      "cell_type": "markdown",
      "metadata": {
        "id": "LnNK2ME1M2iv",
        "colab_type": "text"
      },
      "source": [
        "# Introduction\n",
        "\n",
        "In this demo, we will show how to build a production-ready CNN model for text classification using the DeText framework. The task is for query intent classification.\n",
        "\n",
        "## Tutorial setup\n",
        "\n",
        "\n",
        "### Outline\n",
        "* Environment setup\n",
        "* Data preprocessing\n",
        "* Model training\n",
        "* Inference with trained model\n",
        "\n",
        "\n",
        "###   Dataset \n",
        "We will use the publicly available Natural Language Understanding benchmark dataset ([nlu-benchmark](https://github.com/snipsco/nlu-benchmark/tree/master/2017-06-custom-intent-engines)). The labeled data contains 7 intents including the following: \n",
        "* SearchCreativeWork (e.g. Find me the I, Robot television show),\n",
        "* GetWeather (e.g. Is it windy in Boston, MA right now?),\n",
        "* BookRestaurant (e.g. I want to book a highly rated restaurant for me and my boyfriend tomorrow night),\n",
        "* ~~PlayMusic (e.g. Play the last track from Beyoncé off Spotify),~~ This is not included in this tutorial due to dataset download issues.\n",
        "* AddToPlaylist (e.g. Add Diamonds to my roadtrip playlist)\n",
        "* RateBook (e.g. Give 6 stars to Of Mice and Men)\n",
        "* SearchScreeningEvent (e.g. Check the showtimes for Wonder Woman in Paris)\n",
        "\n",
        "We will use the 6 valid classes to train the query intent classifier.\n",
        "\n",
        "### Model \n",
        "Users will see how to train a CNN model for text classification with DeText. The trained model is ready for online inference in production search systems.\n",
        "\n",
        "\n",
        "### Time required\n",
        "appox. 20min\n",
        "\n"
      ]
    },
    {
      "cell_type": "markdown",
      "metadata": {
        "id": "yYzGlqQeh0Ph",
        "colab_type": "text"
      },
      "source": [
        "# Set up the environment\n",
        "We first need to install detext using pip."
      ]
    },
    {
      "cell_type": "code",
      "metadata": {
        "id": "SNT_NH_l7Ejb",
        "colab_type": "code",
        "colab": {
          "base_uri": "https://localhost:8080/",
          "height": 1000
        },
        "outputId": "ebc165c2-67a6-4992-fe3c-05c114ac12fe"
      },
      "source": [
        "!pip install detext==2.0.8\n"
      ],
      "execution_count": null,
      "outputs": [
        {
          "output_type": "stream",
          "text": [
            "Collecting detext==2.0.8\n",
            "\u001b[?25l  Downloading https://files.pythonhosted.org/packages/f2/83/7d78d7663149ba14cd6558a207be934e9d0dd4a9c6f7f9268f4f7ab36fed/detext-2.0.8.tar.gz (66kB)\n",
            "\u001b[K     |████████████████████████████████| 71kB 2.0MB/s \n",
            "\u001b[?25hCollecting numpy<1.17\n",
            "\u001b[?25l  Downloading https://files.pythonhosted.org/packages/90/b1/ba7e59da253c58aaf874ea790ae71d6870255a5243010d94688c41618678/numpy-1.16.6-cp36-cp36m-manylinux1_x86_64.whl (17.4MB)\n",
            "\u001b[K     |████████████████████████████████| 17.4MB 29.9MB/s \n",
            "\u001b[?25hCollecting smart-arg==0.0.5\n",
            "  Downloading https://files.pythonhosted.org/packages/67/3f/4569533ebbf916b754970d3e31c5b13a57e1a60f7bf7830cd13af932d839/smart_arg-0.0.5-py3-none-any.whl\n",
            "Collecting tensorflow==1.14.0\n",
            "\u001b[?25l  Downloading https://files.pythonhosted.org/packages/de/f0/96fb2e0412ae9692dbf400e5b04432885f677ad6241c088ccc5fe7724d69/tensorflow-1.14.0-cp36-cp36m-manylinux1_x86_64.whl (109.2MB)\n",
            "\u001b[K     |████████████████████████████████| 109.2MB 78kB/s \n",
            "\u001b[?25hCollecting tensorflow_ranking==0.1.4\n",
            "\u001b[?25l  Downloading https://files.pythonhosted.org/packages/be/28/89769cb08c3c04952d3706072ce13b423e09d04d4bd83a7c18fe02ff432a/tensorflow_ranking-0.1.4-py2.py3-none-any.whl (40kB)\n",
            "\u001b[K     |████████████████████████████████| 40kB 5.3MB/s \n",
            "\u001b[?25hCollecting gast==0.2.2\n",
            "  Downloading https://files.pythonhosted.org/packages/4e/35/11749bf99b2d4e3cceb4d55ca22590b0d7c2c62b9de38ac4a4a7f4687421/gast-0.2.2.tar.gz\n",
            "Requirement already satisfied: keras-preprocessing>=1.0.5 in /usr/local/lib/python3.6/dist-packages (from tensorflow==1.14.0->detext==2.0.8) (1.1.2)\n",
            "Collecting tensorflow-estimator<1.15.0rc0,>=1.14.0rc0\n",
            "\u001b[?25l  Downloading https://files.pythonhosted.org/packages/3c/d5/21860a5b11caf0678fbc8319341b0ae21a07156911132e0e71bffed0510d/tensorflow_estimator-1.14.0-py2.py3-none-any.whl (488kB)\n",
            "\u001b[K     |████████████████████████████████| 491kB 40.9MB/s \n",
            "\u001b[?25hRequirement already satisfied: protobuf>=3.6.1 in /usr/local/lib/python3.6/dist-packages (from tensorflow==1.14.0->detext==2.0.8) (3.12.4)\n",
            "Requirement already satisfied: wrapt>=1.11.1 in /usr/local/lib/python3.6/dist-packages (from tensorflow==1.14.0->detext==2.0.8) (1.12.1)\n",
            "Requirement already satisfied: termcolor>=1.1.0 in /usr/local/lib/python3.6/dist-packages (from tensorflow==1.14.0->detext==2.0.8) (1.1.0)\n",
            "Requirement already satisfied: wheel>=0.26 in /usr/local/lib/python3.6/dist-packages (from tensorflow==1.14.0->detext==2.0.8) (0.34.2)\n",
            "Requirement already satisfied: six>=1.10.0 in /usr/local/lib/python3.6/dist-packages (from tensorflow==1.14.0->detext==2.0.8) (1.15.0)\n",
            "Requirement already satisfied: astor>=0.6.0 in /usr/local/lib/python3.6/dist-packages (from tensorflow==1.14.0->detext==2.0.8) (0.8.1)\n",
            "Collecting tensorboard<1.15.0,>=1.14.0\n",
            "\u001b[?25l  Downloading https://files.pythonhosted.org/packages/91/2d/2ed263449a078cd9c8a9ba50ebd50123adf1f8cfbea1492f9084169b89d9/tensorboard-1.14.0-py3-none-any.whl (3.1MB)\n",
            "\u001b[K     |████████████████████████████████| 3.2MB 37.8MB/s \n",
            "\u001b[?25hRequirement already satisfied: google-pasta>=0.1.6 in /usr/local/lib/python3.6/dist-packages (from tensorflow==1.14.0->detext==2.0.8) (0.2.0)\n",
            "Collecting keras-applications>=1.0.6\n",
            "\u001b[?25l  Downloading https://files.pythonhosted.org/packages/71/e3/19762fdfc62877ae9102edf6342d71b28fbfd9dea3d2f96a882ce099b03f/Keras_Applications-1.0.8-py3-none-any.whl (50kB)\n",
            "\u001b[K     |████████████████████████████████| 51kB 6.0MB/s \n",
            "\u001b[?25hRequirement already satisfied: grpcio>=1.8.6 in /usr/local/lib/python3.6/dist-packages (from tensorflow==1.14.0->detext==2.0.8) (1.31.0)\n",
            "Requirement already satisfied: absl-py>=0.7.0 in /usr/local/lib/python3.6/dist-packages (from tensorflow==1.14.0->detext==2.0.8) (0.9.0)\n",
            "Requirement already satisfied: setuptools in /usr/local/lib/python3.6/dist-packages (from protobuf>=3.6.1->tensorflow==1.14.0->detext==2.0.8) (49.2.0)\n",
            "Requirement already satisfied: markdown>=2.6.8 in /usr/local/lib/python3.6/dist-packages (from tensorboard<1.15.0,>=1.14.0->tensorflow==1.14.0->detext==2.0.8) (3.2.2)\n",
            "Requirement already satisfied: werkzeug>=0.11.15 in /usr/local/lib/python3.6/dist-packages (from tensorboard<1.15.0,>=1.14.0->tensorflow==1.14.0->detext==2.0.8) (1.0.1)\n",
            "Requirement already satisfied: h5py in /usr/local/lib/python3.6/dist-packages (from keras-applications>=1.0.6->tensorflow==1.14.0->detext==2.0.8) (2.10.0)\n",
            "Requirement already satisfied: importlib-metadata; python_version < \"3.8\" in /usr/local/lib/python3.6/dist-packages (from markdown>=2.6.8->tensorboard<1.15.0,>=1.14.0->tensorflow==1.14.0->detext==2.0.8) (1.7.0)\n",
            "Requirement already satisfied: zipp>=0.5 in /usr/local/lib/python3.6/dist-packages (from importlib-metadata; python_version < \"3.8\"->markdown>=2.6.8->tensorboard<1.15.0,>=1.14.0->tensorflow==1.14.0->detext==2.0.8) (3.1.0)\n",
            "Building wheels for collected packages: detext, gast\n",
            "  Building wheel for detext (setup.py) ... \u001b[?25l\u001b[?25hdone\n",
            "  Created wheel for detext: filename=detext-2.0.8-cp36-none-any.whl size=77060 sha256=631fe1dbff9c62177e7bfec789d022f05c6f482a4a6252240d6eee5337aa70f4\n",
            "  Stored in directory: /root/.cache/pip/wheels/3d/3e/1e/f093368c4b09221180f4e804ff4d766b9f1015f807613c5520\n",
            "  Building wheel for gast (setup.py) ... \u001b[?25l\u001b[?25hdone\n",
            "  Created wheel for gast: filename=gast-0.2.2-cp36-none-any.whl size=7540 sha256=8cf982571b2bb59e726007ddf5ff5aaa84ef6c9011f09db1f3b97621129c5d5a\n",
            "  Stored in directory: /root/.cache/pip/wheels/5c/2e/7e/a1d4d4fcebe6c381f378ce7743a3ced3699feb89bcfbdadadd\n",
            "Successfully built detext gast\n",
            "\u001b[31mERROR: umap-learn 0.4.6 has requirement numpy>=1.17, but you'll have numpy 1.16.6 which is incompatible.\u001b[0m\n",
            "\u001b[31mERROR: tensorflow-probability 0.11.0 has requirement gast>=0.3.2, but you'll have gast 0.2.2 which is incompatible.\u001b[0m\n",
            "\u001b[31mERROR: datascience 0.10.6 has requirement folium==0.2.1, but you'll have folium 0.8.3 which is incompatible.\u001b[0m\n",
            "\u001b[31mERROR: albumentations 0.1.12 has requirement imgaug<0.2.7,>=0.2.5, but you'll have imgaug 0.2.9 which is incompatible.\u001b[0m\n",
            "Installing collected packages: numpy, smart-arg, tensorflow-estimator, gast, tensorboard, keras-applications, tensorflow, tensorflow-ranking, detext\n",
            "  Found existing installation: numpy 1.18.5\n",
            "    Uninstalling numpy-1.18.5:\n",
            "      Successfully uninstalled numpy-1.18.5\n",
            "  Found existing installation: tensorflow-estimator 2.3.0\n",
            "    Uninstalling tensorflow-estimator-2.3.0:\n",
            "      Successfully uninstalled tensorflow-estimator-2.3.0\n",
            "  Found existing installation: gast 0.3.3\n",
            "    Uninstalling gast-0.3.3:\n",
            "      Successfully uninstalled gast-0.3.3\n",
            "  Found existing installation: tensorboard 2.3.0\n",
            "    Uninstalling tensorboard-2.3.0:\n",
            "      Successfully uninstalled tensorboard-2.3.0\n",
            "  Found existing installation: tensorflow 2.3.0\n",
            "    Uninstalling tensorflow-2.3.0:\n",
            "      Successfully uninstalled tensorflow-2.3.0\n",
            "Successfully installed detext-2.0.8 gast-0.2.2 keras-applications-1.0.8 numpy-1.16.6 smart-arg-0.0.5 tensorboard-1.14.0 tensorflow-1.14.0 tensorflow-estimator-1.14.0 tensorflow-ranking-0.1.4\n"
          ],
          "name": "stdout"
        },
        {
          "output_type": "display_data",
          "data": {
            "application/vnd.colab-display-data+json": {
              "pip_warning": {
                "packages": [
                  "numpy"
                ]
              }
            }
          },
          "metadata": {
            "tags": []
          }
        }
      ]
    },
    {
      "cell_type": "markdown",
      "metadata": {
        "id": "XiVAzCq3CbWJ",
        "colab_type": "text"
      },
      "source": [
        "# Download and preprocess the dataset\n",
        "In this section, we download the dataset and perform some basic preprocessing to the text data, including lowercasing, whitespace normalization, etc.\n",
        "\n"
      ]
    },
    {
      "cell_type": "code",
      "metadata": {
        "id": "TpkSTH_8KTtK",
        "colab_type": "code",
        "colab": {
          "base_uri": "https://localhost:8080/",
          "height": 102
        },
        "outputId": "7f302bfa-529a-4383-b63a-2a9c44e85585"
      },
      "source": [
        "!git clone https://github.com/snipsco/nlu-benchmark.git"
      ],
      "execution_count": null,
      "outputs": [
        {
          "output_type": "stream",
          "text": [
            "Cloning into 'nlu-benchmark'...\n",
            "remote: Enumerating objects: 389, done.\u001b[K\n",
            "remote: Total 389 (delta 0), reused 0 (delta 0), pack-reused 389\u001b[K\n",
            "Receiving objects: 100% (389/389), 1.19 MiB | 10.21 MiB/s, done.\n",
            "Resolving deltas: 100% (246/246), done.\n"
          ],
          "name": "stdout"
        }
      ]
    },
    {
      "cell_type": "code",
      "metadata": {
        "id": "LlWeiJWTss4g",
        "colab_type": "code",
        "colab": {
          "base_uri": "https://localhost:8080/",
          "height": 52
        },
        "outputId": "606550c7-33da-4cb2-c342-b6e35a0dcd44"
      },
      "source": [
        "%tensorflow_version 1.x\n",
        "import tensorflow as tf\n",
        "tf.__version__"
      ],
      "execution_count": null,
      "outputs": [
        {
          "output_type": "stream",
          "text": [
            "TensorFlow 1.x selected.\n"
          ],
          "name": "stdout"
        },
        {
          "output_type": "execute_result",
          "data": {
            "application/vnd.google.colaboratory.intrinsic+json": {
              "type": "string"
            },
            "text/plain": [
              "'1.15.2'"
            ]
          },
          "metadata": {
            "tags": []
          },
          "execution_count": 4
        }
      ]
    },
    {
      "cell_type": "code",
      "metadata": {
        "id": "Tfl4sEK-q2_V",
        "colab_type": "code",
        "colab": {}
      },
      "source": [
        "# The constants\n",
        "CLASSES = [\n",
        "           \"AddToPlaylist\", \n",
        "           \"BookRestaurant\", \n",
        "           \"GetWeather\", \n",
        "           \"RateBook\", \n",
        "           \"SearchCreativeWork\", \n",
        "           \"SearchScreeningEvent\"\n",
        "           ]\n",
        "# See https://github.com/linkedin/detext/blob/master/TRAINING.md for more details on the feature naming format required by DeText\n",
        "QUERY_FIELDNAME = \"doc_query\"\n",
        "WIDE_FTR_FIELDNAME = \"wide_ftrs\"\n",
        "LABEL_FIELDNAME = \"label\"\n",
        "VOCAB_FILE = \"vocab.txt\""
      ],
      "execution_count": null,
      "outputs": []
    },
    {
      "cell_type": "code",
      "metadata": {
        "id": "UvxtKOVKMWgw",
        "colab_type": "code",
        "colab": {
          "base_uri": "https://localhost:8080/",
          "height": 119
        },
        "outputId": "6db13249-5aad-4cc5-ac8f-bf054e02690e"
      },
      "source": [
        "import json\n",
        "\n",
        "\n",
        "train_raw = {}\n",
        "test_raw = {}\n",
        "\n",
        "for c in CLASSES:\n",
        "  with open('/content/nlu-benchmark/2017-06-custom-intent-engines/{}/train_{}_full.json'.format(c, c)) as f:\n",
        "    train_raw[c] = json.load(f)[c]\n",
        "  \n",
        "  with open('/content/nlu-benchmark/2017-06-custom-intent-engines/{}/validate_{}.json'.format(c, c)) as f:\n",
        "    test_raw[c] = json.load(f)[c]\n",
        "  \n",
        "  print(\"Training samples for {}: {}\".format(c, len(train_raw[c])), \", test samples for {}: {}\".format(c, len(test_raw[c])))\n"
      ],
      "execution_count": null,
      "outputs": [
        {
          "output_type": "stream",
          "text": [
            "Training samples for AddToPlaylist: 1942 , test samples for AddToPlaylist: 100\n",
            "Training samples for BookRestaurant: 1973 , test samples for BookRestaurant: 100\n",
            "Training samples for GetWeather: 2000 , test samples for GetWeather: 100\n",
            "Training samples for RateBook: 1956 , test samples for RateBook: 100\n",
            "Training samples for SearchCreativeWork: 1954 , test samples for SearchCreativeWork: 100\n",
            "Training samples for SearchScreeningEvent: 1959 , test samples for SearchScreeningEvent: 100\n"
          ],
          "name": "stdout"
        }
      ]
    },
    {
      "cell_type": "code",
      "metadata": {
        "id": "38HlYYGgPLQ0",
        "colab_type": "code",
        "colab": {
          "base_uri": "https://localhost:8080/",
          "height": 71
        },
        "outputId": "0ff73111-e28c-4ce2-b6da-a8c4767a0389"
      },
      "source": [
        "import re\n",
        "import string\n",
        "\n",
        "def proprocess_data(data_raw):\n",
        "  X = []\n",
        "  y = []\n",
        "  for c in CLASSES:\n",
        "    for sample in data_raw[c]:\n",
        "      tokens = []\n",
        "      for d in sample['data']:\n",
        "        t = d['text'].strip().lower()\n",
        "        t = re.sub(r'([%s])' % re.escape(string.punctuation), r' \\1 ', t) \n",
        "        t = re.sub(r'\\\\.', r' ', t) \n",
        "        t = re.sub(r'\\s+', r' ', t) \n",
        "        tokens.append(t)\n",
        "      sentence = ' '.join(tokens)\n",
        "\n",
        "      X.append(sentence)\n",
        "      y.append(CLASSES.index(c))\n",
        "  return X, y\n",
        "\n",
        "    \n",
        "X_train, y_train = proprocess_data(train_raw)\n",
        "X_test, y_test = proprocess_data(test_raw)\n",
        "\n",
        "print(X_train[:5])\n",
        "print(y_train[:5])"
      ],
      "execution_count": null,
      "outputs": [
        {
          "output_type": "stream",
          "text": [
            "['add another song to the cita romántica playlist . ', 'add clem burke in my playlist pre - party r & b jams', 'add live from aragon ballroom to trapeo', 'add unite and win to my  night out', 'add track to my  digster future hits']\n",
            "[0, 0, 0, 0, 0]\n"
          ],
          "name": "stdout"
        }
      ]
    },
    {
      "cell_type": "code",
      "metadata": {
        "id": "3PNlFaepWk2Y",
        "colab_type": "code",
        "colab": {}
      },
      "source": [
        "from sklearn.model_selection import train_test_split\n",
        "X_train, X_dev, y_train, y_dev = train_test_split(X_train, y_train, test_size=0.1, random_state=42)\n"
      ],
      "execution_count": null,
      "outputs": []
    },
    {
      "cell_type": "code",
      "metadata": {
        "id": "UOwEGVp_gxIh",
        "colab_type": "code",
        "colab": {
          "base_uri": "https://localhost:8080/",
          "height": 68
        },
        "outputId": "2eb2bd7b-a1a4-4143-890e-e13e86754158"
      },
      "source": [
        "# Stats\n",
        "print('Total train samples: {}'.format(len(y_train)))\n",
        "print('Total dev samples: {}'.format(len(y_dev)))\n",
        "print('Total test samples: {}'.format(len(y_test)))"
      ],
      "execution_count": null,
      "outputs": [
        {
          "output_type": "stream",
          "text": [
            "Total train samples: 10605\n",
            "Total dev samples: 1179\n",
            "Total test samples: 600\n"
          ],
          "name": "stdout"
        }
      ]
    },
    {
      "cell_type": "markdown",
      "metadata": {
        "id": "ZIRIak7UiT30",
        "colab_type": "text"
      },
      "source": [
        "# Prepare DeText dataset\n",
        "\n",
        "Now that we have preprocessed the datasets and prepared the train/ dev/ test splits, let's convert the data samples into the correct format that DeText accepts. \n",
        "\n",
        "The text inputs are converted to `byte_list` features and labels are converted to `float_list` features. The datasets are store in `tfrecord` format. For more information on the input format of DeText, please checkout [the training manual](https://github.com/linkedin/detext/blob/master/TRAINING.md)."
      ]
    },
    {
      "cell_type": "code",
      "metadata": {
        "id": "FWuptwUaieqw",
        "colab_type": "code",
        "colab": {
          "base_uri": "https://localhost:8080/",
          "height": 1000
        },
        "outputId": "2188cebb-11db-4e82-a170-2ea55fd26e49"
      },
      "source": [
        "import tensorflow as tf\n",
        " \n",
        "def create_float_feature(value): \n",
        "    feature = tf.train.Feature(float_list=tf.train.FloatList(value=[value])) \n",
        "    return feature \n",
        " \n",
        " \n",
        "def create_byte_feature(value): \n",
        "    feature = tf.train.Feature(bytes_list=tf.train.BytesList(value=[value]))\n",
        "    return feature \n",
        " \n",
        "\n",
        "def create_tfrecords(X, y, output_file):\n",
        "  assert len(X) == len(y)\n",
        "  total_records = 0 \n",
        "  writer = tf.python_io.TFRecordWriter(output_file) \n",
        "  for q, c in zip(X, y):\n",
        "    features = {} \n",
        "    features[QUERY_FIELDNAME] = create_byte_feature(str.encode(q))\n",
        "    features[LABEL_FIELDNAME] = create_float_feature(c)\n",
        "    features[WIDE_FTR_FIELDNAME] = create_float_feature(len(q.split()))\n",
        "    tf_example = tf.train.Example(features=tf.train.Features(feature=features)) \n",
        "    if total_records < 2: \n",
        "      print(tf_example) \n",
        "    writer.write(tf_example.SerializeToString()) \n",
        "    total_records += 1 \n",
        "  print(\"processed {} records\".format(total_records)) \n",
        "\n",
        "create_tfrecords(X_train, y_train, 'train.tfrecord')\n",
        "create_tfrecords(X_dev, y_dev, 'dev.tfrecord')\n",
        "create_tfrecords(X_test, y_test, 'test.tfrecord')"
      ],
      "execution_count": null,
      "outputs": [
        {
          "output_type": "stream",
          "text": [
            "features {\n",
            "  feature {\n",
            "    key: \"doc_query\"\n",
            "    value {\n",
            "      bytes_list {\n",
            "        value: \"i want to bring antoinette , christine and caitlin to get bread at a restaurant in faraway  connecticut\"\n",
            "      }\n",
            "    }\n",
            "  }\n",
            "  feature {\n",
            "    key: \"label\"\n",
            "    value {\n",
            "      float_list {\n",
            "        value: 1.0\n",
            "      }\n",
            "    }\n",
            "  }\n",
            "  feature {\n",
            "    key: \"wide_ftrs\"\n",
            "    value {\n",
            "      float_list {\n",
            "        value: 18.0\n",
            "      }\n",
            "    }\n",
            "  }\n",
            "}\n",
            "\n",
            "features {\n",
            "  feature {\n",
            "    key: \"doc_query\"\n",
            "    value {\n",
            "      bytes_list {\n",
            "        value: \"book a reservation for 4 at a bar serving corn relish\"\n",
            "      }\n",
            "    }\n",
            "  }\n",
            "  feature {\n",
            "    key: \"label\"\n",
            "    value {\n",
            "      float_list {\n",
            "        value: 1.0\n",
            "      }\n",
            "    }\n",
            "  }\n",
            "  feature {\n",
            "    key: \"wide_ftrs\"\n",
            "    value {\n",
            "      float_list {\n",
            "        value: 11.0\n",
            "      }\n",
            "    }\n",
            "  }\n",
            "}\n",
            "\n",
            "processed 10605 records\n",
            "features {\n",
            "  feature {\n",
            "    key: \"doc_query\"\n",
            "    value {\n",
            "      bytes_list {\n",
            "        value: \"book a restaurant in everson  nevada that serves conchiglie for two people . \"\n",
            "      }\n",
            "    }\n",
            "  }\n",
            "  feature {\n",
            "    key: \"label\"\n",
            "    value {\n",
            "      float_list {\n",
            "        value: 1.0\n",
            "      }\n",
            "    }\n",
            "  }\n",
            "  feature {\n",
            "    key: \"wide_ftrs\"\n",
            "    value {\n",
            "      float_list {\n",
            "        value: 13.0\n",
            "      }\n",
            "    }\n",
            "  }\n",
            "}\n",
            "\n",
            "features {\n",
            "  feature {\n",
            "    key: \"doc_query\"\n",
            "    value {\n",
            "      bytes_list {\n",
            "        value: \"what are the movie schedules\"\n",
            "      }\n",
            "    }\n",
            "  }\n",
            "  feature {\n",
            "    key: \"label\"\n",
            "    value {\n",
            "      float_list {\n",
            "        value: 5.0\n",
            "      }\n",
            "    }\n",
            "  }\n",
            "  feature {\n",
            "    key: \"wide_ftrs\"\n",
            "    value {\n",
            "      float_list {\n",
            "        value: 5.0\n",
            "      }\n",
            "    }\n",
            "  }\n",
            "}\n",
            "\n",
            "processed 1179 records\n",
            "features {\n",
            "  feature {\n",
            "    key: \"doc_query\"\n",
            "    value {\n",
            "      bytes_list {\n",
            "        value: \"i \\' d like to have this track onto my  classical relaxations playlist . \"\n",
            "      }\n",
            "    }\n",
            "  }\n",
            "  feature {\n",
            "    key: \"label\"\n",
            "    value {\n",
            "      float_list {\n",
            "        value: 0.0\n",
            "      }\n",
            "    }\n",
            "  }\n",
            "  feature {\n",
            "    key: \"wide_ftrs\"\n",
            "    value {\n",
            "      float_list {\n",
            "        value: 14.0\n",
            "      }\n",
            "    }\n",
            "  }\n",
            "}\n",
            "\n",
            "features {\n",
            "  feature {\n",
            "    key: \"doc_query\"\n",
            "    value {\n",
            "      bytes_list {\n",
            "        value: \"add the album to my  flow espa\\303\\261ol playlist . \"\n",
            "      }\n",
            "    }\n",
            "  }\n",
            "  feature {\n",
            "    key: \"label\"\n",
            "    value {\n",
            "      float_list {\n",
            "        value: 0.0\n",
            "      }\n",
            "    }\n",
            "  }\n",
            "  feature {\n",
            "    key: \"wide_ftrs\"\n",
            "    value {\n",
            "      float_list {\n",
            "        value: 9.0\n",
            "      }\n",
            "    }\n",
            "  }\n",
            "}\n",
            "\n",
            "processed 600 records\n"
          ],
          "name": "stdout"
        }
      ]
    },
    {
      "cell_type": "code",
      "metadata": {
        "id": "-L67aLAOsYh0",
        "colab_type": "code",
        "colab": {
          "base_uri": "https://localhost:8080/",
          "height": 54
        },
        "outputId": "e3f3b223-023f-4d3b-f6e2-b383c5ed9a02"
      },
      "source": [
        "# Generate vocab\n",
        "from sklearn.feature_extraction.text import CountVectorizer\n",
        "vectorizer = CountVectorizer()\n",
        "X = vectorizer.fit_transform(X_train)\n",
        "vocab = ['[PAD]', '[UNK]']\n",
        "vocab.extend(list(vectorizer.vocabulary_.keys()))\n",
        "print(vocab)\n",
        "\n",
        "# Write vocab to file\n",
        "with open(VOCAB_FILE, 'w') as f:\n",
        "  for v in vocab:\n",
        "    f.write(\"{}\\n\".format(v))\n"
      ],
      "execution_count": null,
      "outputs": [
        {
          "output_type": "stream",
          "text": [
            "['[PAD]', '[UNK]', 'want', 'to', 'bring', 'antoinette', 'christine', 'and', 'caitlin', 'get', 'bread', 'at', 'restaurant', 'in', 'faraway', 'connecticut', 'book', 'reservation', 'for', 'bar', 'serving', 'corn', 'relish', 'show', 'the', 'ancient', 'art', 'of', 'war', 'picture', 'bullfeathers', 'spot', 'six', 'on', 'october', 'fifth', 'mineola', 'give', 'main', 'travelled', 'roads', 'series', 'points', 'out', 'please', 'me', 'seating', 'tavern', 'red', 'lick', 'michigan', 'look', 'movie', 'darkness', 'come', 'alive', 'is', 'there', 'blizzard', 'coming', 'tomorrow', 'methuen', 'uganda', 'my', 'timeless', 'love', 'songs', 'playlist', 'should', 'include', 'viderunt', 'omnes', 'film', 'goodrich', 'quality', 'theaters', 'playing', '12', '26', 'am', 'weather', 'knierim', 'kansas', 'twelve', 'weeks', 'half', 'from', 'now', 'find', 'framing', 'early', 'middle', 'ages', 'game', 'what', 'films', 'are', 'showing', 'neighborhood', 'forecast', 'latvia', 'strasburg', 'rate', 'hard', 'life', 'stars', 'will', 'be', 'snowstorm', 'eight', 'months', 'chattahoochee', 'river', 'national', 'recreation', 'area', 'add', 'list', 'rush', 'instrumentals', 'this', 'lady', 'antebellum', 'can', 'you', 'let', 'know', 'where', 'watch', 'nest', 'ricardo', 'villalobos', 'track', 'under', 'surface', 'schedules', 'table', 'cayman', 'islands', 'two', 'hundred', 'ninety', 'days', 'pub', 'with', 'internet', 'people', 'song', 'top', '100', 'indie', 'tracks', 'spotify', 'far', 'away', 'estonia', 'when', 'spyforce', 'it', 'windy', 'ocean', 'breeze', 'park', 'hotter', 'around', 'elevenses', 'ks', 'animated', 'movies', 'closest', 'theatre', 'local', 'times', 'current', 'album', 'nearby', 'put', 'live', 'rare', 'into', 'dancehall', 'official', 'world', 'warcraft', 'tides', 'turbulent', 'term', 'tyke', 'tiler', 'creative', 'elements', 'remixed', 'need', 'san', 'martin', 'search', 'frog', 'birdsong', 'jovanotti', 'punk', 'español', 'creativity', 'everything', 'once', 'work', 'titled', 'perfect', 'gentleman', 'which', 'jacob', 'wirth', 'tell', 'close', 'by', 'brown', 'county', 'state', 'meal', 'time', 'malaysia', 'zero', 'rating', 'deed', 'paksenarrion', 'beat', 'devil', 'mann', 'theatres', 'novel', 'see', 'schedule', 'north', 'american', 'cinemas', 'marta', 'endorphin', 'giving', 'trailer', 'real', 'men', 'cry', 'called', 'greatest', 'year', 'indietronic', 'needs', 'until', 'end', 'added', 'clowns', 'nearest', 'cinema', 'burger', 'joint', 'choate', 'july', '16th', '2022', 'steve', 'albini', 'psychedelic', 'rock', 'fifty', 'years', 'hunter', 'trapper', 'video', 'tomb', 'scott', 'putesky', 'concentración', 'do', 'build', 'snowman', 'hip', 'hop', '2017', 'new', 'school', 'pesterminator', 'western', 'exterminator', 'maschi', 'altri', 'john', 'williams', 'listen', 'dragon', 'ball', 'music', 'collection', 'kitchin', '13th', '2039', 'photograph', 'wish', 'one', 'judging', 'house', 'george', 'washington', 'slept', 'here', 'gave', 'wondering', 'peters', 'baby', 'monique', 'stewart', 'arlene', 'jami', 'would', 'like', 'mar', '2020', 'that', 'broadway', 'lafayette', 'st', 'daughters', 'late', 'great', 'townes', 'van', 'zandt', 'another', 'tune', 'soft', 'tv', 'all', 'neighbourhood', 'play', 'lineage', 'grace', 'executive', 'power', 'four', 'best', 'essay', 'secret', 'weapon', 'nine', 'pm', 'ma', 'name', 'blues', 'west', 'rides', 'again', 'nathan', 'wise', 'david', 'henry', 'hwang', 'nicky', 'jam', 'liberty', 'forever', 'road', 'trip', 'neighboring', 'our', 'apartment', 'journal', 'economics', 'sociology', 'place', 'iran', 'neva', 'alice', 'maggie', 'parker', 'jamaica', 'say', 'metal', 'ulterior', 'motive', 'memorial', 'anson', 'hu', 'conexiones', 'rakim', 'ken', 'gold', 'edition', 'supposed', 'sunny', 'window', 'display', 'manager', 'story', 'wa', 'totsuzen', 'ni', 'garrix', 'freezing', 'jun', '21st', 'apshawa', 'south', 'africa', 'something', 'faultline', 'jannie', 'strength', 'street', 'knowledge', 'chilly', 'oregonia', 'terrible', 'ratings', 'training', 'thirteenth', '2026', 'party', 'laos', 'theme', 'has', 'chicken', 'fried', 'bacon', 'vermont', 'amco', 'entertainment', 'minute', 'painting', 'thunder', 'sky', 'amc', 'colder', 'costa', 'rica', 'not', 'culdesac', 'matt', 'bachand', 'pure', 'roll', 'chillier', 'la', 'mesa', 'type', 'houston', 'press', 'walt', 'man', 'behind', 'myth', 'textbook', 'lease', 'death', 'don', 'moye', 'pop', 'verano', 'tale', 'mr', 'jeremy', 'fisher', 'seat', '10', 'ottumwa', 'serves', 'osteria', 'ranch', 'dressing', 'china', 'kokomo', 'fall', 'venezuela', 'joe', 'hickerson', 'jazz', 'classical', 'crossings', 'robot', 'winger', 'good', 'evil', 'loews', 'cineplex', 'hail', 'hale', 'center', '22', '2030', 'up', 'holy', 'water', 'dunbrody', 'country', 'hotel', 'serbia', 'pipe', 'spring', 'monument', 'batman', 'return', 'bruce', 'wayne', 'special', 'assignments', 'spanish', 'rice', 'cafeteria', 'ten', 'today', 'fog', 'nebraska', 'feed', 'kitty', 'girl', 'general', 'maldeamores', 'saga', 'wisconsin', 'cameroon', 'sirivantha', 'lualualei', 'tim', 'wright', 'onto', 'queen', 'popular', 'tyrolean', 'steakhouse', 'madison', 'hour', 'minutes', 'second', 'soundtrack', 'om', 'napoleon', 'xiv', 'sharlene', 'transatlantic', 'lullaby', 'port', 'vue', 'chas', 'chandler', 'aux', 'cord', 'privileges', 'boyish', 'storm', 'sioux', 'city', 'al', 'saviour', 'irv', 'gotti', 'presents', 'murderers', 'seats', 'ak', 'hours', 'malin', 'ky', 'wilma', 'gay', 'gowanus', 'yacht', 'club', 'montenegro', 'maine', 'silver', 'chalice', 'we', 'gaming', 'feb', 'sixth', '2024', 'blanco', 'humid', 'kuwait', 'go', 'venetian', 'gabon', 'seven', 'romance', 'range', 'yet', 'memoir', 'living', 'almost', 'dying', 'was', 'have', 'southeastern', 'brazilian', 'dominica', 'ups', 'as', 'tears', 'next', 'friday', 'tn', 'lets', 'before', 'pool', 'brian', 'may', 'reggae', 'infusions', 'sombrero', 'fallout', 'japanese', 'artist', 'phunkadelic', 'previous', 'speakeasy', 'fish', 'express', 'andrews', 'university', 'seminary', 'studies', 'framed', 'ntc', 'studio', 'sounds', 'carolina', '2037', 'hicks', 'hot', 'saint', 'jo', 'alaska', 'escapada', 'royal', 'astronomy', 'manxman', 'snowfall', 'areas', 'an', 'week', 'comes', 'dukes', 'district', 'columbia', 'fine', 'meast', 'tea', '21', 'northern', 'mariana', 'boyce', 'hart', 'urban', 'hits', 'railway', 'children', 'within', 'walking', 'distance', 'magic', 'johnson', 'plitt', 'mckenna', 'shakira', 'stripes', 'soulful', 'disco', 'codebreakers', 'value', 'moments', 'eminence', 'dolls', 'three', 'move', 'selektor', 'conditions', 'camp', 'bird', 'deserves', 'possible', 'reserve', 'andouillettes', 'same', 'marino', 'cyprus', 'lanta', 'albania', 'annette', 'darlene', 'barbara', 'james', 'honduras', 'any', 'outlaw', 'gor', 'atmospheric', 'black', 'caribbean', 'warm', 'eat', 'escondida', 'sister', 'clafoutis', 'location', 'union', 'auto', 'company', 'make', 'sicilian', 'only', 'midnight', 'rated', 'brasserie', 'pakistan', 'alex', 'gaudino', 'waltz', 'total', 'dirt', 'farmer', 'colorado', 'pitch', 'brigade', 'autumn', 'azerbaijan', 'how', 'cold', 'princeton', 'junction', 'casting', 'crowns', 'discography', 'five', 'access', 'rising', 'currently', 'brotherly', 'showtimes', 'unleashed', 'ii', 'view', 'workin', 'miles', 'davis', 'quintet', 'foundation', 'overcast', 'lunch', 'vincent', 'grenadines', 'douglas', 'help', 'neuroscience', 'research', 'cleo', 'laine', 'high', 'noon', 'food', 'plays', 'cloudy', 'if', 'll', 'papua', 'guinea', 'larsen', 'cardio', 'arkansas', 'morrison', 'hohenfriedberger', 'marsch', 'novedades', 'tsubasa', 'imai', 'glass', 'sin', 'ti', 'bronco', 'billy', 'sligo', 'named', 'kirk', 'hammett', 'los', '40', 'radio', 'éxitos', 'suwannee', 'fresh', 'finds', 'through', 'distant', 'worlds', 'gears', 'mortal', 'hands', 'expected', 'beckley', 'memories', 'witness', 'too', 'young', 'marry', 'curacao', 'lesotho', 'starting', 'treeful', 'starling', 'watauga', 'aunt', 'consolidated', 'russia', '2036', 'reason', 'bachelor', 'highly', 'northeastern', 'satanta', 'latin', 'rocketeer', 'georgia', 'nephew', 'kids', 'plylist', 'mix', 'guru', 'november', '19', 'position', 'uncharted', 'drake', 'frl', 'menke', 'comedy', 'cut', 'rope', 'ray', 'noble', 'chill', 'vibes', 'ny', 'skillman', 'francisco', 'netherlands', 'antilles', 'eleven', 'diner', 'fort', 'loudon', 'guadeloupe', 'oasis', 'drive', 'beach', '105th', 'temperate', 'dinner', 'jamie', 'hallie', 'winter', 'chemistry', 'european', 'botna', 'blue', 'ribbon', 'barbecue', 'plutonium', 'files', 'nicaragua', 'spa', 'metropolitan', 'borough', 'lambeth', 'portrait', 'countess', 'karoly', 'feel', 'adventure', 'yellow', 'curl', 'papers', 'looking', 'jack', 'shadows', 'waxhaw', 'baotianman', 'nature', 'unite', 'win', 'night', 'falkland', 'kool', 'keith', 'pull', 'channel', 'news', 'outer', 'space', 'megaplex', 'truck', 'tuscan', 'adela', 'hallam', 'indiana', 'dj', 'kay', 'slay', '2010', 'decade', 'first', 'leche', 'con', 'chocolate', 'svalbard', 'jan', 'mayen', 'marshall', 'every', 'little', 'crook', 'nanny', 'elderton', 'global', 'funk', 'downtown', 'luisa', 'robyn', 'martinez', 'maude', 'their', 'pa', 'old', 'orchard', 'open', 'acoustic', 'concentration', 'entire', 'pickled', 'cucumber', 'wild', 'co', 'operative', 'block', 'building', 'nd', 'wifi', 'frybread', 'cowboy', 'troy', 'piano', 'background', 'megon', 'mcdonough', 'slackers', 'pizzeria', 'hampshire', 'parking', 'souvlaki', 'hadar', 'mount', 'victory', 'delaware', 'generation', 'ce', 'cher', 'intrus', 'imax', 'corporation', 'challenge', 'boss', 'glassy', 'turkey', 'metabolights', 'castle', 'daily', 'lift', 'point', 'cooler', 'climate', 'starts', 'purchase', 'dancing', 'dark', 'ferret', 'evening', 'groove', 'playcanvas', 'shangri', 'african', 'heat', 'clinton', 'baking', 'folly', 'rex', 'osierfield', 'salami', 'bastian', 'buy', 'teahouse', 'fire', 'canciones', 'que', 'lo', 'petar', 'family', 'plot', 'creature', 'teacher', 'ca', 'monty', 'secunderabad', 'bhutan', 'singing', 'nun', 'regal', 'group', 'reservations', 'newtown', 'hitchita', 'or', 'li', 'yuchun', 'kickass', 'intersections', 'so', 'right', 'lora', '80s', 'classic', 'call', 'julian', 'taylor', 'dance', 'civil', 'army', 'vs', 'navy', 'taste', 'blackberries', 'wrigley', 'carlisle', 'gardens', 'born', 'america', 'mustoe', 'iceland', 'marva', 'burundi', 'bach', 'te', 'quiero', 'unborn', 'but', 'forgotten', 'pavarotti', 'boon', 'brick', 'store', 'information', 'star', 'fear', 'loathing', 'campaign', 'trail', '72', 'sherri', 'meditate', 'step', 'adam', 'clayton', 'sxsw', 'following', 'zen', 'focus', 'hardest', 'part', 'bret', 'mckenzie', 'commute', 'southern', 'gothic', 'glade', 'twenty', '2033', 'brad', 'kane', 'pumping', 'iron', 'woodport', 'culture', 'psychology', 'birthday', 'secrets', 'alibi', 'keep', 'calm', 'westernport', 'smith', 'il', 'sturgis', '2006', 'clock', 'armistead', 'burwell', 'iv', 'masters', 'jeff', 'burrows', 'iene', 'miene', 'mutte', 'women', 'your', 'heart', 'stops', 'beating', 'tonight', 'rajasthani', 'bermuda', 'lemonheads', 'salsa', 'classics', 'colony', 'dickinson', 'month', 'apple', 'grove', 'dc', 'de', 'camino', 'beatmania', 'iidx', '10th', 'style', 'somiedo', 'natural', 'office', 'california', 'glorious', 'way', 'die', 'blood', 'others', 'borrowed', 'prediction', 'camdeboo', 'nationalpark', 'eleventh', 'todo', 'latino', 'absolutely', 'sweet', 'marie', 'harry', 'connick', 'jr', 'brasileiro', 'places', 'stacy', 'vanuatu', 'lamentable', 'journey', 'omaha', 'bigelow', 'impenetrable', 'loisaida', 'jungle', 'television', 'chips', 'italy', 'awakened', 'qatar', 'boys', 'band', 'big', 'question', 'golden', 'sandie', 'shaw', 'martinique', 'york', 'melody', 'pesotum', 'jennie', 'pot', 'doughnuts', 'gd', 'dishyum', 'mama', 'thornton', 'trabajo', 'relax', 'moroccan', 'east', 'greenville', 'nyoil', 'prince', 'nice', 'operation', 'oyster', 'season', 'fi', 'william', 'boone', 'short', 'fast', 'maid', 'amsterdam', 'smash', 'canal', 'fulton', 'ar', 'indoor', 'accommodate', 'also', 'cheat', 'fair', 'maxwell', 'bistro', 'pasta', 'salad', 'brazil', 'earth', 'intruders', 'whisperer', 'curse', 'guest', 'engadget', 'no', 'floor', 'snow', 'adventures', 'lolo', 'dovre', 'going', 'belarus', 'future', 'sugar', 'bush', 'edge', 'soul', 'venedig', 'im', 'regen', 'juan', 'capistrano', 'wahhabi', 'islam', 'revival', 'reform', 'jihad', 'outlaws', 'sherwood', 'marcus', 'shame', 'boyertown', 'zealand', 'eighteen', 'showings', 'vigus', 'might', 'well', 'crate', 'diggers', 'anonymous', 'madman', 'trap', 'land', 'april', '2nd', 'coney', 'island', 'nv', 'unbeatable', 'harold', 'century', 'scheduled', 'bondage', 'freedom', 'upon', 'some', 'midnights', 'clear', 'chronicle', 'performance', 'horse', 'weekly', 'xyy', 'beautiful', 'ironing', 'booking', 'indian', 'climax', 'springs', 'mexico', 'flash', 'stop', 'motion', 'sri', 'lanka', 'who', 'seconds', 'dakota', 'migration', 'person', 'jansen', 'english', 'wauregan', 'michael', 'hayvoronsky', 'suena', 'angeles', 'gets', 'laundry', 'diary', 'anne', 'frank', 'mystery', 'essentials', 'broken', 'sahara', '13', 'symphony', 'solo', 'cummings', 'mississippi', 'pet', 'cairo', 'zoo', 'reno', 'indiespain', 'locate', 'master', 'ballantrae', 'volume', 'naomi', 'schemer', 'hanging', 'relaxing', 'tenth', 'nosh', 'bakery', 'magnifico', 'michele', '88', 'keys', 'invisible', 'kipp', 'rhode', 'chart', 'throb', 'peter', 'iwers', 'gym', 'strong', 'faith', 'chaos', 'snowy', 'pillow', 'original', 'pies', 'plandome', 'manor', 'award', 'tables', 'hear', 'sit', 'down', 'talk', 'oman', 'medical', 'dead', 'dallas', 'manual', 'taverna', 'cousin', 'check', 'being', 'aired', 'halls', 'avalon', 'ariston', 'cafe', 'resurrection', 'scorpion', 'cuts', 'both', 'ways', 'green', 'mellowed', 'belle', 'yukon', 'gregory', 'douglass', 'whm', 'naked', 'lisa', 'dalbello', '2015', 'cma', 'awards', 'nominees', 'niece', 'somewhere', 'hopatcong', 'lonely', 'hearts', 'dipson', 'chinese', 'wikipedia', 'long', 'lake', 'wildlife', 'refuge', 'harkins', 'sudan', 'cuban', 'horatio', 'touch', 'eva', 'doctor', 'theater', 'near', 'crossroad', 'maliau', 'basin', 'conservation', 'compiled', 'fragments', '1997', '2003', 'icewind', 'dale', 'does', 'mexican', 'werewolf', 'start', 'schooltool', 'seduction', 'playlists', 'court', 'craig', 'mountain', 'management', 'muppet', 'christmas', 'carol', 'cotton', 'mission', 'bay', 'cars', 'sensations', '1945', 'marci', 'marylou', 'amelia', 'korea', 'halloween', 'livonia', 'av', 'republican', 'brain', 'jasmund', 'mediterranean', 'klute', 'winifred', 'clase', 'bedroom', 'jams', '11', '36', '48', 'tal', 'chhapar', 'sanctuary', 'amusements', 'arclight', 'hollywood', 'orthodox', 'ad', 'mailroom', 'history', 'bottom', 'stracciatella', 'oakdale', 'ok', 'gn', 'activists', 'wars', 'dream', 'sunrise', 'pizzette', 'duxbury', 'kaltag', 'ila', 'mi', 'manera', 'recopilatorio', 'stood', 'still', 'candlelight', 'afterwork', 'glory', 'contact', 'nu', '16', 'jordan', 'beardyman', 'memoirs', 'issue', 'haunted', 'spooks', 'jeanne', 'collins', 'amy', 'balkan', 'rhapsodies', '78', 'measures', 'malco', 'datil', 'todd', 'snider', 'electro', 'diamond', 'chariot', 'flower', 'eighth', 'day', 'holiday', 'nations', 'hipster', 'advocate', 'origins', 'jenifer', '2000', 'lower', 'sep', '2038', 'whole', 'richard', 'carvel', 'jones', 'blind', 'cope', 'woman', 'crying', 'birds', 'stroll', 'pork', 'kes', 'dinnertime', 'acoustics', 'summer', 'nation', 'bones', 'read', 'bombay', 'society', 'playist', 'gear', 'sonja', 'otsego', 'réunion', 'morganville', 'vampires', 'selinsgrove', 'shirley', 'aviatrice', 'chile', 'ho', 'arcola', 'yury', 'chernavsky', 'alternative', 'route', 'javanese', 'entfesselt', 'try', 'vermicelli', 'free', 'universe', 'musgrave', 'barnard', 'ora', 'workout', 'ambient', 'edesville', 'mn', '25', 'ridge', 'farm', 'hardinsburg', '20', 'wannabe', 'spice', 'girls', 'reinvented', 'fame', 'kd', 'lang', 'deep', 'noreen', 'strings', 'israel', 'undressed', 'icon', 'smoking', 'room', 'hell', 'cuisine', 'germany', 'chieko', 'ochi', 'drum', 'breaks', 'temperature', 'after', 'attic', 'delicatessen', 'prosser', '18th', 'grandfather', 'booker', 'shahrum', 'kashani', 'salt', '50', 'words', 'harrison', 'crawford', 'forest', 'hitman', 'rat', 'owen', 'biddle', 'tooth', 'contemporary', 'religious', 'satanism', 'allenwood', 'favorite', 'slaughterhouse', 'racing', 'rain', 'kebab', 'connection', 'kaakai', 'newspaper', 'ghost', 'town', 'prophecy', 'adaptive', 'coloration', 'animals', 'oak', 'heavy', 'gamer', 'irish', 'az', 'chain', 'events', 'stormy', 'afternoon', 'maryland', 'thai', 'paraguay', 'saturday', 'ashes', 'buddy', 'tate', 'just', 'aftercluv', 'wandering', 'detective', 'wind', 'harbor', 'cinemark', 'ringside', 'hurricane', 'jersey', 'cloud', '175', 'golconda', 'vt', 'tajikistan', 'dec', 'twentieth', 'sea', 'cabinet', 'angola', 'keke', 'wyatt', 'uetoaya', 'nov', 'fifteenth', 'purcell', 'odeon', 'charming', 'worldly', 'goods', 'chirping', 'crickets', 'father', 'law', 'gratin', 'roadrunner', 'rec', 'releases', 'jade', 'faced', 'assassin', 'carry', 'dreams', 'croissant', 'barbary', 'coast', 'pierre', 'miquelon', 'loves', 'she', 'danny', 'carey', 'argentina', 'joseph', 'meyer', 'mad', 'cool', 'festival', 'jessie', 'lupe', '2040', '9am', 'smart', 'spenard', 'gu', '8th', 'nj', 'british', 'edda', 'concert', '1981', 'without', 'condition', 'indonesian', 'ia', 'greenland', 'scarlet', 'portugal', 'grandes', 'unplugged', 'potato', 'alabama', 'fourth', 'virgin', 'pocket', 'full', 'kryptonite', 'wee', 'pamela', 'stress', 'relief', 'beaver', 'towers', '15', 'guernsey', 'literary', 'peel', 'pie', 'brokeback', 'post', 'inferno', 'whats', 'palmview', 'canaich', 'bad', 'branch', 'falls', 'preserve', '14', 'tennessee', 'baker', 'keyboard', 'lounge', 'crucible', 'wicked', 'endless', 'horizons', '06', 'made', 'edit', 'adding', 'smokefree', 'rockquest', '2005', 'facility', 'triumph', 'could', 'warmer', 'lothian', 'smoke', 'universum', 'september', '17', 'situation', 'december', 'worms', 'clan', 'wheeler', '4th', '2019', 'duett', 'grandson', 'tabloid', 'andrew', 'hurley', 'workweek', 'spain', '2023', 'mashable', 'crisis', 'final', 'fantasy', 'vii', 'sashimi', '80', 'bill', 'frisell', 'sofia', 'phillips', 'walker', 'dine', 'mughlai', '1st', 'practice', 'deceive', 'silly', 'windows', 'barbados', 'creole', 'deception', 'outpost', 'firewall', 'pro', 'intensity', 'sundown', 'vampire', 'retreat', 'alberton', 'mother', 'austria', 'maker', 'trips', 'destination', 'prague', 'vi', 'keytesville', 'shambaugh', 'md', 'dr', 'honigberger', 'coxs', 'mills', 'vatican', 'melva', 'heidi', 'mondamin', '2021', 'polish', 'assault', 'indiespensables', 'indonesia', 'august', 'nineteenth', 'sanilac', 'petroglyphs', 'historic', 'tiny', 'dancer', 'miss', 'sloane', 'decoding', 'reality', 'saurials', 'ideas', 'instrumental', 'directions', 'girlfriend', 'experience', 'famous', 'thursday', 'image', 'harveysburg', 'vickie', 'february', '2018', 'creola', 'throwback', 'count', 'predicted', 'travel', 'crimson', 'provincial', 'myanmar', 'arthur', 'rhames', 'poet', 'foot', 'drink', 'passage', 'goshenville', 'pr', 'stretch', 'axelrod', 'futuros', 'andy', 'sings', 'allen', 'nurse', 'last', 'stories', 'scottish', 'ballads', 'eleele', 'ebony', 'yolanda', 'god', 'must', 'spent', 'more', 'ruskin', 'cobb', '07', '08', '00', 'review', 'sterling', 'run', 'geminism', 'his', 'wife', 'take', 'croatia', 'jul', '25th', 'nightmare', 'leasburg', 'algeria', 'maksim', 'trad', 'folk', 'krypto', 'superdog', 'uncle', 'malta', 'missouri', '20th', 'korean', 'osts', 'kentuckians', 'estelle', 'shoot', 'elephant', 'over', 'geraldine', 'powerhouses', 'siesta', 'nothing', 'fancy', 'sunday', 'morning', 'played', 'mckinley', 'body', 'above', 'chasing', 'feeling', 'blobby', 'moore', 'fat', 'stupid', 'white', 'blini', 'loving', 'spirit', 'wimpy', 'kid', 'creek', 'pursuit', 'radical', 'rhapsody', 'pacific', 'camille', 'wilderness', 'furious', 'grand', 'traverse', 'bottomland', 'doi', 'inthanon', 'mark', 'shoots', '00s', 'wilson', 'childs', 'restaurants', 'brunei', 'lovers', 'bump', 'off', 'lover', 'tranquility', 'pugu', 'hills', '308', 'fm', 'servec', 'quiche', 'monika', 'jets', 'gonna', 'serenada', 'jigs', 'reels', 'atomic', 'edith', 'coventry', 'schuyler', 'geschwisterliebe', 'string', 'theory', 'about', 'coaldale', 'muncie', 'science', 'fiction', 'mutation', 'duetos', 'heroes', 'waubay', 'back', 'tallgrass', 'prairie', 'recordings', 'desire', 'pimp', 'remix', 'score', 'allenton', 'zapata', 'needing', 'ilo', 'elise', 'alma', 'ravensdale', 'mh', 'marine', 'gate', 'bloodstained', 'mirrors', 'feelin', 'zone', 'opa', 'beauty', 'sebastien', 'grainger', 'mountains', 'atlas', 'towel', 'pat', 'alger', 'placed', 'spotlight', '2016', 'depression', 'cyber', 'monday', 'uncommon', 'grounds', 'coffeehouse', 'small', 'lee', 'seventh', 'salinas', 'premiere', 'loyalhanna', 'nour', 'mhanna', 'workday', 'voice', 'satanas', 'legions', 'rates', 'hesston', 'nc', 'found', 'them', 'portales', 'gambia', 'humidity', 'index', 'elizabethville', '333', 'caplinger', 'florida', 'cocktail', 'kings', 'australian', 'ugliness', 'basic', 'battle', 'skills', 'georgetown', 'mater', 'seamus', 'heaney', 'collected', 'poems', 'among', 'walter', 'savoy', 'grill', 'midday', 'grainola', 'viernes', 'sudamérica', 'xplorer', 'lexington', 'fayette', 'coronado', 'lords', 'rim', 'much', 'namibia', 'welcome', 'cruel', 'selections', 'belgium', 'bow', 'tie', 'rise', 'infidels', '90s', 'french', 'polynesia', 'goof', 'pershing', 'square', 'manhattan', 'third', 'eye', 'rebirth', 'franklin', 'fiesta', 'knocked', 'loaded', 'mjr', 'panama', 'custar', 'kentucky', 'cardinal', 'treasures', 'complete', 'singles', 'electronics', 'cooper', 'saison', 'met', 'temps', 'redby', 'wather', 'philippines', 'monsters', 'bother', 'swamp', 'prentice', 'armenia', 'dummy', 'ice', 'cream', 'trilogie', 'sundanese', 'bonaire', 'sun', 'lacassine', 'brave', 'true', 'eyes', 'beginning', 'shirts', 'mapa', 'más', 'amigos', 'holly', 'bandas', 'sonoras', 'sonning', 'gun', 'hill', 'rd', 'metalblood', 'gastropub', 'bonnie', 'mirror', 'tartinery', 'home', 'elk', 'rapids', 'digster', 'pigs', 'pray', 'seafood', 'le', 'roy', 'tameka', '90', 'mirrored', 'heavens', 'possiable', 'wreck', 'gravy', 'train', 'wave', 'push', 'button', 'hamilton', 'shell', 'breakfast', 'certification', '28', 'copy', 'bury', 'january', '2028', 'sing', 're', 'winning', 'church', 'savage', 'showcase', 'thirteen', 'boggs', 'demonstration', 'orange', 'michel', 'strogoff', 'hand', 'foggy', 'songimvelo', 'earls', 'lucille', 'marina', 'ava', 'leigh', 'grime', 'puglia', 'very', 'gyrls', 'holla', 'duson', 'mohammad', 'reza', 'shadjarian', 'chillin', 'falling', 'upstairs', 'liberalism', 'limits', 'justice', 'tiffany', 'sondra', 'ms', 'udupi', 'noah', 'wuv', 'bernardo', 'humor', 'scaramouche', 'eifel', 'tropical', 'velvet', 'apr', 'manack', 'montana', 'shack', '101', 'waiting', 'mahatma', 'kylie', 'minogue', 'jaula', 'oro', 'hit', 'las', 'aventuras', 'zachary', 'choclair', 'mejor', 'música', 'bso', 'cholame', 'guys', 'chalkyitsik', 'palestine', 'whitehouse', 'beloved', 'kingsley', 'common', 'atticus', 'ross', 'electrosafari', 'doris', 'tulsa', 'rough', 'guide', 'eastern', 'europe', 'philip', 'rolls', '18', 'hopeful', 'enrique', 'iglesias', 'kind', 'goiano', 'bitten', 'twice', 'pulse', 'americana', '47', '52', 'mahwah', '2025', 'knife', 'killed', 'ecola', 'lebanese', 'arizona', 'exit', 'brooklyn', 'sting', 'pearblossom', 'wanna', 'sex', 'nike', 'running', 'tempo', 'chapter', 'bosnia', 'herzegovina', 'patti', 'hester', 'richardson', 'trauma', 'monkeys', 'stripped', 'kill', 'hi', 'brixton', 'academy', 'kb', 'thieving', 'magpie', 'angela', 'au', 'radar', 'timings', 'cracked', 'nuts', 'caledonian', 'record', 'then', 'came', 'abbott', 'costello', 'meet', 'keystone', 'kops', '04', 'monterey', 'mouth', 'escape', 'godlike', 'genius', 'fairy', 'tales', 'curious', 'lost', 'why', 'sons', 'turn', 'violent', 'save', 'reverie', 'craving', 'mac', 'cheese', 'portland', 'lomas', 'maalaea', 'beyond', 'worthy', 'izuna', 'unemployed', 'ninja', 'returns', 'rage', 'ford', 'administration', 'feather', 'noise', 'friesland', 'ghana', 'spooning', 'sreekumar', 'laidback', 'getaway', 'tree', 'tremont', 'nadine', 'sherrie', 'fl', 'lochearn', 'son', 'apocalisse', 'against', 'leviathan', 'carmella', 'illness', 'metaphor', 'essential', 'jacksons', 'swine', 'alien', 'breed', 'horror', 'continues', 'thy', 'stethoscope', 'walk', 'bradner', 'other', 'least', 'scale', 'wizardry', 'touches', 'ground', 'cityzen', 'arista', 'reaching', 'als', 'het', 'liefde', 'gaat', 'handel', 'trey', 'gunn', 'sacred', 'deeth', 'growth', 'fetish', 'giants', 'frost', 'penermon', 'title', 'champagne', 'showers', 'brilliant', 'tragic', 'echo', 'talbot', 'mundy', 'messenger', 'destiny', 'stuffed', 'peppers', 'woodsfield', 'lilly', 'witch', '257', 'cannon', 'equatorial', 'rillettes', 'box', 'moon', 'light', 'kernersville', 'greece', 'mai', 'selim', 'us', 'suffer', 'cross', 'uzbekistan', 'side', 'balko', 'fox', 'modern', 'age', 'electric', 'boogaloo', 'random', 'twisted', 'searves', 'kouglof', 'organ', 'cactus', 'lonergan', 'bean', 'courts', 'natalie', 'macmaster', 'viajes', 'nijinsky', 'churrascaria', 'talking', 'heaven', 'doors', 'perception', 'games', 'balinese', 'comunas', 'ripper', 'lifelong', 'ambitions', 'wi', 'centenary', 'rugrats', 'tmpgenc', 'hurts', 'pruntytown', 'grandparents', 'helens', 'softly', 'kerasotes', 'adams', 'laurie', 'listas', 'meredith', 'betty', 'erika', 'fran', 'saudi', 'arabia', 'brunswick', 'botanical', 'garden', 'gie', 'tequesta', 'print', 'legend', 'willow', 'nona', 'gray', 'myrtle', 'alison', 'ouzeri', 'fro', 'chamberlain', 'waits', 'picnic', 'meze', 'roseville', 'louisa', 'corrine', 'selected', 'letters', 'lovecraft', 'sushi', 'brucetown', 'whistler', '03', '01', 'reproductions', 'child', 'floors', 'mighty', 'moss', 'bobcat', 'bite', 'isle', 'harding', '41', '51', 'sixteen', 'mill', 'bluff', 'smit', 'radnor', 'township', 'wv', 'ponsonby', 'programming', 'average', 'beer', 'lynn', 'shore', 'randy', 'travis', 'grass', 'farian', 'lydia', 'mixtape', '1967', '1975', 'terrors', 'nh', 'hat', 'ga', 'faces', 'lao', 'united', 'paramount', 'bank', 'forecase', 'inverness', '5th', '2031', 'tartine', 'tunnel', 'rats', 'rhythm', 'reserved', 'prefect', 'having', 'seeley', 'fourteenth', 'mariah', 'elusive', 'chanteuse', 'oct', 'cuyabeno', 'experienced', 'embrace', 'tour', '2013', 'budokan', '70s', 'preaching', 'perverted', 'wynonna', 'bridge', 'starcross', 'teenager', 'college', 'wonderful', 'eylem', 'yameen', 'showstopper', 'mary', 'jane', 'plague', 'deepwater', 'glue', 'lewis', 'clark', 'russian', 'shari', 'urbanette', 'rabbit', 'via', 'dolorosa', 'redemption', 'samurai', 'ninth', 'oh', 'leonville', 'sugarville', 'janeane', 'des', 'moines', 'bernie', 'id', 'ironbound', 'looney', 'tunes', 'platinum', 'strongest', 'instinct', 'tera', 'exiled', 'realm', 'arborea', 'kitlope', 'heritage', 'conservancy', 'harlem', 'hadon', 'opar', 'sailor', 'supers', 'died', 'paedophilia', 'case', 'timor', 'narodowy', 'kushiro', 'shitsugen', 'haystack', 'knight', 'newts', 'horrible', 'bahamas', 'swain', 'kavanaughs', 'gilgamesh', 'king', 'deli', 'steak', 'riverfront', 'nação', 'jefferson', 'expansion', 'belinda', 'dena', 'syria', 'unpleasantness', 'bellona', 'totally', 'paul', 'whiteman', 'chillout', 'diamondville', 'most', 'necessary', 'noveskey', 'shot', 'understanding', 'physics', 'bulgaria', 'numbers', 'saxophone', 'supremacy', 'ofelia', 'think', 'freak', 'melcher', 'madwoman', 'enemy', 'screened', 'fourteen', 'robbie', 'hostel', 'chandra', 'noelle', 'underneath', 'engine', 'hog', 'fry', 'interview', 'documentary', 'conspiracy', 'louisiana', '300', 'march', 'cluster', 'computing', 'fallen', 'milagros', 'pocono', 'dean', 'tailor', 'london', 'amor', 'wheatley', 'bang', 'lot', 'pediatric', 'oncology', 'nursing', 'croix', 'horses', 'dubstep', 'dangles', 'dirty', 'rainy', 'wren', 'riddim', 'driven', '54', 'humanity', 'letha', 'things', 'farmingdale', 'entitled', 'period', 'cyborg', 'teide', 'viroqua', 'fernwood', 'mt', 'geese', 'sensation', 'morgan', 'primitive', 'santikos', 'jungo', 'toxic', 'avenger', 'comfort', 'friends', 'players', 'pilgrims', 'rayne', 'taiwan', 'rainfall', 'willimantic', 'kurious', 'jorge', 'synth', 'illinois', 'lakes', 'turkmenistan', 'bon', 'grunge', 'åland', 'dock', 'norman', 'conway', 'twitty', 'tchaikovsky', 'occasional', 'bpm', 'cat', 'walks', 'walls', 'stumble', 'repeat', 'burnout', 'ultimate', 'drag', 'race', 'alamo', 'drafthouse', 'cassie', 'eyota', 'hawaii', 'desert', 'column', '42', 'oregon', 'rosana', 'canteen', 'alley', 'samoa', 'montserrat', '79', 'policemen', 'sanibel', 'manadonese', 'brunch', 'alejandro', 'fernández', 'chamber', 'lest', 'forget', 'guitar', 'cajah', 'coffee', 'sleeps', 'sonya', 'rebekah', 'taneyamagahara', 'sword', 'lictor', 'diann', 'smile', 'suitcase', 'roses', 'agua', 'sal', 'uproar', 'milas', 'poli', 'bluegrass', 'masala', '2034', 'casey', 'chavez', 'lucinda', 'karina', '7th', 'burst', 'outside', 'syndicate', 'millicent', 'electronic', 'economic', 'association', 'deeds', 'finn', 'maccool', 'robin', 'trower', 'feminist', 'wyoming', 'presskopf', 'nattbuss', '807', 'el', 'en', 'emo', 'sugarfoot', 'epleys', 'sandwich', 'dared', 'flag', 'brass', 'bound', 'trunk', 'experiment', 'decaturville', 'castolon', 'territories', 'melba', 'anderson', 'haugan', 'justified', 'astonishing', 'octavian', 'traitor', 'kingdom', 'waves', 'afdlin', 'shauki', 'timerider', 'lyle', 'swann', 'kan', 'mikami', 'pre', 'junkies', 'suu', 'complex', 'between', 'forecasted', 'epiphany', 'pizza', 'astor', 'massachusetts', 'molly', 'mcguire', 'talks', 'kreator', 'enemies', 'frontier', 'marshal', 'souls', 'temperance', 'tortured', 'berville', 'political', 'pw', 'gill', 'deacon', 'chichi', 'mysterious', 'carpathians', 'bride', 'elida', 'vega', 'alta', 'smear', 'montverde', 'tropézienne', 'shopping', 'spree', 'prejudice', 'bearmouth', 'hellboy', 'troll', 'mcmurray', 'seventeenth', 'marjorie', 'vasquez', 'martina', 'ludden', 'apothecary', 'rx', 'pagosa', 'romanian', 'stle', 'cusine', 'trussville', 'scholarmate', 'immortals', 'bullets', 'assign', 'yale', 'ramble', 'teens', '23', 'fimd', 'bhoot', 'eric', 'refugee', 'sleeping', 'sc', 'chrome', 'alloway', 'opening', 'bible', 'niger', 'surf', 'taco', 'uniontown', 'beast', 'shouted', 'signals', 'belief', 'england', 'wallington', 'swaziland', 'polymer', 'jain', 'goodbye', 'tetsuya', 'komuro', 'hide', 'benin', 'upbuilding', 'discourses', '1844', 'supper', 'ours', 'phinally', 'phamous', 'gamblers', 'plaid', 'retina', 'castles', 'clay', 'remains', 'favorites', 'willie', 'nelson', 'spinnin', 'records', 'taking', 'flight', '847', 'uli', 'derickson', 'thornville', 'link', 'tempunauts', 'microsoft', 'safety', 'scanner', 'poplar', 'unholy', 'coverage', 'minami', 'alps', 'koma', 'prefectural', 'lock', 'inniswold', 'blackbox', 'paper', 'doll', 'historical', 'aransas', 'pass', 'seventeen', 'international', 'bilingualism', 'online', 'drowning', 'anjo', 'hollidaysburg', 'twinkie', 'squad', 'budayeen', 'nights', 'parents', 'thousand', 'lies', 'keyes', 'summit', 'rustic', 'inn', 'members', 'nappanee', 'zambia', 'emanuel', 'kiriakou', 'llegando', 'casa', 'rileys', 'crabfish', 'sleep', 'machine', 'rainforest', 'mickey', 'birth', 'emre', 'aydin', 'happy', 'lunacy', 'latest', 'episode', 'chu', 'philly', 'clam', 'cake', 'ginestrata', 'shenandoah', 'heights', 'cookie', 'selena', 'atop', 'underwood', 'writings', 'mercedes', 'cimarron', 'lpaying', 'bryan', 'emily', 'soulblighter', 'partners', 'action', 'connie', 'madeline', 'shadow', 'shake', 'beef', 'indestructible', 'nozomi', 'tsuji', 'ritchie', 'valens', 'virales', 'siempre', 'polite', 'scrapple', 'harriett', 'deanne', '14th', 'hridaynath', 'mangeshkar', 'stone', 'cierra', 'puerta', 'claudine', 'longet', 'palylist', 'isn', 'engadine', 'joy', 'division', 'bbc', 'mclaurin', 'key', 'word', 'mysteries', 'nightbirds', 'nantucket', 'crocus', 'ian', 'mandaean', 'sudden', 'rainstorm', 'merry', 'sisters', 'fate', 'wand', 'wagner', 'todays', 'flic', 'beverly', 'kurt', 'aguila', 'patetown', 'economy', 'silence', 'lambs', 'playmaker', 'football', 'acquacotta', 'central', 'republic', 'baraga', 'bright', 'elvis', 'lemonade', 'poetry', 'own', 'voices', 'landmark', 'were', 'tear', 'apart', 'deborah', 'bertha', 'screamplay', 'manning', 'ukraine', 'egypt', 'treasury', '2027', 'iowa', 'applied', 'linguistics', 'picks', 'bowling', 'dana', 'caddo', 'bock', 'unicorn', 'ncaa', '2k3', 'breath', 'outdoor', 'papeton', 'cenizo', 'captain', 'kronos', 'air', 'cuan', 'dubh', 'drilseach', 'emma', 'wood', 'friona', 'brewing', 'puerto', 'rico', 'zezé', 'di', 'camargo', 'luciano', 'valley', 'covenant', 'fusion', 'fest', 'overton', 'palisades', 'testing', 'anywhere', 'decades', 'imposter', 'russell', 'econfina', 'ri', 'innocence', '2008', 'louis', 'wolfe', 'gilbert', 'cleaning', 'loveday', 'trials', 'trying', 'solution', 'business', 'ethics', 'kosovo', 'mon', 'monster', 'mash', 'than', 'counting', 'rosaries', 'flies', '1994', '2009', 'jazzy', 'president', 'empanada', 'jemez', 'rila', 'elinor', 'crystal', 'turner', 'nita', 'german', 'torrey', 'pines', 'sixteenth', 'pillar', 'education', 'chemical', 'engineers', 'del', 'españa', 'known', 'better', 'bb', 'bunce', 'lafe', 'wing', 'cappella', 'angry', 'bulat', 'schalwowitsch', 'okudschawa', 'retro', 'quebeck', 'removers', 'tesh', 'friendesemana', '32', 'fenton', 'change', 'lapponia', 'flamenco', 'madagascar', 'scouse', 'git', 'speed', 'thrills', 'mojave', 'phone', 'booth', 'rattus', 'roundhouse', 'té', 'para', 'tres', 'crazy', 'hostile', 'waters', 'harper', 'order', 'wings', 'zena', 'passover', 'hurry', 'garrison', 'emoji', 'retrovisor', '188', 'zimbabwe', 'wallis', 'futuna', 'inwood', '207th', 'gisela', 'watcher', 'rivers', 'religion', 'sexy', 'días', 'felices', 'reggaeton', 'lambertville', 'india', 'mason', 'dixon', 'tsidii', 'loka', 'drumline', 'texas', 'receipt', 'ep', 'aubrey', 'did', 'highs', 'mid', 'sixties', 'bigger', 'endangered', 'species', 'reverse', 'medal', 'tokelau', 'valarie', 'caroline', '56', 'soldier', 'pond', 'stunt', 'santa', 'monica', 'hannah', 'miley', 'cyrus', 'twitches', 'simon', 'schuster', 'encyclopedia', 'dinosaurs', 'prehistoric', 'creatures', 'nick', 'sylvia', 'plath', 'steps', 'independent', 'clue', 'super', 'dave', 'bickler', 'warren', 'freund', 'luis', 'fonsi', 'lamy', 'fe', 'hero', 'halifax', 'disaster', 'mummy', 'cortelyou', 'barberville', '99', 'mongolia', 'archivist', 'logic', 'sense', 'crew', 'piqua', 'pearl', 'remembrance', 'rio', 'idaho', 'dekalb', 'indifferent', 'aria', 'mascotte', 'prospect', 'whitby', 'blaine', 'bugs', 'bunny', 'nips', 'nigeria', 'seed', 'chucky', 'josefina', 'pla', 'isabelle', 'gamesradar', 'nevada', 'hahnville', 'tuvalu', 'woodchuck', 'chuck', 'matters', 'comer', 'many', 'germania', 'movietimes', 'ochopee', 'pelican', 'blandings', 'inlet', 'lebanon', '2035', 'seeing', 'shown', 'yauch', 'biggest', 'loser', 'granbury', 'chronicles', 'druss', 'roman', 'tkk', 'betances', 'tamagotchi', '64', 'minna', 'those', 'gods', 'virginia', 'technicolor', 'czech', 'everytime', 'doolittle', 'whispers', 'graveyard', 'visual', 'audio', 'sensory', 'sherlock', 'holmes', 'wayside', 'targeted', 'clapton', 'round', 'gena', 'woodcliff', 'murray', 'hut', 'mirrorshades', 'potée', 'solitude', 'hello', 'cats', 'luck', 'expressive', 'processing', 'mis', 'niños', '30', 'iii', 'carnik', 'boreas', 'mayotte', 'tembe', 'jacinto', 'scheudle', 'palacio', 'grisly', 'flesh', 'bone', 'underground', 'attell', 'nuclear', 'blast', 'novelties', 'slimm', 'cutta', 'calhoun', 'heroquest', 'legacy', 'sorasil', 'tanintharyi', 'deus', 'deceptor', 'resource', 'harris', 'uruguay', '213', 'scratchy', 'porch', 'cohocton', 'wy', 'sunil', 'santha', 'grant', 'osmanthus', 'rejoicing', 'tonopah', 'hillary', 'banks', 'spears', 'butterfly', 'fabes', 'vl', 'mike', 'dcode2016', 'marcie', 'clink', 'senegal', 'juliff', 'bucatini', 'tomohisa', 'yamashita', 'village', 'japan', 'rimsky', 'korsakoffee', 'aug', '3rd', 'guts', 'chopin', 'niceville', 'francisville', 'italian', 'hutchings', 'single', 'branton', 'mellow', 'fly', 'roadhouse', 'antarctica', 'calakmul', 'biosphere', 'angel', 'sweeney', 'goethe', 'culver', 'thyme', 'brothers', 'karamazov', 'hoping', '2029', 'feature', 'aflame', 'crowd', 'study', 'mind', 'tenor', 'wore', 'tapshoes', 'halley', 'mrs', 'ryō', 'yamazaki', 'clem', 'burke', 'macedonia', 'cape', 'unit', 'burrito', 'chad', 'landing', 'proof', 'nam', 'kading', 'protected', 'minestrone', 'griffin', 'ne', 'according', 'paris', 'robinson', '02', '39', 'jarbidge', 'tx', 'cashel', 'palace', 'funtime', 'activity', 'odessa', '05', 'shelter', 'glimpses', 'elisabeth', 'gainesville', 'register', 'claudia', 'imelda', 'rainelle', 'druid', 'regional', 'thing', 'smelt', 'solomon', 'embers', 'darkest', 'jennifer', 'lopez', 'lilacs', 'worth', 'inheritors', 'niue', 'balloon', 'sencha', 'soupe', 'variation', 'plants', 'domestication', 'polygon', 'shores', 'together', 'deadly', 'skies', 'drift', 'unmooring', 'military', 'limit', 'umizaru', 'princess', 'biology', 'issues', 'approach', 'fertile', 'sure', 'thirayum', 'theeravum', 'nathaniel', 'fludd', 'beastologist', 'monks', 'thelema', 'charles', 'trifecta', 'scandinavian', 'grenada', 'lidell', 'townsell', 'esenciales', 'set', 'thames', 'coleslaw', '44', '58', 'pirates', 'vengeance', 'chowchilla', 'bullet', 'target', 'kin', 'splendido', 'occoquan', 'sign', 'saturn', 'highlands', 'paisley', 'yemen', 'antisleep', 'persian', 'ex', 'husband', 'projections', 'allardt', 'canada', 'meets', 'movement', 'jolley', 'macclenny', 'lavender', 'lace', 'entre', 'um', 'coco', 'adeus', 'kenneth', 'jethro', 'burns', 'soundscapes', 'pimpernel', 'rosemary', 'schultz', 'maldives', 'sichuan', 'avant', 'sessions', 'wine', 'fernley', 'princesas', 'cienega', 'section', 'blag', 'dahlia', 'pura', 'vida', 'strayhorn', 'riley', 'anston', 'shine', 'gillan', 'creeper', 'colic', 'jim', 'peace', 'thirty', 'moores', 'robinette', 'crime', 'punishment', 'suburbia', 'beijing', 'huanying', 'moment', 'lousy', 'slice', 'choclo', 'awful', 'afghanistan', 'kiss', 'hironobu', 'kageyama', 'baila', 'westfield', 'moron', 'ace', 'spades', 'beatmaster', 'given', 'unbelievable', 'botswana', 'troubles', 'catch', 'em', 'doctors', 'cia', 'factbook', 'persecution', 'jews', '1933', '45', 'tokyo', 'detroit', 'peaceful', 'geographic', 'howling', 'mir', 'trinidad', 'tobago', 'owl', 'eve', 'olution', 'clean', 'sober', 'france', 'paducah', 'irving', 'berlin', 'dishwashing', 'unraveling', 'gary', 'harsh', 'tarass', 'boulba', 'path', 'aurora', 'federated', 'states', 'micronesia', 'sunshine', 'monkey', 'tiger', 'javine', 'hylton', 'suicide', 'pokémon', 'victini', 'reshiram', 'zekrom', 'garrett', 'animal', 'maryanne', 'per', 'yngve', 'ohlin', 'somalia', 'killing', 'fields', 'providence', 'provide', 'dawn', 'tira', 'pax', 'warrior', 'kenmore', 'nineteen', 'argusville', 'burkina', 'glades', 'myths', 'hindus', 'buddhists', 'timeline', 'lime', 'caledonia', 'rotem', 'singers', 'artifacts', 'liechtenstein', 'artani', 'continued', 'sealed', 'swan', 'aragon', 'offroad', 'legends', 'fever', 'friend', 'isabella', 'hahntown', 'turf', 'alfred', 'cradle', 'robbers', 'fruit', 'politics', 'share', 'epic', 'wall', 'sound', 'grim', 'skunk', 'tun', 'shawna', 'michelle', 'lizzie', 'maro', 'kim', 'hyun', 'joong', 'seek', 'destroy', 'coulee', 'rose', 'bobby', 'dwele', 'marguerite', 'eurovision', 'naches', 'sierra', 'leone', 'greek', 'banana', 'puccini', 'jacqueline', 'deanna', 'carpenter', 'uncas', 'stream', 'drugs', 'jesus', 'christ', 'nails', 'whitewater', 'ellen', 'lentil', 'anything', 'skatepark', 'punks', 'sunset', 'truly', 'warped', 'download', 'eagle', 'hallwood', 'jean', 'lafitte', 'blackberry', 'chan', 'whee', 'macao', 'secretary', 'colour', 'romain', 'mcgill', 'snuffy', 'walden', 'billboard', 'finalists', 'prefer', 'teh', 'opus', 'butcher', 'boy', 'anchor', 'low', 'tide', 'enid', 'romántica', 'due', 'homo', 'handbook', 'carlos', 'refugio', 'cherry', 'treatment', 'fork', 'mari', 'jailbird', 'terror', 'visit', 'got', 'bag', 'buick', 'roars', 'powersville', 'guam', 'working', 'homer', 'beethoven', 'lives', 'blythewood', 'bouchon', 'dynamite', 'elegant', 'rumyantsev', 'telepathic', 'experiences', 'baladas', 'románticas', 'stu', 'rak', 'biszewilo', 'airi', 'suzuki', 'dough', 'boden', '11th', 'mommy', 'teddy', 'screen', 'souvenirs', 'romania', 'christian', 'susana', 'abby', 'zaleski', 'careless', 'administrative', 'behavior', 'immortal', 'prix', 'searchlights', 'belhaven', 'galactic', 'healer', 'tribeca', 'wilda', 'jacklyn', 'rupee', 'ultra', 'crown', 'burgers', 'compton', 'millions', 'langdon', 'francesco', 'gregori', 'mole', 'roxy', 'onnaam', 'muhurtham', 'elsmore', 'luxembourg', 'cure', 'lightning', 'johto', 'journeys', 'lloyd', 'anthems', 'makers', 'verdi', 'seabrook', 'blonde', 'peking', 'viktor', 'merjanov', 'wylliesburg', 'returned', 'operación', 'bikini', 'paradise', 'heavenly', 'spiderman', 'rings', 'postman', 'amityville', 'mu', 'ko', 'phetra', 'professionals', 'dora', 'rainbow', 'written', 'natsu', 'mini', 'berryz', 'phishing', 'leoti', 'pillars', 'wisdom', 'hiphop', 'loco', 'sailing', 'seas', 'nile', 'shawn', 'lane', 'moved', 'cena', 'dumping', 'survival', 'primavera', 'barcelona', 'anna', 'semenovich', 'olive', 'herkimer', 'liver', 'onions', 'bessie', 'antonia', 'eighteenth', 'ut', 'elma', 'hocking', 'premiering', 'pachangueo', 'irma', 'pig', 'scrolls', 'clinchco', 'shawnna', 'eletro', 'br', 'austin', '09', 'funny', 'split', 'difference', 'lit', 'lights', 'richfield', 'cock', 'bull', 'caravan', 'across', 'line', 'municipal', 'ealing', 'archie', 'da', 'ghetto', 'hardcastle', 'sulle', 'sathya', 'xandee', 'georgiev', 'kalica', 'gillespie', 'gayle', 'fisn', 'licorice', 'mckechnie', 'wanda', 'honor', 'carnot', 'finland', 'dangers', 'canadian', 'mounted', 'hiptronix', 'polka', 'medley', 'cuba', 'jency', 'anthony', 'mozart', 'todesfalle', 'cosby', 'cosnarati', 'emergency', 'lea', 'chair', 'bg', 'knocc', 'rapcaviar', 'tioga', 'albino', 'blacksheep', 'yuna', 'ito', 'rods', 'shows', 'jonny', 'buckland', 'buzz', 'koontz', 'passion', 'foucault', 'alok', 'walpole', 'flow', 'faroe', 'hound', 'dog', 'miami', 'covered', 'wagon', 'personality', 'social', 'berry', 'elrow', 'carmen', 'monson', 'minor', 'outlying', 'milladore', 'dolly', 'parton', 'heyy', 'babyy', 'gackt', 'camui', 'almighty', 'johnsons', 'bernard', 'force', 'phalcon', 'marble', 'cliffs', 'hillview', 'mineiro', 'metalcore', 'ek', 'boond', 'ishq', 'occult', 'saved', 'johnnie', 'shorty', 'door', 'release', 'ties', 'bind', 'touchdown', 'wenham', 'chisholm', 'inca', 'weekend', 'petit', 'manan', 'mascoutah', 'tanzania', '38', 'favoretta', 'questions', 'answers', 'deathcore', 'ik', 'tara', 'nova', 'scotia', 'speculative', 'shanghaï', 'milligan', 'charenton', 'umbrellas', 'cherbourg', 'merle', 'haggard', '30th', 'mamaroneck', 'wwe', 'od', 'mene', 'se', 'odvikavaj', 'freud', 'moralist', 'scorching', 'sd', 'roselle', 'kaanapali', 'widows', 'ever', 'farristown', 'vol', 'rss', 'tracking', 'brit', 'unconscious', 'tibetan', 'montreal', 'char', 'colombia', 'lands', 'midongy', 'du', 'sud', 'deersville', 'exploits', 'cormorant', 'slippery', 'noodle', 'gober', 'osage', 'parempi', 'mies', 'café', 'daughter', 'baeckeoffe', 'control', 'gem', 'dazey', 'reverence', 'johnny', 'kunnon', 'syy', 'ship', 'lollipop', 'arch', 'edm', 'branded', 'loveless', 'requests', 'unarchigal', 'marlene', '6th', 'winnebago', 'charlotte', 'grisdale', 'bangladesh', 'monte', 'sereno', 'clásicos', 'robert', 'chuckys', 'malawi', 'sarah', 'teen', 'carterville', 'gryphon', 'rewind', 'ballachulish', 'rebbe', 'teachings', 'menachem', 'schneerson', 'influential', 'rabbi', 'yoakum', 'shasha', '43', 'eddie', 'mathematical', 'decisions', 'colorless', 'tsukuru', 'tazaki', 'pilgrimage', 'olmitz', 'wash', 'manifesto', 'nevermore', 'petersville', 'bert', 'mccracken', 'purple', 'alan', 'abacus', 'rochelle', 'dick', 'sand', 'fifteen', 'highway', 'lincoln', 'gettysburg', 'hong', 'kong', 'idledale', 'scoop', 'swat', 'icac', 'investigators', '2014', 'espen', 'lind', 'face', 'heartland', 'wheesung', 'callicoon', 'doomsters', 'firehouse', 'bees', 'luambe', 'thor', 'ludowici', 'ready', 'head', 'shout', 'gaslight', 'reader', 'warned', 'chant', 'leeds', 'lidia', 'latasha', 'journeyman', 'pixley', 'kitchen', 'toto', 'ennis', 'cień', 'caseya', 'somis', 'cocos', 'kyrgyzstan', 'tschaikovsky', 'cheapest', 'price', 'instincts', 'dreamstone', 'audra', 'reviews', 'genetics', 'swords', 'mortem', 'wipers', 'orgánica', 'oil', 'endgame', 'banker', 'strabane', 'chen', 'jiafeng', 'keeling', 'fury', 'hopes', 'heartbreak', 'krystal', 'bernardsville', 'act', 'ronnie', 'dio', 'selection', 'hulmeville', 'tape', 'topock', 'making', 'milwaukee', 'yangtze', 'vikku', 'vinayakram', 'comics', 'loved', 'self', 'leopard', 'winfield', 'porphyry', 'sam', 'noxubee', 'restaurantin', 'perrytown', 'candice', 'jeannie', 'nichole', 'agent', 'concerns', 'minority', 'report', 'kosher', 'confusion', 'mistborn', 'ascension', 'woodston', 'mountainair', 'theodore', 'roosevelt', 'inaugural', 'site', 'pero', 'dungeons', 'dragons', 'mystara', 'ruel', 'woods', 'hole', 'oklahoma', 'miso', 'soup', 'paula', 'abdul', 'musica', 'española', 'fashion', 'oxford', 'em4jay', 'shoe', 'tristan', 'betrayal', 'whiteside', 'elder', 'dive', 'bomber', 'during', 'thailand', 'ct', 'idols', 'paranormal', 'dimension', 'keeneland', 'plaine', 'anatomy', 'melancholy', 'kiley', 'couples', 'heaton', 'boating', 'epte', 'these', 'phantom', 'sometimes', 'passing', 'naseer', 'shamma', 'minnesota', 'recent', 'fleetwood', 'lakeisha', 'dancepop', 'muffuletta', 'testaroli', 'cd', 'overload', 'starship', 'litchfield', 'extended', 'dancefloor', 'bajo', 'estrellas', 'matter', 'mystical', 'owens', 'graduates', 'malibu', 'shohola', 'tenderfoot', '49', 'salvador', 'truth', 'carpathian', 'calipuy', 'minnie', 'riperton', 'cabi', 'philosophy', 'phenomenological', 'collision', 'system', 'bloodhounds', 'spirituals', 'wakefield', 'freckled', 'hydration', 'he', 'fears', 'wolf', 'somwhere', 'sungmin', 'fiji', 'outta', 'miller', 'badmeaningood', 'volume4', 'jaime', 'unwind', 'kelsey', 'shelley', 'cascading', 'waterfall', 'tropic', 'scandalous', 'lachman', 'hungarian', '55', 'gareth', 'gates', 'pollock', 'crossing', 'muddy', 'bok', 'preparedness', 'zombie', 'apocalypse', 'puppet', 'axis', 'been', 'cancelled', 'crawlspace', 'mim', 'cawker', 'bougatsa', 'pelham', 'student', 'leticia', 'twila', 'edwards', 'secondary', 'residence', 'mosses', 'manse', 'lamar', 'bell', 'curve', 'indocumentado', 'bridle', 'trails', '24', 'lauren', 'schenker', 'ina', 'hermann', 'baumann', 'parent', 'hawaiian', 'honeymoon', '1999', 'novels', 'iris', '2032', 'warriors', 'avatar', 'moose', 'message', 'szahram', 'nazeri', 'hold', 'liquor', 'electronow', 'kenya', 'afterlife', 'palm', 'tennyson', 'wagener', 'delanson', 'brownfield', 'breaux', 'turks', 'caicos', 'hoyt', 'niagara', 'thrash', 'attack', 'chymical', 'wedding', 'carne', 'pizzaiola', 'tamra', 'viola', 'dorothea', 'slut', '27', 'always', 'trouble', 'ward', 'stuck', 'sax', 'joni', 'sanders', '53', 'arctic', 'flowers', 'max', 'richter', '61', 'exiles', 'farallon', 'fight', 'anarchy', 'elba', 'corina', 'technical', 'brutal', 'straight', 'eckstine', 'emotron', 'varieties', 'scientific', 'telemark', 'exploring', 'reef', 'active', 'traffic', 'policeman', 'hattiesburg', 'caucasian', 'jboss', 'enterprise', 'soa', 'platform', 'halfway', 'shall', 'armenian', 'steel', 'rag', 'covers', 'recite', 'glennie', 'mulawin', 'drums', 'along', 'brenda', 'turk', 'fourche', 'itch', 'spectres', 'meaning', 'slinger', 'operetta', 'dolores', 'coastal', 'landscape', 'vinci', 'code', 'vanishing', 'thieves', 'brubeck', 'goldimouse', 'intimate', 'por', 'una', 'cabeza', 'reading', 'invades', 'everyday', 'beats', 'palau', 'whether', 'bahrain', 'uncut', 'sadface', 'beard', 'chelsea', 'lunchtime', 'vegan', 'enfield', 'willits', 'olpe', 'mp', 'lighthouse', 'jackass', 'investing', 'maple', 'glen', 'meatballs', 'gibassier', 'ricky', 'skaggs', 'hendley', 'catahoula', 'entrevistas', 'metallica', 'never', 'stranger', 'addo', 'elefanten', 'coon', 'clarice', 'debbie', 'flame', 'wielding', 'winnfield', 'noël', 'forcast', 'private', 'patient', 'feast', 'cornelia', 'bettie', 'tyrant', 'dschiwan', 'gasparjan', 'beth', 'tatico', 'henriquez', 'bleeps', 'bloops', 'schlitt', 'chris', 'frantz', 'niobrara', 'licence', 'renewed', 'web', 'signed', 'xoxo', 'divorce', 'togo', '24th', 'released', 'whitney', 'deathsmiles', 'mile', 'shoes', 'tha', 'funkee', 'homosapien', 'wenn', 'lucy', 'springt', 'saintly', 'switch', 'vinyl', 'notebooks', 'winterheart', 'guild', 'corinne', 'tisha', 'billion', 'dollar', 'ransom', 'paulette', 'piece', 'orchestra', 'cello', 'colors', 'taskcracker', 'outlook', 'sport', 'pastime', 'solid', 'gina', 'schock', 'twerkout', 'neutral', 'xiang', 'madden', 'nfl', 'nana', 'kitade', 'psychedelia', 'angelita', 'susan', 'reed', 'ashlee', 'watson', 'currituck', 'adelaide', 'gateau', 'everywhere', 'magnificent', 'thomas', 'hynes', 'recovery', 'dame', 'anatone', 'incorporate', 'ayumi', 'hamasaki', 'arena', 'level', 'libre', 'ucolo', 'headed', 'vineyard', 'haven', 'candace', 'mcgee', 'bodyguard', 'montchanin', 'fuzzy', 'charlie', 'rumba', 'verde', 'lopeno', 'dorchester', 'filthy', 'lucre', 'fabri', 'fibra', 'princes', 'treasure', 'dyke', 'terminator', 'furano', 'ashibetsu', 'ate', 'rocky', 'mound', 'sweden', 'pause', 'frío', 'somewhee', 'hollenberg', 'ruth', 'seeger', '007', 'cleopatra', 'stratan', 'masterworks', 'teenagers', 'merlin', 'effect', 'pinto', 'soon', 'grey', 'alone', 'faint', 'benedict', 'slick', 'rick', 'furnace', 'adrenaline', 'mabel', 'dramatic', 'career', 'tony', 'kakko', 'exmore', 'tom', 'baxter', 'kelso', 'camden', 'warning', 'enough', 'darth', 'maul', 'ruud', 'jolie', 'zamiast', 'burzy', 'belles', 'clements', 'nancy', 'ruiz', 'gibraltar', 'class', 'tarkan', 'madrugando', 'thornbury', 'nm', 'cave', 'canem', 'demos', 'agnolotti', 'effortless', 'regurgitation', 'va', 'villa', 'goodreader', 'maltio', 'strict', 'mc', 'roots', 'australia', 'compendium', 'analytical', 'nomenclature', 'shavuot', 'holidays', 'yarra', 'harrowing', 'gwynedd', 'cuckoo', 'clocks', 'hymn', 'munawar', 'ali', 'khan', 'mujeres', 'hombres', 'bum', 'note', 'bead', 'sweat', 'episodes', 'musketeers', '131', 'atanassow', 'voyage', 'treader', 'moffett', 'brat', 'nationaal', 'garphyttan', 'cherryh', 'odyssey', 'valle', 'jarama', 'bottles', 'un', 'provinciale', 'testament', 'orpheus', 'alexandra', 'govere', 'anochecer', 'urbano', 'eastport', 'thomson', 'dillard', 'putnam', 'hall', 'bastards', 'guatemala', 'skylar', 'diggins', 'riding', 'using', 'object', 'unalaska', 'closed', 'appreciation', 'folksy', 'panic', 'streets', 'infinite', 'pasqual', 'battlefield', 'burnside', 'noew', 'dundee', 'evocation', 'arcane', 'dominion', 'heroic', 'failures', 'candy', 'mango', 'pine', 'bluffs', 'prodigal', 'baba', 'palying', 'maunabo', '15th', 'olympia', '1959', 'delta', 'chicago', 'schenectady', 'fleischmanns', 'breathless', 'gasport', 'wolin', 'lion', 'airport', 'galsoft', 'linux', 'igor', 'talkow', 'grits', 'rocks', 'sheikh', 'chilli', 'lobster', 'newberg', 'scarecrow', 'masterful', 'owes', 'wizard', 'ashley', 'cafagna', 'tesoro', 'jip', 'rachael', 'grantsburg', 'spencer', 'fatty', 'haskell', 'bim', 'ear', 'paulinho', 'nearly', 'nashville', 'june', 'rileyville', 'angle', 'rosalie', 'evelyn', 'croatan', 'esquivando', 'charcos', 'documents', 'swift', 'doves', 'pythons', 'tourist', 'tin', 'domingo', 'karl', 'davydov', 'reyna', 'trottole', 'sell', 'setting', 'bears', 'granddaughter', 'ambler', 'andreas', 'becomes', 'tabor', 'ron', 'grainer', 'magica', 'apostolos', 'nikolaidis', 'nba', 'ahmad', 'rashad', 'didn', 'nobody', 'they', 'else', 'spy', 'fanatic', 'dutch', 'used', 'her', 'collective', 'pitcairn', 'kom', 'sparro', 'corner', 'manos', 'hatzidakis', 'therapy', 'canyon', 'gleed', 'teriazume', 'ethiopia', 'ellenton', 'apples', 'estrés', 'iparty', 'victorious', 'tourte', 'yamhill', 'adobe', 'digital', 'editions', 'pastelaria', 'takilma', 'alexander', 'heath', 'maiden', 'danced', 'zahn', 'leisure', 'knoll', 'southside', '1000', 'rathinirvedam', 'statistical', 'getting', 'leonard', 'deviled', 'crab', 'dimitri', 'fampas', 'douthat', 'bestiary', 'council', 'dads', 'blackpool', 'zec', 'mitchinamecus', 'surprise', 'seung', 'gi', 'invitation', 'verdure', 'bloom', 'glove', 'nico', 'thompson', 'canta', 'ducha', 'khedive', 'christina', 'parc', 'marin', 'gandhi', 'remote', 'antelope', 'spots', 'boat', 'human', 'lene', 'lovich', 'curtains', 'priorities', 'parade', 'sewickley', 'looks', 'shmini', 'atzeret', 'evans', 'motivation', 'sandoval', 'maxime', 'carencro', 'lolita', 'evolution', 'karobar', 'tatar', 'cambodia', 'sohl', 'offers', 'lots', 'hunting', 'reservea', 'tailwind', 'untold', 'cretu', 'crack', 'trout', 'tschetter', 'silvia', 'sandy', 'noroi', '27th', 'tasher', 'desh', 'jono', 'ben', 'chapman', 'celestial', 'hawk', 'johnstown', 'flood', 'shamrock', 'bonner', 'converging', 'conspiracies', 'kloden', 'drejer', 'past', 'closer', 'tortano', 'carly', 'holtville', 'collaborators', 'readstown', 'mitcham', 'licensed', 'grilled', 'meat', 'tunisia', 'rey', 'lasts', '911', 'nauru', 'haiti', 'otselic', 'sat', '345', 'wolves', 'dogs', 'fargo', '19th', 'snowball', 'arab', 'emirates', 'ninaview', 'chong', 'nee', 'spread', 'gospel', 'nitti', 'apparatus', 'sync', 'asking', 'alexandria', 'tu', 'maldito', 'orgullo', 'mcphee', 'craft', 'saucisse', 'calistoga', 'shopsins', 'denmark', 'patrick', 'titanic', 'goes', 'cho', 'kyu', 'funky', 'lance', 'select', 'conversations', 'persistence', 'vision', 'jovino', 'santos', 'neto', 'confidence', 'boost', 'robotix', 'invasion', 'festoni', 'weight', 'portions', 'stained', 'notebook', 'essays', 'circus', 'garage', 'sugarolly', 'demi', 'semi', 'devils', 'texola', 'double', 'deal', 'cavalero', 'salade', 'geoff', 'ryman', 'bibliography', 'intrepid', 'none', 'nickelsville', 'stand', 'proud', 'acta', 'mathematicae', 'applicatae', 'sinica', 'mask', 'project', 'shadowchaser', 'ernie', 'hawkins', 'troopers', 'wits', 'faithless', 'trek', 'demolition', 'sita', 'claude', 'vonstroke', 'warheart', 'histoire', 'ride', 'dina', 'alexis', 'grizzled', 'squirrel', 'magical', 'roger', 'whittaker', 'ticket', 'somme', 'exclusive', 'ladies', 'phoenix', 'videogames', 'sauce', 'maharashtrian', 'psycho', 'gobler', 'joplin', 'cin', 'computer', 'google', 'bachata', 'pencil', 'thin', 'mustache', 'sentenced', 'prism', 'gamble', 'księga', 'urodzaju', 'abigail', 'really', 'sixpence', 'bradbury', 'fantasía', 'aquariums', 'pyongyang', 'umbrian', 'hippocratic', 'oath', 'ruxpin', 'salvation', 'minto', 'different', 'waconia', 'cleveland', 'congo', 'som', 'tam', 'elizeth', 'cardoso', 'hearted', 'rombola', 'tsipouro', 'handful', 'dust', 'app', 'romulus', 'sabines', 'matthew', 'helders', 'supernatural', 'campus', 'ambush', 'hamburger', 'cracking', 'contraptions', 'enamorándose', 'paloma', 'negra', 'das', 'ende', 'precinct', 'wildwood', 'iraq', 'gluten', '141', 'phera', 'knows', 'decides', 'wildreservaat', 'ithala', 'chippewa', 'gathering', 'chab', 'palmetto', 'kropp', 'skull', 'investigating', 'donuts', 'genuine', 'armageddon', 'loyola', 'gus', 'stevens', 'buccaneer', 'kazakhstan', 'yourself', 'thenaruvi', 'empires', 'faerûn', 'wiktor', 'coj', 'labyrinthe', 'lewisville', 'chaparral', 'twelfth', 'impossible', 'atom', 'cissy', 'albums', 'belknap', 'remember', 'nets', 'doing', 'epworth', 'morton', 'feldman', 'quartet', 'cargray', 'tries', 'matilda', 'deana', 'baconton', 'care', 'stereophonics', 'bake', 'deron', 'fridays', 'patmos', 'giv', 'maimi', 'yajima', 'playground', 'onion', 'sportsdome', 'mcisaac', 'haley', 'scarnato', 'pecan', 'bet', 'frightened', 'simple', 'elberta', 'olga', 'hooker', 'successful', 'dealmaking', 'mande', 'rambler', 'verna', 'slated', 'ash', 'wednesday', 'form', 'spider', 'beauregard', 'ruled', 'britannia', 'carter', 'critic', 'millinocket', 'morten', 'harket', 'mer', 'rouge', '楽園追放', 'expelled', 'chowder', '17th', 'millennium', 'catholic', 'prayer', 'gf', 'leaf', 'drawa', 'crepes', 'sint', 'maarten', 'twink', 'guy', 'raytown', 'casserole', 'corrina', 'skin', 'iw', 'atch', 'balls', 'vampate', 'fuoco', 'follett', 'cum', 'noize', 'unsettled', 'tarts', 'piazzolla', 'berowra', 'picasso', 'haigler', 'ethel', 'crash', 'course', 'zorro', 'frontiers', 'ecology', 'environment', 'rencor', 'truffade', 'carmel', 'rutherfordton', '22nd', 'hornersville', 'mandya', 'chrisman', 'bioruby', 'molino', 'tuna', 'burning', 'tripp', 'eisen', 'mum', 'miguel', 'bosé', 'shit', 'manthan', 'morphin', 'rangers', 'décadas', 'redacted', 'masks', 'mackville', 'ludlow', 'yesterday', 'corcovado', 'elbridge', 'bryant', 'inyección', 'musical', 'dells', 'kitts', 'nevis', 'nastya', 'kamenskih', 'info', 'fist', 'daddy', 'booze', 'sells', 'cupcake', 'lumpkin', 'prompton', 'crugers', 'marlton', 'circle', 'warp', 'goan', 'winnie', 'pooh', 'televised', 'morality', 'bidoup', 'núi', 'bà', 'aviation', 'pump', 'phil', 'ochs', 'fortune', 'vezione', 'verro', 'pôchouse', 'rocksprings', 'berghoff', 'philosophic', 'thought', 'ayn', 'rand', 'kingfisher', 'caper', 'psychologist', 'sawtooth', 'mina', 'caputo', 'dinosaur', 'ask', 'cage', 'parry', 'birch', 'mo', 'satisfaction', 'carny', 'thibaults', 'claw', 'finiti', 'rete', 'parnell', 'raven', 'kaori', 'utatsuki', 'sale', 'vintage', '74', 'electronica', 'chapel', 'gota', 'duel', 'bear', 'amanda', 'stern', 'rap', 'vyechnyy', 'strannik', 'generator', 'belgian', 'innocent', 'remler', 'pizzas', 'deuce', 'wrong', 'reasons', 'league', 'heterocycles', 'sittor', 'photographic', 'karthaus', 'barthélemy', 'powers', 'colleagues', 'shockscape', 'jessica', 'mauboy', 'bobbie', 'colette', 'peak', 'lookout', 'felicity', 'britain', 'frisbee', 'hippie', 'preacher', 'helianthushof', 'hurffville', 'aboriginal', 'folio', 'contract', 'opinion', 'longest', 'projectors', 'superior', 'secour', 'annabella', 'lwin', 'alternativa', 'lampi', 'valor', 'lord', 'schools', 'forza', 'amore', 'citrus', 'industry', 'resistance', 'cottageville', 'abbruzzese', 'cali', 'refrain', 'limbo', 'hoggard', 'wes', 'scantlin', 'edinburgh', 'cyclone', 'dear', 'convoy', 'busters', 'chér', 'madeleine', 'dresden', 'carmichaels', 'stuart', 'donaldson', 'htoo', 'ein', 'ribs', 'gustar', 'profil', 'amina', 'ambition', 'bombshells', 'evangeline', 'extreme', 'ghostbusters', 'diarios', 'bicicleta', 'guyana', 'lithuania', 'female', 'hamlet', 'peru', 'caliente', 'payette', 'spartan', 'dressed', 'ryan', 'shutdown', 'priscilla', 'ballet', 'altai', 'tavan', 'bogd', 'market', 'shagrath', 'sabbath', 'ozzy', 'revelations', 'melly', 'chili', 'sontha', 'ooru', 'kanwar', 'grandkid', 'ghosts', 'abyss', 'ellington', 'newport', 'inheritance', 'loss', 'aura', 'hugh', 'masekela', 'ibiza', 'abo', 'madera', 'salina', 'commitments', 'homestead', 'meadows', 'norway', 'youngest', 'profession', 'bolivia', 'rod', 'argent', 'propuesta', 'foie', 'gras', 'divine', 'rest', 'grandmother', 'dans', 'innocents', 'matinee', 'idol', 'sold', 'bonita', 'kingdoms', 'ledoux', '4813', 'harmar', 'gene', 'repent', 'replenish', 'purples', 'wakarusa', 'elizabeth', 'gang', '138th', 'venice', 'hokendauqua', 'beamer', 'gravity', 'diplomat', 'fir', 'granite', 'steppe', 'buh', 'already', 'pt', 'hal', 'patino', 'ambiente', 'rnb', 'serve', 'wastedagain', 'greensburg', 'scriptures', 'eternity', 'crosswind', 'greenport', 'bystrzyca', 'koichi', 'sugiyama', 'joan', 'angels', 'laurelhurst', 'marching', 'beggar', 'brenham', 'sheila', 'brew', 'lil', 'armstrong', 'bette', 'dungeonmaster', 'swedish', 'butler', 'saw', 'barometer', 'actors', 'dies', 'mimi', 'biscuit', 'factory', '12th', 'scales', 'newburyport', 'manhasset', 'tarzan', 'apes', 'riverview', 'uintah', 'obama', 'promise', 'profiteers', 'phish', 'vegas', 'sanford', 'herald', 'switzer', 'pain', 'sólo', 'dos', 'pussyfoot', 'wed', 'myers', 'zephyrhills', 'toxicology', 'environmental', 'health', 'break', 'educational', 'execution', 'den', 'twilight', 'breaking', 'mojito', 'harder', 'tatamy', 'sompio', 'brother', 'adeline', 'mcdonald', 'plying', 'teeth', 'mokena', 'lindas', 'mundo', 'daimidaler', 'penguin', 'empire', 'dobie', 'gillis', 'submarine', 'verona', 'timbers', 'butter', 'sammy', 'hagar', 'jackals', 'dharma', 'manuelita', 'tortuga', 'nuestros', 'operace', 'hayden', 'row', 'suns', 'wxhexeditor', 'wells', 'sur', 'soultaker', 'scream', 'meek', 'peaches', 'trance', '157', 'riverside', 'avenue', 'lepond', 'bliss', '53rd', 'testifying', 'donna', 'yonder', 'orleans', 'matriarchal', 'prehistory', 'totowa', 'gateway', 'porcupine', 'mercy', 'hype', 'introducing', 'rahman', 'turbonegro', 'located', 'tracy', 'gas', 'misterioso', 'breakheart', 'cash', 'mastermind', 'mirage', 'christopher', 'lawrence', 'joshua', 'radin', 'louder', 'bombs', 'autry', 'inman', 'mogis', 'mtv', 'uncensored', 'revolution', 'its', 'writing', 'cochrane', 'ventura', 'rom', 'shi', 'xin', 'hui', 'leann', 'rimes', 'restaurnt', 'wants', 'yogurt', 'goldy', 'mcjohn', 'wilderville', 'argumentative', 'citadel', 'pendleton', 'actress', 'newest', 'cham', 'nightmute', 'lima', 'dermatology', 'conker', 'reloaded', 'flipper', 'falmouth', 'inconfundible', 'dishes', 'santana', 'performs', 'leaves', 'steampunk', 'job', 'inversion', 'benkelman', 'adele', 'chorus', 'diwali', 'lionheart', 'rebellion', 'bleed', 'hocus', 'bogus', 'kulpsville', 'floating', 'downtempo', 'atlantic', 'ethiopian', 'kitchener', 'soudan', 'pickens', 'lie', 'maximum', 'nautch', 'runaljod', 'gap', 'var', 'ginnunga', 'sushis', 'biscay', 'betrayer', 'forth', 'kepler', 'workflow', 'however', 'cavour', 'paint', 'masterpiece', 'tapper', 'zukie', 'geriatric', 'psychiatry', 'neurology', '34', 'squire', 'join', 'dots', 'sides', 'rarities', 'highland', 'beechman', 'utah', 'mob', 'darkworld', 'willows', 'sisterhood', 'grows', 'raphael', 'rabello', 'fantastic', 'melbourne', 'achilles', 'tortoise', 'conrey', 'rank', 'vertexguy', 'champ', 'boxing', 'graphics', 'animation', 'knew', 'shiva', 'option', 'cupcakes', 'hull', 'mom', 'asian', 'bradford', 'kristina', 'teresa', 'wolfenberger', 'socrates', 'tanya', 'stephens', '35', '1970', 'mandela', 'authorised', 'biography', 'totality', 'waretown', 'matching', 'multiversity', 'thale', 'pataskala', 'crepe', 'medeiros', 'wiseman', 'odd', 'masayoshi', 'fabulosos', 'cadillacs', 'salemburg', 'emerald', '9th', 'pinckney', 'tightrope', 'carácter', 'nao', 'kawakita', 'sandman', 'hears', 'lindsey', 'cardinale', 'incident', 'nightdress', 'swiss', 'natasha', 'bettye', 'kimberley', 'oldfield', 'tus', 'fiestas', 'diners', 'allentown', 'pennsylvania', 'purim', 'sp', 'balasubrahmanyam', 'rockabilly', 'mania', 'chasity', 'irreconcilable', 'differences', 'resturant', 'dates', 'rhoads', 'nishi', 'sonogi', 'hantō', 'cecil', 'womack', 'shooter', 'jennings', 'roel', 'velzen', 'monk', 'tolmatschowa', 'schwestern', 'steward', 'thap', 'lan', 'matrix', 'revolutions', 'matlacha', 'shelby', 'lynne', 'pauls', 'crossroads', 'fun', 'costs', 'accidents', 'patty', 'booked', 'sandstone', 'aruba', 'fillmore', 'jimmie', 'noone', 'maison', 'parthenais', 'perrault', 'blyde', 'eleanor', 'rigby', 'amour', 'shesher', 'kobita', 'revisited', 'omnipresent', 'mentioned', 'elephants', 'zos', 'kia', 'cultus', 'jetta', 'clarke', 'reflection', 'marcella', 'erma', 'leanne', 'rivera', 'sad', 'anniston', 'manatee', 'sardinian', 'pidcoke', 'sean', 'yseult', 'kaitlin', 'sealy', 'trattoria', 'stephen', 'mcnally', 'yellowstone', 'fighting', 'zombieland', 'noctámbulo', 'robotics', 'manthra', 'mothiram', 'boomtown', 'mccready', 'swagger', 'episodi', 'bonaventure', 'thrones', 'jarreau', 'baden', 'assassination', 'jesse', 'coward', '2007', 'jeffrey', 'autobiography', 'takei', 'hagaman', 'looked', 'macy', 'terrorists', 'metalsucks', 'roberto', 'parra', 'elegante', 'mew', 'creator', 'beltsville', 'elgin', 'schoolhouse', 'elsewhere', 'begums', 'thugs', 'mughals', 'leap', 'taberville', 'stairs', 'network', 'archive', 'papa', 'bue', 'cebu', 'bitter', 'mouse', 'bossa', 'samba', 'jukebox', 'boogie', 'singer', 'damon', 'cubby', 'luxor', 'tianjin', 'orford', 'halal', 'cult', 'intelligence', 'cause', 'fuca', 'fairwood', 'francis', 'healy', 'rockin', 'waffle', 'karin', 'dreijer', 'andersson', 'feels', 'wonder', 'freight', 'borys', 'ljatoschynskyj', 'bonga', 'preminchi', 'choodu', 'liberation', 'veneto', 'antietam', 'dressmaker', 'commons', 'pekin', 'bf', 'indiahoma', 'clutching', 'xquery', 'api', 'java', 'smiles', 'eviatar', 'banai', 'tgif', 'stobo', 'brook', 'ihsahn', 'closet', 'sabah', 'accounting', 'conan', 'dimensional', 'sniper', 'send', 'hewitt', 'holtwood', 'whaere', 'bloody', 'koi', 'senkyo', 'personal', 'naughty', 'paella', 'tanana', 'conduct', 'unbecoming', '2012', 'zwanzig', 'zwölf', 'primal', 'microphone', 'forward', 'harlow', 'wilcox', 'bangers', 'genesis', 'rhodes', 'volubilis', 'discografia', 'pretty', 'reckless', 'casualties', 'kiribati', 'iheartradio', 'countdown', 'repose', 'resort', 'haines', 'parthenon', 'banc', 'arguin', 'telogia', 'nameless', 'hollow', 'storeys', 'shannon', 'hardcover', 'intangibles', 'leadership', 'ifind', 'recorder', 'randsell', 'twentynine', 'palms', 'gideon', 'mack', 'ichibyōgoto', 'califon', 'hornblower', 'indies', 'airbnb', 'egg', 'collecting', 'northeast', 'kenova', 'nannie', 'ritchey', 'moped', 'plated', 'handlebars', 'yard', 'hallucinations', 'despair', 'songz', 'spatial', 'query', 'server', 'wholehearted', 'fortress', 'nicer', 'darker', 'continue', 'asia', 'ripley', 'affair', 'millvale', 'chettathi', 'vanquished', 'hackney', 'madlib', 'invazion', 'prog', 'yeoh', 'luther', 'team', 'works', 'godmusic', 'anti', 'scars', 'djibouti', 'benson', 'meditation', 'karnataka', 'ribbons', 'neo', 'albertson', 'stillest', 'paté', 'tisdale', 'sawai', 'gandharva', 'advise', '31', 'virginian', 'lenzburg', 'lorain', 'text', 'finnish', 'grammar', 'hooksett', 'hive', 'propolis', 'sail', 'steam', 'warfare', 'aroostook', 'bonneville', 'bond', 'junior', '003½', 'petree', 'rosanna', 'ejercicio', 'hess', 'toward', 'ann', 'lists', 'sir', 'winston', 'ono', 'lennon', 'travelling', 'breakers', 'freddie', 'freeloader', 'madness', 'saddle', 'croquembouche', 'amrithavaahini', 'dress', 'horace', 'messengers', '170', '190', 'lipstick', 'vogue', 'lago', 'vista', 'akers', 'phnom', 'sankos', 'timbo', 'warlock', 'placers', 'boots', 'stonewood', 'hatfield', 'jewish', 'community', 'luquillo', 'arp', 'lottery', 'halibut', 'rail', 'caverns', 'dodgers', 'pan', 'reva', 'bernadine', 'caretaker', 'kevin', 'cadogan', 'ape', 'bt', 'patricia', 'fit', 'joad', 'beneath', 'harvest', 'ammonia', 'volga', 'manufacturing', 'consent', 'runs', 'drawn', 'stadium', '1914', '1918', 'gift', 'fujimoto', 'yae', 'whatever', 'turns', 'improvisatore', 'spoils', 'easel', 'pack', 'intense', 'studying', 'maritime', 'status', 'quo', '28th', 'seagraves', 'midfield', 'scarab', 'murder', 'cinderella', 'demolished', 'border', 'laying', 'lohan', 'yang', 'seok', 'laid', 'ashland', 'springside', 'jalal', 'zolfonun', 'tashan', 'dorrsett', 'horseshoe', 'cropper', 'eurythmics', 'pinson', 'sankertown', 'jeeves', 'wooster', 'nonsense', 'starlight', 'leonor', 'mendoza', 'imogene', 'sanchez', 'toll', 'lenin', 'rhett', 'oaklawn', 'pilar', 'skip', 'johansen', 'lamb', 'giaour', 'mastery', 'asiate', 'sturgeon', 'phineas', 'redux', 'dalles', 'kathleen', 'brianna', 'halsey', 'disorderly', 'patrol', 'vietnam', 'fern', 'mailman', 'lomax', 'são', 'tomé', 'príncipe', 'gipsy', 'gordon', 'wildland', 'appalachian', 'rajinikanth', 'definitive', 'indicate', 'garfunkel', 'forgetting', 'sai', 'thong', '59', 'ingenuity', 'doughnut', 'gladness', 'sacrifice', 'okay', 'luzon', 'entry', 'beau', 'sapin', 'lela', 'tar', 'midwest', 'childhood', 'cj', 'snare', 'joanna', 'denationalization', 'money', 'luckiest', 'skycity', 'salado', 'manassa', 'falcon', 'ohio', 'mediodía', 'acústico', 'positively', 'natchaug', 'compleat', 'housewife', 'extremely', 'switzerland', 'englishman', 'primate', 'rambow', 'fools', 'aprite', 'finestre', 'sonic', 'triple', 'lille', 'switching', 'channels', 'toi', 'sirusho', 'notasulga', 'omoide', 'okkusenman', 'khlong', 'phraya', 'huxley', 'tami', 'bowman', 'czechia', 'reach', 'bonaparte', 'chief', 'cook', 'clooney', 'morris', 'restasurant', 'pohick', 'shed', 'tingley', 'agnew', 'guenther', 'waddy', 'ramos', 'janice', 'gonzales', 'crucial', 'rockholds', 'norfolk', 'bless', 'torn', 'emptiness', 'clubbing', 'beside', 'lawns', 'childersburg', 'raleigh', 'boners', 'submerged', 'fake', 'vacation', 'petrov', 'vasechkin', 'kaaawa', 'cumberland', 'chickens', 'ren', 'gamaliel', 'lodi', 'jarvis', 'cocker', 'seward', 'shabbona', 'marianne', 'faithfull', 'letty', 'cardin', 'southtown', 'accused', 'addicted', 'stationery', 'thicket', 'otho', 'tube', 'gradyville', 'glenarden', 'wyomissing', 'limey', 'dedicated', '26th', 'trentwood', 'iemand', 'jij', 'exell', 'borrow', 'fencing', 'itsu', 'ida', 'etta', 'limited', 'annunciation', 'elf', 'dictionary', 'language', 'maxine', 'nightingale', 'ajoy', 'chakrabarty', 'blocher', 'tobias', 'sammet', 'stray', 'jumbo', 'frescura', 'selmont', 'baseball', 'argentinian', 'iberville', 'wagram', 'eucalyptus', 'fool', 'selling', 'sims', 'interesting', 'success', 'ristigouche', 'ecological', 'jingle', 'jillian', 'shubuta', 'rakuen', 'tsuihou', 'edgemoor', 'hermaphrodite', 'transcending', 'orbison', 'georgina', 'sight', 'barnum', 'twin', 'peaks', 'corpus', 'metamora', 'author', 'tbe', 'federico', 'albert', 'doggy', 'yankee', 'doodle', 'shop', 'rear', 'morrow', 'putrefactive', 'infestation', 'americans', 'dochū', 'kōtsu', 'emmy', 'rossum', 'valenciano', 'transformers', 'generations', 'morocco', 'guanica', 'elkie', 'brooks', 'museum', 'sports', 'missing', 'clerk', 'mozambique', 'bettles', 'cartel', 'maisonette', 'ziwa', 'rhino', 'manassas', 'plain', 'nepal', 'kalkaska', 'jon', 'mclaughlin', 'enduser', 'horn', 'pelahatchie', 'nusic', 'tron', 'reconfigured', 'crush', 'blush', 'manorama', 'feet', 'discipline', 'stronda', 'stain', 'bearsville', 'kamil', 'rustam', 'xenomania', 'dominican', 'manhunt', 'lbc', 'argentino', 'jacksonville', 'progress', 'leeuwen', 'louella', 'henlopen', 'acres', 'ledger', 'sergeants', 'nicole', 'mitchell', 'revived', 'railroad', 'depot', 'singapore', 'rodriguez', 'lila', 'reyes', 'ruby', 'whitewood', 'lavina', 'ottoville', 'mothstorm', 'firepower', 'whiskey', 'elvira', 'jasmine', 'leta', 'pay', 'dvd', 'arcadian', 'details', 'cinnaminson', 'messed', 'moto', 'voyages', 'accident', 'analysis', 'prevention', '72nd', 'glenda', 'lois', 'nikki', 'keene', 'ballroom', 'trapeo', 'skystone', 'honey', 'hush', '60s', 'wight', 'rayvon', 'engelchen', 'hominids', 'neil', 'even', 'serpents', 'syrup', 'watsons', 'insurrection', 'fell', 'wentworth', 'companion', 'appeal', 'whigs', 'nib', 'fay', 'expendables', 'ahead', 'blowfly', 'schubert', 'courtney', 'criminal', 'criminology', 'inform', 'abdication', 'wide', 'eyed', 'ignorant', 'front', 'page', 'cistern', 'safe', 'heads', 'ringin', 'mezzes', 'cobain', 'vikki', 'thorn', 'legendary', 'solos', 'fins', '23rd', 'edna', 'alyson', 'hitchcock', 'dayne', 'lagaylia', 'frazier', 'since', 'daedelus', 'lazy', 'beverley', 'less', 'candles', 'southwest', 'riders', 'shaolin', 'temple', 'palmer', 'mancos', 'hinckley', 'piety', '88th', 'boyd', 'bothwell', 'lodge', 'principle', 'hope', 'cantautor', 'sardis', 'cabin', 'disney', 'nauseam', 'ultima', 'false', 'prophet', 'extraordinary', 'pointe', 'atrocity', 'exhibition', 'wintersong', 'lego', 'clone', 'quantity', 'insanity', 'regis', '163', 'suthep', 'pui', 'mothers', 'thorns', 'pontypool', 'changes', 'bagels', 'milton', 'freewater', 'toms', 'rmx', 'ayu', 'judy', 'sophisticated', 'rapid', 'muscle', 'car', 'daring', 'dobermans', 'phrazes', 'kenedy', 'nazad', 'kalino', 'mome', 'plkaying', 'lovesong', 'bellechester', 'korra', 'coordinates', 'bass', 'eather', 'twins', 'luray', 'spirits', 'shōnen', 'toppa', 'bashin', 'brookneal', 'waffles', 'divorced', 'mars', '2112', 'rwanda', 'date', 'vegetarian', 'leong', 'desylva', 'balvin', 'edward', 'ryerson', 'chamillionaire', 'lina', 'screaming', 'staircase', 'beware', 'blob', 'toy', 'marcial', 'appleby', 'infernal', 'devices', 'manuela', 'yvonne', 'police', 'supercop', '2120', 'foghat', 'parkers', 'salads', 'ths', 'steady', 'cover', 'moonlight', 'emida', 'measuring', 'posiabble', 'brush', 'brand', 'tobymac', 'amenia', 'memory', 'labor', 'notes', 'mode', 'divided', 'digging', 'lankan', 'tues', 'meers', 'weed', 'colleague', 'owings', 'vallecito', 'fairview', 'consequences', 'sos', 'minestra', 'flying', 'mauritius', '135th', 'maylay', 'garry', 'shider', 'stefanie', 'putting', 'trigorin', 'eulogy', 'ledbury', 'colt', 'winchester', 'jewel', 'ringgold', 'bronislau', 'kaper', 'danni', 'bassan', 'wakelin', 'lis', 'constructs', 'juliana', 'grigorjewna', 'semenowitsch', 'hows', 'kendall', 'utamaro', 'freshwater', 'beardslee', 'lesley', 'patriot', 'pembina', 'gorge', 'cairngorms', 'keine', 'grenzen', 'alain', 'caron', 'snapfinger', 'romantic', 'fascility', 'liberia', 'pheba', 'banquet', 'damned', 'hellacopters', 'lowden', 'tango', 'walnut', 'creamed', 'eggs', 'toast', 'territory', 'bed', 'denial', 'unnikrishnante', 'adyathe', 'gulfport', 'glarus', 'thorogood', 'structured', 'fax', 'file', 'kettleman', 'barclays', 'ctr', 'beatles', 'gearhart', 'tortelloni', 'handicap', 'sparrow', 'gurabo', 'velma', 'gloria', 'gazer', 'suus', 'tuolumne', 'dickey', 'betts', 'eudaemonic', 'mcguinness', 'kibum', 'blink', 'thick', 'dorothy', 'oz', 'iranian', 'systems', 'scribblings', 'duck', 'circleville', 'shingleton', 'kiahsville', 'berkley', 'gone', 'encino', 'meatcake', 'glenn', 'gould', 'beyblade', 'fierce', 'lakeview', 'greenback', 'gasconade', 'cherwell', 'boathouse', 'breckenridge', 'lamp', 'crocker', 'fires', 'azeroth', 'heartbeat', 'amir', 'marche', 'rogue', 'coin', 'malcolm', 'emile', 'unlimited', 'shrunk', 'aliens', 'leo', 'brookwood', 'critical', 'everybody', 'bio', 'onward', 'quantum', 'discontinuity', 'input', 'mint', 'punjabi', 'vilma', 'neon', 'maltby', 'forks', 'gregg', 'bissonette', 'cova', 'frisco', 'therese', 'bâton', 'trancers', 'liked', 'ports', 'snows', 'kilimanjaro', 'belongs', 'inning', 'cole', 'spooky', 'sierraville', 'leah', 'kauffman', 'pioneer', 'vicky', 'leandros', 'vera', 'session', 'athol', 'spine', 'surfs', 'hash', 'basaseachic', 'seychelles', 'seattle', 'slovenia', 'ufo', 'senshi', 'dai', 'apolon', 'knockabout', 'tofy', 'mansfield', 'rogers', 'eim', 'suitable', 'kate', 'leopold', 'stalinism', 'bohemia', 'fettucine', 'solutions', 'intimidators', 'selmer', 'accesss', 'tullytown', 'pledge', 'allegiance', 'grind', 'sinfonía', 'digimon', 'dune', 'bunker', 'spätzle', 'monaco', 'keltech', 'myin', 'thit', 'farnworth', 'collectors', 'tarte', 'ye', 'agincourt', 'roseburg', 'trina', 'latoya', 'mustard', 'agate', 'zenith', 'wynter', 'tessa', 'gilluly', 'olivor', 'waterscapes', 'horton', 'kwuggerbug', 'highest', 'arkport', 'wins', 'annihilated', 'lied', 'raney', 'kudai', 'hood', 'katherine', 'nimble', 'bombastic', 'listings', 'slap', 'addition', 'enjoy', 'barre', 'unreachable', 'lou', 'raining', 'ion', 'gobles', 'burn', 'inez', 'hollows', 'rosie', 'tatin', 'getzville', 'jacksboro', 'warhead', 'boca', 'raton', 'grecian', 'violet', 'dachigam', 'profile', 'bslade', 'graniteville', 'snares', 'lacy', 'ah', 'trenton', 'molecular', 'gastronomy', '7even', 'pleasant', 'satan', 'praise', 'brochure', 'soil', 'fairness', 'wartime', 'ferrer', 'millay', 'keller', 'exile', 'yo', 'playlis', 'whispering', 'observations', 'toaster', 'rescue', 'decoded', 'craters', 'sac', 'florewood', 'conehatta', 'tanisha', 'lorena', 'minutos', 'descendants', 'somesville', 'bhutto', 'mausoleum', 'wrightstown', 'karol', 'pope', 'script', 'ragged', 'curtain', 'vortex', 'meadowood', 'henniker', 'dodge', 'fred', 'katz', 'dahmer', 'ocilla', 'gretchen', 'trisha', 'amber', 'dish', 'diego', 'sheriff', 'tombstone', 'tia', 'estela', 'anguilla', 'tailspin', 'tommy', 'perfume', 'murderer', 'swarna', 'trishna', 'playinh', 'redington', 'slaughter', 'lanes', 'construction', 'committee', 'tommie', 'irvine', 'cathedral', 'oreo', 'coersion', 'guard', 'teaching', 'conflicts', 'coteau', 'decoration', 'houses', 'ringlestone', 'lyons', 'ferry', 'arnett', 'jil', 'cove', 'rites', 'jerry', 'learning', 'willy', 'wonka', 'roeland', 'citizen', 'rafet', 'aspinwall', 'sixty', 'cusinie', 'dalcour', 'shiralee', 'glam', 'gertrude', 'beroun', 'wooly', 'doc', 'bronze', 'convicted', 'careful', 'renee', 'lenexa', 'grab', 'crossfit', 'latham', 'diaries', 'sonntagskind', 'tukaram', 'harbour', 'debtors', 'murone', 'kōgen', 'sistersville', 'enter', 'districts', 'samuel', 'tyne', 'serenata', 'massive', 'soca', 'dry', 'prong', 'tire', 'pinguicula', 'newsletter', '1974', 'workplace', 'kackley', 'laverne', 'offerman', 'racketeers', 'rule', 'revolución', 'hangtown', 'jagual', 'apache', 'lyncourt', 'trentino', '129', 'screening', 'mercenary', 'blogbridge', 'glacier', 'berryessa', 'leven', 'thumps', 'foo', 'cliffwood', 'alot', 'geek', 'chic', 'wadsworth', 'hemanta', 'kumar', 'mukhopadhyay', 'heard', 'wideacre', 'coalton', 'salmon', 'kettle', 'woodruff', 'guests', 'waverly', 'definitely', 'spotted', 'nhl', 'emperors', 'thyatis', 'alphatia', 'mine', 'payne', 'brandy', 'tyresta', 'dynasties', 'moby', 'grape', 'tapes', 'spyro', 'maisry', 'baroque', 'wheel', 'caught', 'mopreme', 'shakur', 'warpaint', 'genocide', 'quotations', 'chairman', 'mao', 'tse', 'tung', 'humphrey', 'groundhog', 'beaman', 'pulsions', 'virtue', 'psychopathic', 'sentimental', 'bloke', '165', 'nairobi', 'paragraphe', 'nordland', 'kirsten', 'retrowave', 'outrun', 'champion', 'fries', 'nisswa', 'later', 'cohen', 'lateness', 'challenges', 'neshanic', 'station', 'kremmling', 'vice', 'distrowatch', 'hofer', 'chipmunk', 'conquest', 'hey', 'waking', 'savannah', 'lauderdale', 'amal', 'hijazi', 'elsa', 'westhampton', 'ankimo', 'generación', 'rbd', 'vivo', 'pho', 'christy', 'louise', 'likely', 'pilot', 'downward', 'seal', 'glaring', 'oblivion', 'pauline', 'aioli', 'malaysian', 'reaches', 'scription', 'data', 'prescription', 'frozen', 'mondovi', 'rogues', 'easy', 'turtle', 'noel', 'linnane', 'buffy', 'singstar', 'bengali', 'gnocchi', 'owenyo', 'burgh', 'melancholia', 'arcims', 'der', 'und', 'kalypso', 'aus', 'wien', 'vonda', 'opium', 'momy', 'flossmoor', 'raisins', 'secs', 'et', 'amandes', 'cherie', 'josephine', 'heston', 'blumenthal', 'montgomery', 'infantil', 'crossgenesis', 'photoscape', 'jebel', 'takahito', 'eguchi', 'ojuelegba', 'ritmos', 'trivial', 'ramy', 'ayach', 'sutphin', 'blvd', 'origin', 'milky', 'resevation', 'restaraunt', 'ralls', 'whittier', 'indigenous', 'capital', 'supply', 'killers', 'blackman', 'frederick', 'pepperoni', 'hagerman', 'radhae', 'unakku', 'kobam', 'aagathadi', 'cineexport', 'potter', 'philosopher', 'geneva', 'blacksville', 'sheri', 'bonnaroo', 'cazenovia', 'hook', 'orchestrion', '97', 'reckoning', 'giodi', 'piper', 'abel', 'sánchez', 'clint', 'mansell', 'hate', 'myself', 'peacefulness', 'mowrystown', 'rev', 'raptor', 'ettrick', 'tehama', 'marty', 'slovakia', 'madchild', 'canción', 'día', 'simply', 'diabolico', 'barbiere', 'fleet', 'cities', 'martine', 'mccutcheon', 'jazzmasters', 'cuisines', 'irritating', 'device', 'cochran', 'rollerdisco', 'playstation官方杂志', 'fingers', 'thacker', 'zion', 'golan', 'chemdex', 'com', 'narew', 'bouchée', 'broadcast', '1938', 'unseen', 'ilse', 'delange', 'comprehensive', 'orson', 'ganges', 'frankfort', 'robertson', 'hungary', 'chestnut', 'mare', 'uses', 'suryavanshi', 'impressions', 'spaulding', 'expect', 'nellieburg', 'maki', 'ohguro', 'completely', 'monro', 'theology', 'rite', 'parts', 'honourable', 'thesis', 'glace', 'atmosphere', 'whaling', 'po', 'tofu', 'moldova', 'mel', 'draisey', 'tomy', 'mindy', 'liégeois', 'assumption', 'bilal', 'fragile', 'mumbai', 'attacks', 'actrices', 'yma', 'sumac', 'cricket', 'jermaine', 'fagan', 'kewanee', 'donut', 'lunchbox', 'sorrow', 'exorcising', 'standard', 'afghan', 'korona', 'ham', 'independence', 'olivet', 'ones', 'maze', 'eighty', 'nudity', 'punished', 'yacoubian', 'choper', 'gilson', 'crow', 'braindead', 'megaphone', 'pioneers', 'danville', 'timberville', 'jimmy', 'panther', 'basement', 'sahuarita', 'denali', 'arranged', 'marriage', 'walla', 'bamboccioni', 'brookland', 'terrace', 'elites', 'laarni', 'lozada', 'bowie', 'beeb', 'nanette', 'concise', 'treatise', 'angling', 'dickson', 'mccunn', 'trilogy', 'goddess', 'enkitta', 'mothathe', 'foreclosure', 'poverty', 'nobility', 'puthri', 'lucky', 'othappu', 'zebra', 'lampoon', 'anniversary', 'anthology', '1980', 'varenyky', 'courtship', 'leia', 'nichiren', 'mōko', 'daishūrai', 'mariem', 'hassan', 'leyoad', 'cypress', 'needle', 'omega', 'believe', 'jackal', 'wannadies', 'qriii', 'histoires', 'sans', 'paroles', 'nimule', 'brandon', 'boma', 'charlene', 'badonviller', 'andorra', 'manitou', 'winwood', 'marilyn', 'manson', 'hammer', 'patagonia', 'sandworms', 'had', 'hair', 'content', 'wear', 'brows', 'smolan', 'durant', 'neurotoxicology', 'greyest', 'morse', 'brady', 'karusellen', 'rosebud', 'kickboxer', 'opera', 'tarpon', 'cottondale', 'sins', 'fathers', 'pattie', 'iroquois', 'freed', 'spasmolytic', 'tower', 'ljubam', 'ireland', 'lono', 'dumplings', 'rump', 'turning', 'cassidy', 'gurram', 'battles', 'sweets', 'edison', 'janell', 'funked', 'sequoyah', 'empty', 'throne', 'aion', '2011', 'moribund', 'burgermeister', 'shades', 'baldur', 'bhaal', 'conducting', 'grave', 'broonzy', 'impulso', 'creativo', 'chin', 'fogata', '006', 'sydney', 'isles', 'valverde', 'tracyton', 'cotopaxi', 'preston', 'remedial', 'pastwatch', 'columbus', 'eiffel', 'mythologies', 'forty', 'chance', 'pe', 'learn', 'draw', 'della', 'fickle', 'hematite', 'misato', 'watanabe', 'spotat', 'pavo', 'dustin', 'graduate', 'faculty', 'nevado', 'cruces', 'toklas', 'dutchess', 'update', 'colored', 'anymore', 'harassed', 'cahn', 'margaret', 'josie', 'carissa', 'lindsay', 'anacreon', 'armand', 'helden', 'michigantown', 'shuffle', 'syndrome', 'brazuca', 'rum', 'loneliness', 'runner', 'whisper', 'birta', 'axis2', 'irene', 'rosella', 'hoffman', 'towne', 'ammunition', 'jang', 'nara', 'hex', 'hector', 'labonte', 'available', 'peninsula', 'recuerdo', 'peddling', 'prosperity', 'doyle', 'julia', 'fordham', 'ismol', 'each', 'bowlegs', 'sukkot', 'ines', 'doomsday', 'wesley', 'josh', 'kear', 'myra', 'tender', 'longwave', 'hoonah', 'caxtons', 'editor', 'publisher', 'sails', 'stepmother', 'brockway', 'sleepytime', 'blaydon', 'races', 'envoy', 'lucifer', 'trade', 'windber', '365', 'thunderbolt', 'formed', 'steptoe', 'infrared', 'rusty', 'firebrand', 'thug', 'lordz', 'won', 'powder', 'puff', 'tsingy', 'bemaraha', 'delisle', 'tawakoni', 'ulen', 'tight', 'sappho', 'nooks', 'verden', 'coyote', 'pad', 'engaged', 'unidentified', 'dooneen', 'spaceball', 'begonias', 'entrenar', 'brotherhood', 'escapes', 'aree', 'poneto', 'nude', 'moving', 'chicamocha', 'roseau', 'tenbrooks', 'bien', 'acompañado', 'tall', 'milk', 'incredible', 'hulk', 'grande', 'scenic', 'feud', 'strange', 'diamonds', 'finding', 'vipers', 'breton', 'rome', 'tsūzetsu', 'caleigh', 'abode', 'deweese', 'kasey', 'chambers', 'til', 'minotaur', 'naguabo', 'mandrake', 'cahoots', 'bonobo', 'mister', 'youth', 'storia', 'natale', 'deserve', 'crafty', 'male', 'pornography', 'discrimination', 'ghostly', 'swim', 'etna', 'kanon', 'wakeshima', 'vanlue', 'hind', 'etin', 'tribute', 'sparks', 'coffin', 'trotamundos', 'raffaele', 'riefoli', 'morrisonville', 'cobbler', 'doom', 'bhoomi', 'geetha', 'censored', 'socca', 'palco', 'umatilla', 'program', 'strays', 'boundary', 'fullerville', 'strandburg', 'farewell', 'cougar', 'priority', 'kelloe', 'raquel', 'hainesville', 'entity', 'integer', 'sequences', 'meeting', 'miracle', 'stansbury', 'farmington', 'armen', 'movsessian', 'skepta', 'pablo', 'howards', 'villotta', 'fondue', 'nothin', 'dallesport', 'mamie', 'maria', 'fisk', '69th', 'welch', 'choptank', 'meltdown', 'destruction', 'farragut', 'brasil', 'dearest', 'masonville', 'meatball', 'erica', 'wow', 'bandits', 'address', 'accidentally', 'murph', 'luke', 'thief', 'superman', 'kentmore', 'coltrane', 'lansford', 'antonito', 'playlst', 'scotsman', 'field', 'mcclinton', 'mating', 'encyclopaedia', 'sciences', 'kanopolis', 'pete', 'bomb', 'sympathy', 'legion', 'garcia', 'unfinished', 'dyskografia', 'seeds', 'orwell', 'mg', 'visionary', 'beech', 'lyrical', 'nanoha', 'strikers', 'fabrice', 'morvan', 'yesudas', 'dales', 'ove', 'scoundrels', 'kjetil', 'vidar', 'haraldstad', 'wontons', 'keachi', 'bellwood', 'orlovista', 'franj', 'peveril', 'tied', 'cary', 'ya', 'riceboro', 'demon', 'burr', 'mccoy', 'carbuncle', 'glazier', 'harveys', 'utopia', 'aire', 'wasser', 'compilation', 'sinful', 'holi', 'fondo', 'buio', 'atlantis', 'terre', 'engloutie', 'kurdishmedia', 'monroe', 'neylandville', 'infernus', 'marsha', 'medici', 'follow', 'camel', 'upcoming', 'bourne', 'eggo', 'bob', 'klose', 'caveman', 'balance', 'timing', 'gabrial', 'mcnair', 'dormir', 'ain', 'fascism', 'oakes', 'libby', 'public', 'toilet', 'tinker', 'phinizy', 'brackets', 'kindness', 'bachelors', 'lu', 'bing', 'tory', 'emperor', 'wears', 'clothes', 'naive', 'boring', 'pagan', 'saxis', 'jill', 'vidal', 'topton', 'twas', 'scarabaeus', 'weathervane', 'fare', 'thee', 'celebrating', 'grateful', 'pearson', 'soda', 'bailey', 'screams', 'domestic', 'kommeni', 'anasa', 'salvage', 'mice', 'von', 'cosels', 'obsession', 'crouch', 'ana', 'couch', 'como', 'tatuaje', 'sonata', 'dwarf', 'cosmos', 'impractical', 'jokers', 'uk', 'shooting', 'sebesky', 'prestige', 'glittering', 'judgment', 'charleston', 'montevallo', 'joey', 'fatone', 'bethnal', 'carl', 'mourner', 'discord', 'wrestlemania', 'nora', 'gibbs', 'lavalette', 'hickory', 'ibm', 'temporary', 'fix', 'sot', 'stays', 'garrochales', 'development', 'perspectives', 'yearbook', 'capricorn', 'raz', 'trees', 'rena', 'scene', 'wedlock', 'number', 'andrea', 'donnelly', 'becoming', 'royston', 'nankin', 'fr', 'blodgett', 'cooke', 'guyra', 'ethridge', 'farmerville', 'toynbee', 'convector', 'noi', 'lari', 'hamatora', 'cale', 'nichols', 'tactics', 'stephanie', 'twist', 'ballylickey', 'probes', 'moravian', 'erik', 'congeniality', 'ranger', 'kamen', 'rider', 'ooo', 'shogun', 'core', 'medals', 'streaming', 'voce', 'sonntag', 'creed', 'abrar', 'ul', 'haq', 'vichyssoise', 'loyalty', 'campanian', 'vigilantes', 'tanimura', 'gwen', 'roxbox', 'lawyer', 'bit', 'mambo', 'leningrad', 'cowboys', 'published', 'islanders', 'galena', 'barry', 'laugh', 'lieutenant', 'inishmore', 'yakima', 'moo', 'dawning', 'hord', 'hardcore', 'certainty', 'stomp', 'holler', 'chase', 'dome', 'cambodian', 'durbin', 'homicide', 'bordertown', 'dub', 'tillicum', 'mauritania', 'claus', 'while', 'stump', 'maritza', 'scientist', 'boiling', 'happened', 'cuney', 'brazen', 'hecker', 'coti', 'showtime', 'yeah', 'luiza', 'possi', 'bowers', 'deathly', 'hallows', 'itv', 'bienville', 'doctrine', 'quest', 'iranon', 'stamps', 'otis', 'janie', 'dewey', 'darling', 'important', 'krieg', 'chinatown', 'furniture', 'potje', 'vet', 'havana', 'marit', 'bergman', 'wuill', '2010s', 'twentysomething', 'monifah', 'needmore', 'checkmate', 'shamus', 'brokaw', 'highwayman', 'proudly', 'marches', 'mulvane', 'klamath', 'marsh', 'copper', 'pictures', 'selva', 'jedediah', 'vegucated', 'jtr', 'sneaky', 'witches', 'aira', 'yuhki', 'matrimony', 'krista', 'restautant', 'birdland', 'rainwater', 'lp', 'whiskers', 'favourite', 'nursery', 'rhymes', 'standing', 'bouvet', 'laguna', 'bayside', 'jeanette', 'competitors', 'heresy', 'choir', 'flake', 'masada', 'unknown', 'lahore', 'honeysuckle', 'roaring', 'nighthawk', 'eastville', 'snake', '29', 'boston', 'ithkar', 'troops', 'erin', 'selma', 'mcsherrystown', 'racionais', 'stick', 'fonseca', 'mongolian', 'eater', 'wasps', 'raise', 'brigitte', 'katelyn', 'ruthless', 'servidor', 'scofield', 'laughs', 'orion', 'took', 'marbles', 'mcintosh', 'vaughn', 'percy', 'jackson', 'capture', 'wildorado', 'swordsman', 'licia', 'dresbach', 'abdel', 'halim', 'hafez', 'rachelle', 'rockaway', '116th', 'hendthighelbedi', 'alchemyst', 'nicholas', 'flamel', 'odetta', 'pansette', 'skaneateles', 'freiberg', 'design', 'method', 'padangnese', 'journals', 'babylon', 'dante', 'consciousness', 'judge', 'jules', '180', 'medford', 'essie', 'tonya', 'abstinence', 'meriton', 'tallinn', 'slovak', 'moulin', 'libros', 'arkinda', 'hover', 'racer', 'rob', 'campanella', 'cone', 'woburn', 'yoshimi', 'robots', 'blaise', 'use', 'lecanto', 'bells', 'meditations', 'patiala', 'terraphiles', 'taken', 'roseland', 'kerry', 'watchman', 'vadivel', 'mayya', 'donkey', 'starr', 'surfer', 'linguistic', 'katina', 'dew', 'eunice', 'elisa', 'verdery', 'gve', 'stinky', 'fairly', 'wittig', 'norma', 'salil', 'chowdhury', 'playlsit', 'poncha', 'transmission', 'zei', 'josiah', 'leming', 'dilvish', 'prime', 'typeface', 'snobs', 'nicholasville', 'jimenez', 'liar', 'stage', 'poland', 'semitism', 'resurgence', 'bethesda', 'strike', 'ware', 'shoals', 'anstruther', 'panisses', 'naytahwaush', 'went', 'varney', 'montreux', 'scarface', 'avispa', 'rules', 'curry', 'chompa', 'toung', 'madawaska', 'duchess', 'langeais', 'cargnello', 'compound', 'fracture', 'acchiappafantasmi', 'boo', 'comoros', 'mccoll', '33', 'wake', 'delft', 'vanished', 'housemaid', '103rd', 'margie', 'commit', 'keisha', 'clara', 'alvarez', 'oclock', 'beyonders', 'foreign', 'cannelloni', 'neverbeast', 'fernandina', 'jkt48', 'counter', 'penuelas', 'adriana', 'hallowell', 'dissociatives', 'ringold', 'eddy', 'duchin', 'idea', 'allan', 'fraser', 'mansion', 'gutting', 'couffignal', 'quicksand', 'valentine', 'older', 'seductive', 'tongue', 'becharof', 'consume', 'bleach', 'admiralty', 'gwenno', 'pipette', 'model', 'craftsman', 'riddlesburg', 'saratoga', 'ircle', 'xsuie', 'carlson', 'creamery', 'coach', 'magdalena', 'runkaus', 'isobel', 'campbell', 'reuben', 'topinabee', 'sara', 'priest', 'swindlers', 'blankets', 'holstein', 'rented', 'lips', 'disturbance', 'catchphrase', 'whosoever', 'offend', 'cannabis', 'isthmus', 'thinking', 'shaun', 'sheep', 'osyka', 'ashford', 'maybe', 'labworth', 'maximilian', 'mutzke', 'macaroni', 'carnegie', 'woven', 'minidoka', 'presence', 'inflated', 'bibb', 'noses', 'grocery', 'leena', 'peisa', 'fra', 'mols', 'skagen', 'restarunt', 'federal', 'rocksteady', 'sugarloaf', 'palmyra', 'christianity', 'roach', 'exira', 'oysters', 'rockefeller', 'puzzles', 'kellnersville', 'marc', 'ringo', 'sheena', 'quadrophenia', 'mattawan', 'germantown', 'catherine', 'survive', 'alternativo', 'dicey', 'bolsa', 'chica', 'molise', 'hoc', 'ivan', 'roudyk', 'jenkins', 'hutchinson', 'strolghino', 'elmer', 'planet', 'coffins', 'organization', 'trick', 'treats', 'perdu', 'gougoush', 'wyandotte', 'liza', 'oumarova', 'bynum', 'cup', 'winner', 'match', 'jquery', 'mobile', 'genola', 'wendy', 'reklaw', 'gougère', 'laneville', 'conflict', 'callahan', 'es', 'tuya', 'oficial', 'trevor', 'mcnevan', 'orgy', 'leather', 'thompsontown', 'karen', 'witchcraft', 'paganism', 'madge', 'divan', 'suriname', 'rosales', 'alba', 'hola', 'prom', 'dombey', 'portman', 'unreleased', 'dorsey', 'moneta', 'ives', 'gormenghast', 'peggy', 'sue', 'opération', 'cindy', 'baltic', 'loup', 'mizuki', 'fighter', 'cedarburg', 'repeating', 'stoneage', 'romeos', 'windhorst', 'sha', 'miranda', 'lambert', 'confessions', 'cozy', 'defined', 'struggle', 'tracie', 'noyack', 'hotchpotch', 'augustine', 'nur', 'mit', 'dir', 'principii', 'evangelikum', 'aerial', 'adrian', 'stolen', 'conception', 'oriel', 'allison', 'shivers', 'flint', 'rhum', 'spell', 'quiet', 'cliff', 'abuja', 'henrieville', 'clawson', 'medicine', 'munia', 'jiro', 'jonathan', 'arons', 'eef', 'barzelay', 'pulaski', 'jappeloup', 'intrigue', 'hath', 'bleeding', 'elnora', 'goodland', 'justin', 'mcroberts', 'jewell', 'cemetery', 'piskies', 'cornish', 'apathy', 'osgood', 'weissberg', 'carpet', 'fangs', 'subcontract', 'ussr', 'renewable', 'electricity', 'grid', 'inquiry', 'moosic', 'mythology', 'czarna', 'dziewczyna', 'bedford', 'lehman', 'chatyrkul', 'heredity', 'unwelcome', 'dong', 'phou', 'vieng', 'livingston', 'goéland', 'buffalo', 'eden', 'abominations', 'cattle', 'northvale', 'hanksville', 'gorilla', 'hunters', 'dread', 'mettawa', 'toby', 'nemiciamici', 'alderwood', 'patrica', 'cycle', 'features', 'bathgate', 'hogs', 'backyard', 'sunnybrook', 'sci', 'crimes', 'penelopiad', 'rixford', 'formby', 'impostors', 'arrows', 'hercules', 'ridel', 'awaiting', 'weird', 'lovecraftian', 'fictions', 'tritonian', 'ring', 'layhigh', 'parable', 'sower', 'tholireyi', 'gadichindi', 'crofton', 'ignacio', 'figueredo', 'temptation', 'oshin', 'democratic', 'trust', 'worship', 'moen', 'twinkler', 'concord', 'pelland', 'balzary', 'toucher', 'rich', 'congress', 'belize', 'coats', 'dan', 'automator', 'capicollo', 'kit', 'carson', 'ilene', 'aisha', 'clásica', 'wetumpka', 'sveta', 'ljubav', 'canon', 'anders', 'plalist', 'visjoner', 'pangaea', 'angelus', 'lines', 'whens', 'halfbreed', 'meherrin', 'teenage', 'mutant', 'turtles', 'worthington', 'canto', 'gypsy', 'putrid', 'sorcery', 'senior', 'britpop', 'etc', 'kent', 'shootings', 'cocuy', 'candi', 'staton', 'guilty', 'pleasures', 'meeres', 'insel', 'bastimentos', 'ojo', 'amarillo', 'crazysexycool', 'winchell', 'hamelin', 'managing', 'utsler', 'n9ne', 'loogootee', 'politicsnation', 'sharpton', 'khao', 'phanom', 'bencha', 'flaxton', 'fahl', 'juniper', 'bûche', 'vernon', 'tells', 'divergent', 'throwing', 'kuk', 'harrell', 'sifow', 'cerebellum', 'wauseon', 'daewon', 'foreast', 'spade', 'simplest', 'colfax', 'eternally', 'clermont', 'higher', 'incite', 'lihula', 'travels', 'cheaper', 'dozen', 'whitechapel', 'bunky', 'tsongas', 'adolf', 'hitler', 'downfall', 'prey', 'command', 'northway', 'jacobsburg', 'ennarukil', 'irunthal', 'alejandra', '119', 'iconic', 'photographer', 'dennis', 'stock', 'canfield', 'cedar', 'cyclists', 'turnt', 'brought', 'woodmere', 'martyr', 'aap', 'aise', 'na', 'hank', 'soundscape', 'almyra', 'tragedy', 'nassau', 'sorry', 'spoiler', 'penthouse', 'mashed', 'pumpkin', 'battlement', 'bums', 'uranus', 'bars', 'lovex', 'sumner', 'geddes', 'effie', 'kaya', 'augusta', 'dna', 'repair', 'mutagenesis', 'nokio', 'tity', 'currents', 'volver', 'pittsburgh', 'slim', 'lander', 'fusil', 'contra', 'carrousel', 'ivory', 'nightwork', 'stetson', 'routine', 'helena', 'comertown', 'bushkill', 'gilmer', 'foley', 'modesto', 'ella', 'marx', 'choucroute', 'ronski', 'kidd', 'penalty', 'conrad', 'nubians', 'plutonia', 'toa', 'desserts', 'ashmore', 'nokia', 'yumi', 'matsuzawa', 'outsiders', 'dauset', 'incomplete', 'tires', 'tarja', 'turunen', 'daniel', 'zueras', 'lush', 'satisfied', 'christie', 'concepcion', 'johnston', 'perfecting', 'coleville', 'preferably', 'thayer', 'farruko', 'presenta', 'menores', 'soapsuds', 'sapheads', 'danger', 'conshohocken', 'yeager', 'owlet', 'genre', 'bender', 'hickman', 'strauss', 'nas', 'major', 'maxim', 'sardonic', 'wrath', 'bal', 'ganesh', 'connorville', 'practical', 'khaled', 'moor', 'kris', 'chetan', 'ramlu', 'sinatra', 'meg', 'seron', 'lacuna', 'wanderer', 'heber', 'killarney', 'pow', 'mia', 'recognition', 'leave', 'dixie', 'beginnings', 'concerts', 'jesper', 'kyd', 'specialises', 'protein', 'wallsburg', 'pam', 'unnaturals', 'trac', 'piperton', 'comeback', 'hefner', 'unauthorized', 'kristine', 'hilt', 'huns', 'cammack', 'mali', 'compact', 'proposal', 'inspector', 'calientes', 'descanso', 'infinito', 'nimba', 'scampi', 'deidre', 'rosa', 'tyner', 'betsy', '59th', 'grammy', 'kelli', 'ultimatum', 'altyn', 'emel', 'salò', 'scotland', 'kisaki', 'fade', 'pinecliffe', 'blanca', 'forêt', 'nationale', 'davy', 'crockett', 'upper', 'arms', 'collector', 'acworth', 'kiara', 'stehekin', 'spells', 'philtres', 'vandalia', 'esperanza', 'musiri', 'subramania', 'iyer', 'informix', 'wingz', 'holladay', 'neffs', 'packed', 'rafters', 'hineston', 'lone', 'nash', 'singular', 'puro', 'clontarf', 'angeline', 'ufc', 'lotus', 'grandview', 'crooked', 'windsor', 'concrete', 'coorgs', 'wendell', 'tenacious', 'pick', 'octagon', 'christchurch', 'built', 'mucho', 'bridges', 'laws', 'survey', 'kinder', 'deasy', 'pineridge', 'whit', 'bashful', 'oswald', 'hubbell', 'defenestration', 'ermintrude', 'inch', 'kegs', '37', 'cincinnati', 'tonga', 'howard', 'perchance', 'garner', 'xanadu', 'bud', 'jenners', 'breezy', 'gucci', 'mane', 'merced', '1634', 'ram', 'godslayer', 'hooven', 'caps', 'torch', 'beavis', 'butt', 'unbound', 'limberlost', 'hurstville', 'westcountry', 'dawns', 'foros', 'timis', 'ston', 'greco', 'apolobamba', 'integrated', 'trains', 'planes', 'complots', 'alisha', 'florine', 'burleigh', 'flats', 'kearney', 'analyzer', 'hitchland', 'puttering', 'seasons', 'skid', 'helen', 'miriam', 'chatmoss', 'fernando', 'alerce', 'andino', 'earline', 'individuals', 'ecosystems', 'bevilacqua', 'strumpet', 'bashkirsky', 'wolcott', 'cater']\n"
          ],
          "name": "stdout"
        }
      ]
    },
    {
      "cell_type": "markdown",
      "metadata": {
        "id": "FX1Jd8ApiHfO",
        "colab_type": "text"
      },
      "source": [
        "# DeText training\n",
        "We will train a multi-class classification model using the DeText framework. \n",
        "\n"
      ]
    },
    {
      "cell_type": "code",
      "metadata": {
        "id": "S59XeaQLllJ4",
        "colab_type": "code",
        "colab": {
          "base_uri": "https://localhost:8080/",
          "height": 1000
        },
        "outputId": "79a6c007-df01-4f71-a31d-78d27113dff2"
      },
      "source": [
        "# See https://github.com/linkedin/detext/blob/master/TRAINING.md for more details on the parameters\n",
        "\n",
        "from detext.run_detext import run_detext,DetextArg\n",
        "\n",
        "args = DetextArg(num_classes=6,\n",
        "                ftr_ext=\"cnn\",\n",
        "                num_filters=50,\n",
        "                num_units=64,\n",
        "                num_wide=1,\n",
        "                optimizer=\"bert_adam\", # same AdamWeightDecay optimizer as in BERT training\n",
        "                learning_rate=0.001,\n",
        "                max_len=16,\n",
        "                min_len=3,\n",
        "                use_deep=True,\n",
        "                num_train_steps=300,\n",
        "                steps_per_stats=1,\n",
        "                steps_per_eval=30,\n",
        "                train_batch_size=64,\n",
        "                test_batch_size=64,\n",
        "                pmetric=\"accuracy\",\n",
        "                all_metrics=[\"accuracy\", \"confusion_matrix\"],\n",
        "                vocab_file=VOCAB_FILE,\n",
        "                feature_names=[\"label\",\"doc_query\",\"wide_ftrs\"],\n",
        "                train_file=\"train.tfrecord\",\n",
        "                dev_file=\"dev.tfrecord\",\n",
        "                test_file=\"test.tfrecord\",\n",
        "                out_dir=\"output\")\n",
        "run_detext(args)\n"
      ],
      "execution_count": null,
      "outputs": [
        {
          "output_type": "stream",
          "text": [
            "WARNING:tensorflow:\n",
            "The TensorFlow contrib module will not be included in TensorFlow 2.0.\n",
            "For more information, please see:\n",
            "  * https://github.com/tensorflow/community/blob/master/rfcs/20180907-contrib-sunset.md\n",
            "  * https://github.com/tensorflow/addons\n",
            "  * https://github.com/tensorflow/io (for I/O related ops)\n",
            "If you depend on functionality not listed there, please file an issue.\n",
            "\n",
            "WARNING:tensorflow:From /usr/local/lib/python3.6/dist-packages/detext/model/lambdarank.py:9: The name tf.layers.Layer is deprecated. Please use tf.compat.v1.layers.Layer instead.\n",
            "\n",
            "WARNING:tensorflow:From /usr/local/lib/python3.6/dist-packages/detext/train/optimization.py:164: The name tf.train.Optimizer is deprecated. Please use tf.compat.v1.train.Optimizer instead.\n",
            "\n"
          ],
          "name": "stdout"
        },
        {
          "output_type": "stream",
          "text": [
            "Unable to check if ['accuracy', 'confusion_matrix'] is of type typing.Union[typing.List[str], NoneType] for field all_metrics of argument class <class 'detext.run_detext.DetextArg'>\n",
            "Unable to check if None is of type typing.Union[typing.List[float], NoneType] for field score_rescale of argument class <class 'detext.run_detext.DetextArg'>\n",
            "Unable to check if None is of type typing.Union[typing.Dict[str, int], NoneType] for field hvd_info of argument class <class 'detext.run_detext.DetextArg'>\n",
            "Unable to check if None is of type typing.Union[typing.List[int], NoneType] for field task_ids of argument class <class 'detext.run_detext.DetextArg'>\n",
            "Unable to check if None is of type typing.Union[typing.List[float], NoneType] for field task_weights of argument class <class 'detext.run_detext.DetextArg'>\n"
          ],
          "name": "stderr"
        },
        {
          "output_type": "stream",
          "text": [
            "WARNING:tensorflow:From /usr/local/lib/python3.6/dist-packages/detext/run_detext.py:213: The name tf.logging.set_verbosity is deprecated. Please use tf.compat.v1.logging.set_verbosity instead.\n",
            "\n"
          ],
          "name": "stdout"
        },
        {
          "output_type": "stream",
          "text": [
            "WARNING:tensorflow:From /usr/local/lib/python3.6/dist-packages/detext/run_detext.py:213: The name tf.logging.set_verbosity is deprecated. Please use tf.compat.v1.logging.set_verbosity instead.\n",
            "\n"
          ],
          "name": "stderr"
        },
        {
          "output_type": "stream",
          "text": [
            "WARNING:tensorflow:From /usr/local/lib/python3.6/dist-packages/detext/run_detext.py:213: The name tf.logging.INFO is deprecated. Please use tf.compat.v1.logging.INFO instead.\n",
            "\n"
          ],
          "name": "stdout"
        },
        {
          "output_type": "stream",
          "text": [
            "WARNING:tensorflow:From /usr/local/lib/python3.6/dist-packages/detext/run_detext.py:213: The name tf.logging.INFO is deprecated. Please use tf.compat.v1.logging.INFO instead.\n",
            "\n"
          ],
          "name": "stderr"
        },
        {
          "output_type": "stream",
          "text": [
            "WARNING:tensorflow:From /usr/local/lib/python3.6/dist-packages/detext/utils/executor_utils.py:16: The name tf.logging.info is deprecated. Please use tf.compat.v1.logging.info instead.\n",
            "\n"
          ],
          "name": "stdout"
        },
        {
          "output_type": "stream",
          "text": [
            "WARNING:tensorflow:From /usr/local/lib/python3.6/dist-packages/detext/utils/executor_utils.py:16: The name tf.logging.info is deprecated. Please use tf.compat.v1.logging.info instead.\n",
            "\n"
          ],
          "name": "stderr"
        },
        {
          "output_type": "stream",
          "text": [
            "INFO:tensorflow:Getting executor context info...\n"
          ],
          "name": "stdout"
        },
        {
          "output_type": "stream",
          "text": [
            "INFO:tensorflow:Getting executor context info...\n"
          ],
          "name": "stderr"
        },
        {
          "output_type": "stream",
          "text": [
            "WARNING:tensorflow:From /usr/local/lib/python3.6/dist-packages/detext/run_detext.py:230: The name tf.gfile.Exists is deprecated. Please use tf.io.gfile.exists instead.\n",
            "\n"
          ],
          "name": "stdout"
        },
        {
          "output_type": "stream",
          "text": [
            "WARNING:tensorflow:From /usr/local/lib/python3.6/dist-packages/detext/run_detext.py:230: The name tf.gfile.Exists is deprecated. Please use tf.io.gfile.exists instead.\n",
            "\n"
          ],
          "name": "stderr"
        },
        {
          "output_type": "stream",
          "text": [
            "WARNING:tensorflow:From /usr/local/lib/python3.6/dist-packages/detext/run_detext.py:236: The name tf.gfile.MakeDirs is deprecated. Please use tf.io.gfile.makedirs instead.\n",
            "\n"
          ],
          "name": "stdout"
        },
        {
          "output_type": "stream",
          "text": [
            "WARNING:tensorflow:From /usr/local/lib/python3.6/dist-packages/detext/run_detext.py:236: The name tf.gfile.MakeDirs is deprecated. Please use tf.io.gfile.makedirs instead.\n",
            "\n"
          ],
          "name": "stderr"
        },
        {
          "output_type": "stream",
          "text": [
            "  saving hparams to output/hparams\n",
            "WARNING:tensorflow:From /usr/local/lib/python3.6/dist-packages/detext/utils/misc_utils.py:38: The name tf.gfile.GFile is deprecated. Please use tf.io.gfile.GFile instead.\n",
            "\n"
          ],
          "name": "stdout"
        },
        {
          "output_type": "stream",
          "text": [
            "WARNING:tensorflow:From /usr/local/lib/python3.6/dist-packages/detext/utils/misc_utils.py:38: The name tf.gfile.GFile is deprecated. Please use tf.io.gfile.GFile instead.\n",
            "\n"
          ],
          "name": "stderr"
        },
        {
          "output_type": "stream",
          "text": [
            "WARNING:tensorflow:From /usr/local/lib/python3.6/dist-packages/detext/utils/logger.py:17: The name tf.gfile.Open is deprecated. Please use tf.io.gfile.GFile instead.\n",
            "\n"
          ],
          "name": "stdout"
        },
        {
          "output_type": "stream",
          "text": [
            "WARNING:tensorflow:From /usr/local/lib/python3.6/dist-packages/detext/utils/logger.py:17: The name tf.gfile.Open is deprecated. Please use tf.io.gfile.GFile instead.\n",
            "\n"
          ],
          "name": "stderr"
        },
        {
          "output_type": "stream",
          "text": [
            "INFO:tensorflow:ParameterServerStrategy with compute_devices = ('/device:CPU:0',), variable_device = '/device:CPU:0'\n"
          ],
          "name": "stdout"
        },
        {
          "output_type": "stream",
          "text": [
            "INFO:tensorflow:ParameterServerStrategy with compute_devices = ('/device:CPU:0',), variable_device = '/device:CPU:0'\n"
          ],
          "name": "stderr"
        },
        {
          "output_type": "stream",
          "text": [
            "INFO:tensorflow:Initializing RunConfig with distribution strategies.\n"
          ],
          "name": "stdout"
        },
        {
          "output_type": "stream",
          "text": [
            "INFO:tensorflow:Initializing RunConfig with distribution strategies.\n"
          ],
          "name": "stderr"
        },
        {
          "output_type": "stream",
          "text": [
            "INFO:tensorflow:Not using Distribute Coordinator.\n"
          ],
          "name": "stdout"
        },
        {
          "output_type": "stream",
          "text": [
            "INFO:tensorflow:Not using Distribute Coordinator.\n"
          ],
          "name": "stderr"
        },
        {
          "output_type": "stream",
          "text": [
            "INFO:tensorflow:Using config: {'_model_dir': 'output', '_tf_random_seed': None, '_save_summary_steps': 1, '_save_checkpoints_steps': 30, '_save_checkpoints_secs': None, '_session_config': allow_soft_placement: true\n",
            "graph_options {\n",
            "  rewrite_options {\n",
            "    meta_optimizer_iterations: ONE\n",
            "  }\n",
            "}\n",
            ", '_keep_checkpoint_max': 5, '_keep_checkpoint_every_n_hours': 10000, '_log_step_count_steps': 1, '_train_distribute': <tensorflow.contrib.distribute.python.parameter_server_strategy.ParameterServerStrategy object at 0x7f9dadf7c7b8>, '_device_fn': None, '_protocol': None, '_eval_distribute': None, '_experimental_distribute': None, '_experimental_max_worker_delay_secs': None, '_session_creation_timeout_secs': 7200, '_service': None, '_cluster_spec': <tensorflow.python.training.server_lib.ClusterSpec object at 0x7f9dadf7c4e0>, '_task_type': 'worker', '_task_id': 0, '_global_id_in_cluster': 0, '_master': '', '_evaluation_master': '', '_is_chief': True, '_num_ps_replicas': 0, '_num_worker_replicas': 1, '_distribute_coordinator_mode': None}\n"
          ],
          "name": "stdout"
        },
        {
          "output_type": "stream",
          "text": [
            "INFO:tensorflow:Using config: {'_model_dir': 'output', '_tf_random_seed': None, '_save_summary_steps': 1, '_save_checkpoints_steps': 30, '_save_checkpoints_secs': None, '_session_config': allow_soft_placement: true\n",
            "graph_options {\n",
            "  rewrite_options {\n",
            "    meta_optimizer_iterations: ONE\n",
            "  }\n",
            "}\n",
            ", '_keep_checkpoint_max': 5, '_keep_checkpoint_every_n_hours': 10000, '_log_step_count_steps': 1, '_train_distribute': <tensorflow.contrib.distribute.python.parameter_server_strategy.ParameterServerStrategy object at 0x7f9dadf7c7b8>, '_device_fn': None, '_protocol': None, '_eval_distribute': None, '_experimental_distribute': None, '_experimental_max_worker_delay_secs': None, '_session_creation_timeout_secs': 7200, '_service': None, '_cluster_spec': <tensorflow.python.training.server_lib.ClusterSpec object at 0x7f9dadf7c4e0>, '_task_type': 'worker', '_task_id': 0, '_global_id_in_cluster': 0, '_master': '', '_evaluation_master': '', '_is_chief': True, '_num_ps_replicas': 0, '_num_worker_replicas': 1, '_distribute_coordinator_mode': None}\n"
          ],
          "name": "stderr"
        },
        {
          "output_type": "stream",
          "text": [
            "INFO:tensorflow:***** Evaluation on dev set during training *****\n"
          ],
          "name": "stdout"
        },
        {
          "output_type": "stream",
          "text": [
            "INFO:tensorflow:***** Evaluation on dev set during training *****\n"
          ],
          "name": "stderr"
        },
        {
          "output_type": "stream",
          "text": [
            "INFO:tensorflow:Not using Distribute Coordinator.\n"
          ],
          "name": "stdout"
        },
        {
          "output_type": "stream",
          "text": [
            "INFO:tensorflow:Not using Distribute Coordinator.\n"
          ],
          "name": "stderr"
        },
        {
          "output_type": "stream",
          "text": [
            "INFO:tensorflow:Running training and evaluation locally (non-distributed).\n"
          ],
          "name": "stdout"
        },
        {
          "output_type": "stream",
          "text": [
            "INFO:tensorflow:Running training and evaluation locally (non-distributed).\n"
          ],
          "name": "stderr"
        },
        {
          "output_type": "stream",
          "text": [
            "INFO:tensorflow:Start train and evaluate loop. The evaluate will happen after every checkpoint. Checkpoint frequency is determined based on RunConfig arguments: save_checkpoints_steps 30 or save_checkpoints_secs None.\n"
          ],
          "name": "stdout"
        },
        {
          "output_type": "stream",
          "text": [
            "INFO:tensorflow:Start train and evaluate loop. The evaluate will happen after every checkpoint. Checkpoint frequency is determined based on RunConfig arguments: save_checkpoints_steps 30 or save_checkpoints_secs None.\n"
          ],
          "name": "stderr"
        },
        {
          "output_type": "stream",
          "text": [
            "WARNING:tensorflow:From /usr/local/lib/python3.6/dist-packages/detext/utils/misc_utils.py:332: The name tf.gfile.Glob is deprecated. Please use tf.io.gfile.glob instead.\n",
            "\n"
          ],
          "name": "stdout"
        },
        {
          "output_type": "stream",
          "text": [
            "WARNING:tensorflow:From /usr/local/lib/python3.6/dist-packages/detext/utils/misc_utils.py:332: The name tf.gfile.Glob is deprecated. Please use tf.io.gfile.glob instead.\n",
            "\n"
          ],
          "name": "stderr"
        },
        {
          "output_type": "stream",
          "text": [
            "WARNING:tensorflow:From /usr/local/lib/python3.6/dist-packages/detext/train/data_fn.py:88: The name tf.VarLenFeature is deprecated. Please use tf.io.VarLenFeature instead.\n",
            "\n"
          ],
          "name": "stdout"
        },
        {
          "output_type": "stream",
          "text": [
            "WARNING:tensorflow:From /usr/local/lib/python3.6/dist-packages/detext/train/data_fn.py:88: The name tf.VarLenFeature is deprecated. Please use tf.io.VarLenFeature instead.\n",
            "\n"
          ],
          "name": "stderr"
        },
        {
          "output_type": "stream",
          "text": [
            "WARNING:tensorflow:From /tensorflow-1.15.2/python3.6/tensorflow_core/python/autograph/converters/directives.py:119: The name tf.parse_single_example is deprecated. Please use tf.io.parse_single_example instead.\n",
            "\n"
          ],
          "name": "stdout"
        },
        {
          "output_type": "stream",
          "text": [
            "WARNING:tensorflow:From /tensorflow-1.15.2/python3.6/tensorflow_core/python/autograph/converters/directives.py:119: The name tf.parse_single_example is deprecated. Please use tf.io.parse_single_example instead.\n",
            "\n"
          ],
          "name": "stderr"
        },
        {
          "output_type": "stream",
          "text": [
            "WARNING:tensorflow:From /tensorflow-1.15.2/python3.6/tensorflow_core/python/autograph/converters/directives.py:119: The name tf.sparse_tensor_to_dense is deprecated. Please use tf.sparse.to_dense instead.\n",
            "\n"
          ],
          "name": "stdout"
        },
        {
          "output_type": "stream",
          "text": [
            "WARNING:tensorflow:From /tensorflow-1.15.2/python3.6/tensorflow_core/python/autograph/converters/directives.py:119: The name tf.sparse_tensor_to_dense is deprecated. Please use tf.sparse.to_dense instead.\n",
            "\n"
          ],
          "name": "stderr"
        },
        {
          "output_type": "stream",
          "text": [
            "WARNING:tensorflow:From /usr/local/lib/python3.6/dist-packages/detext/train/data_fn.py:337: to_float (from tensorflow.python.ops.math_ops) is deprecated and will be removed in a future version.\n",
            "Instructions for updating:\n",
            "Use `tf.cast` instead.\n"
          ],
          "name": "stdout"
        },
        {
          "output_type": "stream",
          "text": [
            "WARNING:tensorflow:From /usr/local/lib/python3.6/dist-packages/detext/train/data_fn.py:337: to_float (from tensorflow.python.ops.math_ops) is deprecated and will be removed in a future version.\n",
            "Instructions for updating:\n",
            "Use `tf.cast` instead.\n"
          ],
          "name": "stderr"
        },
        {
          "output_type": "stream",
          "text": [
            "WARNING:tensorflow:From /tensorflow-1.15.2/python3.6/tensorflow_core/python/ops/resource_variable_ops.py:1630: calling BaseResourceVariable.__init__ (from tensorflow.python.ops.resource_variable_ops) with constraint is deprecated and will be removed in a future version.\n",
            "Instructions for updating:\n",
            "If using Keras pass *_constraint arguments to layers.\n"
          ],
          "name": "stdout"
        },
        {
          "output_type": "stream",
          "text": [
            "WARNING:tensorflow:From /tensorflow-1.15.2/python3.6/tensorflow_core/python/ops/resource_variable_ops.py:1630: calling BaseResourceVariable.__init__ (from tensorflow.python.ops.resource_variable_ops) with constraint is deprecated and will be removed in a future version.\n",
            "Instructions for updating:\n",
            "If using Keras pass *_constraint arguments to layers.\n"
          ],
          "name": "stderr"
        },
        {
          "output_type": "stream",
          "text": [
            "INFO:tensorflow:Calling model_fn.\n"
          ],
          "name": "stdout"
        },
        {
          "output_type": "stream",
          "text": [
            "INFO:tensorflow:Calling model_fn.\n"
          ],
          "name": "stderr"
        },
        {
          "output_type": "stream",
          "text": [
            "WARNING:tensorflow:From /usr/local/lib/python3.6/dist-packages/detext/model/deep_match.py:46: The name tf.is_nan is deprecated. Please use tf.math.is_nan instead.\n",
            "\n"
          ],
          "name": "stdout"
        },
        {
          "output_type": "stream",
          "text": [
            "WARNING:tensorflow:From /usr/local/lib/python3.6/dist-packages/detext/model/deep_match.py:46: The name tf.is_nan is deprecated. Please use tf.math.is_nan instead.\n",
            "\n"
          ],
          "name": "stderr"
        },
        {
          "output_type": "stream",
          "text": [
            "WARNING:tensorflow:From /usr/local/lib/python3.6/dist-packages/detext/model/deep_match.py:46: where (from tensorflow.python.ops.array_ops) is deprecated and will be removed in a future version.\n",
            "Instructions for updating:\n",
            "Use tf.where in 2.0, which has the same broadcast rule as np.where\n"
          ],
          "name": "stdout"
        },
        {
          "output_type": "stream",
          "text": [
            "WARNING:tensorflow:From /usr/local/lib/python3.6/dist-packages/detext/model/deep_match.py:46: where (from tensorflow.python.ops.array_ops) is deprecated and will be removed in a future version.\n",
            "Instructions for updating:\n",
            "Use tf.where in 2.0, which has the same broadcast rule as np.where\n"
          ],
          "name": "stderr"
        },
        {
          "output_type": "stream",
          "text": [
            "WARNING:tensorflow:From /usr/local/lib/python3.6/dist-packages/detext/utils/model_utils.py:19: The name tf.get_variable is deprecated. Please use tf.compat.v1.get_variable instead.\n",
            "\n"
          ],
          "name": "stdout"
        },
        {
          "output_type": "stream",
          "text": [
            "WARNING:tensorflow:From /usr/local/lib/python3.6/dist-packages/detext/utils/model_utils.py:19: The name tf.get_variable is deprecated. Please use tf.compat.v1.get_variable instead.\n",
            "\n"
          ],
          "name": "stderr"
        },
        {
          "output_type": "stream",
          "text": [
            "WARNING:tensorflow:From /usr/local/lib/python3.6/dist-packages/detext/model/cnn_model.py:39: The name tf.variable_scope is deprecated. Please use tf.compat.v1.variable_scope instead.\n",
            "\n"
          ],
          "name": "stdout"
        },
        {
          "output_type": "stream",
          "text": [
            "WARNING:tensorflow:From /usr/local/lib/python3.6/dist-packages/detext/model/cnn_model.py:39: The name tf.variable_scope is deprecated. Please use tf.compat.v1.variable_scope instead.\n",
            "\n"
          ],
          "name": "stderr"
        },
        {
          "output_type": "stream",
          "text": [
            "WARNING:tensorflow:From /usr/local/lib/python3.6/dist-packages/detext/model/cnn_model.py:147: conv2d (from tensorflow.python.layers.convolutional) is deprecated and will be removed in a future version.\n",
            "Instructions for updating:\n",
            "Use `tf.keras.layers.Conv2D` instead.\n"
          ],
          "name": "stdout"
        },
        {
          "output_type": "stream",
          "text": [
            "WARNING:tensorflow:From /usr/local/lib/python3.6/dist-packages/detext/model/cnn_model.py:147: conv2d (from tensorflow.python.layers.convolutional) is deprecated and will be removed in a future version.\n",
            "Instructions for updating:\n",
            "Use `tf.keras.layers.Conv2D` instead.\n"
          ],
          "name": "stderr"
        },
        {
          "output_type": "stream",
          "text": [
            "WARNING:tensorflow:From /tensorflow-1.15.2/python3.6/tensorflow_core/python/layers/convolutional.py:424: Layer.apply (from tensorflow.python.keras.engine.base_layer) is deprecated and will be removed in a future version.\n",
            "Instructions for updating:\n",
            "Please use `layer.__call__` method instead.\n"
          ],
          "name": "stdout"
        },
        {
          "output_type": "stream",
          "text": [
            "WARNING:tensorflow:From /tensorflow-1.15.2/python3.6/tensorflow_core/python/layers/convolutional.py:424: Layer.apply (from tensorflow.python.keras.engine.base_layer) is deprecated and will be removed in a future version.\n",
            "Instructions for updating:\n",
            "Please use `layer.__call__` method instead.\n"
          ],
          "name": "stderr"
        },
        {
          "output_type": "stream",
          "text": [
            "WARNING:tensorflow:From /usr/local/lib/python3.6/dist-packages/detext/model/deep_match.py:256: dense (from tensorflow.python.layers.core) is deprecated and will be removed in a future version.\n",
            "Instructions for updating:\n",
            "Use keras.layers.Dense instead.\n"
          ],
          "name": "stdout"
        },
        {
          "output_type": "stream",
          "text": [
            "WARNING:tensorflow:From /usr/local/lib/python3.6/dist-packages/detext/model/deep_match.py:256: dense (from tensorflow.python.layers.core) is deprecated and will be removed in a future version.\n",
            "Instructions for updating:\n",
            "Use keras.layers.Dense instead.\n"
          ],
          "name": "stderr"
        },
        {
          "output_type": "stream",
          "text": [
            "WARNING:tensorflow:From /usr/local/lib/python3.6/dist-packages/detext/train/train.py:369: The name tf.losses.sparse_softmax_cross_entropy is deprecated. Please use tf.compat.v1.losses.sparse_softmax_cross_entropy instead.\n",
            "\n"
          ],
          "name": "stdout"
        },
        {
          "output_type": "stream",
          "text": [
            "WARNING:tensorflow:From /usr/local/lib/python3.6/dist-packages/detext/train/train.py:369: The name tf.losses.sparse_softmax_cross_entropy is deprecated. Please use tf.compat.v1.losses.sparse_softmax_cross_entropy instead.\n",
            "\n"
          ],
          "name": "stderr"
        },
        {
          "output_type": "stream",
          "text": [
            "WARNING:tensorflow:From /usr/local/lib/python3.6/dist-packages/detext/train/optimization.py:12: The name tf.trainable_variables is deprecated. Please use tf.compat.v1.trainable_variables instead.\n",
            "\n"
          ],
          "name": "stdout"
        },
        {
          "output_type": "stream",
          "text": [
            "WARNING:tensorflow:From /usr/local/lib/python3.6/dist-packages/detext/train/optimization.py:12: The name tf.trainable_variables is deprecated. Please use tf.compat.v1.trainable_variables instead.\n",
            "\n"
          ],
          "name": "stderr"
        },
        {
          "output_type": "stream",
          "text": [
            "INFO:tensorflow:Getting executor context info...\n"
          ],
          "name": "stdout"
        },
        {
          "output_type": "stream",
          "text": [
            "INFO:tensorflow:Getting executor context info...\n"
          ],
          "name": "stderr"
        },
        {
          "output_type": "stream",
          "text": [
            "WARNING:tensorflow:From /usr/local/lib/python3.6/dist-packages/detext/train/optimization.py:44: The name tf.train.get_or_create_global_step is deprecated. Please use tf.compat.v1.train.get_or_create_global_step instead.\n",
            "\n"
          ],
          "name": "stdout"
        },
        {
          "output_type": "stream",
          "text": [
            "WARNING:tensorflow:From /usr/local/lib/python3.6/dist-packages/detext/train/optimization.py:44: The name tf.train.get_or_create_global_step is deprecated. Please use tf.compat.v1.train.get_or_create_global_step instead.\n",
            "\n"
          ],
          "name": "stderr"
        },
        {
          "output_type": "stream",
          "text": [
            "WARNING:tensorflow:From /usr/local/lib/python3.6/dist-packages/detext/train/optimization.py:51: The name tf.train.polynomial_decay is deprecated. Please use tf.compat.v1.train.polynomial_decay instead.\n",
            "\n"
          ],
          "name": "stdout"
        },
        {
          "output_type": "stream",
          "text": [
            "WARNING:tensorflow:From /usr/local/lib/python3.6/dist-packages/detext/train/optimization.py:51: The name tf.train.polynomial_decay is deprecated. Please use tf.compat.v1.train.polynomial_decay instead.\n",
            "\n"
          ],
          "name": "stderr"
        },
        {
          "output_type": "stream",
          "text": [
            "WARNING:tensorflow:From /usr/local/lib/python3.6/dist-packages/detext/train/train.py:290: The name tf.train.get_global_step is deprecated. Please use tf.compat.v1.train.get_global_step instead.\n",
            "\n"
          ],
          "name": "stdout"
        },
        {
          "output_type": "stream",
          "text": [
            "WARNING:tensorflow:From /usr/local/lib/python3.6/dist-packages/detext/train/train.py:290: The name tf.train.get_global_step is deprecated. Please use tf.compat.v1.train.get_global_step instead.\n",
            "\n"
          ],
          "name": "stderr"
        },
        {
          "output_type": "stream",
          "text": [
            "WARNING:tensorflow:From /usr/local/lib/python3.6/dist-packages/detext/train/train.py:292: The name tf.train.LoggingTensorHook is deprecated. Please use tf.estimator.LoggingTensorHook instead.\n",
            "\n"
          ],
          "name": "stdout"
        },
        {
          "output_type": "stream",
          "text": [
            "WARNING:tensorflow:From /usr/local/lib/python3.6/dist-packages/detext/train/train.py:292: The name tf.train.LoggingTensorHook is deprecated. Please use tf.estimator.LoggingTensorHook instead.\n",
            "\n"
          ],
          "name": "stderr"
        },
        {
          "output_type": "stream",
          "text": [
            "INFO:tensorflow:Done calling model_fn.\n"
          ],
          "name": "stdout"
        },
        {
          "output_type": "stream",
          "text": [
            "INFO:tensorflow:Done calling model_fn.\n"
          ],
          "name": "stderr"
        },
        {
          "output_type": "stream",
          "text": [
            "INFO:tensorflow:Create CheckpointSaverHook.\n"
          ],
          "name": "stdout"
        },
        {
          "output_type": "stream",
          "text": [
            "INFO:tensorflow:Create CheckpointSaverHook.\n"
          ],
          "name": "stderr"
        },
        {
          "output_type": "stream",
          "text": [
            "INFO:tensorflow:Graph was finalized.\n"
          ],
          "name": "stdout"
        },
        {
          "output_type": "stream",
          "text": [
            "INFO:tensorflow:Graph was finalized.\n"
          ],
          "name": "stderr"
        },
        {
          "output_type": "stream",
          "text": [
            "INFO:tensorflow:Running local_init_op.\n"
          ],
          "name": "stdout"
        },
        {
          "output_type": "stream",
          "text": [
            "INFO:tensorflow:Running local_init_op.\n"
          ],
          "name": "stderr"
        },
        {
          "output_type": "stream",
          "text": [
            "INFO:tensorflow:Done running local_init_op.\n"
          ],
          "name": "stdout"
        },
        {
          "output_type": "stream",
          "text": [
            "INFO:tensorflow:Done running local_init_op.\n"
          ],
          "name": "stderr"
        },
        {
          "output_type": "stream",
          "text": [
            "INFO:tensorflow:Saving checkpoints for 0 into output/model.ckpt.\n"
          ],
          "name": "stdout"
        },
        {
          "output_type": "stream",
          "text": [
            "INFO:tensorflow:Saving checkpoints for 0 into output/model.ckpt.\n"
          ],
          "name": "stderr"
        },
        {
          "output_type": "stream",
          "text": [
            "INFO:tensorflow:loss = 1.8298702, step = 1\n"
          ],
          "name": "stdout"
        },
        {
          "output_type": "stream",
          "text": [
            "INFO:tensorflow:loss = 1.8298702, step = 1\n"
          ],
          "name": "stderr"
        },
        {
          "output_type": "stream",
          "text": [
            "INFO:tensorflow:global_step = 1, loss = 1.8298702\n"
          ],
          "name": "stdout"
        },
        {
          "output_type": "stream",
          "text": [
            "INFO:tensorflow:global_step = 1, loss = 1.8298702\n"
          ],
          "name": "stderr"
        },
        {
          "output_type": "stream",
          "text": [
            "INFO:tensorflow:global_step/sec: 2.17123\n"
          ],
          "name": "stdout"
        },
        {
          "output_type": "stream",
          "text": [
            "INFO:tensorflow:global_step/sec: 2.17123\n"
          ],
          "name": "stderr"
        },
        {
          "output_type": "stream",
          "text": [
            "WARNING:tensorflow:It seems that global step (tf.train.get_global_step) has not been increased. Current value (could be stable): 1 vs previous value: 1. You could increase the global step by passing tf.train.get_global_step() to Optimizer.apply_gradients or Optimizer.minimize.\n"
          ],
          "name": "stdout"
        },
        {
          "output_type": "stream",
          "text": [
            "WARNING:tensorflow:It seems that global step (tf.train.get_global_step) has not been increased. Current value (could be stable): 1 vs previous value: 1. You could increase the global step by passing tf.train.get_global_step() to Optimizer.apply_gradients or Optimizer.minimize.\n"
          ],
          "name": "stderr"
        },
        {
          "output_type": "stream",
          "text": [
            "INFO:tensorflow:loss = 1.846553, step = 1 (0.477 sec)\n"
          ],
          "name": "stdout"
        },
        {
          "output_type": "stream",
          "text": [
            "INFO:tensorflow:loss = 1.846553, step = 1 (0.477 sec)\n"
          ],
          "name": "stderr"
        },
        {
          "output_type": "stream",
          "text": [
            "INFO:tensorflow:global_step/sec: 16.5187\n"
          ],
          "name": "stdout"
        },
        {
          "output_type": "stream",
          "text": [
            "INFO:tensorflow:global_step/sec: 16.5187\n"
          ],
          "name": "stderr"
        },
        {
          "output_type": "stream",
          "text": [
            "INFO:tensorflow:loss = 1.7613828, step = 2 (0.058 sec)\n"
          ],
          "name": "stdout"
        },
        {
          "output_type": "stream",
          "text": [
            "INFO:tensorflow:loss = 1.7613828, step = 2 (0.058 sec)\n"
          ],
          "name": "stderr"
        },
        {
          "output_type": "stream",
          "text": [
            "INFO:tensorflow:global_step/sec: 16.8873\n"
          ],
          "name": "stdout"
        },
        {
          "output_type": "stream",
          "text": [
            "INFO:tensorflow:global_step/sec: 16.8873\n"
          ],
          "name": "stderr"
        },
        {
          "output_type": "stream",
          "text": [
            "INFO:tensorflow:loss = 1.7849787, step = 3 (0.056 sec)\n"
          ],
          "name": "stdout"
        },
        {
          "output_type": "stream",
          "text": [
            "INFO:tensorflow:loss = 1.7849787, step = 3 (0.056 sec)\n"
          ],
          "name": "stderr"
        },
        {
          "output_type": "stream",
          "text": [
            "INFO:tensorflow:global_step/sec: 20.0692\n"
          ],
          "name": "stdout"
        },
        {
          "output_type": "stream",
          "text": [
            "INFO:tensorflow:global_step/sec: 20.0692\n"
          ],
          "name": "stderr"
        },
        {
          "output_type": "stream",
          "text": [
            "INFO:tensorflow:loss = 1.7572217, step = 4 (0.044 sec)\n"
          ],
          "name": "stdout"
        },
        {
          "output_type": "stream",
          "text": [
            "INFO:tensorflow:loss = 1.7572217, step = 4 (0.044 sec)\n"
          ],
          "name": "stderr"
        },
        {
          "output_type": "stream",
          "text": [
            "INFO:tensorflow:global_step/sec: 26.3632\n"
          ],
          "name": "stdout"
        },
        {
          "output_type": "stream",
          "text": [
            "INFO:tensorflow:global_step/sec: 26.3632\n"
          ],
          "name": "stderr"
        },
        {
          "output_type": "stream",
          "text": [
            "INFO:tensorflow:loss = 1.7787298, step = 5 (0.036 sec)\n"
          ],
          "name": "stdout"
        },
        {
          "output_type": "stream",
          "text": [
            "INFO:tensorflow:loss = 1.7787298, step = 5 (0.036 sec)\n"
          ],
          "name": "stderr"
        },
        {
          "output_type": "stream",
          "text": [
            "INFO:tensorflow:global_step/sec: 26.6998\n"
          ],
          "name": "stdout"
        },
        {
          "output_type": "stream",
          "text": [
            "INFO:tensorflow:global_step/sec: 26.6998\n"
          ],
          "name": "stderr"
        },
        {
          "output_type": "stream",
          "text": [
            "INFO:tensorflow:loss = 1.7097647, step = 6 (0.039 sec)\n"
          ],
          "name": "stdout"
        },
        {
          "output_type": "stream",
          "text": [
            "INFO:tensorflow:loss = 1.7097647, step = 6 (0.039 sec)\n"
          ],
          "name": "stderr"
        },
        {
          "output_type": "stream",
          "text": [
            "INFO:tensorflow:global_step/sec: 23.1634\n"
          ],
          "name": "stdout"
        },
        {
          "output_type": "stream",
          "text": [
            "INFO:tensorflow:global_step/sec: 23.1634\n"
          ],
          "name": "stderr"
        },
        {
          "output_type": "stream",
          "text": [
            "INFO:tensorflow:loss = 1.6605275, step = 7 (0.049 sec)\n"
          ],
          "name": "stdout"
        },
        {
          "output_type": "stream",
          "text": [
            "INFO:tensorflow:loss = 1.6605275, step = 7 (0.049 sec)\n"
          ],
          "name": "stderr"
        },
        {
          "output_type": "stream",
          "text": [
            "INFO:tensorflow:global_step/sec: 18.5776\n"
          ],
          "name": "stdout"
        },
        {
          "output_type": "stream",
          "text": [
            "INFO:tensorflow:global_step/sec: 18.5776\n"
          ],
          "name": "stderr"
        },
        {
          "output_type": "stream",
          "text": [
            "INFO:tensorflow:loss = 1.636574, step = 8 (0.046 sec)\n"
          ],
          "name": "stdout"
        },
        {
          "output_type": "stream",
          "text": [
            "INFO:tensorflow:loss = 1.636574, step = 8 (0.046 sec)\n"
          ],
          "name": "stderr"
        },
        {
          "output_type": "stream",
          "text": [
            "INFO:tensorflow:global_step/sec: 25.9212\n"
          ],
          "name": "stdout"
        },
        {
          "output_type": "stream",
          "text": [
            "INFO:tensorflow:global_step/sec: 25.9212\n"
          ],
          "name": "stderr"
        },
        {
          "output_type": "stream",
          "text": [
            "INFO:tensorflow:loss = 1.6239642, step = 9 (0.046 sec)\n"
          ],
          "name": "stdout"
        },
        {
          "output_type": "stream",
          "text": [
            "INFO:tensorflow:loss = 1.6239642, step = 9 (0.046 sec)\n"
          ],
          "name": "stderr"
        },
        {
          "output_type": "stream",
          "text": [
            "INFO:tensorflow:global_step/sec: 19.4942\n"
          ],
          "name": "stdout"
        },
        {
          "output_type": "stream",
          "text": [
            "INFO:tensorflow:global_step/sec: 19.4942\n"
          ],
          "name": "stderr"
        },
        {
          "output_type": "stream",
          "text": [
            "INFO:tensorflow:loss = 1.5322416, step = 10 (0.048 sec)\n"
          ],
          "name": "stdout"
        },
        {
          "output_type": "stream",
          "text": [
            "INFO:tensorflow:loss = 1.5322416, step = 10 (0.048 sec)\n"
          ],
          "name": "stderr"
        },
        {
          "output_type": "stream",
          "text": [
            "INFO:tensorflow:global_step = 10, loss = 1.5322416 (0.896 sec)\n"
          ],
          "name": "stdout"
        },
        {
          "output_type": "stream",
          "text": [
            "INFO:tensorflow:global_step = 10, loss = 1.5322416 (0.896 sec)\n"
          ],
          "name": "stderr"
        },
        {
          "output_type": "stream",
          "text": [
            "INFO:tensorflow:global_step/sec: 19.9\n"
          ],
          "name": "stdout"
        },
        {
          "output_type": "stream",
          "text": [
            "INFO:tensorflow:global_step/sec: 19.9\n"
          ],
          "name": "stderr"
        },
        {
          "output_type": "stream",
          "text": [
            "INFO:tensorflow:loss = 1.4505244, step = 11 (0.047 sec)\n"
          ],
          "name": "stdout"
        },
        {
          "output_type": "stream",
          "text": [
            "INFO:tensorflow:loss = 1.4505244, step = 11 (0.047 sec)\n"
          ],
          "name": "stderr"
        },
        {
          "output_type": "stream",
          "text": [
            "INFO:tensorflow:global_step/sec: 23.3981\n"
          ],
          "name": "stdout"
        },
        {
          "output_type": "stream",
          "text": [
            "INFO:tensorflow:global_step/sec: 23.3981\n"
          ],
          "name": "stderr"
        },
        {
          "output_type": "stream",
          "text": [
            "INFO:tensorflow:loss = 1.3579276, step = 12 (0.052 sec)\n"
          ],
          "name": "stdout"
        },
        {
          "output_type": "stream",
          "text": [
            "INFO:tensorflow:loss = 1.3579276, step = 12 (0.052 sec)\n"
          ],
          "name": "stderr"
        },
        {
          "output_type": "stream",
          "text": [
            "INFO:tensorflow:global_step/sec: 17.8526\n"
          ],
          "name": "stdout"
        },
        {
          "output_type": "stream",
          "text": [
            "INFO:tensorflow:global_step/sec: 17.8526\n"
          ],
          "name": "stderr"
        },
        {
          "output_type": "stream",
          "text": [
            "INFO:tensorflow:loss = 1.2837173, step = 13 (0.049 sec)\n"
          ],
          "name": "stdout"
        },
        {
          "output_type": "stream",
          "text": [
            "INFO:tensorflow:loss = 1.2837173, step = 13 (0.049 sec)\n"
          ],
          "name": "stderr"
        },
        {
          "output_type": "stream",
          "text": [
            "INFO:tensorflow:global_step/sec: 26.9536\n"
          ],
          "name": "stdout"
        },
        {
          "output_type": "stream",
          "text": [
            "INFO:tensorflow:global_step/sec: 26.9536\n"
          ],
          "name": "stderr"
        },
        {
          "output_type": "stream",
          "text": [
            "INFO:tensorflow:loss = 1.1931287, step = 14 (0.032 sec)\n"
          ],
          "name": "stdout"
        },
        {
          "output_type": "stream",
          "text": [
            "INFO:tensorflow:loss = 1.1931287, step = 14 (0.032 sec)\n"
          ],
          "name": "stderr"
        },
        {
          "output_type": "stream",
          "text": [
            "INFO:tensorflow:global_step/sec: 24.1536\n"
          ],
          "name": "stdout"
        },
        {
          "output_type": "stream",
          "text": [
            "INFO:tensorflow:global_step/sec: 24.1536\n"
          ],
          "name": "stderr"
        },
        {
          "output_type": "stream",
          "text": [
            "INFO:tensorflow:loss = 1.0485256, step = 15 (0.051 sec)\n"
          ],
          "name": "stdout"
        },
        {
          "output_type": "stream",
          "text": [
            "INFO:tensorflow:loss = 1.0485256, step = 15 (0.051 sec)\n"
          ],
          "name": "stderr"
        },
        {
          "output_type": "stream",
          "text": [
            "INFO:tensorflow:global_step/sec: 18.3781\n"
          ],
          "name": "stdout"
        },
        {
          "output_type": "stream",
          "text": [
            "INFO:tensorflow:global_step/sec: 18.3781\n"
          ],
          "name": "stderr"
        },
        {
          "output_type": "stream",
          "text": [
            "INFO:tensorflow:loss = 0.9991774, step = 16 (0.049 sec)\n"
          ],
          "name": "stdout"
        },
        {
          "output_type": "stream",
          "text": [
            "INFO:tensorflow:loss = 0.9991774, step = 16 (0.049 sec)\n"
          ],
          "name": "stderr"
        },
        {
          "output_type": "stream",
          "text": [
            "INFO:tensorflow:global_step/sec: 17.6125\n"
          ],
          "name": "stdout"
        },
        {
          "output_type": "stream",
          "text": [
            "INFO:tensorflow:global_step/sec: 17.6125\n"
          ],
          "name": "stderr"
        },
        {
          "output_type": "stream",
          "text": [
            "INFO:tensorflow:loss = 0.7946836, step = 17 (0.057 sec)\n"
          ],
          "name": "stdout"
        },
        {
          "output_type": "stream",
          "text": [
            "INFO:tensorflow:loss = 0.7946836, step = 17 (0.057 sec)\n"
          ],
          "name": "stderr"
        },
        {
          "output_type": "stream",
          "text": [
            "INFO:tensorflow:global_step/sec: 20.4604\n"
          ],
          "name": "stdout"
        },
        {
          "output_type": "stream",
          "text": [
            "INFO:tensorflow:global_step/sec: 20.4604\n"
          ],
          "name": "stderr"
        },
        {
          "output_type": "stream",
          "text": [
            "INFO:tensorflow:loss = 0.84765655, step = 18 (0.052 sec)\n"
          ],
          "name": "stdout"
        },
        {
          "output_type": "stream",
          "text": [
            "INFO:tensorflow:loss = 0.84765655, step = 18 (0.052 sec)\n"
          ],
          "name": "stderr"
        },
        {
          "output_type": "stream",
          "text": [
            "INFO:tensorflow:global_step/sec: 20.6086\n"
          ],
          "name": "stdout"
        },
        {
          "output_type": "stream",
          "text": [
            "INFO:tensorflow:global_step/sec: 20.6086\n"
          ],
          "name": "stderr"
        },
        {
          "output_type": "stream",
          "text": [
            "INFO:tensorflow:loss = 0.76236045, step = 19 (0.051 sec)\n"
          ],
          "name": "stdout"
        },
        {
          "output_type": "stream",
          "text": [
            "INFO:tensorflow:loss = 0.76236045, step = 19 (0.051 sec)\n"
          ],
          "name": "stderr"
        },
        {
          "output_type": "stream",
          "text": [
            "INFO:tensorflow:global_step/sec: 17.1129\n"
          ],
          "name": "stdout"
        },
        {
          "output_type": "stream",
          "text": [
            "INFO:tensorflow:global_step/sec: 17.1129\n"
          ],
          "name": "stderr"
        },
        {
          "output_type": "stream",
          "text": [
            "INFO:tensorflow:loss = 0.6334634, step = 20 (0.054 sec)\n"
          ],
          "name": "stdout"
        },
        {
          "output_type": "stream",
          "text": [
            "INFO:tensorflow:loss = 0.6334634, step = 20 (0.054 sec)\n"
          ],
          "name": "stderr"
        },
        {
          "output_type": "stream",
          "text": [
            "INFO:tensorflow:global_step = 20, loss = 0.6334634 (0.494 sec)\n"
          ],
          "name": "stdout"
        },
        {
          "output_type": "stream",
          "text": [
            "INFO:tensorflow:global_step = 20, loss = 0.6334634 (0.494 sec)\n"
          ],
          "name": "stderr"
        },
        {
          "output_type": "stream",
          "text": [
            "INFO:tensorflow:global_step/sec: 17.0099\n"
          ],
          "name": "stdout"
        },
        {
          "output_type": "stream",
          "text": [
            "INFO:tensorflow:global_step/sec: 17.0099\n"
          ],
          "name": "stderr"
        },
        {
          "output_type": "stream",
          "text": [
            "INFO:tensorflow:loss = 0.5008377, step = 21 (0.065 sec)\n"
          ],
          "name": "stdout"
        },
        {
          "output_type": "stream",
          "text": [
            "INFO:tensorflow:loss = 0.5008377, step = 21 (0.065 sec)\n"
          ],
          "name": "stderr"
        },
        {
          "output_type": "stream",
          "text": [
            "INFO:tensorflow:global_step/sec: 15.2038\n"
          ],
          "name": "stdout"
        },
        {
          "output_type": "stream",
          "text": [
            "INFO:tensorflow:global_step/sec: 15.2038\n"
          ],
          "name": "stderr"
        },
        {
          "output_type": "stream",
          "text": [
            "INFO:tensorflow:loss = 0.4775922, step = 22 (0.057 sec)\n"
          ],
          "name": "stdout"
        },
        {
          "output_type": "stream",
          "text": [
            "INFO:tensorflow:loss = 0.4775922, step = 22 (0.057 sec)\n"
          ],
          "name": "stderr"
        },
        {
          "output_type": "stream",
          "text": [
            "INFO:tensorflow:global_step/sec: 23.478\n"
          ],
          "name": "stdout"
        },
        {
          "output_type": "stream",
          "text": [
            "INFO:tensorflow:global_step/sec: 23.478\n"
          ],
          "name": "stderr"
        },
        {
          "output_type": "stream",
          "text": [
            "INFO:tensorflow:loss = 0.41769558, step = 23 (0.046 sec)\n"
          ],
          "name": "stdout"
        },
        {
          "output_type": "stream",
          "text": [
            "INFO:tensorflow:loss = 0.41769558, step = 23 (0.046 sec)\n"
          ],
          "name": "stderr"
        },
        {
          "output_type": "stream",
          "text": [
            "INFO:tensorflow:global_step/sec: 22.0134\n"
          ],
          "name": "stdout"
        },
        {
          "output_type": "stream",
          "text": [
            "INFO:tensorflow:global_step/sec: 22.0134\n"
          ],
          "name": "stderr"
        },
        {
          "output_type": "stream",
          "text": [
            "INFO:tensorflow:loss = 0.3300351, step = 24 (0.045 sec)\n"
          ],
          "name": "stdout"
        },
        {
          "output_type": "stream",
          "text": [
            "INFO:tensorflow:loss = 0.3300351, step = 24 (0.045 sec)\n"
          ],
          "name": "stderr"
        },
        {
          "output_type": "stream",
          "text": [
            "INFO:tensorflow:global_step/sec: 21.9209\n"
          ],
          "name": "stdout"
        },
        {
          "output_type": "stream",
          "text": [
            "INFO:tensorflow:global_step/sec: 21.9209\n"
          ],
          "name": "stderr"
        },
        {
          "output_type": "stream",
          "text": [
            "INFO:tensorflow:loss = 0.27360162, step = 25 (0.047 sec)\n"
          ],
          "name": "stdout"
        },
        {
          "output_type": "stream",
          "text": [
            "INFO:tensorflow:loss = 0.27360162, step = 25 (0.047 sec)\n"
          ],
          "name": "stderr"
        },
        {
          "output_type": "stream",
          "text": [
            "INFO:tensorflow:global_step/sec: 27.6266\n"
          ],
          "name": "stdout"
        },
        {
          "output_type": "stream",
          "text": [
            "INFO:tensorflow:global_step/sec: 27.6266\n"
          ],
          "name": "stderr"
        },
        {
          "output_type": "stream",
          "text": [
            "INFO:tensorflow:loss = 0.26757753, step = 26 (0.035 sec)\n"
          ],
          "name": "stdout"
        },
        {
          "output_type": "stream",
          "text": [
            "INFO:tensorflow:loss = 0.26757753, step = 26 (0.035 sec)\n"
          ],
          "name": "stderr"
        },
        {
          "output_type": "stream",
          "text": [
            "INFO:tensorflow:global_step/sec: 25.1007\n"
          ],
          "name": "stdout"
        },
        {
          "output_type": "stream",
          "text": [
            "INFO:tensorflow:global_step/sec: 25.1007\n"
          ],
          "name": "stderr"
        },
        {
          "output_type": "stream",
          "text": [
            "INFO:tensorflow:loss = 0.23487484, step = 27 (0.036 sec)\n"
          ],
          "name": "stdout"
        },
        {
          "output_type": "stream",
          "text": [
            "INFO:tensorflow:loss = 0.23487484, step = 27 (0.036 sec)\n"
          ],
          "name": "stderr"
        },
        {
          "output_type": "stream",
          "text": [
            "INFO:tensorflow:global_step/sec: 20.1329\n"
          ],
          "name": "stdout"
        },
        {
          "output_type": "stream",
          "text": [
            "INFO:tensorflow:global_step/sec: 20.1329\n"
          ],
          "name": "stderr"
        },
        {
          "output_type": "stream",
          "text": [
            "INFO:tensorflow:loss = 0.2430731, step = 28 (0.054 sec)\n"
          ],
          "name": "stdout"
        },
        {
          "output_type": "stream",
          "text": [
            "INFO:tensorflow:loss = 0.2430731, step = 28 (0.054 sec)\n"
          ],
          "name": "stderr"
        },
        {
          "output_type": "stream",
          "text": [
            "INFO:tensorflow:Saving checkpoints for 30 into output/model.ckpt.\n"
          ],
          "name": "stdout"
        },
        {
          "output_type": "stream",
          "text": [
            "INFO:tensorflow:Saving checkpoints for 30 into output/model.ckpt.\n"
          ],
          "name": "stderr"
        },
        {
          "output_type": "stream",
          "text": [
            "INFO:tensorflow:Calling model_fn.\n"
          ],
          "name": "stdout"
        },
        {
          "output_type": "stream",
          "text": [
            "INFO:tensorflow:Calling model_fn.\n"
          ],
          "name": "stderr"
        },
        {
          "output_type": "stream",
          "text": [
            "WARNING:tensorflow:From /usr/local/lib/python3.6/dist-packages/detext/train/metrics.py:191: The name tf.metrics.accuracy is deprecated. Please use tf.compat.v1.metrics.accuracy instead.\n",
            "\n"
          ],
          "name": "stdout"
        },
        {
          "output_type": "stream",
          "text": [
            "WARNING:tensorflow:From /usr/local/lib/python3.6/dist-packages/detext/train/metrics.py:191: The name tf.metrics.accuracy is deprecated. Please use tf.compat.v1.metrics.accuracy instead.\n",
            "\n"
          ],
          "name": "stderr"
        },
        {
          "output_type": "stream",
          "text": [
            "WARNING:tensorflow:From /usr/local/lib/python3.6/dist-packages/detext/train/metrics.py:169: The name tf.confusion_matrix is deprecated. Please use tf.math.confusion_matrix instead.\n",
            "\n"
          ],
          "name": "stdout"
        },
        {
          "output_type": "stream",
          "text": [
            "WARNING:tensorflow:From /usr/local/lib/python3.6/dist-packages/detext/train/metrics.py:169: The name tf.confusion_matrix is deprecated. Please use tf.math.confusion_matrix instead.\n",
            "\n"
          ],
          "name": "stderr"
        },
        {
          "output_type": "stream",
          "text": [
            "WARNING:tensorflow:From /usr/local/lib/python3.6/dist-packages/detext/train/metrics.py:175: The name tf.GraphKeys is deprecated. Please use tf.compat.v1.GraphKeys instead.\n",
            "\n"
          ],
          "name": "stdout"
        },
        {
          "output_type": "stream",
          "text": [
            "WARNING:tensorflow:From /usr/local/lib/python3.6/dist-packages/detext/train/metrics.py:175: The name tf.GraphKeys is deprecated. Please use tf.compat.v1.GraphKeys instead.\n",
            "\n"
          ],
          "name": "stderr"
        },
        {
          "output_type": "stream",
          "text": [
            "WARNING:tensorflow:From /usr/local/lib/python3.6/dist-packages/detext/train/metrics.py:176: The name tf.assign_add is deprecated. Please use tf.compat.v1.assign_add instead.\n",
            "\n"
          ],
          "name": "stdout"
        },
        {
          "output_type": "stream",
          "text": [
            "WARNING:tensorflow:From /usr/local/lib/python3.6/dist-packages/detext/train/metrics.py:176: The name tf.assign_add is deprecated. Please use tf.compat.v1.assign_add instead.\n",
            "\n"
          ],
          "name": "stderr"
        },
        {
          "output_type": "stream",
          "text": [
            "INFO:tensorflow:Done calling model_fn.\n"
          ],
          "name": "stdout"
        },
        {
          "output_type": "stream",
          "text": [
            "INFO:tensorflow:Done calling model_fn.\n"
          ],
          "name": "stderr"
        },
        {
          "output_type": "stream",
          "text": [
            "INFO:tensorflow:Starting evaluation at 2020-08-21T09:12:43Z\n"
          ],
          "name": "stdout"
        },
        {
          "output_type": "stream",
          "text": [
            "INFO:tensorflow:Starting evaluation at 2020-08-21T09:12:43Z\n"
          ],
          "name": "stderr"
        },
        {
          "output_type": "stream",
          "text": [
            "INFO:tensorflow:Graph was finalized.\n"
          ],
          "name": "stdout"
        },
        {
          "output_type": "stream",
          "text": [
            "INFO:tensorflow:Graph was finalized.\n"
          ],
          "name": "stderr"
        },
        {
          "output_type": "stream",
          "text": [
            "INFO:tensorflow:Restoring parameters from output/model.ckpt-30\n"
          ],
          "name": "stdout"
        },
        {
          "output_type": "stream",
          "text": [
            "INFO:tensorflow:Restoring parameters from output/model.ckpt-30\n"
          ],
          "name": "stderr"
        },
        {
          "output_type": "stream",
          "text": [
            "INFO:tensorflow:Running local_init_op.\n"
          ],
          "name": "stdout"
        },
        {
          "output_type": "stream",
          "text": [
            "INFO:tensorflow:Running local_init_op.\n"
          ],
          "name": "stderr"
        },
        {
          "output_type": "stream",
          "text": [
            "INFO:tensorflow:Done running local_init_op.\n"
          ],
          "name": "stdout"
        },
        {
          "output_type": "stream",
          "text": [
            "INFO:tensorflow:Done running local_init_op.\n"
          ],
          "name": "stderr"
        },
        {
          "output_type": "stream",
          "text": [
            "INFO:tensorflow:Finished evaluation at 2020-08-21-09:12:44\n"
          ],
          "name": "stdout"
        },
        {
          "output_type": "stream",
          "text": [
            "INFO:tensorflow:Finished evaluation at 2020-08-21-09:12:44\n"
          ],
          "name": "stderr"
        },
        {
          "output_type": "stream",
          "text": [
            "INFO:tensorflow:Saving dict for global step 30: global_step = 30, loss = 0.21326783, metric/accuracy = 0.9474131, metric/confusion_matrix = [[185   0   1   0   0   0]\n",
            " [  2 193   2   1   2   0]\n",
            " [  0   1 233   0   0   0]\n",
            " [  1   0   0 182   1   0]\n",
            " [  7   3   1   6 157  10]\n",
            " [  1   0   2   4  17 167]]\n"
          ],
          "name": "stdout"
        },
        {
          "output_type": "stream",
          "text": [
            "INFO:tensorflow:Saving dict for global step 30: global_step = 30, loss = 0.21326783, metric/accuracy = 0.9474131, metric/confusion_matrix = [[185   0   1   0   0   0]\n",
            " [  2 193   2   1   2   0]\n",
            " [  0   1 233   0   0   0]\n",
            " [  1   0   0 182   1   0]\n",
            " [  7   3   1   6 157  10]\n",
            " [  1   0   2   4  17 167]]\n"
          ],
          "name": "stderr"
        },
        {
          "output_type": "stream",
          "text": [
            "INFO:tensorflow:Summary for np.ndarray is not visible in Tensorboard by default. Consider using a Tensorboard plugin for visualization (see https://github.com/tensorflow/tensorboard-plugin-example/blob/master/README.md for more information).\n"
          ],
          "name": "stdout"
        },
        {
          "output_type": "stream",
          "text": [
            "INFO:tensorflow:Summary for np.ndarray is not visible in Tensorboard by default. Consider using a Tensorboard plugin for visualization (see https://github.com/tensorflow/tensorboard-plugin-example/blob/master/README.md for more information).\n"
          ],
          "name": "stderr"
        },
        {
          "output_type": "stream",
          "text": [
            "INFO:tensorflow:Saving 'checkpoint_path' summary for global step 30: output/model.ckpt-30\n"
          ],
          "name": "stdout"
        },
        {
          "output_type": "stream",
          "text": [
            "INFO:tensorflow:Saving 'checkpoint_path' summary for global step 30: output/model.ckpt-30\n"
          ],
          "name": "stderr"
        },
        {
          "output_type": "stream",
          "text": [
            "INFO:tensorflow:## Step 30\n"
          ],
          "name": "stdout"
        },
        {
          "output_type": "stream",
          "text": [
            "INFO:tensorflow:## Step 30\n"
          ],
          "name": "stderr"
        },
        {
          "output_type": "stream",
          "text": [
            "INFO:tensorflow:loss : 0.21326783299446106\n"
          ],
          "name": "stdout"
        },
        {
          "output_type": "stream",
          "text": [
            "INFO:tensorflow:loss : 0.21326783299446106\n"
          ],
          "name": "stderr"
        },
        {
          "output_type": "stream",
          "text": [
            "INFO:tensorflow:[[185   0   1   0   0   0]\n",
            " [  2 193   2   1   2   0]\n",
            " [  0   1 233   0   0   0]\n",
            " [  1   0   0 182   1   0]\n",
            " [  7   3   1   6 157  10]\n",
            " [  1   0   2   4  17 167]] : \n"
          ],
          "name": "stdout"
        },
        {
          "output_type": "stream",
          "text": [
            "INFO:tensorflow:[[185   0   1   0   0   0]\n",
            " [  2 193   2   1   2   0]\n",
            " [  0   1 233   0   0   0]\n",
            " [  1   0   0 182   1   0]\n",
            " [  7   3   1   6 157  10]\n",
            " [  1   0   2   4  17 167]] : \n"
          ],
          "name": "stderr"
        },
        {
          "output_type": "stream",
          "text": [
            "INFO:tensorflow:[[185   0   1   0   0   0]\n",
            " [  2 193   2   1   2   0]\n",
            " [  0   1 233   0   0   0]\n",
            " [  1   0   0 182   1   0]\n",
            " [  7   3   1   6 157  10]\n",
            " [  1   0   2   4  17 167]]\n"
          ],
          "name": "stdout"
        },
        {
          "output_type": "stream",
          "text": [
            "INFO:tensorflow:[[185   0   1   0   0   0]\n",
            " [  2 193   2   1   2   0]\n",
            " [  0   1 233   0   0   0]\n",
            " [  1   0   0 182   1   0]\n",
            " [  7   3   1   6 157  10]\n",
            " [  1   0   2   4  17 167]]\n"
          ],
          "name": "stderr"
        },
        {
          "output_type": "stream",
          "text": [
            "INFO:tensorflow:Checking checkpoint model.ckpt-30\n"
          ],
          "name": "stdout"
        },
        {
          "output_type": "stream",
          "text": [
            "INFO:tensorflow:Checking checkpoint model.ckpt-30\n"
          ],
          "name": "stderr"
        },
        {
          "output_type": "stream",
          "text": [
            "INFO:tensorflow:keeping checkpoint model.ckpt-30 with metric/accuracy = 0.9474130868911743\n"
          ],
          "name": "stdout"
        },
        {
          "output_type": "stream",
          "text": [
            "INFO:tensorflow:keeping checkpoint model.ckpt-30 with metric/accuracy = 0.9474130868911743\n"
          ],
          "name": "stderr"
        },
        {
          "output_type": "stream",
          "text": [
            "WARNING:tensorflow:From /usr/local/lib/python3.6/dist-packages/detext/utils/best_checkpoint_copier.py:73: The name tf.gfile.MkDir is deprecated. Please use tf.io.gfile.mkdir instead.\n",
            "\n"
          ],
          "name": "stdout"
        },
        {
          "output_type": "stream",
          "text": [
            "WARNING:tensorflow:From /usr/local/lib/python3.6/dist-packages/detext/utils/best_checkpoint_copier.py:73: The name tf.gfile.MkDir is deprecated. Please use tf.io.gfile.mkdir instead.\n",
            "\n"
          ],
          "name": "stderr"
        },
        {
          "output_type": "stream",
          "text": [
            "WARNING:tensorflow:From /usr/local/lib/python3.6/dist-packages/detext/utils/best_checkpoint_copier.py:76: The name tf.gfile.Copy is deprecated. Please use tf.io.gfile.copy instead.\n",
            "\n"
          ],
          "name": "stdout"
        },
        {
          "output_type": "stream",
          "text": [
            "WARNING:tensorflow:From /usr/local/lib/python3.6/dist-packages/detext/utils/best_checkpoint_copier.py:76: The name tf.gfile.Copy is deprecated. Please use tf.io.gfile.copy instead.\n",
            "\n"
          ],
          "name": "stderr"
        },
        {
          "output_type": "stream",
          "text": [
            "WARNING:tensorflow:From /usr/local/lib/python3.6/dist-packages/detext/train/train_helper.py:65: The name tf.placeholder is deprecated. Please use tf.compat.v1.placeholder instead.\n",
            "\n"
          ],
          "name": "stdout"
        },
        {
          "output_type": "stream",
          "text": [
            "WARNING:tensorflow:From /usr/local/lib/python3.6/dist-packages/detext/train/train_helper.py:65: The name tf.placeholder is deprecated. Please use tf.compat.v1.placeholder instead.\n",
            "\n"
          ],
          "name": "stderr"
        },
        {
          "output_type": "stream",
          "text": [
            "WARNING:tensorflow:From /usr/local/lib/python3.6/dist-packages/detext/train/train_helper.py:71: The name tf.regex_replace is deprecated. Please use tf.strings.regex_replace instead.\n",
            "\n"
          ],
          "name": "stdout"
        },
        {
          "output_type": "stream",
          "text": [
            "WARNING:tensorflow:From /usr/local/lib/python3.6/dist-packages/detext/train/train_helper.py:71: The name tf.regex_replace is deprecated. Please use tf.strings.regex_replace instead.\n",
            "\n"
          ],
          "name": "stderr"
        },
        {
          "output_type": "stream",
          "text": [
            "INFO:tensorflow:Calling model_fn.\n"
          ],
          "name": "stdout"
        },
        {
          "output_type": "stream",
          "text": [
            "INFO:tensorflow:Calling model_fn.\n"
          ],
          "name": "stderr"
        },
        {
          "output_type": "stream",
          "text": [
            "INFO:tensorflow:Done calling model_fn.\n"
          ],
          "name": "stdout"
        },
        {
          "output_type": "stream",
          "text": [
            "INFO:tensorflow:Done calling model_fn.\n"
          ],
          "name": "stderr"
        },
        {
          "output_type": "stream",
          "text": [
            "WARNING:tensorflow:From /tensorflow-1.15.2/python3.6/tensorflow_core/python/saved_model/signature_def_utils_impl.py:201: build_tensor_info (from tensorflow.python.saved_model.utils_impl) is deprecated and will be removed in a future version.\n",
            "Instructions for updating:\n",
            "This function will only be available through the v1 compatibility library as tf.compat.v1.saved_model.utils.build_tensor_info or tf.compat.v1.saved_model.build_tensor_info.\n"
          ],
          "name": "stdout"
        },
        {
          "output_type": "stream",
          "text": [
            "WARNING:tensorflow:From /tensorflow-1.15.2/python3.6/tensorflow_core/python/saved_model/signature_def_utils_impl.py:201: build_tensor_info (from tensorflow.python.saved_model.utils_impl) is deprecated and will be removed in a future version.\n",
            "Instructions for updating:\n",
            "This function will only be available through the v1 compatibility library as tf.compat.v1.saved_model.utils.build_tensor_info or tf.compat.v1.saved_model.build_tensor_info.\n"
          ],
          "name": "stderr"
        },
        {
          "output_type": "stream",
          "text": [
            "INFO:tensorflow:Signatures INCLUDED in export for Classify: None\n"
          ],
          "name": "stdout"
        },
        {
          "output_type": "stream",
          "text": [
            "INFO:tensorflow:Signatures INCLUDED in export for Classify: None\n"
          ],
          "name": "stderr"
        },
        {
          "output_type": "stream",
          "text": [
            "INFO:tensorflow:Signatures INCLUDED in export for Regress: None\n"
          ],
          "name": "stdout"
        },
        {
          "output_type": "stream",
          "text": [
            "INFO:tensorflow:Signatures INCLUDED in export for Regress: None\n"
          ],
          "name": "stderr"
        },
        {
          "output_type": "stream",
          "text": [
            "INFO:tensorflow:Signatures INCLUDED in export for Predict: ['prediction', 'serving_default']\n"
          ],
          "name": "stdout"
        },
        {
          "output_type": "stream",
          "text": [
            "INFO:tensorflow:Signatures INCLUDED in export for Predict: ['prediction', 'serving_default']\n"
          ],
          "name": "stderr"
        },
        {
          "output_type": "stream",
          "text": [
            "INFO:tensorflow:Signatures INCLUDED in export for Train: None\n"
          ],
          "name": "stdout"
        },
        {
          "output_type": "stream",
          "text": [
            "INFO:tensorflow:Signatures INCLUDED in export for Train: None\n"
          ],
          "name": "stderr"
        },
        {
          "output_type": "stream",
          "text": [
            "INFO:tensorflow:Signatures INCLUDED in export for Eval: None\n"
          ],
          "name": "stdout"
        },
        {
          "output_type": "stream",
          "text": [
            "INFO:tensorflow:Signatures INCLUDED in export for Eval: None\n"
          ],
          "name": "stderr"
        },
        {
          "output_type": "stream",
          "text": [
            "INFO:tensorflow:Restoring parameters from output/model.ckpt-30\n"
          ],
          "name": "stdout"
        },
        {
          "output_type": "stream",
          "text": [
            "INFO:tensorflow:Restoring parameters from output/model.ckpt-30\n"
          ],
          "name": "stderr"
        },
        {
          "output_type": "stream",
          "text": [
            "INFO:tensorflow:Assets added to graph.\n"
          ],
          "name": "stdout"
        },
        {
          "output_type": "stream",
          "text": [
            "INFO:tensorflow:Assets added to graph.\n"
          ],
          "name": "stderr"
        },
        {
          "output_type": "stream",
          "text": [
            "INFO:tensorflow:No assets to write.\n"
          ],
          "name": "stdout"
        },
        {
          "output_type": "stream",
          "text": [
            "INFO:tensorflow:No assets to write.\n"
          ],
          "name": "stderr"
        },
        {
          "output_type": "stream",
          "text": [
            "INFO:tensorflow:SavedModel written to: output/export/best_accuracy/temp-b'1598001164'/saved_model.pb\n"
          ],
          "name": "stdout"
        },
        {
          "output_type": "stream",
          "text": [
            "INFO:tensorflow:SavedModel written to: output/export/best_accuracy/temp-b'1598001164'/saved_model.pb\n"
          ],
          "name": "stderr"
        },
        {
          "output_type": "stream",
          "text": [
            "INFO:tensorflow:global_step/sec: 0.325697\n"
          ],
          "name": "stdout"
        },
        {
          "output_type": "stream",
          "text": [
            "INFO:tensorflow:global_step/sec: 0.325697\n"
          ],
          "name": "stderr"
        },
        {
          "output_type": "stream",
          "text": [
            "INFO:tensorflow:loss = 0.19659615, step = 29 (3.064 sec)\n"
          ],
          "name": "stdout"
        },
        {
          "output_type": "stream",
          "text": [
            "INFO:tensorflow:loss = 0.19659615, step = 29 (3.064 sec)\n"
          ],
          "name": "stderr"
        },
        {
          "output_type": "stream",
          "text": [
            "INFO:tensorflow:global_step/sec: 28.35\n"
          ],
          "name": "stdout"
        },
        {
          "output_type": "stream",
          "text": [
            "INFO:tensorflow:global_step/sec: 28.35\n"
          ],
          "name": "stderr"
        },
        {
          "output_type": "stream",
          "text": [
            "INFO:tensorflow:loss = 0.39697993, step = 30 (0.038 sec)\n"
          ],
          "name": "stdout"
        },
        {
          "output_type": "stream",
          "text": [
            "INFO:tensorflow:loss = 0.39697993, step = 30 (0.038 sec)\n"
          ],
          "name": "stderr"
        },
        {
          "output_type": "stream",
          "text": [
            "INFO:tensorflow:global_step = 30, loss = 0.39697993 (3.489 sec)\n"
          ],
          "name": "stdout"
        },
        {
          "output_type": "stream",
          "text": [
            "INFO:tensorflow:global_step = 30, loss = 0.39697993 (3.489 sec)\n"
          ],
          "name": "stderr"
        },
        {
          "output_type": "stream",
          "text": [
            "INFO:tensorflow:global_step/sec: 18.1572\n"
          ],
          "name": "stdout"
        },
        {
          "output_type": "stream",
          "text": [
            "INFO:tensorflow:global_step/sec: 18.1572\n"
          ],
          "name": "stderr"
        },
        {
          "output_type": "stream",
          "text": [
            "INFO:tensorflow:loss = 0.2334094, step = 31 (0.057 sec)\n"
          ],
          "name": "stdout"
        },
        {
          "output_type": "stream",
          "text": [
            "INFO:tensorflow:loss = 0.2334094, step = 31 (0.057 sec)\n"
          ],
          "name": "stderr"
        },
        {
          "output_type": "stream",
          "text": [
            "INFO:tensorflow:global_step/sec: 30.3221\n"
          ],
          "name": "stdout"
        },
        {
          "output_type": "stream",
          "text": [
            "INFO:tensorflow:global_step/sec: 30.3221\n"
          ],
          "name": "stderr"
        },
        {
          "output_type": "stream",
          "text": [
            "INFO:tensorflow:loss = 0.33961508, step = 32 (0.030 sec)\n"
          ],
          "name": "stdout"
        },
        {
          "output_type": "stream",
          "text": [
            "INFO:tensorflow:loss = 0.33961508, step = 32 (0.030 sec)\n"
          ],
          "name": "stderr"
        },
        {
          "output_type": "stream",
          "text": [
            "INFO:tensorflow:global_step/sec: 27.228\n"
          ],
          "name": "stdout"
        },
        {
          "output_type": "stream",
          "text": [
            "INFO:tensorflow:global_step/sec: 27.228\n"
          ],
          "name": "stderr"
        },
        {
          "output_type": "stream",
          "text": [
            "INFO:tensorflow:loss = 0.2609874, step = 33 (0.037 sec)\n"
          ],
          "name": "stdout"
        },
        {
          "output_type": "stream",
          "text": [
            "INFO:tensorflow:loss = 0.2609874, step = 33 (0.037 sec)\n"
          ],
          "name": "stderr"
        },
        {
          "output_type": "stream",
          "text": [
            "INFO:tensorflow:global_step/sec: 25.5046\n"
          ],
          "name": "stdout"
        },
        {
          "output_type": "stream",
          "text": [
            "INFO:tensorflow:global_step/sec: 25.5046\n"
          ],
          "name": "stderr"
        },
        {
          "output_type": "stream",
          "text": [
            "INFO:tensorflow:loss = 0.11851588, step = 34 (0.044 sec)\n"
          ],
          "name": "stdout"
        },
        {
          "output_type": "stream",
          "text": [
            "INFO:tensorflow:loss = 0.11851588, step = 34 (0.044 sec)\n"
          ],
          "name": "stderr"
        },
        {
          "output_type": "stream",
          "text": [
            "INFO:tensorflow:global_step/sec: 28.2507\n"
          ],
          "name": "stdout"
        },
        {
          "output_type": "stream",
          "text": [
            "INFO:tensorflow:global_step/sec: 28.2507\n"
          ],
          "name": "stderr"
        },
        {
          "output_type": "stream",
          "text": [
            "INFO:tensorflow:loss = 0.16322228, step = 35 (0.032 sec)\n"
          ],
          "name": "stdout"
        },
        {
          "output_type": "stream",
          "text": [
            "INFO:tensorflow:loss = 0.16322228, step = 35 (0.032 sec)\n"
          ],
          "name": "stderr"
        },
        {
          "output_type": "stream",
          "text": [
            "INFO:tensorflow:global_step/sec: 24.7742\n"
          ],
          "name": "stdout"
        },
        {
          "output_type": "stream",
          "text": [
            "INFO:tensorflow:global_step/sec: 24.7742\n"
          ],
          "name": "stderr"
        },
        {
          "output_type": "stream",
          "text": [
            "INFO:tensorflow:loss = 0.19949603, step = 36 (0.040 sec)\n"
          ],
          "name": "stdout"
        },
        {
          "output_type": "stream",
          "text": [
            "INFO:tensorflow:loss = 0.19949603, step = 36 (0.040 sec)\n"
          ],
          "name": "stderr"
        },
        {
          "output_type": "stream",
          "text": [
            "INFO:tensorflow:global_step/sec: 27.461\n"
          ],
          "name": "stdout"
        },
        {
          "output_type": "stream",
          "text": [
            "INFO:tensorflow:global_step/sec: 27.461\n"
          ],
          "name": "stderr"
        },
        {
          "output_type": "stream",
          "text": [
            "INFO:tensorflow:loss = 0.16721064, step = 37 (0.036 sec)\n"
          ],
          "name": "stdout"
        },
        {
          "output_type": "stream",
          "text": [
            "INFO:tensorflow:loss = 0.16721064, step = 37 (0.036 sec)\n"
          ],
          "name": "stderr"
        },
        {
          "output_type": "stream",
          "text": [
            "INFO:tensorflow:global_step/sec: 33.8354\n"
          ],
          "name": "stdout"
        },
        {
          "output_type": "stream",
          "text": [
            "INFO:tensorflow:global_step/sec: 33.8354\n"
          ],
          "name": "stderr"
        },
        {
          "output_type": "stream",
          "text": [
            "INFO:tensorflow:loss = 0.117680565, step = 38 (0.035 sec)\n"
          ],
          "name": "stdout"
        },
        {
          "output_type": "stream",
          "text": [
            "INFO:tensorflow:loss = 0.117680565, step = 38 (0.035 sec)\n"
          ],
          "name": "stderr"
        },
        {
          "output_type": "stream",
          "text": [
            "INFO:tensorflow:global_step/sec: 20.6706\n"
          ],
          "name": "stdout"
        },
        {
          "output_type": "stream",
          "text": [
            "INFO:tensorflow:global_step/sec: 20.6706\n"
          ],
          "name": "stderr"
        },
        {
          "output_type": "stream",
          "text": [
            "INFO:tensorflow:loss = 0.15406914, step = 39 (0.045 sec)\n"
          ],
          "name": "stdout"
        },
        {
          "output_type": "stream",
          "text": [
            "INFO:tensorflow:loss = 0.15406914, step = 39 (0.045 sec)\n"
          ],
          "name": "stderr"
        },
        {
          "output_type": "stream",
          "text": [
            "INFO:tensorflow:global_step/sec: 26.4717\n"
          ],
          "name": "stdout"
        },
        {
          "output_type": "stream",
          "text": [
            "INFO:tensorflow:global_step/sec: 26.4717\n"
          ],
          "name": "stderr"
        },
        {
          "output_type": "stream",
          "text": [
            "INFO:tensorflow:loss = 0.17430687, step = 40 (0.040 sec)\n"
          ],
          "name": "stdout"
        },
        {
          "output_type": "stream",
          "text": [
            "INFO:tensorflow:loss = 0.17430687, step = 40 (0.040 sec)\n"
          ],
          "name": "stderr"
        },
        {
          "output_type": "stream",
          "text": [
            "INFO:tensorflow:global_step = 40, loss = 0.17430687 (0.393 sec)\n"
          ],
          "name": "stdout"
        },
        {
          "output_type": "stream",
          "text": [
            "INFO:tensorflow:global_step = 40, loss = 0.17430687 (0.393 sec)\n"
          ],
          "name": "stderr"
        },
        {
          "output_type": "stream",
          "text": [
            "INFO:tensorflow:global_step/sec: 20.9355\n"
          ],
          "name": "stdout"
        },
        {
          "output_type": "stream",
          "text": [
            "INFO:tensorflow:global_step/sec: 20.9355\n"
          ],
          "name": "stderr"
        },
        {
          "output_type": "stream",
          "text": [
            "INFO:tensorflow:loss = 0.15344352, step = 41 (0.045 sec)\n"
          ],
          "name": "stdout"
        },
        {
          "output_type": "stream",
          "text": [
            "INFO:tensorflow:loss = 0.15344352, step = 41 (0.045 sec)\n"
          ],
          "name": "stderr"
        },
        {
          "output_type": "stream",
          "text": [
            "INFO:tensorflow:global_step/sec: 23.739\n"
          ],
          "name": "stdout"
        },
        {
          "output_type": "stream",
          "text": [
            "INFO:tensorflow:global_step/sec: 23.739\n"
          ],
          "name": "stderr"
        },
        {
          "output_type": "stream",
          "text": [
            "INFO:tensorflow:loss = 0.12580088, step = 42 (0.039 sec)\n"
          ],
          "name": "stdout"
        },
        {
          "output_type": "stream",
          "text": [
            "INFO:tensorflow:loss = 0.12580088, step = 42 (0.039 sec)\n"
          ],
          "name": "stderr"
        },
        {
          "output_type": "stream",
          "text": [
            "INFO:tensorflow:global_step/sec: 32.3375\n"
          ],
          "name": "stdout"
        },
        {
          "output_type": "stream",
          "text": [
            "INFO:tensorflow:global_step/sec: 32.3375\n"
          ],
          "name": "stderr"
        },
        {
          "output_type": "stream",
          "text": [
            "INFO:tensorflow:loss = 0.11021854, step = 43 (0.034 sec)\n"
          ],
          "name": "stdout"
        },
        {
          "output_type": "stream",
          "text": [
            "INFO:tensorflow:loss = 0.11021854, step = 43 (0.034 sec)\n"
          ],
          "name": "stderr"
        },
        {
          "output_type": "stream",
          "text": [
            "INFO:tensorflow:global_step/sec: 24.9453\n"
          ],
          "name": "stdout"
        },
        {
          "output_type": "stream",
          "text": [
            "INFO:tensorflow:global_step/sec: 24.9453\n"
          ],
          "name": "stderr"
        },
        {
          "output_type": "stream",
          "text": [
            "INFO:tensorflow:loss = 0.07398174, step = 44 (0.038 sec)\n"
          ],
          "name": "stdout"
        },
        {
          "output_type": "stream",
          "text": [
            "INFO:tensorflow:loss = 0.07398174, step = 44 (0.038 sec)\n"
          ],
          "name": "stderr"
        },
        {
          "output_type": "stream",
          "text": [
            "INFO:tensorflow:global_step/sec: 35.3109\n"
          ],
          "name": "stdout"
        },
        {
          "output_type": "stream",
          "text": [
            "INFO:tensorflow:global_step/sec: 35.3109\n"
          ],
          "name": "stderr"
        },
        {
          "output_type": "stream",
          "text": [
            "INFO:tensorflow:loss = 0.09749543, step = 45 (0.030 sec)\n"
          ],
          "name": "stdout"
        },
        {
          "output_type": "stream",
          "text": [
            "INFO:tensorflow:loss = 0.09749543, step = 45 (0.030 sec)\n"
          ],
          "name": "stderr"
        },
        {
          "output_type": "stream",
          "text": [
            "INFO:tensorflow:global_step/sec: 21.0507\n"
          ],
          "name": "stdout"
        },
        {
          "output_type": "stream",
          "text": [
            "INFO:tensorflow:global_step/sec: 21.0507\n"
          ],
          "name": "stderr"
        },
        {
          "output_type": "stream",
          "text": [
            "INFO:tensorflow:loss = 0.05970943, step = 46 (0.056 sec)\n"
          ],
          "name": "stdout"
        },
        {
          "output_type": "stream",
          "text": [
            "INFO:tensorflow:loss = 0.05970943, step = 46 (0.056 sec)\n"
          ],
          "name": "stderr"
        },
        {
          "output_type": "stream",
          "text": [
            "INFO:tensorflow:global_step/sec: 22.627\n"
          ],
          "name": "stdout"
        },
        {
          "output_type": "stream",
          "text": [
            "INFO:tensorflow:global_step/sec: 22.627\n"
          ],
          "name": "stderr"
        },
        {
          "output_type": "stream",
          "text": [
            "INFO:tensorflow:loss = 0.16819778, step = 47 (0.038 sec)\n"
          ],
          "name": "stdout"
        },
        {
          "output_type": "stream",
          "text": [
            "INFO:tensorflow:loss = 0.16819778, step = 47 (0.038 sec)\n"
          ],
          "name": "stderr"
        },
        {
          "output_type": "stream",
          "text": [
            "INFO:tensorflow:global_step/sec: 27.7509\n"
          ],
          "name": "stdout"
        },
        {
          "output_type": "stream",
          "text": [
            "INFO:tensorflow:global_step/sec: 27.7509\n"
          ],
          "name": "stderr"
        },
        {
          "output_type": "stream",
          "text": [
            "INFO:tensorflow:loss = 0.08531657, step = 48 (0.034 sec)\n"
          ],
          "name": "stdout"
        },
        {
          "output_type": "stream",
          "text": [
            "INFO:tensorflow:loss = 0.08531657, step = 48 (0.034 sec)\n"
          ],
          "name": "stderr"
        },
        {
          "output_type": "stream",
          "text": [
            "INFO:tensorflow:global_step/sec: 33.5673\n"
          ],
          "name": "stdout"
        },
        {
          "output_type": "stream",
          "text": [
            "INFO:tensorflow:global_step/sec: 33.5673\n"
          ],
          "name": "stderr"
        },
        {
          "output_type": "stream",
          "text": [
            "INFO:tensorflow:loss = 0.06501505, step = 49 (0.034 sec)\n"
          ],
          "name": "stdout"
        },
        {
          "output_type": "stream",
          "text": [
            "INFO:tensorflow:loss = 0.06501505, step = 49 (0.034 sec)\n"
          ],
          "name": "stderr"
        },
        {
          "output_type": "stream",
          "text": [
            "INFO:tensorflow:global_step/sec: 20.5025\n"
          ],
          "name": "stdout"
        },
        {
          "output_type": "stream",
          "text": [
            "INFO:tensorflow:global_step/sec: 20.5025\n"
          ],
          "name": "stderr"
        },
        {
          "output_type": "stream",
          "text": [
            "INFO:tensorflow:loss = 0.090449914, step = 50 (0.043 sec)\n"
          ],
          "name": "stdout"
        },
        {
          "output_type": "stream",
          "text": [
            "INFO:tensorflow:loss = 0.090449914, step = 50 (0.043 sec)\n"
          ],
          "name": "stderr"
        },
        {
          "output_type": "stream",
          "text": [
            "INFO:tensorflow:global_step = 50, loss = 0.090449914 (0.392 sec)\n"
          ],
          "name": "stdout"
        },
        {
          "output_type": "stream",
          "text": [
            "INFO:tensorflow:global_step = 50, loss = 0.090449914 (0.392 sec)\n"
          ],
          "name": "stderr"
        },
        {
          "output_type": "stream",
          "text": [
            "INFO:tensorflow:global_step/sec: 21.9644\n"
          ],
          "name": "stdout"
        },
        {
          "output_type": "stream",
          "text": [
            "INFO:tensorflow:global_step/sec: 21.9644\n"
          ],
          "name": "stderr"
        },
        {
          "output_type": "stream",
          "text": [
            "INFO:tensorflow:loss = 0.0828663, step = 51 (0.047 sec)\n"
          ],
          "name": "stdout"
        },
        {
          "output_type": "stream",
          "text": [
            "INFO:tensorflow:loss = 0.0828663, step = 51 (0.047 sec)\n"
          ],
          "name": "stderr"
        },
        {
          "output_type": "stream",
          "text": [
            "INFO:tensorflow:global_step/sec: 28.3343\n"
          ],
          "name": "stdout"
        },
        {
          "output_type": "stream",
          "text": [
            "INFO:tensorflow:global_step/sec: 28.3343\n"
          ],
          "name": "stderr"
        },
        {
          "output_type": "stream",
          "text": [
            "INFO:tensorflow:loss = 0.059951648, step = 52 (0.037 sec)\n"
          ],
          "name": "stdout"
        },
        {
          "output_type": "stream",
          "text": [
            "INFO:tensorflow:loss = 0.059951648, step = 52 (0.037 sec)\n"
          ],
          "name": "stderr"
        },
        {
          "output_type": "stream",
          "text": [
            "INFO:tensorflow:global_step/sec: 25.9669\n"
          ],
          "name": "stdout"
        },
        {
          "output_type": "stream",
          "text": [
            "INFO:tensorflow:global_step/sec: 25.9669\n"
          ],
          "name": "stderr"
        },
        {
          "output_type": "stream",
          "text": [
            "INFO:tensorflow:loss = 0.06972711, step = 53 (0.040 sec)\n"
          ],
          "name": "stdout"
        },
        {
          "output_type": "stream",
          "text": [
            "INFO:tensorflow:loss = 0.06972711, step = 53 (0.040 sec)\n"
          ],
          "name": "stderr"
        },
        {
          "output_type": "stream",
          "text": [
            "INFO:tensorflow:global_step/sec: 24.3926\n"
          ],
          "name": "stdout"
        },
        {
          "output_type": "stream",
          "text": [
            "INFO:tensorflow:global_step/sec: 24.3926\n"
          ],
          "name": "stderr"
        },
        {
          "output_type": "stream",
          "text": [
            "INFO:tensorflow:loss = 0.03643117, step = 54 (0.046 sec)\n"
          ],
          "name": "stdout"
        },
        {
          "output_type": "stream",
          "text": [
            "INFO:tensorflow:loss = 0.03643117, step = 54 (0.046 sec)\n"
          ],
          "name": "stderr"
        },
        {
          "output_type": "stream",
          "text": [
            "INFO:tensorflow:global_step/sec: 28.7886\n"
          ],
          "name": "stdout"
        },
        {
          "output_type": "stream",
          "text": [
            "INFO:tensorflow:global_step/sec: 28.7886\n"
          ],
          "name": "stderr"
        },
        {
          "output_type": "stream",
          "text": [
            "INFO:tensorflow:loss = 0.024337409, step = 55 (0.031 sec)\n"
          ],
          "name": "stdout"
        },
        {
          "output_type": "stream",
          "text": [
            "INFO:tensorflow:loss = 0.024337409, step = 55 (0.031 sec)\n"
          ],
          "name": "stderr"
        },
        {
          "output_type": "stream",
          "text": [
            "INFO:tensorflow:global_step/sec: 23.7855\n"
          ],
          "name": "stdout"
        },
        {
          "output_type": "stream",
          "text": [
            "INFO:tensorflow:global_step/sec: 23.7855\n"
          ],
          "name": "stderr"
        },
        {
          "output_type": "stream",
          "text": [
            "INFO:tensorflow:loss = 0.20290063, step = 56 (0.040 sec)\n"
          ],
          "name": "stdout"
        },
        {
          "output_type": "stream",
          "text": [
            "INFO:tensorflow:loss = 0.20290063, step = 56 (0.040 sec)\n"
          ],
          "name": "stderr"
        },
        {
          "output_type": "stream",
          "text": [
            "INFO:tensorflow:global_step/sec: 23.8138\n"
          ],
          "name": "stdout"
        },
        {
          "output_type": "stream",
          "text": [
            "INFO:tensorflow:global_step/sec: 23.8138\n"
          ],
          "name": "stderr"
        },
        {
          "output_type": "stream",
          "text": [
            "INFO:tensorflow:loss = 0.10198951, step = 57 (0.043 sec)\n"
          ],
          "name": "stdout"
        },
        {
          "output_type": "stream",
          "text": [
            "INFO:tensorflow:loss = 0.10198951, step = 57 (0.043 sec)\n"
          ],
          "name": "stderr"
        },
        {
          "output_type": "stream",
          "text": [
            "INFO:tensorflow:global_step/sec: 22.3061\n"
          ],
          "name": "stdout"
        },
        {
          "output_type": "stream",
          "text": [
            "INFO:tensorflow:global_step/sec: 22.3061\n"
          ],
          "name": "stderr"
        },
        {
          "output_type": "stream",
          "text": [
            "INFO:tensorflow:loss = 0.07838339, step = 58 (0.043 sec)\n"
          ],
          "name": "stdout"
        },
        {
          "output_type": "stream",
          "text": [
            "INFO:tensorflow:loss = 0.07838339, step = 58 (0.043 sec)\n"
          ],
          "name": "stderr"
        },
        {
          "output_type": "stream",
          "text": [
            "INFO:tensorflow:Saving checkpoints for 60 into output/model.ckpt.\n"
          ],
          "name": "stdout"
        },
        {
          "output_type": "stream",
          "text": [
            "INFO:tensorflow:Saving checkpoints for 60 into output/model.ckpt.\n"
          ],
          "name": "stderr"
        },
        {
          "output_type": "stream",
          "text": [
            "INFO:tensorflow:Calling model_fn.\n"
          ],
          "name": "stdout"
        },
        {
          "output_type": "stream",
          "text": [
            "INFO:tensorflow:Calling model_fn.\n"
          ],
          "name": "stderr"
        },
        {
          "output_type": "stream",
          "text": [
            "INFO:tensorflow:Done calling model_fn.\n"
          ],
          "name": "stdout"
        },
        {
          "output_type": "stream",
          "text": [
            "INFO:tensorflow:Done calling model_fn.\n"
          ],
          "name": "stderr"
        },
        {
          "output_type": "stream",
          "text": [
            "INFO:tensorflow:Starting evaluation at 2020-08-21T09:12:47Z\n"
          ],
          "name": "stdout"
        },
        {
          "output_type": "stream",
          "text": [
            "INFO:tensorflow:Starting evaluation at 2020-08-21T09:12:47Z\n"
          ],
          "name": "stderr"
        },
        {
          "output_type": "stream",
          "text": [
            "INFO:tensorflow:Graph was finalized.\n"
          ],
          "name": "stdout"
        },
        {
          "output_type": "stream",
          "text": [
            "INFO:tensorflow:Graph was finalized.\n"
          ],
          "name": "stderr"
        },
        {
          "output_type": "stream",
          "text": [
            "INFO:tensorflow:Restoring parameters from output/model.ckpt-60\n"
          ],
          "name": "stdout"
        },
        {
          "output_type": "stream",
          "text": [
            "INFO:tensorflow:Restoring parameters from output/model.ckpt-60\n"
          ],
          "name": "stderr"
        },
        {
          "output_type": "stream",
          "text": [
            "INFO:tensorflow:Running local_init_op.\n"
          ],
          "name": "stdout"
        },
        {
          "output_type": "stream",
          "text": [
            "INFO:tensorflow:Running local_init_op.\n"
          ],
          "name": "stderr"
        },
        {
          "output_type": "stream",
          "text": [
            "INFO:tensorflow:Done running local_init_op.\n"
          ],
          "name": "stdout"
        },
        {
          "output_type": "stream",
          "text": [
            "INFO:tensorflow:Done running local_init_op.\n"
          ],
          "name": "stderr"
        },
        {
          "output_type": "stream",
          "text": [
            "INFO:tensorflow:Finished evaluation at 2020-08-21-09:12:48\n"
          ],
          "name": "stdout"
        },
        {
          "output_type": "stream",
          "text": [
            "INFO:tensorflow:Finished evaluation at 2020-08-21-09:12:48\n"
          ],
          "name": "stderr"
        },
        {
          "output_type": "stream",
          "text": [
            "INFO:tensorflow:Saving dict for global step 60: global_step = 60, loss = 0.096359715, metric/accuracy = 0.97370654, metric/confusion_matrix = [[183   1   1   0   1   0]\n",
            " [  0 200   0   0   0   0]\n",
            " [  0   1 232   0   1   0]\n",
            " [  1   0   0 183   0   0]\n",
            " [  2   1   1   1 172   7]\n",
            " [  0   0   0   2  11 178]]\n"
          ],
          "name": "stdout"
        },
        {
          "output_type": "stream",
          "text": [
            "INFO:tensorflow:Saving dict for global step 60: global_step = 60, loss = 0.096359715, metric/accuracy = 0.97370654, metric/confusion_matrix = [[183   1   1   0   1   0]\n",
            " [  0 200   0   0   0   0]\n",
            " [  0   1 232   0   1   0]\n",
            " [  1   0   0 183   0   0]\n",
            " [  2   1   1   1 172   7]\n",
            " [  0   0   0   2  11 178]]\n"
          ],
          "name": "stderr"
        },
        {
          "output_type": "stream",
          "text": [
            "INFO:tensorflow:Summary for np.ndarray is not visible in Tensorboard by default. Consider using a Tensorboard plugin for visualization (see https://github.com/tensorflow/tensorboard-plugin-example/blob/master/README.md for more information).\n"
          ],
          "name": "stdout"
        },
        {
          "output_type": "stream",
          "text": [
            "INFO:tensorflow:Summary for np.ndarray is not visible in Tensorboard by default. Consider using a Tensorboard plugin for visualization (see https://github.com/tensorflow/tensorboard-plugin-example/blob/master/README.md for more information).\n"
          ],
          "name": "stderr"
        },
        {
          "output_type": "stream",
          "text": [
            "INFO:tensorflow:Saving 'checkpoint_path' summary for global step 60: output/model.ckpt-60\n"
          ],
          "name": "stdout"
        },
        {
          "output_type": "stream",
          "text": [
            "INFO:tensorflow:Saving 'checkpoint_path' summary for global step 60: output/model.ckpt-60\n"
          ],
          "name": "stderr"
        },
        {
          "output_type": "stream",
          "text": [
            "INFO:tensorflow:## Step 60\n"
          ],
          "name": "stdout"
        },
        {
          "output_type": "stream",
          "text": [
            "INFO:tensorflow:## Step 60\n"
          ],
          "name": "stderr"
        },
        {
          "output_type": "stream",
          "text": [
            "INFO:tensorflow:loss : 0.09635971486568451\n"
          ],
          "name": "stdout"
        },
        {
          "output_type": "stream",
          "text": [
            "INFO:tensorflow:loss : 0.09635971486568451\n"
          ],
          "name": "stderr"
        },
        {
          "output_type": "stream",
          "text": [
            "INFO:tensorflow:[[183   1   1   0   1   0]\n",
            " [  0 200   0   0   0   0]\n",
            " [  0   1 232   0   1   0]\n",
            " [  1   0   0 183   0   0]\n",
            " [  2   1   1   1 172   7]\n",
            " [  0   0   0   2  11 178]] : \n"
          ],
          "name": "stdout"
        },
        {
          "output_type": "stream",
          "text": [
            "INFO:tensorflow:[[183   1   1   0   1   0]\n",
            " [  0 200   0   0   0   0]\n",
            " [  0   1 232   0   1   0]\n",
            " [  1   0   0 183   0   0]\n",
            " [  2   1   1   1 172   7]\n",
            " [  0   0   0   2  11 178]] : \n"
          ],
          "name": "stderr"
        },
        {
          "output_type": "stream",
          "text": [
            "INFO:tensorflow:[[183   1   1   0   1   0]\n",
            " [  0 200   0   0   0   0]\n",
            " [  0   1 232   0   1   0]\n",
            " [  1   0   0 183   0   0]\n",
            " [  2   1   1   1 172   7]\n",
            " [  0   0   0   2  11 178]]\n"
          ],
          "name": "stdout"
        },
        {
          "output_type": "stream",
          "text": [
            "INFO:tensorflow:[[183   1   1   0   1   0]\n",
            " [  0 200   0   0   0   0]\n",
            " [  0   1 232   0   1   0]\n",
            " [  1   0   0 183   0   0]\n",
            " [  2   1   1   1 172   7]\n",
            " [  0   0   0   2  11 178]]\n"
          ],
          "name": "stderr"
        },
        {
          "output_type": "stream",
          "text": [
            "INFO:tensorflow:Checking checkpoint model.ckpt-60\n"
          ],
          "name": "stdout"
        },
        {
          "output_type": "stream",
          "text": [
            "INFO:tensorflow:Checking checkpoint model.ckpt-60\n"
          ],
          "name": "stderr"
        },
        {
          "output_type": "stream",
          "text": [
            "INFO:tensorflow:keeping checkpoint model.ckpt-60 with metric/accuracy = 0.9737065434455872\n"
          ],
          "name": "stdout"
        },
        {
          "output_type": "stream",
          "text": [
            "INFO:tensorflow:keeping checkpoint model.ckpt-60 with metric/accuracy = 0.9737065434455872\n"
          ],
          "name": "stderr"
        },
        {
          "output_type": "stream",
          "text": [
            "INFO:tensorflow:removing old checkpoint model.ckpt-30 with metric/accuracy = 0.9474130868911743\n"
          ],
          "name": "stdout"
        },
        {
          "output_type": "stream",
          "text": [
            "INFO:tensorflow:removing old checkpoint model.ckpt-30 with metric/accuracy = 0.9474130868911743\n"
          ],
          "name": "stderr"
        },
        {
          "output_type": "stream",
          "text": [
            "WARNING:tensorflow:From /usr/local/lib/python3.6/dist-packages/detext/utils/best_checkpoint_copier.py:121: The name tf.gfile.Remove is deprecated. Please use tf.io.gfile.remove instead.\n",
            "\n"
          ],
          "name": "stdout"
        },
        {
          "output_type": "stream",
          "text": [
            "WARNING:tensorflow:From /usr/local/lib/python3.6/dist-packages/detext/utils/best_checkpoint_copier.py:121: The name tf.gfile.Remove is deprecated. Please use tf.io.gfile.remove instead.\n",
            "\n"
          ],
          "name": "stderr"
        },
        {
          "output_type": "stream",
          "text": [
            "INFO:tensorflow:Calling model_fn.\n"
          ],
          "name": "stdout"
        },
        {
          "output_type": "stream",
          "text": [
            "INFO:tensorflow:Calling model_fn.\n"
          ],
          "name": "stderr"
        },
        {
          "output_type": "stream",
          "text": [
            "INFO:tensorflow:Done calling model_fn.\n"
          ],
          "name": "stdout"
        },
        {
          "output_type": "stream",
          "text": [
            "INFO:tensorflow:Done calling model_fn.\n"
          ],
          "name": "stderr"
        },
        {
          "output_type": "stream",
          "text": [
            "INFO:tensorflow:Signatures INCLUDED in export for Classify: None\n"
          ],
          "name": "stdout"
        },
        {
          "output_type": "stream",
          "text": [
            "INFO:tensorflow:Signatures INCLUDED in export for Classify: None\n"
          ],
          "name": "stderr"
        },
        {
          "output_type": "stream",
          "text": [
            "INFO:tensorflow:Signatures INCLUDED in export for Regress: None\n"
          ],
          "name": "stdout"
        },
        {
          "output_type": "stream",
          "text": [
            "INFO:tensorflow:Signatures INCLUDED in export for Regress: None\n"
          ],
          "name": "stderr"
        },
        {
          "output_type": "stream",
          "text": [
            "INFO:tensorflow:Signatures INCLUDED in export for Predict: ['prediction', 'serving_default']\n"
          ],
          "name": "stdout"
        },
        {
          "output_type": "stream",
          "text": [
            "INFO:tensorflow:Signatures INCLUDED in export for Predict: ['prediction', 'serving_default']\n"
          ],
          "name": "stderr"
        },
        {
          "output_type": "stream",
          "text": [
            "INFO:tensorflow:Signatures INCLUDED in export for Train: None\n"
          ],
          "name": "stdout"
        },
        {
          "output_type": "stream",
          "text": [
            "INFO:tensorflow:Signatures INCLUDED in export for Train: None\n"
          ],
          "name": "stderr"
        },
        {
          "output_type": "stream",
          "text": [
            "INFO:tensorflow:Signatures INCLUDED in export for Eval: None\n"
          ],
          "name": "stdout"
        },
        {
          "output_type": "stream",
          "text": [
            "INFO:tensorflow:Signatures INCLUDED in export for Eval: None\n"
          ],
          "name": "stderr"
        },
        {
          "output_type": "stream",
          "text": [
            "INFO:tensorflow:Restoring parameters from output/model.ckpt-60\n"
          ],
          "name": "stdout"
        },
        {
          "output_type": "stream",
          "text": [
            "INFO:tensorflow:Restoring parameters from output/model.ckpt-60\n"
          ],
          "name": "stderr"
        },
        {
          "output_type": "stream",
          "text": [
            "INFO:tensorflow:Assets added to graph.\n"
          ],
          "name": "stdout"
        },
        {
          "output_type": "stream",
          "text": [
            "INFO:tensorflow:Assets added to graph.\n"
          ],
          "name": "stderr"
        },
        {
          "output_type": "stream",
          "text": [
            "INFO:tensorflow:No assets to write.\n"
          ],
          "name": "stdout"
        },
        {
          "output_type": "stream",
          "text": [
            "INFO:tensorflow:No assets to write.\n"
          ],
          "name": "stderr"
        },
        {
          "output_type": "stream",
          "text": [
            "INFO:tensorflow:SavedModel written to: output/export/best_accuracy/temp-b'1598001168'/saved_model.pb\n"
          ],
          "name": "stdout"
        },
        {
          "output_type": "stream",
          "text": [
            "INFO:tensorflow:SavedModel written to: output/export/best_accuracy/temp-b'1598001168'/saved_model.pb\n"
          ],
          "name": "stderr"
        },
        {
          "output_type": "stream",
          "text": [
            "INFO:tensorflow:global_step/sec: 0.433549\n"
          ],
          "name": "stdout"
        },
        {
          "output_type": "stream",
          "text": [
            "INFO:tensorflow:global_step/sec: 0.433549\n"
          ],
          "name": "stderr"
        },
        {
          "output_type": "stream",
          "text": [
            "INFO:tensorflow:loss = 0.102552235, step = 59 (2.304 sec)\n"
          ],
          "name": "stdout"
        },
        {
          "output_type": "stream",
          "text": [
            "INFO:tensorflow:loss = 0.102552235, step = 59 (2.304 sec)\n"
          ],
          "name": "stderr"
        },
        {
          "output_type": "stream",
          "text": [
            "INFO:tensorflow:global_step/sec: 27.1369\n"
          ],
          "name": "stdout"
        },
        {
          "output_type": "stream",
          "text": [
            "INFO:tensorflow:global_step/sec: 27.1369\n"
          ],
          "name": "stderr"
        },
        {
          "output_type": "stream",
          "text": [
            "INFO:tensorflow:loss = 0.07477618, step = 60 (0.038 sec)\n"
          ],
          "name": "stdout"
        },
        {
          "output_type": "stream",
          "text": [
            "INFO:tensorflow:loss = 0.07477618, step = 60 (0.038 sec)\n"
          ],
          "name": "stderr"
        },
        {
          "output_type": "stream",
          "text": [
            "INFO:tensorflow:global_step = 60, loss = 0.07477618 (2.668 sec)\n"
          ],
          "name": "stdout"
        },
        {
          "output_type": "stream",
          "text": [
            "INFO:tensorflow:global_step = 60, loss = 0.07477618 (2.668 sec)\n"
          ],
          "name": "stderr"
        },
        {
          "output_type": "stream",
          "text": [
            "INFO:tensorflow:global_step/sec: 24.1784\n"
          ],
          "name": "stdout"
        },
        {
          "output_type": "stream",
          "text": [
            "INFO:tensorflow:global_step/sec: 24.1784\n"
          ],
          "name": "stderr"
        },
        {
          "output_type": "stream",
          "text": [
            "INFO:tensorflow:loss = 0.093914874, step = 61 (0.042 sec)\n"
          ],
          "name": "stdout"
        },
        {
          "output_type": "stream",
          "text": [
            "INFO:tensorflow:loss = 0.093914874, step = 61 (0.042 sec)\n"
          ],
          "name": "stderr"
        },
        {
          "output_type": "stream",
          "text": [
            "INFO:tensorflow:global_step/sec: 25.3757\n"
          ],
          "name": "stdout"
        },
        {
          "output_type": "stream",
          "text": [
            "INFO:tensorflow:global_step/sec: 25.3757\n"
          ],
          "name": "stderr"
        },
        {
          "output_type": "stream",
          "text": [
            "INFO:tensorflow:loss = 0.052656643, step = 62 (0.038 sec)\n"
          ],
          "name": "stdout"
        },
        {
          "output_type": "stream",
          "text": [
            "INFO:tensorflow:loss = 0.052656643, step = 62 (0.038 sec)\n"
          ],
          "name": "stderr"
        },
        {
          "output_type": "stream",
          "text": [
            "INFO:tensorflow:global_step/sec: 24.8168\n"
          ],
          "name": "stdout"
        },
        {
          "output_type": "stream",
          "text": [
            "INFO:tensorflow:global_step/sec: 24.8168\n"
          ],
          "name": "stderr"
        },
        {
          "output_type": "stream",
          "text": [
            "INFO:tensorflow:loss = 0.050843254, step = 63 (0.044 sec)\n"
          ],
          "name": "stdout"
        },
        {
          "output_type": "stream",
          "text": [
            "INFO:tensorflow:loss = 0.050843254, step = 63 (0.044 sec)\n"
          ],
          "name": "stderr"
        },
        {
          "output_type": "stream",
          "text": [
            "INFO:tensorflow:global_step/sec: 28.4032\n"
          ],
          "name": "stdout"
        },
        {
          "output_type": "stream",
          "text": [
            "INFO:tensorflow:global_step/sec: 28.4032\n"
          ],
          "name": "stderr"
        },
        {
          "output_type": "stream",
          "text": [
            "INFO:tensorflow:loss = 0.070174046, step = 64 (0.035 sec)\n"
          ],
          "name": "stdout"
        },
        {
          "output_type": "stream",
          "text": [
            "INFO:tensorflow:loss = 0.070174046, step = 64 (0.035 sec)\n"
          ],
          "name": "stderr"
        },
        {
          "output_type": "stream",
          "text": [
            "INFO:tensorflow:global_step/sec: 29.4734\n"
          ],
          "name": "stdout"
        },
        {
          "output_type": "stream",
          "text": [
            "INFO:tensorflow:global_step/sec: 29.4734\n"
          ],
          "name": "stderr"
        },
        {
          "output_type": "stream",
          "text": [
            "INFO:tensorflow:loss = 0.08791591, step = 65 (0.032 sec)\n"
          ],
          "name": "stdout"
        },
        {
          "output_type": "stream",
          "text": [
            "INFO:tensorflow:loss = 0.08791591, step = 65 (0.032 sec)\n"
          ],
          "name": "stderr"
        },
        {
          "output_type": "stream",
          "text": [
            "INFO:tensorflow:global_step/sec: 24.125\n"
          ],
          "name": "stdout"
        },
        {
          "output_type": "stream",
          "text": [
            "INFO:tensorflow:global_step/sec: 24.125\n"
          ],
          "name": "stderr"
        },
        {
          "output_type": "stream",
          "text": [
            "INFO:tensorflow:loss = 0.09498018, step = 66 (0.049 sec)\n"
          ],
          "name": "stdout"
        },
        {
          "output_type": "stream",
          "text": [
            "INFO:tensorflow:loss = 0.09498018, step = 66 (0.049 sec)\n"
          ],
          "name": "stderr"
        },
        {
          "output_type": "stream",
          "text": [
            "INFO:tensorflow:global_step/sec: 20.5598\n"
          ],
          "name": "stdout"
        },
        {
          "output_type": "stream",
          "text": [
            "INFO:tensorflow:global_step/sec: 20.5598\n"
          ],
          "name": "stderr"
        },
        {
          "output_type": "stream",
          "text": [
            "INFO:tensorflow:loss = 0.10648078, step = 67 (0.043 sec)\n"
          ],
          "name": "stdout"
        },
        {
          "output_type": "stream",
          "text": [
            "INFO:tensorflow:loss = 0.10648078, step = 67 (0.043 sec)\n"
          ],
          "name": "stderr"
        },
        {
          "output_type": "stream",
          "text": [
            "INFO:tensorflow:global_step/sec: 28.9372\n"
          ],
          "name": "stdout"
        },
        {
          "output_type": "stream",
          "text": [
            "INFO:tensorflow:global_step/sec: 28.9372\n"
          ],
          "name": "stderr"
        },
        {
          "output_type": "stream",
          "text": [
            "INFO:tensorflow:loss = 0.023976456, step = 68 (0.035 sec)\n"
          ],
          "name": "stdout"
        },
        {
          "output_type": "stream",
          "text": [
            "INFO:tensorflow:loss = 0.023976456, step = 68 (0.035 sec)\n"
          ],
          "name": "stderr"
        },
        {
          "output_type": "stream",
          "text": [
            "INFO:tensorflow:global_step/sec: 29.9555\n"
          ],
          "name": "stdout"
        },
        {
          "output_type": "stream",
          "text": [
            "INFO:tensorflow:global_step/sec: 29.9555\n"
          ],
          "name": "stderr"
        },
        {
          "output_type": "stream",
          "text": [
            "INFO:tensorflow:loss = 0.045493323, step = 69 (0.029 sec)\n"
          ],
          "name": "stdout"
        },
        {
          "output_type": "stream",
          "text": [
            "INFO:tensorflow:loss = 0.045493323, step = 69 (0.029 sec)\n"
          ],
          "name": "stderr"
        },
        {
          "output_type": "stream",
          "text": [
            "INFO:tensorflow:global_step/sec: 27.9749\n"
          ],
          "name": "stdout"
        },
        {
          "output_type": "stream",
          "text": [
            "INFO:tensorflow:global_step/sec: 27.9749\n"
          ],
          "name": "stderr"
        },
        {
          "output_type": "stream",
          "text": [
            "INFO:tensorflow:loss = 0.053365678, step = 70 (0.037 sec)\n"
          ],
          "name": "stdout"
        },
        {
          "output_type": "stream",
          "text": [
            "INFO:tensorflow:loss = 0.053365678, step = 70 (0.037 sec)\n"
          ],
          "name": "stderr"
        },
        {
          "output_type": "stream",
          "text": [
            "INFO:tensorflow:global_step = 70, loss = 0.053365678 (0.382 sec)\n"
          ],
          "name": "stdout"
        },
        {
          "output_type": "stream",
          "text": [
            "INFO:tensorflow:global_step = 70, loss = 0.053365678 (0.382 sec)\n"
          ],
          "name": "stderr"
        },
        {
          "output_type": "stream",
          "text": [
            "INFO:tensorflow:global_step/sec: 24.6301\n"
          ],
          "name": "stdout"
        },
        {
          "output_type": "stream",
          "text": [
            "INFO:tensorflow:global_step/sec: 24.6301\n"
          ],
          "name": "stderr"
        },
        {
          "output_type": "stream",
          "text": [
            "INFO:tensorflow:loss = 0.08122269, step = 71 (0.041 sec)\n"
          ],
          "name": "stdout"
        },
        {
          "output_type": "stream",
          "text": [
            "INFO:tensorflow:loss = 0.08122269, step = 71 (0.041 sec)\n"
          ],
          "name": "stderr"
        },
        {
          "output_type": "stream",
          "text": [
            "INFO:tensorflow:global_step/sec: 26.2981\n"
          ],
          "name": "stdout"
        },
        {
          "output_type": "stream",
          "text": [
            "INFO:tensorflow:global_step/sec: 26.2981\n"
          ],
          "name": "stderr"
        },
        {
          "output_type": "stream",
          "text": [
            "INFO:tensorflow:loss = 0.07843474, step = 72 (0.040 sec)\n"
          ],
          "name": "stdout"
        },
        {
          "output_type": "stream",
          "text": [
            "INFO:tensorflow:loss = 0.07843474, step = 72 (0.040 sec)\n"
          ],
          "name": "stderr"
        },
        {
          "output_type": "stream",
          "text": [
            "INFO:tensorflow:global_step/sec: 23.5813\n"
          ],
          "name": "stdout"
        },
        {
          "output_type": "stream",
          "text": [
            "INFO:tensorflow:global_step/sec: 23.5813\n"
          ],
          "name": "stderr"
        },
        {
          "output_type": "stream",
          "text": [
            "INFO:tensorflow:loss = 0.071776964, step = 73 (0.043 sec)\n"
          ],
          "name": "stdout"
        },
        {
          "output_type": "stream",
          "text": [
            "INFO:tensorflow:loss = 0.071776964, step = 73 (0.043 sec)\n"
          ],
          "name": "stderr"
        },
        {
          "output_type": "stream",
          "text": [
            "INFO:tensorflow:global_step/sec: 27.3435\n"
          ],
          "name": "stdout"
        },
        {
          "output_type": "stream",
          "text": [
            "INFO:tensorflow:global_step/sec: 27.3435\n"
          ],
          "name": "stderr"
        },
        {
          "output_type": "stream",
          "text": [
            "INFO:tensorflow:loss = 0.04490215, step = 74 (0.034 sec)\n"
          ],
          "name": "stdout"
        },
        {
          "output_type": "stream",
          "text": [
            "INFO:tensorflow:loss = 0.04490215, step = 74 (0.034 sec)\n"
          ],
          "name": "stderr"
        },
        {
          "output_type": "stream",
          "text": [
            "INFO:tensorflow:global_step/sec: 25.8252\n"
          ],
          "name": "stdout"
        },
        {
          "output_type": "stream",
          "text": [
            "INFO:tensorflow:global_step/sec: 25.8252\n"
          ],
          "name": "stderr"
        },
        {
          "output_type": "stream",
          "text": [
            "INFO:tensorflow:loss = 0.20449243, step = 75 (0.040 sec)\n"
          ],
          "name": "stdout"
        },
        {
          "output_type": "stream",
          "text": [
            "INFO:tensorflow:loss = 0.20449243, step = 75 (0.040 sec)\n"
          ],
          "name": "stderr"
        },
        {
          "output_type": "stream",
          "text": [
            "INFO:tensorflow:global_step/sec: 29.6833\n"
          ],
          "name": "stdout"
        },
        {
          "output_type": "stream",
          "text": [
            "INFO:tensorflow:global_step/sec: 29.6833\n"
          ],
          "name": "stderr"
        },
        {
          "output_type": "stream",
          "text": [
            "INFO:tensorflow:loss = 0.045130845, step = 76 (0.031 sec)\n"
          ],
          "name": "stdout"
        },
        {
          "output_type": "stream",
          "text": [
            "INFO:tensorflow:loss = 0.045130845, step = 76 (0.031 sec)\n"
          ],
          "name": "stderr"
        },
        {
          "output_type": "stream",
          "text": [
            "INFO:tensorflow:global_step/sec: 16.5959\n"
          ],
          "name": "stdout"
        },
        {
          "output_type": "stream",
          "text": [
            "INFO:tensorflow:global_step/sec: 16.5959\n"
          ],
          "name": "stderr"
        },
        {
          "output_type": "stream",
          "text": [
            "INFO:tensorflow:loss = 0.11854285, step = 77 (0.067 sec)\n"
          ],
          "name": "stdout"
        },
        {
          "output_type": "stream",
          "text": [
            "INFO:tensorflow:loss = 0.11854285, step = 77 (0.067 sec)\n"
          ],
          "name": "stderr"
        },
        {
          "output_type": "stream",
          "text": [
            "INFO:tensorflow:global_step/sec: 27.5038\n"
          ],
          "name": "stdout"
        },
        {
          "output_type": "stream",
          "text": [
            "INFO:tensorflow:global_step/sec: 27.5038\n"
          ],
          "name": "stderr"
        },
        {
          "output_type": "stream",
          "text": [
            "INFO:tensorflow:loss = 0.047988888, step = 78 (0.038 sec)\n"
          ],
          "name": "stdout"
        },
        {
          "output_type": "stream",
          "text": [
            "INFO:tensorflow:loss = 0.047988888, step = 78 (0.038 sec)\n"
          ],
          "name": "stderr"
        },
        {
          "output_type": "stream",
          "text": [
            "INFO:tensorflow:global_step/sec: 21.5567\n"
          ],
          "name": "stdout"
        },
        {
          "output_type": "stream",
          "text": [
            "INFO:tensorflow:global_step/sec: 21.5567\n"
          ],
          "name": "stderr"
        },
        {
          "output_type": "stream",
          "text": [
            "INFO:tensorflow:loss = 0.045852423, step = 79 (0.040 sec)\n"
          ],
          "name": "stdout"
        },
        {
          "output_type": "stream",
          "text": [
            "INFO:tensorflow:loss = 0.045852423, step = 79 (0.040 sec)\n"
          ],
          "name": "stderr"
        },
        {
          "output_type": "stream",
          "text": [
            "INFO:tensorflow:global_step/sec: 27.5658\n"
          ],
          "name": "stdout"
        },
        {
          "output_type": "stream",
          "text": [
            "INFO:tensorflow:global_step/sec: 27.5658\n"
          ],
          "name": "stderr"
        },
        {
          "output_type": "stream",
          "text": [
            "INFO:tensorflow:loss = 0.046508633, step = 80 (0.040 sec)\n"
          ],
          "name": "stdout"
        },
        {
          "output_type": "stream",
          "text": [
            "INFO:tensorflow:loss = 0.046508633, step = 80 (0.040 sec)\n"
          ],
          "name": "stderr"
        },
        {
          "output_type": "stream",
          "text": [
            "INFO:tensorflow:global_step = 80, loss = 0.046508633 (0.415 sec)\n"
          ],
          "name": "stdout"
        },
        {
          "output_type": "stream",
          "text": [
            "INFO:tensorflow:global_step = 80, loss = 0.046508633 (0.415 sec)\n"
          ],
          "name": "stderr"
        },
        {
          "output_type": "stream",
          "text": [
            "INFO:tensorflow:global_step/sec: 20.7213\n"
          ],
          "name": "stdout"
        },
        {
          "output_type": "stream",
          "text": [
            "INFO:tensorflow:global_step/sec: 20.7213\n"
          ],
          "name": "stderr"
        },
        {
          "output_type": "stream",
          "text": [
            "INFO:tensorflow:loss = 0.14396828, step = 81 (0.045 sec)\n"
          ],
          "name": "stdout"
        },
        {
          "output_type": "stream",
          "text": [
            "INFO:tensorflow:loss = 0.14396828, step = 81 (0.045 sec)\n"
          ],
          "name": "stderr"
        },
        {
          "output_type": "stream",
          "text": [
            "INFO:tensorflow:global_step/sec: 30.1224\n"
          ],
          "name": "stdout"
        },
        {
          "output_type": "stream",
          "text": [
            "INFO:tensorflow:global_step/sec: 30.1224\n"
          ],
          "name": "stderr"
        },
        {
          "output_type": "stream",
          "text": [
            "INFO:tensorflow:loss = 0.012128984, step = 82 (0.036 sec)\n"
          ],
          "name": "stdout"
        },
        {
          "output_type": "stream",
          "text": [
            "INFO:tensorflow:loss = 0.012128984, step = 82 (0.036 sec)\n"
          ],
          "name": "stderr"
        },
        {
          "output_type": "stream",
          "text": [
            "INFO:tensorflow:global_step/sec: 22.6556\n"
          ],
          "name": "stdout"
        },
        {
          "output_type": "stream",
          "text": [
            "INFO:tensorflow:global_step/sec: 22.6556\n"
          ],
          "name": "stderr"
        },
        {
          "output_type": "stream",
          "text": [
            "INFO:tensorflow:loss = 0.03742893, step = 83 (0.038 sec)\n"
          ],
          "name": "stdout"
        },
        {
          "output_type": "stream",
          "text": [
            "INFO:tensorflow:loss = 0.03742893, step = 83 (0.038 sec)\n"
          ],
          "name": "stderr"
        },
        {
          "output_type": "stream",
          "text": [
            "INFO:tensorflow:global_step/sec: 28.1907\n"
          ],
          "name": "stdout"
        },
        {
          "output_type": "stream",
          "text": [
            "INFO:tensorflow:global_step/sec: 28.1907\n"
          ],
          "name": "stderr"
        },
        {
          "output_type": "stream",
          "text": [
            "INFO:tensorflow:loss = 0.038600292, step = 84 (0.046 sec)\n"
          ],
          "name": "stdout"
        },
        {
          "output_type": "stream",
          "text": [
            "INFO:tensorflow:loss = 0.038600292, step = 84 (0.046 sec)\n"
          ],
          "name": "stderr"
        },
        {
          "output_type": "stream",
          "text": [
            "INFO:tensorflow:global_step/sec: 21.6669\n"
          ],
          "name": "stdout"
        },
        {
          "output_type": "stream",
          "text": [
            "INFO:tensorflow:global_step/sec: 21.6669\n"
          ],
          "name": "stderr"
        },
        {
          "output_type": "stream",
          "text": [
            "INFO:tensorflow:loss = 0.077512294, step = 85 (0.044 sec)\n"
          ],
          "name": "stdout"
        },
        {
          "output_type": "stream",
          "text": [
            "INFO:tensorflow:loss = 0.077512294, step = 85 (0.044 sec)\n"
          ],
          "name": "stderr"
        },
        {
          "output_type": "stream",
          "text": [
            "INFO:tensorflow:global_step/sec: 26.6771\n"
          ],
          "name": "stdout"
        },
        {
          "output_type": "stream",
          "text": [
            "INFO:tensorflow:global_step/sec: 26.6771\n"
          ],
          "name": "stderr"
        },
        {
          "output_type": "stream",
          "text": [
            "INFO:tensorflow:loss = 0.019423006, step = 86 (0.036 sec)\n"
          ],
          "name": "stdout"
        },
        {
          "output_type": "stream",
          "text": [
            "INFO:tensorflow:loss = 0.019423006, step = 86 (0.036 sec)\n"
          ],
          "name": "stderr"
        },
        {
          "output_type": "stream",
          "text": [
            "INFO:tensorflow:global_step/sec: 25.3457\n"
          ],
          "name": "stdout"
        },
        {
          "output_type": "stream",
          "text": [
            "INFO:tensorflow:global_step/sec: 25.3457\n"
          ],
          "name": "stderr"
        },
        {
          "output_type": "stream",
          "text": [
            "INFO:tensorflow:loss = 0.03450083, step = 87 (0.041 sec)\n"
          ],
          "name": "stdout"
        },
        {
          "output_type": "stream",
          "text": [
            "INFO:tensorflow:loss = 0.03450083, step = 87 (0.041 sec)\n"
          ],
          "name": "stderr"
        },
        {
          "output_type": "stream",
          "text": [
            "INFO:tensorflow:global_step/sec: 20.1466\n"
          ],
          "name": "stdout"
        },
        {
          "output_type": "stream",
          "text": [
            "INFO:tensorflow:global_step/sec: 20.1466\n"
          ],
          "name": "stderr"
        },
        {
          "output_type": "stream",
          "text": [
            "INFO:tensorflow:loss = 0.042578727, step = 88 (0.042 sec)\n"
          ],
          "name": "stdout"
        },
        {
          "output_type": "stream",
          "text": [
            "INFO:tensorflow:loss = 0.042578727, step = 88 (0.042 sec)\n"
          ],
          "name": "stderr"
        },
        {
          "output_type": "stream",
          "text": [
            "INFO:tensorflow:Saving checkpoints for 90 into output/model.ckpt.\n"
          ],
          "name": "stdout"
        },
        {
          "output_type": "stream",
          "text": [
            "INFO:tensorflow:Saving checkpoints for 90 into output/model.ckpt.\n"
          ],
          "name": "stderr"
        },
        {
          "output_type": "stream",
          "text": [
            "INFO:tensorflow:Calling model_fn.\n"
          ],
          "name": "stdout"
        },
        {
          "output_type": "stream",
          "text": [
            "INFO:tensorflow:Calling model_fn.\n"
          ],
          "name": "stderr"
        },
        {
          "output_type": "stream",
          "text": [
            "INFO:tensorflow:Done calling model_fn.\n"
          ],
          "name": "stdout"
        },
        {
          "output_type": "stream",
          "text": [
            "INFO:tensorflow:Done calling model_fn.\n"
          ],
          "name": "stderr"
        },
        {
          "output_type": "stream",
          "text": [
            "INFO:tensorflow:Starting evaluation at 2020-08-21T09:12:50Z\n"
          ],
          "name": "stdout"
        },
        {
          "output_type": "stream",
          "text": [
            "INFO:tensorflow:Starting evaluation at 2020-08-21T09:12:50Z\n"
          ],
          "name": "stderr"
        },
        {
          "output_type": "stream",
          "text": [
            "INFO:tensorflow:Graph was finalized.\n"
          ],
          "name": "stdout"
        },
        {
          "output_type": "stream",
          "text": [
            "INFO:tensorflow:Graph was finalized.\n"
          ],
          "name": "stderr"
        },
        {
          "output_type": "stream",
          "text": [
            "INFO:tensorflow:Restoring parameters from output/model.ckpt-90\n"
          ],
          "name": "stdout"
        },
        {
          "output_type": "stream",
          "text": [
            "INFO:tensorflow:Restoring parameters from output/model.ckpt-90\n"
          ],
          "name": "stderr"
        },
        {
          "output_type": "stream",
          "text": [
            "INFO:tensorflow:Running local_init_op.\n"
          ],
          "name": "stdout"
        },
        {
          "output_type": "stream",
          "text": [
            "INFO:tensorflow:Running local_init_op.\n"
          ],
          "name": "stderr"
        },
        {
          "output_type": "stream",
          "text": [
            "INFO:tensorflow:Done running local_init_op.\n"
          ],
          "name": "stdout"
        },
        {
          "output_type": "stream",
          "text": [
            "INFO:tensorflow:Done running local_init_op.\n"
          ],
          "name": "stderr"
        },
        {
          "output_type": "stream",
          "text": [
            "INFO:tensorflow:Finished evaluation at 2020-08-21-09:12:51\n"
          ],
          "name": "stdout"
        },
        {
          "output_type": "stream",
          "text": [
            "INFO:tensorflow:Finished evaluation at 2020-08-21-09:12:51\n"
          ],
          "name": "stderr"
        },
        {
          "output_type": "stream",
          "text": [
            "INFO:tensorflow:Saving dict for global step 90: global_step = 90, loss = 0.08148943, metric/accuracy = 0.98049194, metric/confusion_matrix = [[184   0   1   0   1   0]\n",
            " [  0 200   0   0   0   0]\n",
            " [  0   1 232   0   1   0]\n",
            " [  0   0   0 184   0   0]\n",
            " [  1   0   1   1 177   4]\n",
            " [  0   0   0   2  10 179]]\n"
          ],
          "name": "stdout"
        },
        {
          "output_type": "stream",
          "text": [
            "INFO:tensorflow:Saving dict for global step 90: global_step = 90, loss = 0.08148943, metric/accuracy = 0.98049194, metric/confusion_matrix = [[184   0   1   0   1   0]\n",
            " [  0 200   0   0   0   0]\n",
            " [  0   1 232   0   1   0]\n",
            " [  0   0   0 184   0   0]\n",
            " [  1   0   1   1 177   4]\n",
            " [  0   0   0   2  10 179]]\n"
          ],
          "name": "stderr"
        },
        {
          "output_type": "stream",
          "text": [
            "INFO:tensorflow:Summary for np.ndarray is not visible in Tensorboard by default. Consider using a Tensorboard plugin for visualization (see https://github.com/tensorflow/tensorboard-plugin-example/blob/master/README.md for more information).\n"
          ],
          "name": "stdout"
        },
        {
          "output_type": "stream",
          "text": [
            "INFO:tensorflow:Summary for np.ndarray is not visible in Tensorboard by default. Consider using a Tensorboard plugin for visualization (see https://github.com/tensorflow/tensorboard-plugin-example/blob/master/README.md for more information).\n"
          ],
          "name": "stderr"
        },
        {
          "output_type": "stream",
          "text": [
            "INFO:tensorflow:Saving 'checkpoint_path' summary for global step 90: output/model.ckpt-90\n"
          ],
          "name": "stdout"
        },
        {
          "output_type": "stream",
          "text": [
            "INFO:tensorflow:Saving 'checkpoint_path' summary for global step 90: output/model.ckpt-90\n"
          ],
          "name": "stderr"
        },
        {
          "output_type": "stream",
          "text": [
            "INFO:tensorflow:## Step 90\n"
          ],
          "name": "stdout"
        },
        {
          "output_type": "stream",
          "text": [
            "INFO:tensorflow:## Step 90\n"
          ],
          "name": "stderr"
        },
        {
          "output_type": "stream",
          "text": [
            "INFO:tensorflow:loss : 0.0814894288778305\n"
          ],
          "name": "stdout"
        },
        {
          "output_type": "stream",
          "text": [
            "INFO:tensorflow:loss : 0.0814894288778305\n"
          ],
          "name": "stderr"
        },
        {
          "output_type": "stream",
          "text": [
            "INFO:tensorflow:[[184   0   1   0   1   0]\n",
            " [  0 200   0   0   0   0]\n",
            " [  0   1 232   0   1   0]\n",
            " [  0   0   0 184   0   0]\n",
            " [  1   0   1   1 177   4]\n",
            " [  0   0   0   2  10 179]] : \n"
          ],
          "name": "stdout"
        },
        {
          "output_type": "stream",
          "text": [
            "INFO:tensorflow:[[184   0   1   0   1   0]\n",
            " [  0 200   0   0   0   0]\n",
            " [  0   1 232   0   1   0]\n",
            " [  0   0   0 184   0   0]\n",
            " [  1   0   1   1 177   4]\n",
            " [  0   0   0   2  10 179]] : \n"
          ],
          "name": "stderr"
        },
        {
          "output_type": "stream",
          "text": [
            "INFO:tensorflow:[[184   0   1   0   1   0]\n",
            " [  0 200   0   0   0   0]\n",
            " [  0   1 232   0   1   0]\n",
            " [  0   0   0 184   0   0]\n",
            " [  1   0   1   1 177   4]\n",
            " [  0   0   0   2  10 179]]\n"
          ],
          "name": "stdout"
        },
        {
          "output_type": "stream",
          "text": [
            "INFO:tensorflow:[[184   0   1   0   1   0]\n",
            " [  0 200   0   0   0   0]\n",
            " [  0   1 232   0   1   0]\n",
            " [  0   0   0 184   0   0]\n",
            " [  1   0   1   1 177   4]\n",
            " [  0   0   0   2  10 179]]\n"
          ],
          "name": "stderr"
        },
        {
          "output_type": "stream",
          "text": [
            "INFO:tensorflow:Checking checkpoint model.ckpt-90\n"
          ],
          "name": "stdout"
        },
        {
          "output_type": "stream",
          "text": [
            "INFO:tensorflow:Checking checkpoint model.ckpt-90\n"
          ],
          "name": "stderr"
        },
        {
          "output_type": "stream",
          "text": [
            "INFO:tensorflow:keeping checkpoint model.ckpt-90 with metric/accuracy = 0.9804919362068176\n"
          ],
          "name": "stdout"
        },
        {
          "output_type": "stream",
          "text": [
            "INFO:tensorflow:keeping checkpoint model.ckpt-90 with metric/accuracy = 0.9804919362068176\n"
          ],
          "name": "stderr"
        },
        {
          "output_type": "stream",
          "text": [
            "INFO:tensorflow:removing old checkpoint model.ckpt-60 with metric/accuracy = 0.9737065434455872\n"
          ],
          "name": "stdout"
        },
        {
          "output_type": "stream",
          "text": [
            "INFO:tensorflow:removing old checkpoint model.ckpt-60 with metric/accuracy = 0.9737065434455872\n"
          ],
          "name": "stderr"
        },
        {
          "output_type": "stream",
          "text": [
            "INFO:tensorflow:Calling model_fn.\n"
          ],
          "name": "stdout"
        },
        {
          "output_type": "stream",
          "text": [
            "INFO:tensorflow:Calling model_fn.\n"
          ],
          "name": "stderr"
        },
        {
          "output_type": "stream",
          "text": [
            "INFO:tensorflow:Done calling model_fn.\n"
          ],
          "name": "stdout"
        },
        {
          "output_type": "stream",
          "text": [
            "INFO:tensorflow:Done calling model_fn.\n"
          ],
          "name": "stderr"
        },
        {
          "output_type": "stream",
          "text": [
            "INFO:tensorflow:Signatures INCLUDED in export for Classify: None\n"
          ],
          "name": "stdout"
        },
        {
          "output_type": "stream",
          "text": [
            "INFO:tensorflow:Signatures INCLUDED in export for Classify: None\n"
          ],
          "name": "stderr"
        },
        {
          "output_type": "stream",
          "text": [
            "INFO:tensorflow:Signatures INCLUDED in export for Regress: None\n"
          ],
          "name": "stdout"
        },
        {
          "output_type": "stream",
          "text": [
            "INFO:tensorflow:Signatures INCLUDED in export for Regress: None\n"
          ],
          "name": "stderr"
        },
        {
          "output_type": "stream",
          "text": [
            "INFO:tensorflow:Signatures INCLUDED in export for Predict: ['prediction', 'serving_default']\n"
          ],
          "name": "stdout"
        },
        {
          "output_type": "stream",
          "text": [
            "INFO:tensorflow:Signatures INCLUDED in export for Predict: ['prediction', 'serving_default']\n"
          ],
          "name": "stderr"
        },
        {
          "output_type": "stream",
          "text": [
            "INFO:tensorflow:Signatures INCLUDED in export for Train: None\n"
          ],
          "name": "stdout"
        },
        {
          "output_type": "stream",
          "text": [
            "INFO:tensorflow:Signatures INCLUDED in export for Train: None\n"
          ],
          "name": "stderr"
        },
        {
          "output_type": "stream",
          "text": [
            "INFO:tensorflow:Signatures INCLUDED in export for Eval: None\n"
          ],
          "name": "stdout"
        },
        {
          "output_type": "stream",
          "text": [
            "INFO:tensorflow:Signatures INCLUDED in export for Eval: None\n"
          ],
          "name": "stderr"
        },
        {
          "output_type": "stream",
          "text": [
            "INFO:tensorflow:Restoring parameters from output/model.ckpt-90\n"
          ],
          "name": "stdout"
        },
        {
          "output_type": "stream",
          "text": [
            "INFO:tensorflow:Restoring parameters from output/model.ckpt-90\n"
          ],
          "name": "stderr"
        },
        {
          "output_type": "stream",
          "text": [
            "INFO:tensorflow:Assets added to graph.\n"
          ],
          "name": "stdout"
        },
        {
          "output_type": "stream",
          "text": [
            "INFO:tensorflow:Assets added to graph.\n"
          ],
          "name": "stderr"
        },
        {
          "output_type": "stream",
          "text": [
            "INFO:tensorflow:No assets to write.\n"
          ],
          "name": "stdout"
        },
        {
          "output_type": "stream",
          "text": [
            "INFO:tensorflow:No assets to write.\n"
          ],
          "name": "stderr"
        },
        {
          "output_type": "stream",
          "text": [
            "INFO:tensorflow:SavedModel written to: output/export/best_accuracy/temp-b'1598001171'/saved_model.pb\n"
          ],
          "name": "stdout"
        },
        {
          "output_type": "stream",
          "text": [
            "INFO:tensorflow:SavedModel written to: output/export/best_accuracy/temp-b'1598001171'/saved_model.pb\n"
          ],
          "name": "stderr"
        },
        {
          "output_type": "stream",
          "text": [
            "INFO:tensorflow:global_step/sec: 0.429991\n"
          ],
          "name": "stdout"
        },
        {
          "output_type": "stream",
          "text": [
            "INFO:tensorflow:global_step/sec: 0.429991\n"
          ],
          "name": "stderr"
        },
        {
          "output_type": "stream",
          "text": [
            "INFO:tensorflow:loss = 0.020320307, step = 89 (2.327 sec)\n"
          ],
          "name": "stdout"
        },
        {
          "output_type": "stream",
          "text": [
            "INFO:tensorflow:loss = 0.020320307, step = 89 (2.327 sec)\n"
          ],
          "name": "stderr"
        },
        {
          "output_type": "stream",
          "text": [
            "INFO:tensorflow:global_step/sec: 28.9139\n"
          ],
          "name": "stdout"
        },
        {
          "output_type": "stream",
          "text": [
            "INFO:tensorflow:global_step/sec: 28.9139\n"
          ],
          "name": "stderr"
        },
        {
          "output_type": "stream",
          "text": [
            "INFO:tensorflow:loss = 0.01887145, step = 90 (0.038 sec)\n"
          ],
          "name": "stdout"
        },
        {
          "output_type": "stream",
          "text": [
            "INFO:tensorflow:loss = 0.01887145, step = 90 (0.038 sec)\n"
          ],
          "name": "stderr"
        },
        {
          "output_type": "stream",
          "text": [
            "INFO:tensorflow:global_step = 90, loss = 0.01887145 (2.698 sec)\n"
          ],
          "name": "stdout"
        },
        {
          "output_type": "stream",
          "text": [
            "INFO:tensorflow:global_step = 90, loss = 0.01887145 (2.698 sec)\n"
          ],
          "name": "stderr"
        },
        {
          "output_type": "stream",
          "text": [
            "INFO:tensorflow:global_step/sec: 19.0773\n"
          ],
          "name": "stdout"
        },
        {
          "output_type": "stream",
          "text": [
            "INFO:tensorflow:global_step/sec: 19.0773\n"
          ],
          "name": "stderr"
        },
        {
          "output_type": "stream",
          "text": [
            "INFO:tensorflow:loss = 0.06524519, step = 91 (0.054 sec)\n"
          ],
          "name": "stdout"
        },
        {
          "output_type": "stream",
          "text": [
            "INFO:tensorflow:loss = 0.06524519, step = 91 (0.054 sec)\n"
          ],
          "name": "stderr"
        },
        {
          "output_type": "stream",
          "text": [
            "INFO:tensorflow:global_step/sec: 28.1463\n"
          ],
          "name": "stdout"
        },
        {
          "output_type": "stream",
          "text": [
            "INFO:tensorflow:global_step/sec: 28.1463\n"
          ],
          "name": "stderr"
        },
        {
          "output_type": "stream",
          "text": [
            "INFO:tensorflow:loss = 0.041121572, step = 92 (0.039 sec)\n"
          ],
          "name": "stdout"
        },
        {
          "output_type": "stream",
          "text": [
            "INFO:tensorflow:loss = 0.041121572, step = 92 (0.039 sec)\n"
          ],
          "name": "stderr"
        },
        {
          "output_type": "stream",
          "text": [
            "INFO:tensorflow:global_step/sec: 25.1373\n"
          ],
          "name": "stdout"
        },
        {
          "output_type": "stream",
          "text": [
            "INFO:tensorflow:global_step/sec: 25.1373\n"
          ],
          "name": "stderr"
        },
        {
          "output_type": "stream",
          "text": [
            "INFO:tensorflow:loss = 0.016348474, step = 93 (0.030 sec)\n"
          ],
          "name": "stdout"
        },
        {
          "output_type": "stream",
          "text": [
            "INFO:tensorflow:loss = 0.016348474, step = 93 (0.030 sec)\n"
          ],
          "name": "stderr"
        },
        {
          "output_type": "stream",
          "text": [
            "INFO:tensorflow:global_step/sec: 21.673\n"
          ],
          "name": "stdout"
        },
        {
          "output_type": "stream",
          "text": [
            "INFO:tensorflow:global_step/sec: 21.673\n"
          ],
          "name": "stderr"
        },
        {
          "output_type": "stream",
          "text": [
            "INFO:tensorflow:loss = 0.03973943, step = 94 (0.050 sec)\n"
          ],
          "name": "stdout"
        },
        {
          "output_type": "stream",
          "text": [
            "INFO:tensorflow:loss = 0.03973943, step = 94 (0.050 sec)\n"
          ],
          "name": "stderr"
        },
        {
          "output_type": "stream",
          "text": [
            "INFO:tensorflow:global_step/sec: 18.8045\n"
          ],
          "name": "stdout"
        },
        {
          "output_type": "stream",
          "text": [
            "INFO:tensorflow:global_step/sec: 18.8045\n"
          ],
          "name": "stderr"
        },
        {
          "output_type": "stream",
          "text": [
            "INFO:tensorflow:loss = 0.010754013, step = 95 (0.052 sec)\n"
          ],
          "name": "stdout"
        },
        {
          "output_type": "stream",
          "text": [
            "INFO:tensorflow:loss = 0.010754013, step = 95 (0.052 sec)\n"
          ],
          "name": "stderr"
        },
        {
          "output_type": "stream",
          "text": [
            "INFO:tensorflow:global_step/sec: 20.297\n"
          ],
          "name": "stdout"
        },
        {
          "output_type": "stream",
          "text": [
            "INFO:tensorflow:global_step/sec: 20.297\n"
          ],
          "name": "stderr"
        },
        {
          "output_type": "stream",
          "text": [
            "INFO:tensorflow:loss = 0.047759812, step = 96 (0.049 sec)\n"
          ],
          "name": "stdout"
        },
        {
          "output_type": "stream",
          "text": [
            "INFO:tensorflow:loss = 0.047759812, step = 96 (0.049 sec)\n"
          ],
          "name": "stderr"
        },
        {
          "output_type": "stream",
          "text": [
            "INFO:tensorflow:global_step/sec: 25.7694\n"
          ],
          "name": "stdout"
        },
        {
          "output_type": "stream",
          "text": [
            "INFO:tensorflow:global_step/sec: 25.7694\n"
          ],
          "name": "stderr"
        },
        {
          "output_type": "stream",
          "text": [
            "INFO:tensorflow:loss = 0.03730606, step = 97 (0.038 sec)\n"
          ],
          "name": "stdout"
        },
        {
          "output_type": "stream",
          "text": [
            "INFO:tensorflow:loss = 0.03730606, step = 97 (0.038 sec)\n"
          ],
          "name": "stderr"
        },
        {
          "output_type": "stream",
          "text": [
            "INFO:tensorflow:global_step/sec: 30.2965\n"
          ],
          "name": "stdout"
        },
        {
          "output_type": "stream",
          "text": [
            "INFO:tensorflow:global_step/sec: 30.2965\n"
          ],
          "name": "stderr"
        },
        {
          "output_type": "stream",
          "text": [
            "INFO:tensorflow:loss = 0.03221703, step = 98 (0.033 sec)\n"
          ],
          "name": "stdout"
        },
        {
          "output_type": "stream",
          "text": [
            "INFO:tensorflow:loss = 0.03221703, step = 98 (0.033 sec)\n"
          ],
          "name": "stderr"
        },
        {
          "output_type": "stream",
          "text": [
            "INFO:tensorflow:global_step/sec: 22.0968\n"
          ],
          "name": "stdout"
        },
        {
          "output_type": "stream",
          "text": [
            "INFO:tensorflow:global_step/sec: 22.0968\n"
          ],
          "name": "stderr"
        },
        {
          "output_type": "stream",
          "text": [
            "INFO:tensorflow:loss = 0.046295423, step = 99 (0.043 sec)\n"
          ],
          "name": "stdout"
        },
        {
          "output_type": "stream",
          "text": [
            "INFO:tensorflow:loss = 0.046295423, step = 99 (0.043 sec)\n"
          ],
          "name": "stderr"
        },
        {
          "output_type": "stream",
          "text": [
            "INFO:tensorflow:global_step/sec: 32.02\n"
          ],
          "name": "stdout"
        },
        {
          "output_type": "stream",
          "text": [
            "INFO:tensorflow:global_step/sec: 32.02\n"
          ],
          "name": "stderr"
        },
        {
          "output_type": "stream",
          "text": [
            "INFO:tensorflow:loss = 0.04221331, step = 100 (0.031 sec)\n"
          ],
          "name": "stdout"
        },
        {
          "output_type": "stream",
          "text": [
            "INFO:tensorflow:loss = 0.04221331, step = 100 (0.031 sec)\n"
          ],
          "name": "stderr"
        },
        {
          "output_type": "stream",
          "text": [
            "INFO:tensorflow:global_step = 100, loss = 0.04221331 (0.414 sec)\n"
          ],
          "name": "stdout"
        },
        {
          "output_type": "stream",
          "text": [
            "INFO:tensorflow:global_step = 100, loss = 0.04221331 (0.414 sec)\n"
          ],
          "name": "stderr"
        },
        {
          "output_type": "stream",
          "text": [
            "INFO:tensorflow:global_step/sec: 19.8104\n"
          ],
          "name": "stdout"
        },
        {
          "output_type": "stream",
          "text": [
            "INFO:tensorflow:global_step/sec: 19.8104\n"
          ],
          "name": "stderr"
        },
        {
          "output_type": "stream",
          "text": [
            "INFO:tensorflow:loss = 0.17442918, step = 101 (0.058 sec)\n"
          ],
          "name": "stdout"
        },
        {
          "output_type": "stream",
          "text": [
            "INFO:tensorflow:loss = 0.17442918, step = 101 (0.058 sec)\n"
          ],
          "name": "stderr"
        },
        {
          "output_type": "stream",
          "text": [
            "INFO:tensorflow:global_step/sec: 17.4555\n"
          ],
          "name": "stdout"
        },
        {
          "output_type": "stream",
          "text": [
            "INFO:tensorflow:global_step/sec: 17.4555\n"
          ],
          "name": "stderr"
        },
        {
          "output_type": "stream",
          "text": [
            "INFO:tensorflow:loss = 0.14122853, step = 102 (0.058 sec)\n"
          ],
          "name": "stdout"
        },
        {
          "output_type": "stream",
          "text": [
            "INFO:tensorflow:loss = 0.14122853, step = 102 (0.058 sec)\n"
          ],
          "name": "stderr"
        },
        {
          "output_type": "stream",
          "text": [
            "INFO:tensorflow:global_step/sec: 21.1239\n"
          ],
          "name": "stdout"
        },
        {
          "output_type": "stream",
          "text": [
            "INFO:tensorflow:global_step/sec: 21.1239\n"
          ],
          "name": "stderr"
        },
        {
          "output_type": "stream",
          "text": [
            "INFO:tensorflow:loss = 0.073366985, step = 103 (0.046 sec)\n"
          ],
          "name": "stdout"
        },
        {
          "output_type": "stream",
          "text": [
            "INFO:tensorflow:loss = 0.073366985, step = 103 (0.046 sec)\n"
          ],
          "name": "stderr"
        },
        {
          "output_type": "stream",
          "text": [
            "INFO:tensorflow:global_step/sec: 23.2797\n"
          ],
          "name": "stdout"
        },
        {
          "output_type": "stream",
          "text": [
            "INFO:tensorflow:global_step/sec: 23.2797\n"
          ],
          "name": "stderr"
        },
        {
          "output_type": "stream",
          "text": [
            "INFO:tensorflow:loss = 0.055581845, step = 104 (0.036 sec)\n"
          ],
          "name": "stdout"
        },
        {
          "output_type": "stream",
          "text": [
            "INFO:tensorflow:loss = 0.055581845, step = 104 (0.036 sec)\n"
          ],
          "name": "stderr"
        },
        {
          "output_type": "stream",
          "text": [
            "INFO:tensorflow:global_step/sec: 25.9273\n"
          ],
          "name": "stdout"
        },
        {
          "output_type": "stream",
          "text": [
            "INFO:tensorflow:global_step/sec: 25.9273\n"
          ],
          "name": "stderr"
        },
        {
          "output_type": "stream",
          "text": [
            "INFO:tensorflow:loss = 0.04440929, step = 105 (0.039 sec)\n"
          ],
          "name": "stdout"
        },
        {
          "output_type": "stream",
          "text": [
            "INFO:tensorflow:loss = 0.04440929, step = 105 (0.039 sec)\n"
          ],
          "name": "stderr"
        },
        {
          "output_type": "stream",
          "text": [
            "INFO:tensorflow:global_step/sec: 32.2331\n"
          ],
          "name": "stdout"
        },
        {
          "output_type": "stream",
          "text": [
            "INFO:tensorflow:global_step/sec: 32.2331\n"
          ],
          "name": "stderr"
        },
        {
          "output_type": "stream",
          "text": [
            "INFO:tensorflow:loss = 0.02386285, step = 106 (0.033 sec)\n"
          ],
          "name": "stdout"
        },
        {
          "output_type": "stream",
          "text": [
            "INFO:tensorflow:loss = 0.02386285, step = 106 (0.033 sec)\n"
          ],
          "name": "stderr"
        },
        {
          "output_type": "stream",
          "text": [
            "INFO:tensorflow:global_step/sec: 26.0322\n"
          ],
          "name": "stdout"
        },
        {
          "output_type": "stream",
          "text": [
            "INFO:tensorflow:global_step/sec: 26.0322\n"
          ],
          "name": "stderr"
        },
        {
          "output_type": "stream",
          "text": [
            "INFO:tensorflow:loss = 0.017424721, step = 107 (0.040 sec)\n"
          ],
          "name": "stdout"
        },
        {
          "output_type": "stream",
          "text": [
            "INFO:tensorflow:loss = 0.017424721, step = 107 (0.040 sec)\n"
          ],
          "name": "stderr"
        },
        {
          "output_type": "stream",
          "text": [
            "INFO:tensorflow:global_step/sec: 20.0984\n"
          ],
          "name": "stdout"
        },
        {
          "output_type": "stream",
          "text": [
            "INFO:tensorflow:global_step/sec: 20.0984\n"
          ],
          "name": "stderr"
        },
        {
          "output_type": "stream",
          "text": [
            "INFO:tensorflow:loss = 0.056330353, step = 108 (0.050 sec)\n"
          ],
          "name": "stdout"
        },
        {
          "output_type": "stream",
          "text": [
            "INFO:tensorflow:loss = 0.056330353, step = 108 (0.050 sec)\n"
          ],
          "name": "stderr"
        },
        {
          "output_type": "stream",
          "text": [
            "INFO:tensorflow:global_step/sec: 23.4346\n"
          ],
          "name": "stdout"
        },
        {
          "output_type": "stream",
          "text": [
            "INFO:tensorflow:global_step/sec: 23.4346\n"
          ],
          "name": "stderr"
        },
        {
          "output_type": "stream",
          "text": [
            "INFO:tensorflow:loss = 0.02471535, step = 109 (0.048 sec)\n"
          ],
          "name": "stdout"
        },
        {
          "output_type": "stream",
          "text": [
            "INFO:tensorflow:loss = 0.02471535, step = 109 (0.048 sec)\n"
          ],
          "name": "stderr"
        },
        {
          "output_type": "stream",
          "text": [
            "INFO:tensorflow:global_step/sec: 21.7153\n"
          ],
          "name": "stdout"
        },
        {
          "output_type": "stream",
          "text": [
            "INFO:tensorflow:global_step/sec: 21.7153\n"
          ],
          "name": "stderr"
        },
        {
          "output_type": "stream",
          "text": [
            "INFO:tensorflow:loss = 0.02439306, step = 110 (0.040 sec)\n"
          ],
          "name": "stdout"
        },
        {
          "output_type": "stream",
          "text": [
            "INFO:tensorflow:loss = 0.02439306, step = 110 (0.040 sec)\n"
          ],
          "name": "stderr"
        },
        {
          "output_type": "stream",
          "text": [
            "INFO:tensorflow:global_step = 110, loss = 0.02439306 (0.448 sec)\n"
          ],
          "name": "stdout"
        },
        {
          "output_type": "stream",
          "text": [
            "INFO:tensorflow:global_step = 110, loss = 0.02439306 (0.448 sec)\n"
          ],
          "name": "stderr"
        },
        {
          "output_type": "stream",
          "text": [
            "INFO:tensorflow:global_step/sec: 24.2024\n"
          ],
          "name": "stdout"
        },
        {
          "output_type": "stream",
          "text": [
            "INFO:tensorflow:global_step/sec: 24.2024\n"
          ],
          "name": "stderr"
        },
        {
          "output_type": "stream",
          "text": [
            "INFO:tensorflow:loss = 0.025936661, step = 111 (0.052 sec)\n"
          ],
          "name": "stdout"
        },
        {
          "output_type": "stream",
          "text": [
            "INFO:tensorflow:loss = 0.025936661, step = 111 (0.052 sec)\n"
          ],
          "name": "stderr"
        },
        {
          "output_type": "stream",
          "text": [
            "INFO:tensorflow:global_step/sec: 19.7695\n"
          ],
          "name": "stdout"
        },
        {
          "output_type": "stream",
          "text": [
            "INFO:tensorflow:global_step/sec: 19.7695\n"
          ],
          "name": "stderr"
        },
        {
          "output_type": "stream",
          "text": [
            "INFO:tensorflow:loss = 0.027489766, step = 112 (0.036 sec)\n"
          ],
          "name": "stdout"
        },
        {
          "output_type": "stream",
          "text": [
            "INFO:tensorflow:loss = 0.027489766, step = 112 (0.036 sec)\n"
          ],
          "name": "stderr"
        },
        {
          "output_type": "stream",
          "text": [
            "INFO:tensorflow:global_step/sec: 32.3877\n"
          ],
          "name": "stdout"
        },
        {
          "output_type": "stream",
          "text": [
            "INFO:tensorflow:global_step/sec: 32.3877\n"
          ],
          "name": "stderr"
        },
        {
          "output_type": "stream",
          "text": [
            "INFO:tensorflow:loss = 0.057379298, step = 113 (0.034 sec)\n"
          ],
          "name": "stdout"
        },
        {
          "output_type": "stream",
          "text": [
            "INFO:tensorflow:loss = 0.057379298, step = 113 (0.034 sec)\n"
          ],
          "name": "stderr"
        },
        {
          "output_type": "stream",
          "text": [
            "INFO:tensorflow:global_step/sec: 25.1757\n"
          ],
          "name": "stdout"
        },
        {
          "output_type": "stream",
          "text": [
            "INFO:tensorflow:global_step/sec: 25.1757\n"
          ],
          "name": "stderr"
        },
        {
          "output_type": "stream",
          "text": [
            "INFO:tensorflow:loss = 0.019370189, step = 114 (0.039 sec)\n"
          ],
          "name": "stdout"
        },
        {
          "output_type": "stream",
          "text": [
            "INFO:tensorflow:loss = 0.019370189, step = 114 (0.039 sec)\n"
          ],
          "name": "stderr"
        },
        {
          "output_type": "stream",
          "text": [
            "INFO:tensorflow:global_step/sec: 26.9791\n"
          ],
          "name": "stdout"
        },
        {
          "output_type": "stream",
          "text": [
            "INFO:tensorflow:global_step/sec: 26.9791\n"
          ],
          "name": "stderr"
        },
        {
          "output_type": "stream",
          "text": [
            "INFO:tensorflow:loss = 0.03141754, step = 115 (0.039 sec)\n"
          ],
          "name": "stdout"
        },
        {
          "output_type": "stream",
          "text": [
            "INFO:tensorflow:loss = 0.03141754, step = 115 (0.039 sec)\n"
          ],
          "name": "stderr"
        },
        {
          "output_type": "stream",
          "text": [
            "INFO:tensorflow:global_step/sec: 29.0515\n"
          ],
          "name": "stdout"
        },
        {
          "output_type": "stream",
          "text": [
            "INFO:tensorflow:global_step/sec: 29.0515\n"
          ],
          "name": "stderr"
        },
        {
          "output_type": "stream",
          "text": [
            "INFO:tensorflow:loss = 0.02156905, step = 116 (0.039 sec)\n"
          ],
          "name": "stdout"
        },
        {
          "output_type": "stream",
          "text": [
            "INFO:tensorflow:loss = 0.02156905, step = 116 (0.039 sec)\n"
          ],
          "name": "stderr"
        },
        {
          "output_type": "stream",
          "text": [
            "INFO:tensorflow:global_step/sec: 23.4015\n"
          ],
          "name": "stdout"
        },
        {
          "output_type": "stream",
          "text": [
            "INFO:tensorflow:global_step/sec: 23.4015\n"
          ],
          "name": "stderr"
        },
        {
          "output_type": "stream",
          "text": [
            "INFO:tensorflow:loss = 0.02311549, step = 117 (0.037 sec)\n"
          ],
          "name": "stdout"
        },
        {
          "output_type": "stream",
          "text": [
            "INFO:tensorflow:loss = 0.02311549, step = 117 (0.037 sec)\n"
          ],
          "name": "stderr"
        },
        {
          "output_type": "stream",
          "text": [
            "INFO:tensorflow:global_step/sec: 20.1514\n"
          ],
          "name": "stdout"
        },
        {
          "output_type": "stream",
          "text": [
            "INFO:tensorflow:global_step/sec: 20.1514\n"
          ],
          "name": "stderr"
        },
        {
          "output_type": "stream",
          "text": [
            "INFO:tensorflow:loss = 0.041095637, step = 118 (0.050 sec)\n"
          ],
          "name": "stdout"
        },
        {
          "output_type": "stream",
          "text": [
            "INFO:tensorflow:loss = 0.041095637, step = 118 (0.050 sec)\n"
          ],
          "name": "stderr"
        },
        {
          "output_type": "stream",
          "text": [
            "INFO:tensorflow:Saving checkpoints for 120 into output/model.ckpt.\n"
          ],
          "name": "stdout"
        },
        {
          "output_type": "stream",
          "text": [
            "INFO:tensorflow:Saving checkpoints for 120 into output/model.ckpt.\n"
          ],
          "name": "stderr"
        },
        {
          "output_type": "stream",
          "text": [
            "INFO:tensorflow:Calling model_fn.\n"
          ],
          "name": "stdout"
        },
        {
          "output_type": "stream",
          "text": [
            "INFO:tensorflow:Calling model_fn.\n"
          ],
          "name": "stderr"
        },
        {
          "output_type": "stream",
          "text": [
            "INFO:tensorflow:Done calling model_fn.\n"
          ],
          "name": "stdout"
        },
        {
          "output_type": "stream",
          "text": [
            "INFO:tensorflow:Done calling model_fn.\n"
          ],
          "name": "stderr"
        },
        {
          "output_type": "stream",
          "text": [
            "INFO:tensorflow:Starting evaluation at 2020-08-21T09:12:54Z\n"
          ],
          "name": "stdout"
        },
        {
          "output_type": "stream",
          "text": [
            "INFO:tensorflow:Starting evaluation at 2020-08-21T09:12:54Z\n"
          ],
          "name": "stderr"
        },
        {
          "output_type": "stream",
          "text": [
            "INFO:tensorflow:Graph was finalized.\n"
          ],
          "name": "stdout"
        },
        {
          "output_type": "stream",
          "text": [
            "INFO:tensorflow:Graph was finalized.\n"
          ],
          "name": "stderr"
        },
        {
          "output_type": "stream",
          "text": [
            "INFO:tensorflow:Restoring parameters from output/model.ckpt-120\n"
          ],
          "name": "stdout"
        },
        {
          "output_type": "stream",
          "text": [
            "INFO:tensorflow:Restoring parameters from output/model.ckpt-120\n"
          ],
          "name": "stderr"
        },
        {
          "output_type": "stream",
          "text": [
            "INFO:tensorflow:Running local_init_op.\n"
          ],
          "name": "stdout"
        },
        {
          "output_type": "stream",
          "text": [
            "INFO:tensorflow:Running local_init_op.\n"
          ],
          "name": "stderr"
        },
        {
          "output_type": "stream",
          "text": [
            "INFO:tensorflow:Done running local_init_op.\n"
          ],
          "name": "stdout"
        },
        {
          "output_type": "stream",
          "text": [
            "INFO:tensorflow:Done running local_init_op.\n"
          ],
          "name": "stderr"
        },
        {
          "output_type": "stream",
          "text": [
            "INFO:tensorflow:Finished evaluation at 2020-08-21-09:12:55\n"
          ],
          "name": "stdout"
        },
        {
          "output_type": "stream",
          "text": [
            "INFO:tensorflow:Finished evaluation at 2020-08-21-09:12:55\n"
          ],
          "name": "stderr"
        },
        {
          "output_type": "stream",
          "text": [
            "INFO:tensorflow:Saving dict for global step 120: global_step = 120, loss = 0.07329179, metric/accuracy = 0.98049194, metric/confusion_matrix = [[184   0   1   0   1   0]\n",
            " [  0 200   0   0   0   0]\n",
            " [  0   1 232   0   1   0]\n",
            " [  0   0   0 184   0   0]\n",
            " [  1   0   1   1 173   8]\n",
            " [  0   0   0   2   6 183]]\n"
          ],
          "name": "stdout"
        },
        {
          "output_type": "stream",
          "text": [
            "INFO:tensorflow:Saving dict for global step 120: global_step = 120, loss = 0.07329179, metric/accuracy = 0.98049194, metric/confusion_matrix = [[184   0   1   0   1   0]\n",
            " [  0 200   0   0   0   0]\n",
            " [  0   1 232   0   1   0]\n",
            " [  0   0   0 184   0   0]\n",
            " [  1   0   1   1 173   8]\n",
            " [  0   0   0   2   6 183]]\n"
          ],
          "name": "stderr"
        },
        {
          "output_type": "stream",
          "text": [
            "INFO:tensorflow:Summary for np.ndarray is not visible in Tensorboard by default. Consider using a Tensorboard plugin for visualization (see https://github.com/tensorflow/tensorboard-plugin-example/blob/master/README.md for more information).\n"
          ],
          "name": "stdout"
        },
        {
          "output_type": "stream",
          "text": [
            "INFO:tensorflow:Summary for np.ndarray is not visible in Tensorboard by default. Consider using a Tensorboard plugin for visualization (see https://github.com/tensorflow/tensorboard-plugin-example/blob/master/README.md for more information).\n"
          ],
          "name": "stderr"
        },
        {
          "output_type": "stream",
          "text": [
            "INFO:tensorflow:Saving 'checkpoint_path' summary for global step 120: output/model.ckpt-120\n"
          ],
          "name": "stdout"
        },
        {
          "output_type": "stream",
          "text": [
            "INFO:tensorflow:Saving 'checkpoint_path' summary for global step 120: output/model.ckpt-120\n"
          ],
          "name": "stderr"
        },
        {
          "output_type": "stream",
          "text": [
            "INFO:tensorflow:## Step 120\n"
          ],
          "name": "stdout"
        },
        {
          "output_type": "stream",
          "text": [
            "INFO:tensorflow:## Step 120\n"
          ],
          "name": "stderr"
        },
        {
          "output_type": "stream",
          "text": [
            "INFO:tensorflow:loss : 0.07329179346561432\n"
          ],
          "name": "stdout"
        },
        {
          "output_type": "stream",
          "text": [
            "INFO:tensorflow:loss : 0.07329179346561432\n"
          ],
          "name": "stderr"
        },
        {
          "output_type": "stream",
          "text": [
            "INFO:tensorflow:[[184   0   1   0   1   0]\n",
            " [  0 200   0   0   0   0]\n",
            " [  0   1 232   0   1   0]\n",
            " [  0   0   0 184   0   0]\n",
            " [  1   0   1   1 173   8]\n",
            " [  0   0   0   2   6 183]] : \n"
          ],
          "name": "stdout"
        },
        {
          "output_type": "stream",
          "text": [
            "INFO:tensorflow:[[184   0   1   0   1   0]\n",
            " [  0 200   0   0   0   0]\n",
            " [  0   1 232   0   1   0]\n",
            " [  0   0   0 184   0   0]\n",
            " [  1   0   1   1 173   8]\n",
            " [  0   0   0   2   6 183]] : \n"
          ],
          "name": "stderr"
        },
        {
          "output_type": "stream",
          "text": [
            "INFO:tensorflow:[[184   0   1   0   1   0]\n",
            " [  0 200   0   0   0   0]\n",
            " [  0   1 232   0   1   0]\n",
            " [  0   0   0 184   0   0]\n",
            " [  1   0   1   1 173   8]\n",
            " [  0   0   0   2   6 183]]\n"
          ],
          "name": "stdout"
        },
        {
          "output_type": "stream",
          "text": [
            "INFO:tensorflow:[[184   0   1   0   1   0]\n",
            " [  0 200   0   0   0   0]\n",
            " [  0   1 232   0   1   0]\n",
            " [  0   0   0 184   0   0]\n",
            " [  1   0   1   1 173   8]\n",
            " [  0   0   0   2   6 183]]\n"
          ],
          "name": "stderr"
        },
        {
          "output_type": "stream",
          "text": [
            "INFO:tensorflow:Checking checkpoint model.ckpt-120\n"
          ],
          "name": "stdout"
        },
        {
          "output_type": "stream",
          "text": [
            "INFO:tensorflow:Checking checkpoint model.ckpt-120\n"
          ],
          "name": "stderr"
        },
        {
          "output_type": "stream",
          "text": [
            "INFO:tensorflow:skipping checkpoint model.ckpt-120 with metric/accuracy = 0.9804919362068176\n"
          ],
          "name": "stdout"
        },
        {
          "output_type": "stream",
          "text": [
            "INFO:tensorflow:skipping checkpoint model.ckpt-120 with metric/accuracy = 0.9804919362068176\n"
          ],
          "name": "stderr"
        },
        {
          "output_type": "stream",
          "text": [
            "INFO:tensorflow:global_step/sec: 0.630574\n"
          ],
          "name": "stdout"
        },
        {
          "output_type": "stream",
          "text": [
            "INFO:tensorflow:global_step/sec: 0.630574\n"
          ],
          "name": "stderr"
        },
        {
          "output_type": "stream",
          "text": [
            "INFO:tensorflow:loss = 0.030968703, step = 119 (1.583 sec)\n"
          ],
          "name": "stdout"
        },
        {
          "output_type": "stream",
          "text": [
            "INFO:tensorflow:loss = 0.030968703, step = 119 (1.583 sec)\n"
          ],
          "name": "stderr"
        },
        {
          "output_type": "stream",
          "text": [
            "INFO:tensorflow:global_step/sec: 21.0367\n"
          ],
          "name": "stdout"
        },
        {
          "output_type": "stream",
          "text": [
            "INFO:tensorflow:global_step/sec: 21.0367\n"
          ],
          "name": "stderr"
        },
        {
          "output_type": "stream",
          "text": [
            "INFO:tensorflow:loss = 0.037811704, step = 120 (0.047 sec)\n"
          ],
          "name": "stdout"
        },
        {
          "output_type": "stream",
          "text": [
            "INFO:tensorflow:loss = 0.037811704, step = 120 (0.047 sec)\n"
          ],
          "name": "stderr"
        },
        {
          "output_type": "stream",
          "text": [
            "INFO:tensorflow:global_step = 120, loss = 0.037811704 (1.956 sec)\n"
          ],
          "name": "stdout"
        },
        {
          "output_type": "stream",
          "text": [
            "INFO:tensorflow:global_step = 120, loss = 0.037811704 (1.956 sec)\n"
          ],
          "name": "stderr"
        },
        {
          "output_type": "stream",
          "text": [
            "INFO:tensorflow:global_step/sec: 16.0041\n"
          ],
          "name": "stdout"
        },
        {
          "output_type": "stream",
          "text": [
            "INFO:tensorflow:global_step/sec: 16.0041\n"
          ],
          "name": "stderr"
        },
        {
          "output_type": "stream",
          "text": [
            "INFO:tensorflow:loss = 0.10444461, step = 121 (0.063 sec)\n"
          ],
          "name": "stdout"
        },
        {
          "output_type": "stream",
          "text": [
            "INFO:tensorflow:loss = 0.10444461, step = 121 (0.063 sec)\n"
          ],
          "name": "stderr"
        },
        {
          "output_type": "stream",
          "text": [
            "INFO:tensorflow:global_step/sec: 29.4743\n"
          ],
          "name": "stdout"
        },
        {
          "output_type": "stream",
          "text": [
            "INFO:tensorflow:global_step/sec: 29.4743\n"
          ],
          "name": "stderr"
        },
        {
          "output_type": "stream",
          "text": [
            "INFO:tensorflow:loss = 0.021984559, step = 122 (0.037 sec)\n"
          ],
          "name": "stdout"
        },
        {
          "output_type": "stream",
          "text": [
            "INFO:tensorflow:loss = 0.021984559, step = 122 (0.037 sec)\n"
          ],
          "name": "stderr"
        },
        {
          "output_type": "stream",
          "text": [
            "INFO:tensorflow:global_step/sec: 29.075\n"
          ],
          "name": "stdout"
        },
        {
          "output_type": "stream",
          "text": [
            "INFO:tensorflow:global_step/sec: 29.075\n"
          ],
          "name": "stderr"
        },
        {
          "output_type": "stream",
          "text": [
            "INFO:tensorflow:loss = 0.02605863, step = 123 (0.032 sec)\n"
          ],
          "name": "stdout"
        },
        {
          "output_type": "stream",
          "text": [
            "INFO:tensorflow:loss = 0.02605863, step = 123 (0.032 sec)\n"
          ],
          "name": "stderr"
        },
        {
          "output_type": "stream",
          "text": [
            "INFO:tensorflow:global_step/sec: 23.0176\n"
          ],
          "name": "stdout"
        },
        {
          "output_type": "stream",
          "text": [
            "INFO:tensorflow:global_step/sec: 23.0176\n"
          ],
          "name": "stderr"
        },
        {
          "output_type": "stream",
          "text": [
            "INFO:tensorflow:loss = 0.061395753, step = 124 (0.046 sec)\n"
          ],
          "name": "stdout"
        },
        {
          "output_type": "stream",
          "text": [
            "INFO:tensorflow:loss = 0.061395753, step = 124 (0.046 sec)\n"
          ],
          "name": "stderr"
        },
        {
          "output_type": "stream",
          "text": [
            "INFO:tensorflow:global_step/sec: 27.9289\n"
          ],
          "name": "stdout"
        },
        {
          "output_type": "stream",
          "text": [
            "INFO:tensorflow:global_step/sec: 27.9289\n"
          ],
          "name": "stderr"
        },
        {
          "output_type": "stream",
          "text": [
            "INFO:tensorflow:loss = 0.04449352, step = 125 (0.037 sec)\n"
          ],
          "name": "stdout"
        },
        {
          "output_type": "stream",
          "text": [
            "INFO:tensorflow:loss = 0.04449352, step = 125 (0.037 sec)\n"
          ],
          "name": "stderr"
        },
        {
          "output_type": "stream",
          "text": [
            "INFO:tensorflow:global_step/sec: 25.2968\n"
          ],
          "name": "stdout"
        },
        {
          "output_type": "stream",
          "text": [
            "INFO:tensorflow:global_step/sec: 25.2968\n"
          ],
          "name": "stderr"
        },
        {
          "output_type": "stream",
          "text": [
            "INFO:tensorflow:loss = 0.10240599, step = 126 (0.039 sec)\n"
          ],
          "name": "stdout"
        },
        {
          "output_type": "stream",
          "text": [
            "INFO:tensorflow:loss = 0.10240599, step = 126 (0.039 sec)\n"
          ],
          "name": "stderr"
        },
        {
          "output_type": "stream",
          "text": [
            "INFO:tensorflow:global_step/sec: 30.6189\n"
          ],
          "name": "stdout"
        },
        {
          "output_type": "stream",
          "text": [
            "INFO:tensorflow:global_step/sec: 30.6189\n"
          ],
          "name": "stderr"
        },
        {
          "output_type": "stream",
          "text": [
            "INFO:tensorflow:loss = 0.2400822, step = 127 (0.036 sec)\n"
          ],
          "name": "stdout"
        },
        {
          "output_type": "stream",
          "text": [
            "INFO:tensorflow:loss = 0.2400822, step = 127 (0.036 sec)\n"
          ],
          "name": "stderr"
        },
        {
          "output_type": "stream",
          "text": [
            "INFO:tensorflow:global_step/sec: 26.9557\n"
          ],
          "name": "stdout"
        },
        {
          "output_type": "stream",
          "text": [
            "INFO:tensorflow:global_step/sec: 26.9557\n"
          ],
          "name": "stderr"
        },
        {
          "output_type": "stream",
          "text": [
            "INFO:tensorflow:loss = 0.027258277, step = 128 (0.035 sec)\n"
          ],
          "name": "stdout"
        },
        {
          "output_type": "stream",
          "text": [
            "INFO:tensorflow:loss = 0.027258277, step = 128 (0.035 sec)\n"
          ],
          "name": "stderr"
        },
        {
          "output_type": "stream",
          "text": [
            "INFO:tensorflow:global_step/sec: 26.4753\n"
          ],
          "name": "stdout"
        },
        {
          "output_type": "stream",
          "text": [
            "INFO:tensorflow:global_step/sec: 26.4753\n"
          ],
          "name": "stderr"
        },
        {
          "output_type": "stream",
          "text": [
            "INFO:tensorflow:loss = 0.020450357, step = 129 (0.032 sec)\n"
          ],
          "name": "stdout"
        },
        {
          "output_type": "stream",
          "text": [
            "INFO:tensorflow:loss = 0.020450357, step = 129 (0.032 sec)\n"
          ],
          "name": "stderr"
        },
        {
          "output_type": "stream",
          "text": [
            "INFO:tensorflow:global_step/sec: 29.6591\n"
          ],
          "name": "stdout"
        },
        {
          "output_type": "stream",
          "text": [
            "INFO:tensorflow:global_step/sec: 29.6591\n"
          ],
          "name": "stderr"
        },
        {
          "output_type": "stream",
          "text": [
            "INFO:tensorflow:loss = 0.010525823, step = 130 (0.035 sec)\n"
          ],
          "name": "stdout"
        },
        {
          "output_type": "stream",
          "text": [
            "INFO:tensorflow:loss = 0.010525823, step = 130 (0.035 sec)\n"
          ],
          "name": "stderr"
        },
        {
          "output_type": "stream",
          "text": [
            "INFO:tensorflow:global_step = 130, loss = 0.010525823 (0.396 sec)\n"
          ],
          "name": "stdout"
        },
        {
          "output_type": "stream",
          "text": [
            "INFO:tensorflow:global_step = 130, loss = 0.010525823 (0.396 sec)\n"
          ],
          "name": "stderr"
        },
        {
          "output_type": "stream",
          "text": [
            "INFO:tensorflow:global_step/sec: 17.3092\n"
          ],
          "name": "stdout"
        },
        {
          "output_type": "stream",
          "text": [
            "INFO:tensorflow:global_step/sec: 17.3092\n"
          ],
          "name": "stderr"
        },
        {
          "output_type": "stream",
          "text": [
            "INFO:tensorflow:loss = 0.02750985, step = 131 (0.060 sec)\n"
          ],
          "name": "stdout"
        },
        {
          "output_type": "stream",
          "text": [
            "INFO:tensorflow:loss = 0.02750985, step = 131 (0.060 sec)\n"
          ],
          "name": "stderr"
        },
        {
          "output_type": "stream",
          "text": [
            "INFO:tensorflow:global_step/sec: 25.2413\n"
          ],
          "name": "stdout"
        },
        {
          "output_type": "stream",
          "text": [
            "INFO:tensorflow:global_step/sec: 25.2413\n"
          ],
          "name": "stderr"
        },
        {
          "output_type": "stream",
          "text": [
            "INFO:tensorflow:loss = 0.05730046, step = 132 (0.043 sec)\n"
          ],
          "name": "stdout"
        },
        {
          "output_type": "stream",
          "text": [
            "INFO:tensorflow:loss = 0.05730046, step = 132 (0.043 sec)\n"
          ],
          "name": "stderr"
        },
        {
          "output_type": "stream",
          "text": [
            "INFO:tensorflow:global_step/sec: 24.7739\n"
          ],
          "name": "stdout"
        },
        {
          "output_type": "stream",
          "text": [
            "INFO:tensorflow:global_step/sec: 24.7739\n"
          ],
          "name": "stderr"
        },
        {
          "output_type": "stream",
          "text": [
            "INFO:tensorflow:loss = 0.0962019, step = 133 (0.033 sec)\n"
          ],
          "name": "stdout"
        },
        {
          "output_type": "stream",
          "text": [
            "INFO:tensorflow:loss = 0.0962019, step = 133 (0.033 sec)\n"
          ],
          "name": "stderr"
        },
        {
          "output_type": "stream",
          "text": [
            "INFO:tensorflow:global_step/sec: 24.5987\n"
          ],
          "name": "stdout"
        },
        {
          "output_type": "stream",
          "text": [
            "INFO:tensorflow:global_step/sec: 24.5987\n"
          ],
          "name": "stderr"
        },
        {
          "output_type": "stream",
          "text": [
            "INFO:tensorflow:loss = 0.015843283, step = 134 (0.040 sec)\n"
          ],
          "name": "stdout"
        },
        {
          "output_type": "stream",
          "text": [
            "INFO:tensorflow:loss = 0.015843283, step = 134 (0.040 sec)\n"
          ],
          "name": "stderr"
        },
        {
          "output_type": "stream",
          "text": [
            "INFO:tensorflow:global_step/sec: 33.0047\n"
          ],
          "name": "stdout"
        },
        {
          "output_type": "stream",
          "text": [
            "INFO:tensorflow:global_step/sec: 33.0047\n"
          ],
          "name": "stderr"
        },
        {
          "output_type": "stream",
          "text": [
            "INFO:tensorflow:loss = 0.038249422, step = 135 (0.033 sec)\n"
          ],
          "name": "stdout"
        },
        {
          "output_type": "stream",
          "text": [
            "INFO:tensorflow:loss = 0.038249422, step = 135 (0.033 sec)\n"
          ],
          "name": "stderr"
        },
        {
          "output_type": "stream",
          "text": [
            "INFO:tensorflow:global_step/sec: 24.3963\n"
          ],
          "name": "stdout"
        },
        {
          "output_type": "stream",
          "text": [
            "INFO:tensorflow:global_step/sec: 24.3963\n"
          ],
          "name": "stderr"
        },
        {
          "output_type": "stream",
          "text": [
            "INFO:tensorflow:loss = 0.05762318, step = 136 (0.045 sec)\n"
          ],
          "name": "stdout"
        },
        {
          "output_type": "stream",
          "text": [
            "INFO:tensorflow:loss = 0.05762318, step = 136 (0.045 sec)\n"
          ],
          "name": "stderr"
        },
        {
          "output_type": "stream",
          "text": [
            "INFO:tensorflow:global_step/sec: 23.4875\n"
          ],
          "name": "stdout"
        },
        {
          "output_type": "stream",
          "text": [
            "INFO:tensorflow:global_step/sec: 23.4875\n"
          ],
          "name": "stderr"
        },
        {
          "output_type": "stream",
          "text": [
            "INFO:tensorflow:loss = 0.05026518, step = 137 (0.041 sec)\n"
          ],
          "name": "stdout"
        },
        {
          "output_type": "stream",
          "text": [
            "INFO:tensorflow:loss = 0.05026518, step = 137 (0.041 sec)\n"
          ],
          "name": "stderr"
        },
        {
          "output_type": "stream",
          "text": [
            "INFO:tensorflow:global_step/sec: 27.2147\n"
          ],
          "name": "stdout"
        },
        {
          "output_type": "stream",
          "text": [
            "INFO:tensorflow:global_step/sec: 27.2147\n"
          ],
          "name": "stderr"
        },
        {
          "output_type": "stream",
          "text": [
            "INFO:tensorflow:loss = 0.014577506, step = 138 (0.032 sec)\n"
          ],
          "name": "stdout"
        },
        {
          "output_type": "stream",
          "text": [
            "INFO:tensorflow:loss = 0.014577506, step = 138 (0.032 sec)\n"
          ],
          "name": "stderr"
        },
        {
          "output_type": "stream",
          "text": [
            "INFO:tensorflow:global_step/sec: 28.0377\n"
          ],
          "name": "stdout"
        },
        {
          "output_type": "stream",
          "text": [
            "INFO:tensorflow:global_step/sec: 28.0377\n"
          ],
          "name": "stderr"
        },
        {
          "output_type": "stream",
          "text": [
            "INFO:tensorflow:loss = 0.018582128, step = 139 (0.041 sec)\n"
          ],
          "name": "stdout"
        },
        {
          "output_type": "stream",
          "text": [
            "INFO:tensorflow:loss = 0.018582128, step = 139 (0.041 sec)\n"
          ],
          "name": "stderr"
        },
        {
          "output_type": "stream",
          "text": [
            "INFO:tensorflow:global_step/sec: 23.2012\n"
          ],
          "name": "stdout"
        },
        {
          "output_type": "stream",
          "text": [
            "INFO:tensorflow:global_step/sec: 23.2012\n"
          ],
          "name": "stderr"
        },
        {
          "output_type": "stream",
          "text": [
            "INFO:tensorflow:loss = 0.04204002, step = 140 (0.039 sec)\n"
          ],
          "name": "stdout"
        },
        {
          "output_type": "stream",
          "text": [
            "INFO:tensorflow:loss = 0.04204002, step = 140 (0.039 sec)\n"
          ],
          "name": "stderr"
        },
        {
          "output_type": "stream",
          "text": [
            "INFO:tensorflow:global_step = 140, loss = 0.04204002 (0.405 sec)\n"
          ],
          "name": "stdout"
        },
        {
          "output_type": "stream",
          "text": [
            "INFO:tensorflow:global_step = 140, loss = 0.04204002 (0.405 sec)\n"
          ],
          "name": "stderr"
        },
        {
          "output_type": "stream",
          "text": [
            "INFO:tensorflow:global_step/sec: 24.7078\n"
          ],
          "name": "stdout"
        },
        {
          "output_type": "stream",
          "text": [
            "INFO:tensorflow:global_step/sec: 24.7078\n"
          ],
          "name": "stderr"
        },
        {
          "output_type": "stream",
          "text": [
            "INFO:tensorflow:loss = 0.024826817, step = 141 (0.040 sec)\n"
          ],
          "name": "stdout"
        },
        {
          "output_type": "stream",
          "text": [
            "INFO:tensorflow:loss = 0.024826817, step = 141 (0.040 sec)\n"
          ],
          "name": "stderr"
        },
        {
          "output_type": "stream",
          "text": [
            "INFO:tensorflow:global_step/sec: 29.6927\n"
          ],
          "name": "stdout"
        },
        {
          "output_type": "stream",
          "text": [
            "INFO:tensorflow:global_step/sec: 29.6927\n"
          ],
          "name": "stderr"
        },
        {
          "output_type": "stream",
          "text": [
            "INFO:tensorflow:loss = 0.041476708, step = 142 (0.042 sec)\n"
          ],
          "name": "stdout"
        },
        {
          "output_type": "stream",
          "text": [
            "INFO:tensorflow:loss = 0.041476708, step = 142 (0.042 sec)\n"
          ],
          "name": "stderr"
        },
        {
          "output_type": "stream",
          "text": [
            "INFO:tensorflow:global_step/sec: 25.7512\n"
          ],
          "name": "stdout"
        },
        {
          "output_type": "stream",
          "text": [
            "INFO:tensorflow:global_step/sec: 25.7512\n"
          ],
          "name": "stderr"
        },
        {
          "output_type": "stream",
          "text": [
            "INFO:tensorflow:loss = 0.20091593, step = 143 (0.033 sec)\n"
          ],
          "name": "stdout"
        },
        {
          "output_type": "stream",
          "text": [
            "INFO:tensorflow:loss = 0.20091593, step = 143 (0.033 sec)\n"
          ],
          "name": "stderr"
        },
        {
          "output_type": "stream",
          "text": [
            "INFO:tensorflow:global_step/sec: 25.7109\n"
          ],
          "name": "stdout"
        },
        {
          "output_type": "stream",
          "text": [
            "INFO:tensorflow:global_step/sec: 25.7109\n"
          ],
          "name": "stderr"
        },
        {
          "output_type": "stream",
          "text": [
            "INFO:tensorflow:loss = 0.062097877, step = 144 (0.038 sec)\n"
          ],
          "name": "stdout"
        },
        {
          "output_type": "stream",
          "text": [
            "INFO:tensorflow:loss = 0.062097877, step = 144 (0.038 sec)\n"
          ],
          "name": "stderr"
        },
        {
          "output_type": "stream",
          "text": [
            "INFO:tensorflow:global_step/sec: 33.4266\n"
          ],
          "name": "stdout"
        },
        {
          "output_type": "stream",
          "text": [
            "INFO:tensorflow:global_step/sec: 33.4266\n"
          ],
          "name": "stderr"
        },
        {
          "output_type": "stream",
          "text": [
            "INFO:tensorflow:loss = 0.081983864, step = 145 (0.029 sec)\n"
          ],
          "name": "stdout"
        },
        {
          "output_type": "stream",
          "text": [
            "INFO:tensorflow:loss = 0.081983864, step = 145 (0.029 sec)\n"
          ],
          "name": "stderr"
        },
        {
          "output_type": "stream",
          "text": [
            "INFO:tensorflow:global_step/sec: 21.116\n"
          ],
          "name": "stdout"
        },
        {
          "output_type": "stream",
          "text": [
            "INFO:tensorflow:global_step/sec: 21.116\n"
          ],
          "name": "stderr"
        },
        {
          "output_type": "stream",
          "text": [
            "INFO:tensorflow:loss = 0.06052958, step = 146 (0.047 sec)\n"
          ],
          "name": "stdout"
        },
        {
          "output_type": "stream",
          "text": [
            "INFO:tensorflow:loss = 0.06052958, step = 146 (0.047 sec)\n"
          ],
          "name": "stderr"
        },
        {
          "output_type": "stream",
          "text": [
            "INFO:tensorflow:global_step/sec: 26.2211\n"
          ],
          "name": "stdout"
        },
        {
          "output_type": "stream",
          "text": [
            "INFO:tensorflow:global_step/sec: 26.2211\n"
          ],
          "name": "stderr"
        },
        {
          "output_type": "stream",
          "text": [
            "INFO:tensorflow:loss = 0.01696232, step = 147 (0.039 sec)\n"
          ],
          "name": "stdout"
        },
        {
          "output_type": "stream",
          "text": [
            "INFO:tensorflow:loss = 0.01696232, step = 147 (0.039 sec)\n"
          ],
          "name": "stderr"
        },
        {
          "output_type": "stream",
          "text": [
            "INFO:tensorflow:global_step/sec: 28.4676\n"
          ],
          "name": "stdout"
        },
        {
          "output_type": "stream",
          "text": [
            "INFO:tensorflow:global_step/sec: 28.4676\n"
          ],
          "name": "stderr"
        },
        {
          "output_type": "stream",
          "text": [
            "INFO:tensorflow:loss = 0.06409545, step = 148 (0.040 sec)\n"
          ],
          "name": "stdout"
        },
        {
          "output_type": "stream",
          "text": [
            "INFO:tensorflow:loss = 0.06409545, step = 148 (0.040 sec)\n"
          ],
          "name": "stderr"
        },
        {
          "output_type": "stream",
          "text": [
            "INFO:tensorflow:Saving checkpoints for 150 into output/model.ckpt.\n"
          ],
          "name": "stdout"
        },
        {
          "output_type": "stream",
          "text": [
            "INFO:tensorflow:Saving checkpoints for 150 into output/model.ckpt.\n"
          ],
          "name": "stderr"
        },
        {
          "output_type": "stream",
          "text": [
            "WARNING:tensorflow:From /tensorflow-1.15.2/python3.6/tensorflow_core/python/training/saver.py:963: remove_checkpoint (from tensorflow.python.training.checkpoint_management) is deprecated and will be removed in a future version.\n",
            "Instructions for updating:\n",
            "Use standard file APIs to delete files with this prefix.\n"
          ],
          "name": "stdout"
        },
        {
          "output_type": "stream",
          "text": [
            "WARNING:tensorflow:From /tensorflow-1.15.2/python3.6/tensorflow_core/python/training/saver.py:963: remove_checkpoint (from tensorflow.python.training.checkpoint_management) is deprecated and will be removed in a future version.\n",
            "Instructions for updating:\n",
            "Use standard file APIs to delete files with this prefix.\n"
          ],
          "name": "stderr"
        },
        {
          "output_type": "stream",
          "text": [
            "INFO:tensorflow:Calling model_fn.\n"
          ],
          "name": "stdout"
        },
        {
          "output_type": "stream",
          "text": [
            "INFO:tensorflow:Calling model_fn.\n"
          ],
          "name": "stderr"
        },
        {
          "output_type": "stream",
          "text": [
            "INFO:tensorflow:Done calling model_fn.\n"
          ],
          "name": "stdout"
        },
        {
          "output_type": "stream",
          "text": [
            "INFO:tensorflow:Done calling model_fn.\n"
          ],
          "name": "stderr"
        },
        {
          "output_type": "stream",
          "text": [
            "INFO:tensorflow:Starting evaluation at 2020-08-21T09:12:57Z\n"
          ],
          "name": "stdout"
        },
        {
          "output_type": "stream",
          "text": [
            "INFO:tensorflow:Starting evaluation at 2020-08-21T09:12:57Z\n"
          ],
          "name": "stderr"
        },
        {
          "output_type": "stream",
          "text": [
            "INFO:tensorflow:Graph was finalized.\n"
          ],
          "name": "stdout"
        },
        {
          "output_type": "stream",
          "text": [
            "INFO:tensorflow:Graph was finalized.\n"
          ],
          "name": "stderr"
        },
        {
          "output_type": "stream",
          "text": [
            "INFO:tensorflow:Restoring parameters from output/model.ckpt-150\n"
          ],
          "name": "stdout"
        },
        {
          "output_type": "stream",
          "text": [
            "INFO:tensorflow:Restoring parameters from output/model.ckpt-150\n"
          ],
          "name": "stderr"
        },
        {
          "output_type": "stream",
          "text": [
            "INFO:tensorflow:Running local_init_op.\n"
          ],
          "name": "stdout"
        },
        {
          "output_type": "stream",
          "text": [
            "INFO:tensorflow:Running local_init_op.\n"
          ],
          "name": "stderr"
        },
        {
          "output_type": "stream",
          "text": [
            "INFO:tensorflow:Done running local_init_op.\n"
          ],
          "name": "stdout"
        },
        {
          "output_type": "stream",
          "text": [
            "INFO:tensorflow:Done running local_init_op.\n"
          ],
          "name": "stderr"
        },
        {
          "output_type": "stream",
          "text": [
            "INFO:tensorflow:Finished evaluation at 2020-08-21-09:12:58\n"
          ],
          "name": "stdout"
        },
        {
          "output_type": "stream",
          "text": [
            "INFO:tensorflow:Finished evaluation at 2020-08-21-09:12:58\n"
          ],
          "name": "stderr"
        },
        {
          "output_type": "stream",
          "text": [
            "INFO:tensorflow:Saving dict for global step 150: global_step = 150, loss = 0.07018357, metric/accuracy = 0.9813401, metric/confusion_matrix = [[184   0   1   0   1   0]\n",
            " [  0 200   0   0   0   0]\n",
            " [  0   1 232   0   1   0]\n",
            " [  0   0   0 184   0   0]\n",
            " [  1   0   1   1 176   5]\n",
            " [  0   0   1   2   7 181]]\n"
          ],
          "name": "stdout"
        },
        {
          "output_type": "stream",
          "text": [
            "INFO:tensorflow:Saving dict for global step 150: global_step = 150, loss = 0.07018357, metric/accuracy = 0.9813401, metric/confusion_matrix = [[184   0   1   0   1   0]\n",
            " [  0 200   0   0   0   0]\n",
            " [  0   1 232   0   1   0]\n",
            " [  0   0   0 184   0   0]\n",
            " [  1   0   1   1 176   5]\n",
            " [  0   0   1   2   7 181]]\n"
          ],
          "name": "stderr"
        },
        {
          "output_type": "stream",
          "text": [
            "INFO:tensorflow:Summary for np.ndarray is not visible in Tensorboard by default. Consider using a Tensorboard plugin for visualization (see https://github.com/tensorflow/tensorboard-plugin-example/blob/master/README.md for more information).\n"
          ],
          "name": "stdout"
        },
        {
          "output_type": "stream",
          "text": [
            "INFO:tensorflow:Summary for np.ndarray is not visible in Tensorboard by default. Consider using a Tensorboard plugin for visualization (see https://github.com/tensorflow/tensorboard-plugin-example/blob/master/README.md for more information).\n"
          ],
          "name": "stderr"
        },
        {
          "output_type": "stream",
          "text": [
            "INFO:tensorflow:Saving 'checkpoint_path' summary for global step 150: output/model.ckpt-150\n"
          ],
          "name": "stdout"
        },
        {
          "output_type": "stream",
          "text": [
            "INFO:tensorflow:Saving 'checkpoint_path' summary for global step 150: output/model.ckpt-150\n"
          ],
          "name": "stderr"
        },
        {
          "output_type": "stream",
          "text": [
            "INFO:tensorflow:## Step 150\n"
          ],
          "name": "stdout"
        },
        {
          "output_type": "stream",
          "text": [
            "INFO:tensorflow:## Step 150\n"
          ],
          "name": "stderr"
        },
        {
          "output_type": "stream",
          "text": [
            "INFO:tensorflow:loss : 0.07018356770277023\n"
          ],
          "name": "stdout"
        },
        {
          "output_type": "stream",
          "text": [
            "INFO:tensorflow:loss : 0.07018356770277023\n"
          ],
          "name": "stderr"
        },
        {
          "output_type": "stream",
          "text": [
            "INFO:tensorflow:[[184   0   1   0   1   0]\n",
            " [  0 200   0   0   0   0]\n",
            " [  0   1 232   0   1   0]\n",
            " [  0   0   0 184   0   0]\n",
            " [  1   0   1   1 176   5]\n",
            " [  0   0   1   2   7 181]] : \n"
          ],
          "name": "stdout"
        },
        {
          "output_type": "stream",
          "text": [
            "INFO:tensorflow:[[184   0   1   0   1   0]\n",
            " [  0 200   0   0   0   0]\n",
            " [  0   1 232   0   1   0]\n",
            " [  0   0   0 184   0   0]\n",
            " [  1   0   1   1 176   5]\n",
            " [  0   0   1   2   7 181]] : \n"
          ],
          "name": "stderr"
        },
        {
          "output_type": "stream",
          "text": [
            "INFO:tensorflow:[[184   0   1   0   1   0]\n",
            " [  0 200   0   0   0   0]\n",
            " [  0   1 232   0   1   0]\n",
            " [  0   0   0 184   0   0]\n",
            " [  1   0   1   1 176   5]\n",
            " [  0   0   1   2   7 181]]\n"
          ],
          "name": "stdout"
        },
        {
          "output_type": "stream",
          "text": [
            "INFO:tensorflow:[[184   0   1   0   1   0]\n",
            " [  0 200   0   0   0   0]\n",
            " [  0   1 232   0   1   0]\n",
            " [  0   0   0 184   0   0]\n",
            " [  1   0   1   1 176   5]\n",
            " [  0   0   1   2   7 181]]\n"
          ],
          "name": "stderr"
        },
        {
          "output_type": "stream",
          "text": [
            "INFO:tensorflow:Checking checkpoint model.ckpt-150\n"
          ],
          "name": "stdout"
        },
        {
          "output_type": "stream",
          "text": [
            "INFO:tensorflow:Checking checkpoint model.ckpt-150\n"
          ],
          "name": "stderr"
        },
        {
          "output_type": "stream",
          "text": [
            "INFO:tensorflow:keeping checkpoint model.ckpt-150 with metric/accuracy = 0.9813401103019714\n"
          ],
          "name": "stdout"
        },
        {
          "output_type": "stream",
          "text": [
            "INFO:tensorflow:keeping checkpoint model.ckpt-150 with metric/accuracy = 0.9813401103019714\n"
          ],
          "name": "stderr"
        },
        {
          "output_type": "stream",
          "text": [
            "INFO:tensorflow:removing old checkpoint model.ckpt-90 with metric/accuracy = 0.9804919362068176\n"
          ],
          "name": "stdout"
        },
        {
          "output_type": "stream",
          "text": [
            "INFO:tensorflow:removing old checkpoint model.ckpt-90 with metric/accuracy = 0.9804919362068176\n"
          ],
          "name": "stderr"
        },
        {
          "output_type": "stream",
          "text": [
            "INFO:tensorflow:Calling model_fn.\n"
          ],
          "name": "stdout"
        },
        {
          "output_type": "stream",
          "text": [
            "INFO:tensorflow:Calling model_fn.\n"
          ],
          "name": "stderr"
        },
        {
          "output_type": "stream",
          "text": [
            "INFO:tensorflow:Done calling model_fn.\n"
          ],
          "name": "stdout"
        },
        {
          "output_type": "stream",
          "text": [
            "INFO:tensorflow:Done calling model_fn.\n"
          ],
          "name": "stderr"
        },
        {
          "output_type": "stream",
          "text": [
            "INFO:tensorflow:Signatures INCLUDED in export for Classify: None\n"
          ],
          "name": "stdout"
        },
        {
          "output_type": "stream",
          "text": [
            "INFO:tensorflow:Signatures INCLUDED in export for Classify: None\n"
          ],
          "name": "stderr"
        },
        {
          "output_type": "stream",
          "text": [
            "INFO:tensorflow:Signatures INCLUDED in export for Regress: None\n"
          ],
          "name": "stdout"
        },
        {
          "output_type": "stream",
          "text": [
            "INFO:tensorflow:Signatures INCLUDED in export for Regress: None\n"
          ],
          "name": "stderr"
        },
        {
          "output_type": "stream",
          "text": [
            "INFO:tensorflow:Signatures INCLUDED in export for Predict: ['prediction', 'serving_default']\n"
          ],
          "name": "stdout"
        },
        {
          "output_type": "stream",
          "text": [
            "INFO:tensorflow:Signatures INCLUDED in export for Predict: ['prediction', 'serving_default']\n"
          ],
          "name": "stderr"
        },
        {
          "output_type": "stream",
          "text": [
            "INFO:tensorflow:Signatures INCLUDED in export for Train: None\n"
          ],
          "name": "stdout"
        },
        {
          "output_type": "stream",
          "text": [
            "INFO:tensorflow:Signatures INCLUDED in export for Train: None\n"
          ],
          "name": "stderr"
        },
        {
          "output_type": "stream",
          "text": [
            "INFO:tensorflow:Signatures INCLUDED in export for Eval: None\n"
          ],
          "name": "stdout"
        },
        {
          "output_type": "stream",
          "text": [
            "INFO:tensorflow:Signatures INCLUDED in export for Eval: None\n"
          ],
          "name": "stderr"
        },
        {
          "output_type": "stream",
          "text": [
            "INFO:tensorflow:Restoring parameters from output/model.ckpt-150\n"
          ],
          "name": "stdout"
        },
        {
          "output_type": "stream",
          "text": [
            "INFO:tensorflow:Restoring parameters from output/model.ckpt-150\n"
          ],
          "name": "stderr"
        },
        {
          "output_type": "stream",
          "text": [
            "INFO:tensorflow:Assets added to graph.\n"
          ],
          "name": "stdout"
        },
        {
          "output_type": "stream",
          "text": [
            "INFO:tensorflow:Assets added to graph.\n"
          ],
          "name": "stderr"
        },
        {
          "output_type": "stream",
          "text": [
            "INFO:tensorflow:No assets to write.\n"
          ],
          "name": "stdout"
        },
        {
          "output_type": "stream",
          "text": [
            "INFO:tensorflow:No assets to write.\n"
          ],
          "name": "stderr"
        },
        {
          "output_type": "stream",
          "text": [
            "INFO:tensorflow:SavedModel written to: output/export/best_accuracy/temp-b'1598001178'/saved_model.pb\n"
          ],
          "name": "stdout"
        },
        {
          "output_type": "stream",
          "text": [
            "INFO:tensorflow:SavedModel written to: output/export/best_accuracy/temp-b'1598001178'/saved_model.pb\n"
          ],
          "name": "stderr"
        },
        {
          "output_type": "stream",
          "text": [
            "INFO:tensorflow:global_step/sec: 0.429108\n"
          ],
          "name": "stdout"
        },
        {
          "output_type": "stream",
          "text": [
            "INFO:tensorflow:global_step/sec: 0.429108\n"
          ],
          "name": "stderr"
        },
        {
          "output_type": "stream",
          "text": [
            "INFO:tensorflow:loss = 0.048444245, step = 149 (2.324 sec)\n"
          ],
          "name": "stdout"
        },
        {
          "output_type": "stream",
          "text": [
            "INFO:tensorflow:loss = 0.048444245, step = 149 (2.324 sec)\n"
          ],
          "name": "stderr"
        },
        {
          "output_type": "stream",
          "text": [
            "INFO:tensorflow:global_step/sec: 31.2232\n"
          ],
          "name": "stdout"
        },
        {
          "output_type": "stream",
          "text": [
            "INFO:tensorflow:global_step/sec: 31.2232\n"
          ],
          "name": "stderr"
        },
        {
          "output_type": "stream",
          "text": [
            "INFO:tensorflow:loss = 0.08798984, step = 150 (0.037 sec)\n"
          ],
          "name": "stdout"
        },
        {
          "output_type": "stream",
          "text": [
            "INFO:tensorflow:loss = 0.08798984, step = 150 (0.037 sec)\n"
          ],
          "name": "stderr"
        },
        {
          "output_type": "stream",
          "text": [
            "INFO:tensorflow:global_step = 150, loss = 0.08798984 (2.668 sec)\n"
          ],
          "name": "stdout"
        },
        {
          "output_type": "stream",
          "text": [
            "INFO:tensorflow:global_step = 150, loss = 0.08798984 (2.668 sec)\n"
          ],
          "name": "stderr"
        },
        {
          "output_type": "stream",
          "text": [
            "INFO:tensorflow:global_step/sec: 18.9132\n"
          ],
          "name": "stdout"
        },
        {
          "output_type": "stream",
          "text": [
            "INFO:tensorflow:global_step/sec: 18.9132\n"
          ],
          "name": "stderr"
        },
        {
          "output_type": "stream",
          "text": [
            "INFO:tensorflow:loss = 0.0063147238, step = 151 (0.049 sec)\n"
          ],
          "name": "stdout"
        },
        {
          "output_type": "stream",
          "text": [
            "INFO:tensorflow:loss = 0.0063147238, step = 151 (0.049 sec)\n"
          ],
          "name": "stderr"
        },
        {
          "output_type": "stream",
          "text": [
            "INFO:tensorflow:global_step/sec: 23.4351\n"
          ],
          "name": "stdout"
        },
        {
          "output_type": "stream",
          "text": [
            "INFO:tensorflow:global_step/sec: 23.4351\n"
          ],
          "name": "stderr"
        },
        {
          "output_type": "stream",
          "text": [
            "INFO:tensorflow:loss = 0.01229648, step = 152 (0.047 sec)\n"
          ],
          "name": "stdout"
        },
        {
          "output_type": "stream",
          "text": [
            "INFO:tensorflow:loss = 0.01229648, step = 152 (0.047 sec)\n"
          ],
          "name": "stderr"
        },
        {
          "output_type": "stream",
          "text": [
            "INFO:tensorflow:global_step/sec: 29.8555\n"
          ],
          "name": "stdout"
        },
        {
          "output_type": "stream",
          "text": [
            "INFO:tensorflow:global_step/sec: 29.8555\n"
          ],
          "name": "stderr"
        },
        {
          "output_type": "stream",
          "text": [
            "INFO:tensorflow:loss = 0.022992093, step = 153 (0.029 sec)\n"
          ],
          "name": "stdout"
        },
        {
          "output_type": "stream",
          "text": [
            "INFO:tensorflow:loss = 0.022992093, step = 153 (0.029 sec)\n"
          ],
          "name": "stderr"
        },
        {
          "output_type": "stream",
          "text": [
            "INFO:tensorflow:global_step/sec: 25.1894\n"
          ],
          "name": "stdout"
        },
        {
          "output_type": "stream",
          "text": [
            "INFO:tensorflow:global_step/sec: 25.1894\n"
          ],
          "name": "stderr"
        },
        {
          "output_type": "stream",
          "text": [
            "INFO:tensorflow:loss = 0.053119194, step = 154 (0.044 sec)\n"
          ],
          "name": "stdout"
        },
        {
          "output_type": "stream",
          "text": [
            "INFO:tensorflow:loss = 0.053119194, step = 154 (0.044 sec)\n"
          ],
          "name": "stderr"
        },
        {
          "output_type": "stream",
          "text": [
            "INFO:tensorflow:global_step/sec: 26.6478\n"
          ],
          "name": "stdout"
        },
        {
          "output_type": "stream",
          "text": [
            "INFO:tensorflow:global_step/sec: 26.6478\n"
          ],
          "name": "stderr"
        },
        {
          "output_type": "stream",
          "text": [
            "INFO:tensorflow:loss = 0.011682337, step = 155 (0.042 sec)\n"
          ],
          "name": "stdout"
        },
        {
          "output_type": "stream",
          "text": [
            "INFO:tensorflow:loss = 0.011682337, step = 155 (0.042 sec)\n"
          ],
          "name": "stderr"
        },
        {
          "output_type": "stream",
          "text": [
            "INFO:tensorflow:global_step/sec: 22.9024\n"
          ],
          "name": "stdout"
        },
        {
          "output_type": "stream",
          "text": [
            "INFO:tensorflow:global_step/sec: 22.9024\n"
          ],
          "name": "stderr"
        },
        {
          "output_type": "stream",
          "text": [
            "INFO:tensorflow:loss = 0.022622157, step = 156 (0.045 sec)\n"
          ],
          "name": "stdout"
        },
        {
          "output_type": "stream",
          "text": [
            "INFO:tensorflow:loss = 0.022622157, step = 156 (0.045 sec)\n"
          ],
          "name": "stderr"
        },
        {
          "output_type": "stream",
          "text": [
            "INFO:tensorflow:global_step/sec: 19.9503\n"
          ],
          "name": "stdout"
        },
        {
          "output_type": "stream",
          "text": [
            "INFO:tensorflow:global_step/sec: 19.9503\n"
          ],
          "name": "stderr"
        },
        {
          "output_type": "stream",
          "text": [
            "INFO:tensorflow:loss = 0.049757704, step = 157 (0.045 sec)\n"
          ],
          "name": "stdout"
        },
        {
          "output_type": "stream",
          "text": [
            "INFO:tensorflow:loss = 0.049757704, step = 157 (0.045 sec)\n"
          ],
          "name": "stderr"
        },
        {
          "output_type": "stream",
          "text": [
            "INFO:tensorflow:global_step/sec: 22.7703\n"
          ],
          "name": "stdout"
        },
        {
          "output_type": "stream",
          "text": [
            "INFO:tensorflow:global_step/sec: 22.7703\n"
          ],
          "name": "stderr"
        },
        {
          "output_type": "stream",
          "text": [
            "INFO:tensorflow:loss = 0.060544416, step = 158 (0.045 sec)\n"
          ],
          "name": "stdout"
        },
        {
          "output_type": "stream",
          "text": [
            "INFO:tensorflow:loss = 0.060544416, step = 158 (0.045 sec)\n"
          ],
          "name": "stderr"
        },
        {
          "output_type": "stream",
          "text": [
            "INFO:tensorflow:global_step/sec: 19.6906\n"
          ],
          "name": "stdout"
        },
        {
          "output_type": "stream",
          "text": [
            "INFO:tensorflow:global_step/sec: 19.6906\n"
          ],
          "name": "stderr"
        },
        {
          "output_type": "stream",
          "text": [
            "INFO:tensorflow:loss = 0.033949308, step = 159 (0.049 sec)\n"
          ],
          "name": "stdout"
        },
        {
          "output_type": "stream",
          "text": [
            "INFO:tensorflow:loss = 0.033949308, step = 159 (0.049 sec)\n"
          ],
          "name": "stderr"
        },
        {
          "output_type": "stream",
          "text": [
            "INFO:tensorflow:global_step/sec: 22.7461\n"
          ],
          "name": "stdout"
        },
        {
          "output_type": "stream",
          "text": [
            "INFO:tensorflow:global_step/sec: 22.7461\n"
          ],
          "name": "stderr"
        },
        {
          "output_type": "stream",
          "text": [
            "INFO:tensorflow:loss = 0.036825776, step = 160 (0.047 sec)\n"
          ],
          "name": "stdout"
        },
        {
          "output_type": "stream",
          "text": [
            "INFO:tensorflow:loss = 0.036825776, step = 160 (0.047 sec)\n"
          ],
          "name": "stderr"
        },
        {
          "output_type": "stream",
          "text": [
            "INFO:tensorflow:global_step = 160, loss = 0.036825776 (0.441 sec)\n"
          ],
          "name": "stdout"
        },
        {
          "output_type": "stream",
          "text": [
            "INFO:tensorflow:global_step = 160, loss = 0.036825776 (0.441 sec)\n"
          ],
          "name": "stderr"
        },
        {
          "output_type": "stream",
          "text": [
            "INFO:tensorflow:global_step/sec: 20.9097\n"
          ],
          "name": "stdout"
        },
        {
          "output_type": "stream",
          "text": [
            "INFO:tensorflow:global_step/sec: 20.9097\n"
          ],
          "name": "stderr"
        },
        {
          "output_type": "stream",
          "text": [
            "INFO:tensorflow:loss = 0.055696476, step = 161 (0.042 sec)\n"
          ],
          "name": "stdout"
        },
        {
          "output_type": "stream",
          "text": [
            "INFO:tensorflow:loss = 0.055696476, step = 161 (0.042 sec)\n"
          ],
          "name": "stderr"
        },
        {
          "output_type": "stream",
          "text": [
            "INFO:tensorflow:global_step/sec: 22.3074\n"
          ],
          "name": "stdout"
        },
        {
          "output_type": "stream",
          "text": [
            "INFO:tensorflow:global_step/sec: 22.3074\n"
          ],
          "name": "stderr"
        },
        {
          "output_type": "stream",
          "text": [
            "INFO:tensorflow:loss = 0.027210023, step = 162 (0.048 sec)\n"
          ],
          "name": "stdout"
        },
        {
          "output_type": "stream",
          "text": [
            "INFO:tensorflow:loss = 0.027210023, step = 162 (0.048 sec)\n"
          ],
          "name": "stderr"
        },
        {
          "output_type": "stream",
          "text": [
            "INFO:tensorflow:global_step/sec: 23.7539\n"
          ],
          "name": "stdout"
        },
        {
          "output_type": "stream",
          "text": [
            "INFO:tensorflow:global_step/sec: 23.7539\n"
          ],
          "name": "stderr"
        },
        {
          "output_type": "stream",
          "text": [
            "INFO:tensorflow:loss = 0.06770353, step = 163 (0.041 sec)\n"
          ],
          "name": "stdout"
        },
        {
          "output_type": "stream",
          "text": [
            "INFO:tensorflow:loss = 0.06770353, step = 163 (0.041 sec)\n"
          ],
          "name": "stderr"
        },
        {
          "output_type": "stream",
          "text": [
            "INFO:tensorflow:global_step/sec: 30.8432\n"
          ],
          "name": "stdout"
        },
        {
          "output_type": "stream",
          "text": [
            "INFO:tensorflow:global_step/sec: 30.8432\n"
          ],
          "name": "stderr"
        },
        {
          "output_type": "stream",
          "text": [
            "INFO:tensorflow:loss = 0.010338638, step = 164 (0.033 sec)\n"
          ],
          "name": "stdout"
        },
        {
          "output_type": "stream",
          "text": [
            "INFO:tensorflow:loss = 0.010338638, step = 164 (0.033 sec)\n"
          ],
          "name": "stderr"
        },
        {
          "output_type": "stream",
          "text": [
            "INFO:tensorflow:global_step/sec: 26.2103\n"
          ],
          "name": "stdout"
        },
        {
          "output_type": "stream",
          "text": [
            "INFO:tensorflow:global_step/sec: 26.2103\n"
          ],
          "name": "stderr"
        },
        {
          "output_type": "stream",
          "text": [
            "INFO:tensorflow:loss = 0.0052394094, step = 165 (0.044 sec)\n"
          ],
          "name": "stdout"
        },
        {
          "output_type": "stream",
          "text": [
            "INFO:tensorflow:loss = 0.0052394094, step = 165 (0.044 sec)\n"
          ],
          "name": "stderr"
        },
        {
          "output_type": "stream",
          "text": [
            "INFO:tensorflow:global_step/sec: 24.6891\n"
          ],
          "name": "stdout"
        },
        {
          "output_type": "stream",
          "text": [
            "INFO:tensorflow:global_step/sec: 24.6891\n"
          ],
          "name": "stderr"
        },
        {
          "output_type": "stream",
          "text": [
            "INFO:tensorflow:loss = 0.01918721, step = 166 (0.042 sec)\n"
          ],
          "name": "stdout"
        },
        {
          "output_type": "stream",
          "text": [
            "INFO:tensorflow:loss = 0.01918721, step = 166 (0.042 sec)\n"
          ],
          "name": "stderr"
        },
        {
          "output_type": "stream",
          "text": [
            "INFO:tensorflow:global_step/sec: 23.7238\n"
          ],
          "name": "stdout"
        },
        {
          "output_type": "stream",
          "text": [
            "INFO:tensorflow:global_step/sec: 23.7238\n"
          ],
          "name": "stderr"
        },
        {
          "output_type": "stream",
          "text": [
            "INFO:tensorflow:loss = 0.01786117, step = 167 (0.039 sec)\n"
          ],
          "name": "stdout"
        },
        {
          "output_type": "stream",
          "text": [
            "INFO:tensorflow:loss = 0.01786117, step = 167 (0.039 sec)\n"
          ],
          "name": "stderr"
        },
        {
          "output_type": "stream",
          "text": [
            "INFO:tensorflow:global_step/sec: 28.4972\n"
          ],
          "name": "stdout"
        },
        {
          "output_type": "stream",
          "text": [
            "INFO:tensorflow:global_step/sec: 28.4972\n"
          ],
          "name": "stderr"
        },
        {
          "output_type": "stream",
          "text": [
            "INFO:tensorflow:loss = 0.006873888, step = 168 (0.029 sec)\n"
          ],
          "name": "stdout"
        },
        {
          "output_type": "stream",
          "text": [
            "INFO:tensorflow:loss = 0.006873888, step = 168 (0.029 sec)\n"
          ],
          "name": "stderr"
        },
        {
          "output_type": "stream",
          "text": [
            "INFO:tensorflow:global_step/sec: 24.4924\n"
          ],
          "name": "stdout"
        },
        {
          "output_type": "stream",
          "text": [
            "INFO:tensorflow:global_step/sec: 24.4924\n"
          ],
          "name": "stderr"
        },
        {
          "output_type": "stream",
          "text": [
            "INFO:tensorflow:loss = 0.008941354, step = 169 (0.043 sec)\n"
          ],
          "name": "stdout"
        },
        {
          "output_type": "stream",
          "text": [
            "INFO:tensorflow:loss = 0.008941354, step = 169 (0.043 sec)\n"
          ],
          "name": "stderr"
        },
        {
          "output_type": "stream",
          "text": [
            "INFO:tensorflow:global_step/sec: 24.4467\n"
          ],
          "name": "stdout"
        },
        {
          "output_type": "stream",
          "text": [
            "INFO:tensorflow:global_step/sec: 24.4467\n"
          ],
          "name": "stderr"
        },
        {
          "output_type": "stream",
          "text": [
            "INFO:tensorflow:loss = 0.027554931, step = 170 (0.042 sec)\n"
          ],
          "name": "stdout"
        },
        {
          "output_type": "stream",
          "text": [
            "INFO:tensorflow:loss = 0.027554931, step = 170 (0.042 sec)\n"
          ],
          "name": "stderr"
        },
        {
          "output_type": "stream",
          "text": [
            "INFO:tensorflow:global_step = 170, loss = 0.027554931 (0.403 sec)\n"
          ],
          "name": "stdout"
        },
        {
          "output_type": "stream",
          "text": [
            "INFO:tensorflow:global_step = 170, loss = 0.027554931 (0.403 sec)\n"
          ],
          "name": "stderr"
        },
        {
          "output_type": "stream",
          "text": [
            "INFO:tensorflow:global_step/sec: 21.74\n"
          ],
          "name": "stdout"
        },
        {
          "output_type": "stream",
          "text": [
            "INFO:tensorflow:global_step/sec: 21.74\n"
          ],
          "name": "stderr"
        },
        {
          "output_type": "stream",
          "text": [
            "INFO:tensorflow:loss = 0.004404214, step = 171 (0.046 sec)\n"
          ],
          "name": "stdout"
        },
        {
          "output_type": "stream",
          "text": [
            "INFO:tensorflow:loss = 0.004404214, step = 171 (0.046 sec)\n"
          ],
          "name": "stderr"
        },
        {
          "output_type": "stream",
          "text": [
            "INFO:tensorflow:global_step/sec: 29.6673\n"
          ],
          "name": "stdout"
        },
        {
          "output_type": "stream",
          "text": [
            "INFO:tensorflow:global_step/sec: 29.6673\n"
          ],
          "name": "stderr"
        },
        {
          "output_type": "stream",
          "text": [
            "INFO:tensorflow:loss = 0.046093054, step = 172 (0.035 sec)\n"
          ],
          "name": "stdout"
        },
        {
          "output_type": "stream",
          "text": [
            "INFO:tensorflow:loss = 0.046093054, step = 172 (0.035 sec)\n"
          ],
          "name": "stderr"
        },
        {
          "output_type": "stream",
          "text": [
            "INFO:tensorflow:global_step/sec: 24.9148\n"
          ],
          "name": "stdout"
        },
        {
          "output_type": "stream",
          "text": [
            "INFO:tensorflow:global_step/sec: 24.9148\n"
          ],
          "name": "stderr"
        },
        {
          "output_type": "stream",
          "text": [
            "INFO:tensorflow:loss = 0.020225054, step = 173 (0.034 sec)\n"
          ],
          "name": "stdout"
        },
        {
          "output_type": "stream",
          "text": [
            "INFO:tensorflow:loss = 0.020225054, step = 173 (0.034 sec)\n"
          ],
          "name": "stderr"
        },
        {
          "output_type": "stream",
          "text": [
            "INFO:tensorflow:global_step/sec: 25.1631\n"
          ],
          "name": "stdout"
        },
        {
          "output_type": "stream",
          "text": [
            "INFO:tensorflow:global_step/sec: 25.1631\n"
          ],
          "name": "stderr"
        },
        {
          "output_type": "stream",
          "text": [
            "INFO:tensorflow:loss = 0.04972437, step = 174 (0.044 sec)\n"
          ],
          "name": "stdout"
        },
        {
          "output_type": "stream",
          "text": [
            "INFO:tensorflow:loss = 0.04972437, step = 174 (0.044 sec)\n"
          ],
          "name": "stderr"
        },
        {
          "output_type": "stream",
          "text": [
            "INFO:tensorflow:global_step/sec: 23.9993\n"
          ],
          "name": "stdout"
        },
        {
          "output_type": "stream",
          "text": [
            "INFO:tensorflow:global_step/sec: 23.9993\n"
          ],
          "name": "stderr"
        },
        {
          "output_type": "stream",
          "text": [
            "INFO:tensorflow:loss = 0.02070705, step = 175 (0.046 sec)\n"
          ],
          "name": "stdout"
        },
        {
          "output_type": "stream",
          "text": [
            "INFO:tensorflow:loss = 0.02070705, step = 175 (0.046 sec)\n"
          ],
          "name": "stderr"
        },
        {
          "output_type": "stream",
          "text": [
            "INFO:tensorflow:global_step/sec: 20.9994\n"
          ],
          "name": "stdout"
        },
        {
          "output_type": "stream",
          "text": [
            "INFO:tensorflow:global_step/sec: 20.9994\n"
          ],
          "name": "stderr"
        },
        {
          "output_type": "stream",
          "text": [
            "INFO:tensorflow:loss = 0.03131534, step = 176 (0.040 sec)\n"
          ],
          "name": "stdout"
        },
        {
          "output_type": "stream",
          "text": [
            "INFO:tensorflow:loss = 0.03131534, step = 176 (0.040 sec)\n"
          ],
          "name": "stderr"
        },
        {
          "output_type": "stream",
          "text": [
            "INFO:tensorflow:global_step/sec: 28.9958\n"
          ],
          "name": "stdout"
        },
        {
          "output_type": "stream",
          "text": [
            "INFO:tensorflow:global_step/sec: 28.9958\n"
          ],
          "name": "stderr"
        },
        {
          "output_type": "stream",
          "text": [
            "INFO:tensorflow:loss = 0.019037372, step = 177 (0.038 sec)\n"
          ],
          "name": "stdout"
        },
        {
          "output_type": "stream",
          "text": [
            "INFO:tensorflow:loss = 0.019037372, step = 177 (0.038 sec)\n"
          ],
          "name": "stderr"
        },
        {
          "output_type": "stream",
          "text": [
            "INFO:tensorflow:global_step/sec: 24.6661\n"
          ],
          "name": "stdout"
        },
        {
          "output_type": "stream",
          "text": [
            "INFO:tensorflow:global_step/sec: 24.6661\n"
          ],
          "name": "stderr"
        },
        {
          "output_type": "stream",
          "text": [
            "INFO:tensorflow:loss = 0.020356484, step = 178 (0.040 sec)\n"
          ],
          "name": "stdout"
        },
        {
          "output_type": "stream",
          "text": [
            "INFO:tensorflow:loss = 0.020356484, step = 178 (0.040 sec)\n"
          ],
          "name": "stderr"
        },
        {
          "output_type": "stream",
          "text": [
            "INFO:tensorflow:Saving checkpoints for 180 into output/model.ckpt.\n"
          ],
          "name": "stdout"
        },
        {
          "output_type": "stream",
          "text": [
            "INFO:tensorflow:Saving checkpoints for 180 into output/model.ckpt.\n"
          ],
          "name": "stderr"
        },
        {
          "output_type": "stream",
          "text": [
            "INFO:tensorflow:Calling model_fn.\n"
          ],
          "name": "stdout"
        },
        {
          "output_type": "stream",
          "text": [
            "INFO:tensorflow:Calling model_fn.\n"
          ],
          "name": "stderr"
        },
        {
          "output_type": "stream",
          "text": [
            "INFO:tensorflow:Done calling model_fn.\n"
          ],
          "name": "stdout"
        },
        {
          "output_type": "stream",
          "text": [
            "INFO:tensorflow:Done calling model_fn.\n"
          ],
          "name": "stderr"
        },
        {
          "output_type": "stream",
          "text": [
            "INFO:tensorflow:Starting evaluation at 2020-08-21T09:13:00Z\n"
          ],
          "name": "stdout"
        },
        {
          "output_type": "stream",
          "text": [
            "INFO:tensorflow:Starting evaluation at 2020-08-21T09:13:00Z\n"
          ],
          "name": "stderr"
        },
        {
          "output_type": "stream",
          "text": [
            "INFO:tensorflow:Graph was finalized.\n"
          ],
          "name": "stdout"
        },
        {
          "output_type": "stream",
          "text": [
            "INFO:tensorflow:Graph was finalized.\n"
          ],
          "name": "stderr"
        },
        {
          "output_type": "stream",
          "text": [
            "INFO:tensorflow:Restoring parameters from output/model.ckpt-180\n"
          ],
          "name": "stdout"
        },
        {
          "output_type": "stream",
          "text": [
            "INFO:tensorflow:Restoring parameters from output/model.ckpt-180\n"
          ],
          "name": "stderr"
        },
        {
          "output_type": "stream",
          "text": [
            "INFO:tensorflow:Running local_init_op.\n"
          ],
          "name": "stdout"
        },
        {
          "output_type": "stream",
          "text": [
            "INFO:tensorflow:Running local_init_op.\n"
          ],
          "name": "stderr"
        },
        {
          "output_type": "stream",
          "text": [
            "INFO:tensorflow:Done running local_init_op.\n"
          ],
          "name": "stdout"
        },
        {
          "output_type": "stream",
          "text": [
            "INFO:tensorflow:Done running local_init_op.\n"
          ],
          "name": "stderr"
        },
        {
          "output_type": "stream",
          "text": [
            "INFO:tensorflow:Finished evaluation at 2020-08-21-09:13:01\n"
          ],
          "name": "stdout"
        },
        {
          "output_type": "stream",
          "text": [
            "INFO:tensorflow:Finished evaluation at 2020-08-21-09:13:01\n"
          ],
          "name": "stderr"
        },
        {
          "output_type": "stream",
          "text": [
            "INFO:tensorflow:Saving dict for global step 180: global_step = 180, loss = 0.06820408, metric/accuracy = 0.9813401, metric/confusion_matrix = [[184   0   1   0   1   0]\n",
            " [  0 200   0   0   0   0]\n",
            " [  0   1 232   0   1   0]\n",
            " [  0   0   0 184   0   0]\n",
            " [  1   0   1   1 176   5]\n",
            " [  0   0   1   2   7 181]]\n"
          ],
          "name": "stdout"
        },
        {
          "output_type": "stream",
          "text": [
            "INFO:tensorflow:Saving dict for global step 180: global_step = 180, loss = 0.06820408, metric/accuracy = 0.9813401, metric/confusion_matrix = [[184   0   1   0   1   0]\n",
            " [  0 200   0   0   0   0]\n",
            " [  0   1 232   0   1   0]\n",
            " [  0   0   0 184   0   0]\n",
            " [  1   0   1   1 176   5]\n",
            " [  0   0   1   2   7 181]]\n"
          ],
          "name": "stderr"
        },
        {
          "output_type": "stream",
          "text": [
            "INFO:tensorflow:Summary for np.ndarray is not visible in Tensorboard by default. Consider using a Tensorboard plugin for visualization (see https://github.com/tensorflow/tensorboard-plugin-example/blob/master/README.md for more information).\n"
          ],
          "name": "stdout"
        },
        {
          "output_type": "stream",
          "text": [
            "INFO:tensorflow:Summary for np.ndarray is not visible in Tensorboard by default. Consider using a Tensorboard plugin for visualization (see https://github.com/tensorflow/tensorboard-plugin-example/blob/master/README.md for more information).\n"
          ],
          "name": "stderr"
        },
        {
          "output_type": "stream",
          "text": [
            "INFO:tensorflow:Saving 'checkpoint_path' summary for global step 180: output/model.ckpt-180\n"
          ],
          "name": "stdout"
        },
        {
          "output_type": "stream",
          "text": [
            "INFO:tensorflow:Saving 'checkpoint_path' summary for global step 180: output/model.ckpt-180\n"
          ],
          "name": "stderr"
        },
        {
          "output_type": "stream",
          "text": [
            "INFO:tensorflow:## Step 180\n"
          ],
          "name": "stdout"
        },
        {
          "output_type": "stream",
          "text": [
            "INFO:tensorflow:## Step 180\n"
          ],
          "name": "stderr"
        },
        {
          "output_type": "stream",
          "text": [
            "INFO:tensorflow:loss : 0.06820408254861832\n"
          ],
          "name": "stdout"
        },
        {
          "output_type": "stream",
          "text": [
            "INFO:tensorflow:loss : 0.06820408254861832\n"
          ],
          "name": "stderr"
        },
        {
          "output_type": "stream",
          "text": [
            "INFO:tensorflow:[[184   0   1   0   1   0]\n",
            " [  0 200   0   0   0   0]\n",
            " [  0   1 232   0   1   0]\n",
            " [  0   0   0 184   0   0]\n",
            " [  1   0   1   1 176   5]\n",
            " [  0   0   1   2   7 181]] : \n"
          ],
          "name": "stdout"
        },
        {
          "output_type": "stream",
          "text": [
            "INFO:tensorflow:[[184   0   1   0   1   0]\n",
            " [  0 200   0   0   0   0]\n",
            " [  0   1 232   0   1   0]\n",
            " [  0   0   0 184   0   0]\n",
            " [  1   0   1   1 176   5]\n",
            " [  0   0   1   2   7 181]] : \n"
          ],
          "name": "stderr"
        },
        {
          "output_type": "stream",
          "text": [
            "INFO:tensorflow:[[184   0   1   0   1   0]\n",
            " [  0 200   0   0   0   0]\n",
            " [  0   1 232   0   1   0]\n",
            " [  0   0   0 184   0   0]\n",
            " [  1   0   1   1 176   5]\n",
            " [  0   0   1   2   7 181]]\n"
          ],
          "name": "stdout"
        },
        {
          "output_type": "stream",
          "text": [
            "INFO:tensorflow:[[184   0   1   0   1   0]\n",
            " [  0 200   0   0   0   0]\n",
            " [  0   1 232   0   1   0]\n",
            " [  0   0   0 184   0   0]\n",
            " [  1   0   1   1 176   5]\n",
            " [  0   0   1   2   7 181]]\n"
          ],
          "name": "stderr"
        },
        {
          "output_type": "stream",
          "text": [
            "INFO:tensorflow:Checking checkpoint model.ckpt-180\n"
          ],
          "name": "stdout"
        },
        {
          "output_type": "stream",
          "text": [
            "INFO:tensorflow:Checking checkpoint model.ckpt-180\n"
          ],
          "name": "stderr"
        },
        {
          "output_type": "stream",
          "text": [
            "INFO:tensorflow:skipping checkpoint model.ckpt-180 with metric/accuracy = 0.9813401103019714\n"
          ],
          "name": "stdout"
        },
        {
          "output_type": "stream",
          "text": [
            "INFO:tensorflow:skipping checkpoint model.ckpt-180 with metric/accuracy = 0.9813401103019714\n"
          ],
          "name": "stderr"
        },
        {
          "output_type": "stream",
          "text": [
            "INFO:tensorflow:global_step/sec: 0.555034\n"
          ],
          "name": "stdout"
        },
        {
          "output_type": "stream",
          "text": [
            "INFO:tensorflow:global_step/sec: 0.555034\n"
          ],
          "name": "stderr"
        },
        {
          "output_type": "stream",
          "text": [
            "INFO:tensorflow:loss = 0.012902213, step = 179 (1.796 sec)\n"
          ],
          "name": "stdout"
        },
        {
          "output_type": "stream",
          "text": [
            "INFO:tensorflow:loss = 0.012902213, step = 179 (1.796 sec)\n"
          ],
          "name": "stderr"
        },
        {
          "output_type": "stream",
          "text": [
            "INFO:tensorflow:global_step/sec: 28.5484\n"
          ],
          "name": "stdout"
        },
        {
          "output_type": "stream",
          "text": [
            "INFO:tensorflow:global_step/sec: 28.5484\n"
          ],
          "name": "stderr"
        },
        {
          "output_type": "stream",
          "text": [
            "INFO:tensorflow:loss = 0.07859023, step = 180 (0.035 sec)\n"
          ],
          "name": "stdout"
        },
        {
          "output_type": "stream",
          "text": [
            "INFO:tensorflow:loss = 0.07859023, step = 180 (0.035 sec)\n"
          ],
          "name": "stderr"
        },
        {
          "output_type": "stream",
          "text": [
            "INFO:tensorflow:global_step = 180, loss = 0.07859023 (2.153 sec)\n"
          ],
          "name": "stdout"
        },
        {
          "output_type": "stream",
          "text": [
            "INFO:tensorflow:global_step = 180, loss = 0.07859023 (2.153 sec)\n"
          ],
          "name": "stderr"
        },
        {
          "output_type": "stream",
          "text": [
            "INFO:tensorflow:global_step/sec: 34.2756\n"
          ],
          "name": "stdout"
        },
        {
          "output_type": "stream",
          "text": [
            "INFO:tensorflow:global_step/sec: 34.2756\n"
          ],
          "name": "stderr"
        },
        {
          "output_type": "stream",
          "text": [
            "INFO:tensorflow:loss = 0.017747492, step = 181 (0.032 sec)\n"
          ],
          "name": "stdout"
        },
        {
          "output_type": "stream",
          "text": [
            "INFO:tensorflow:loss = 0.017747492, step = 181 (0.032 sec)\n"
          ],
          "name": "stderr"
        },
        {
          "output_type": "stream",
          "text": [
            "INFO:tensorflow:global_step/sec: 23.1787\n"
          ],
          "name": "stdout"
        },
        {
          "output_type": "stream",
          "text": [
            "INFO:tensorflow:global_step/sec: 23.1787\n"
          ],
          "name": "stderr"
        },
        {
          "output_type": "stream",
          "text": [
            "INFO:tensorflow:loss = 0.008135737, step = 182 (0.047 sec)\n"
          ],
          "name": "stdout"
        },
        {
          "output_type": "stream",
          "text": [
            "INFO:tensorflow:loss = 0.008135737, step = 182 (0.047 sec)\n"
          ],
          "name": "stderr"
        },
        {
          "output_type": "stream",
          "text": [
            "INFO:tensorflow:global_step/sec: 22.629\n"
          ],
          "name": "stdout"
        },
        {
          "output_type": "stream",
          "text": [
            "INFO:tensorflow:global_step/sec: 22.629\n"
          ],
          "name": "stderr"
        },
        {
          "output_type": "stream",
          "text": [
            "INFO:tensorflow:loss = 0.12415032, step = 183 (0.039 sec)\n"
          ],
          "name": "stdout"
        },
        {
          "output_type": "stream",
          "text": [
            "INFO:tensorflow:loss = 0.12415032, step = 183 (0.039 sec)\n"
          ],
          "name": "stderr"
        },
        {
          "output_type": "stream",
          "text": [
            "INFO:tensorflow:global_step/sec: 27.5367\n"
          ],
          "name": "stdout"
        },
        {
          "output_type": "stream",
          "text": [
            "INFO:tensorflow:global_step/sec: 27.5367\n"
          ],
          "name": "stderr"
        },
        {
          "output_type": "stream",
          "text": [
            "INFO:tensorflow:loss = 0.016567836, step = 184 (0.036 sec)\n"
          ],
          "name": "stdout"
        },
        {
          "output_type": "stream",
          "text": [
            "INFO:tensorflow:loss = 0.016567836, step = 184 (0.036 sec)\n"
          ],
          "name": "stderr"
        },
        {
          "output_type": "stream",
          "text": [
            "INFO:tensorflow:global_step/sec: 22.1473\n"
          ],
          "name": "stdout"
        },
        {
          "output_type": "stream",
          "text": [
            "INFO:tensorflow:global_step/sec: 22.1473\n"
          ],
          "name": "stderr"
        },
        {
          "output_type": "stream",
          "text": [
            "INFO:tensorflow:loss = 0.008604273, step = 185 (0.053 sec)\n"
          ],
          "name": "stdout"
        },
        {
          "output_type": "stream",
          "text": [
            "INFO:tensorflow:loss = 0.008604273, step = 185 (0.053 sec)\n"
          ],
          "name": "stderr"
        },
        {
          "output_type": "stream",
          "text": [
            "INFO:tensorflow:global_step/sec: 20.7371\n"
          ],
          "name": "stdout"
        },
        {
          "output_type": "stream",
          "text": [
            "INFO:tensorflow:global_step/sec: 20.7371\n"
          ],
          "name": "stderr"
        },
        {
          "output_type": "stream",
          "text": [
            "INFO:tensorflow:loss = 0.027017793, step = 186 (0.042 sec)\n"
          ],
          "name": "stdout"
        },
        {
          "output_type": "stream",
          "text": [
            "INFO:tensorflow:loss = 0.027017793, step = 186 (0.042 sec)\n"
          ],
          "name": "stderr"
        },
        {
          "output_type": "stream",
          "text": [
            "INFO:tensorflow:global_step/sec: 24.0746\n"
          ],
          "name": "stdout"
        },
        {
          "output_type": "stream",
          "text": [
            "INFO:tensorflow:global_step/sec: 24.0746\n"
          ],
          "name": "stderr"
        },
        {
          "output_type": "stream",
          "text": [
            "INFO:tensorflow:loss = 0.004716863, step = 187 (0.041 sec)\n"
          ],
          "name": "stdout"
        },
        {
          "output_type": "stream",
          "text": [
            "INFO:tensorflow:loss = 0.004716863, step = 187 (0.041 sec)\n"
          ],
          "name": "stderr"
        },
        {
          "output_type": "stream",
          "text": [
            "INFO:tensorflow:global_step/sec: 27.5867\n"
          ],
          "name": "stdout"
        },
        {
          "output_type": "stream",
          "text": [
            "INFO:tensorflow:global_step/sec: 27.5867\n"
          ],
          "name": "stderr"
        },
        {
          "output_type": "stream",
          "text": [
            "INFO:tensorflow:loss = 0.00679866, step = 188 (0.040 sec)\n"
          ],
          "name": "stdout"
        },
        {
          "output_type": "stream",
          "text": [
            "INFO:tensorflow:loss = 0.00679866, step = 188 (0.040 sec)\n"
          ],
          "name": "stderr"
        },
        {
          "output_type": "stream",
          "text": [
            "INFO:tensorflow:global_step/sec: 22.0881\n"
          ],
          "name": "stdout"
        },
        {
          "output_type": "stream",
          "text": [
            "INFO:tensorflow:global_step/sec: 22.0881\n"
          ],
          "name": "stderr"
        },
        {
          "output_type": "stream",
          "text": [
            "INFO:tensorflow:loss = 0.007891512, step = 189 (0.040 sec)\n"
          ],
          "name": "stdout"
        },
        {
          "output_type": "stream",
          "text": [
            "INFO:tensorflow:loss = 0.007891512, step = 189 (0.040 sec)\n"
          ],
          "name": "stderr"
        },
        {
          "output_type": "stream",
          "text": [
            "INFO:tensorflow:global_step/sec: 30.631\n"
          ],
          "name": "stdout"
        },
        {
          "output_type": "stream",
          "text": [
            "INFO:tensorflow:global_step/sec: 30.631\n"
          ],
          "name": "stderr"
        },
        {
          "output_type": "stream",
          "text": [
            "INFO:tensorflow:loss = 0.0860192, step = 190 (0.034 sec)\n"
          ],
          "name": "stdout"
        },
        {
          "output_type": "stream",
          "text": [
            "INFO:tensorflow:loss = 0.0860192, step = 190 (0.034 sec)\n"
          ],
          "name": "stderr"
        },
        {
          "output_type": "stream",
          "text": [
            "INFO:tensorflow:global_step = 190, loss = 0.0860192 (0.405 sec)\n"
          ],
          "name": "stdout"
        },
        {
          "output_type": "stream",
          "text": [
            "INFO:tensorflow:global_step = 190, loss = 0.0860192 (0.405 sec)\n"
          ],
          "name": "stderr"
        },
        {
          "output_type": "stream",
          "text": [
            "INFO:tensorflow:global_step/sec: 22.4861\n"
          ],
          "name": "stdout"
        },
        {
          "output_type": "stream",
          "text": [
            "INFO:tensorflow:global_step/sec: 22.4861\n"
          ],
          "name": "stderr"
        },
        {
          "output_type": "stream",
          "text": [
            "INFO:tensorflow:loss = 0.108245, step = 191 (0.043 sec)\n"
          ],
          "name": "stdout"
        },
        {
          "output_type": "stream",
          "text": [
            "INFO:tensorflow:loss = 0.108245, step = 191 (0.043 sec)\n"
          ],
          "name": "stderr"
        },
        {
          "output_type": "stream",
          "text": [
            "INFO:tensorflow:global_step/sec: 25.0877\n"
          ],
          "name": "stdout"
        },
        {
          "output_type": "stream",
          "text": [
            "INFO:tensorflow:global_step/sec: 25.0877\n"
          ],
          "name": "stderr"
        },
        {
          "output_type": "stream",
          "text": [
            "INFO:tensorflow:loss = 0.01375487, step = 192 (0.041 sec)\n"
          ],
          "name": "stdout"
        },
        {
          "output_type": "stream",
          "text": [
            "INFO:tensorflow:loss = 0.01375487, step = 192 (0.041 sec)\n"
          ],
          "name": "stderr"
        },
        {
          "output_type": "stream",
          "text": [
            "INFO:tensorflow:global_step/sec: 29.1599\n"
          ],
          "name": "stdout"
        },
        {
          "output_type": "stream",
          "text": [
            "INFO:tensorflow:global_step/sec: 29.1599\n"
          ],
          "name": "stderr"
        },
        {
          "output_type": "stream",
          "text": [
            "INFO:tensorflow:loss = 0.005593792, step = 193 (0.034 sec)\n"
          ],
          "name": "stdout"
        },
        {
          "output_type": "stream",
          "text": [
            "INFO:tensorflow:loss = 0.005593792, step = 193 (0.034 sec)\n"
          ],
          "name": "stderr"
        },
        {
          "output_type": "stream",
          "text": [
            "INFO:tensorflow:global_step/sec: 26.6671\n"
          ],
          "name": "stdout"
        },
        {
          "output_type": "stream",
          "text": [
            "INFO:tensorflow:global_step/sec: 26.6671\n"
          ],
          "name": "stderr"
        },
        {
          "output_type": "stream",
          "text": [
            "INFO:tensorflow:loss = 0.030716738, step = 194 (0.036 sec)\n"
          ],
          "name": "stdout"
        },
        {
          "output_type": "stream",
          "text": [
            "INFO:tensorflow:loss = 0.030716738, step = 194 (0.036 sec)\n"
          ],
          "name": "stderr"
        },
        {
          "output_type": "stream",
          "text": [
            "INFO:tensorflow:global_step/sec: 32.01\n"
          ],
          "name": "stdout"
        },
        {
          "output_type": "stream",
          "text": [
            "INFO:tensorflow:global_step/sec: 32.01\n"
          ],
          "name": "stderr"
        },
        {
          "output_type": "stream",
          "text": [
            "INFO:tensorflow:loss = 0.005799086, step = 195 (0.033 sec)\n"
          ],
          "name": "stdout"
        },
        {
          "output_type": "stream",
          "text": [
            "INFO:tensorflow:loss = 0.005799086, step = 195 (0.033 sec)\n"
          ],
          "name": "stderr"
        },
        {
          "output_type": "stream",
          "text": [
            "INFO:tensorflow:global_step/sec: 27.9868\n"
          ],
          "name": "stdout"
        },
        {
          "output_type": "stream",
          "text": [
            "INFO:tensorflow:global_step/sec: 27.9868\n"
          ],
          "name": "stderr"
        },
        {
          "output_type": "stream",
          "text": [
            "INFO:tensorflow:loss = 0.021110956, step = 196 (0.035 sec)\n"
          ],
          "name": "stdout"
        },
        {
          "output_type": "stream",
          "text": [
            "INFO:tensorflow:loss = 0.021110956, step = 196 (0.035 sec)\n"
          ],
          "name": "stderr"
        },
        {
          "output_type": "stream",
          "text": [
            "INFO:tensorflow:global_step/sec: 27.4177\n"
          ],
          "name": "stdout"
        },
        {
          "output_type": "stream",
          "text": [
            "INFO:tensorflow:global_step/sec: 27.4177\n"
          ],
          "name": "stderr"
        },
        {
          "output_type": "stream",
          "text": [
            "INFO:tensorflow:loss = 0.024203723, step = 197 (0.037 sec)\n"
          ],
          "name": "stdout"
        },
        {
          "output_type": "stream",
          "text": [
            "INFO:tensorflow:loss = 0.024203723, step = 197 (0.037 sec)\n"
          ],
          "name": "stderr"
        },
        {
          "output_type": "stream",
          "text": [
            "INFO:tensorflow:global_step/sec: 25.8756\n"
          ],
          "name": "stdout"
        },
        {
          "output_type": "stream",
          "text": [
            "INFO:tensorflow:global_step/sec: 25.8756\n"
          ],
          "name": "stderr"
        },
        {
          "output_type": "stream",
          "text": [
            "INFO:tensorflow:loss = 0.06369921, step = 198 (0.040 sec)\n"
          ],
          "name": "stdout"
        },
        {
          "output_type": "stream",
          "text": [
            "INFO:tensorflow:loss = 0.06369921, step = 198 (0.040 sec)\n"
          ],
          "name": "stderr"
        },
        {
          "output_type": "stream",
          "text": [
            "INFO:tensorflow:global_step/sec: 29.1101\n"
          ],
          "name": "stdout"
        },
        {
          "output_type": "stream",
          "text": [
            "INFO:tensorflow:global_step/sec: 29.1101\n"
          ],
          "name": "stderr"
        },
        {
          "output_type": "stream",
          "text": [
            "INFO:tensorflow:loss = 0.0067693316, step = 199 (0.033 sec)\n"
          ],
          "name": "stdout"
        },
        {
          "output_type": "stream",
          "text": [
            "INFO:tensorflow:loss = 0.0067693316, step = 199 (0.033 sec)\n"
          ],
          "name": "stderr"
        },
        {
          "output_type": "stream",
          "text": [
            "INFO:tensorflow:global_step/sec: 28.601\n"
          ],
          "name": "stdout"
        },
        {
          "output_type": "stream",
          "text": [
            "INFO:tensorflow:global_step/sec: 28.601\n"
          ],
          "name": "stderr"
        },
        {
          "output_type": "stream",
          "text": [
            "INFO:tensorflow:loss = 0.011319714, step = 200 (0.040 sec)\n"
          ],
          "name": "stdout"
        },
        {
          "output_type": "stream",
          "text": [
            "INFO:tensorflow:loss = 0.011319714, step = 200 (0.040 sec)\n"
          ],
          "name": "stderr"
        },
        {
          "output_type": "stream",
          "text": [
            "INFO:tensorflow:global_step = 200, loss = 0.011319714 (0.373 sec)\n"
          ],
          "name": "stdout"
        },
        {
          "output_type": "stream",
          "text": [
            "INFO:tensorflow:global_step = 200, loss = 0.011319714 (0.373 sec)\n"
          ],
          "name": "stderr"
        },
        {
          "output_type": "stream",
          "text": [
            "INFO:tensorflow:global_step/sec: 17.0102\n"
          ],
          "name": "stdout"
        },
        {
          "output_type": "stream",
          "text": [
            "INFO:tensorflow:global_step/sec: 17.0102\n"
          ],
          "name": "stderr"
        },
        {
          "output_type": "stream",
          "text": [
            "INFO:tensorflow:loss = 0.011556927, step = 201 (0.055 sec)\n"
          ],
          "name": "stdout"
        },
        {
          "output_type": "stream",
          "text": [
            "INFO:tensorflow:loss = 0.011556927, step = 201 (0.055 sec)\n"
          ],
          "name": "stderr"
        },
        {
          "output_type": "stream",
          "text": [
            "INFO:tensorflow:global_step/sec: 30.3891\n"
          ],
          "name": "stdout"
        },
        {
          "output_type": "stream",
          "text": [
            "INFO:tensorflow:global_step/sec: 30.3891\n"
          ],
          "name": "stderr"
        },
        {
          "output_type": "stream",
          "text": [
            "INFO:tensorflow:loss = 0.022590145, step = 202 (0.037 sec)\n"
          ],
          "name": "stdout"
        },
        {
          "output_type": "stream",
          "text": [
            "INFO:tensorflow:loss = 0.022590145, step = 202 (0.037 sec)\n"
          ],
          "name": "stderr"
        },
        {
          "output_type": "stream",
          "text": [
            "INFO:tensorflow:global_step/sec: 31.2381\n"
          ],
          "name": "stdout"
        },
        {
          "output_type": "stream",
          "text": [
            "INFO:tensorflow:global_step/sec: 31.2381\n"
          ],
          "name": "stderr"
        },
        {
          "output_type": "stream",
          "text": [
            "INFO:tensorflow:loss = 0.0485128, step = 203 (0.029 sec)\n"
          ],
          "name": "stdout"
        },
        {
          "output_type": "stream",
          "text": [
            "INFO:tensorflow:loss = 0.0485128, step = 203 (0.029 sec)\n"
          ],
          "name": "stderr"
        },
        {
          "output_type": "stream",
          "text": [
            "INFO:tensorflow:global_step/sec: 25.471\n"
          ],
          "name": "stdout"
        },
        {
          "output_type": "stream",
          "text": [
            "INFO:tensorflow:global_step/sec: 25.471\n"
          ],
          "name": "stderr"
        },
        {
          "output_type": "stream",
          "text": [
            "INFO:tensorflow:loss = 0.04322958, step = 204 (0.042 sec)\n"
          ],
          "name": "stdout"
        },
        {
          "output_type": "stream",
          "text": [
            "INFO:tensorflow:loss = 0.04322958, step = 204 (0.042 sec)\n"
          ],
          "name": "stderr"
        },
        {
          "output_type": "stream",
          "text": [
            "INFO:tensorflow:global_step/sec: 25.7981\n"
          ],
          "name": "stdout"
        },
        {
          "output_type": "stream",
          "text": [
            "INFO:tensorflow:global_step/sec: 25.7981\n"
          ],
          "name": "stderr"
        },
        {
          "output_type": "stream",
          "text": [
            "INFO:tensorflow:loss = 0.08232107, step = 205 (0.035 sec)\n"
          ],
          "name": "stdout"
        },
        {
          "output_type": "stream",
          "text": [
            "INFO:tensorflow:loss = 0.08232107, step = 205 (0.035 sec)\n"
          ],
          "name": "stderr"
        },
        {
          "output_type": "stream",
          "text": [
            "INFO:tensorflow:global_step/sec: 28.0817\n"
          ],
          "name": "stdout"
        },
        {
          "output_type": "stream",
          "text": [
            "INFO:tensorflow:global_step/sec: 28.0817\n"
          ],
          "name": "stderr"
        },
        {
          "output_type": "stream",
          "text": [
            "INFO:tensorflow:loss = 0.008099758, step = 206 (0.042 sec)\n"
          ],
          "name": "stdout"
        },
        {
          "output_type": "stream",
          "text": [
            "INFO:tensorflow:loss = 0.008099758, step = 206 (0.042 sec)\n"
          ],
          "name": "stderr"
        },
        {
          "output_type": "stream",
          "text": [
            "INFO:tensorflow:global_step/sec: 23.9872\n"
          ],
          "name": "stdout"
        },
        {
          "output_type": "stream",
          "text": [
            "INFO:tensorflow:global_step/sec: 23.9872\n"
          ],
          "name": "stderr"
        },
        {
          "output_type": "stream",
          "text": [
            "INFO:tensorflow:loss = 0.0070457524, step = 207 (0.034 sec)\n"
          ],
          "name": "stdout"
        },
        {
          "output_type": "stream",
          "text": [
            "INFO:tensorflow:loss = 0.0070457524, step = 207 (0.034 sec)\n"
          ],
          "name": "stderr"
        },
        {
          "output_type": "stream",
          "text": [
            "INFO:tensorflow:global_step/sec: 21.5268\n"
          ],
          "name": "stdout"
        },
        {
          "output_type": "stream",
          "text": [
            "INFO:tensorflow:global_step/sec: 21.5268\n"
          ],
          "name": "stderr"
        },
        {
          "output_type": "stream",
          "text": [
            "INFO:tensorflow:loss = 0.017872108, step = 208 (0.046 sec)\n"
          ],
          "name": "stdout"
        },
        {
          "output_type": "stream",
          "text": [
            "INFO:tensorflow:loss = 0.017872108, step = 208 (0.046 sec)\n"
          ],
          "name": "stderr"
        },
        {
          "output_type": "stream",
          "text": [
            "INFO:tensorflow:Saving checkpoints for 210 into output/model.ckpt.\n"
          ],
          "name": "stdout"
        },
        {
          "output_type": "stream",
          "text": [
            "INFO:tensorflow:Saving checkpoints for 210 into output/model.ckpt.\n"
          ],
          "name": "stderr"
        },
        {
          "output_type": "stream",
          "text": [
            "INFO:tensorflow:Calling model_fn.\n"
          ],
          "name": "stdout"
        },
        {
          "output_type": "stream",
          "text": [
            "INFO:tensorflow:Calling model_fn.\n"
          ],
          "name": "stderr"
        },
        {
          "output_type": "stream",
          "text": [
            "INFO:tensorflow:Done calling model_fn.\n"
          ],
          "name": "stdout"
        },
        {
          "output_type": "stream",
          "text": [
            "INFO:tensorflow:Done calling model_fn.\n"
          ],
          "name": "stderr"
        },
        {
          "output_type": "stream",
          "text": [
            "INFO:tensorflow:Starting evaluation at 2020-08-21T09:13:03Z\n"
          ],
          "name": "stdout"
        },
        {
          "output_type": "stream",
          "text": [
            "INFO:tensorflow:Starting evaluation at 2020-08-21T09:13:03Z\n"
          ],
          "name": "stderr"
        },
        {
          "output_type": "stream",
          "text": [
            "INFO:tensorflow:Graph was finalized.\n"
          ],
          "name": "stdout"
        },
        {
          "output_type": "stream",
          "text": [
            "INFO:tensorflow:Graph was finalized.\n"
          ],
          "name": "stderr"
        },
        {
          "output_type": "stream",
          "text": [
            "INFO:tensorflow:Restoring parameters from output/model.ckpt-210\n"
          ],
          "name": "stdout"
        },
        {
          "output_type": "stream",
          "text": [
            "INFO:tensorflow:Restoring parameters from output/model.ckpt-210\n"
          ],
          "name": "stderr"
        },
        {
          "output_type": "stream",
          "text": [
            "INFO:tensorflow:Running local_init_op.\n"
          ],
          "name": "stdout"
        },
        {
          "output_type": "stream",
          "text": [
            "INFO:tensorflow:Running local_init_op.\n"
          ],
          "name": "stderr"
        },
        {
          "output_type": "stream",
          "text": [
            "INFO:tensorflow:Done running local_init_op.\n"
          ],
          "name": "stdout"
        },
        {
          "output_type": "stream",
          "text": [
            "INFO:tensorflow:Done running local_init_op.\n"
          ],
          "name": "stderr"
        },
        {
          "output_type": "stream",
          "text": [
            "INFO:tensorflow:Finished evaluation at 2020-08-21-09:13:04\n"
          ],
          "name": "stdout"
        },
        {
          "output_type": "stream",
          "text": [
            "INFO:tensorflow:Finished evaluation at 2020-08-21-09:13:04\n"
          ],
          "name": "stderr"
        },
        {
          "output_type": "stream",
          "text": [
            "INFO:tensorflow:Saving dict for global step 210: global_step = 210, loss = 0.067464575, metric/accuracy = 0.98049194, metric/confusion_matrix = [[184   0   1   0   1   0]\n",
            " [  0 200   0   0   0   0]\n",
            " [  0   1 232   0   1   0]\n",
            " [  0   0   0 184   0   0]\n",
            " [  1   0   1   1 176   5]\n",
            " [  0   0   1   2   8 180]]\n"
          ],
          "name": "stdout"
        },
        {
          "output_type": "stream",
          "text": [
            "INFO:tensorflow:Saving dict for global step 210: global_step = 210, loss = 0.067464575, metric/accuracy = 0.98049194, metric/confusion_matrix = [[184   0   1   0   1   0]\n",
            " [  0 200   0   0   0   0]\n",
            " [  0   1 232   0   1   0]\n",
            " [  0   0   0 184   0   0]\n",
            " [  1   0   1   1 176   5]\n",
            " [  0   0   1   2   8 180]]\n"
          ],
          "name": "stderr"
        },
        {
          "output_type": "stream",
          "text": [
            "INFO:tensorflow:Summary for np.ndarray is not visible in Tensorboard by default. Consider using a Tensorboard plugin for visualization (see https://github.com/tensorflow/tensorboard-plugin-example/blob/master/README.md for more information).\n"
          ],
          "name": "stdout"
        },
        {
          "output_type": "stream",
          "text": [
            "INFO:tensorflow:Summary for np.ndarray is not visible in Tensorboard by default. Consider using a Tensorboard plugin for visualization (see https://github.com/tensorflow/tensorboard-plugin-example/blob/master/README.md for more information).\n"
          ],
          "name": "stderr"
        },
        {
          "output_type": "stream",
          "text": [
            "INFO:tensorflow:Saving 'checkpoint_path' summary for global step 210: output/model.ckpt-210\n"
          ],
          "name": "stdout"
        },
        {
          "output_type": "stream",
          "text": [
            "INFO:tensorflow:Saving 'checkpoint_path' summary for global step 210: output/model.ckpt-210\n"
          ],
          "name": "stderr"
        },
        {
          "output_type": "stream",
          "text": [
            "INFO:tensorflow:## Step 210\n"
          ],
          "name": "stdout"
        },
        {
          "output_type": "stream",
          "text": [
            "INFO:tensorflow:## Step 210\n"
          ],
          "name": "stderr"
        },
        {
          "output_type": "stream",
          "text": [
            "INFO:tensorflow:loss : 0.06746457517147064\n"
          ],
          "name": "stdout"
        },
        {
          "output_type": "stream",
          "text": [
            "INFO:tensorflow:loss : 0.06746457517147064\n"
          ],
          "name": "stderr"
        },
        {
          "output_type": "stream",
          "text": [
            "INFO:tensorflow:[[184   0   1   0   1   0]\n",
            " [  0 200   0   0   0   0]\n",
            " [  0   1 232   0   1   0]\n",
            " [  0   0   0 184   0   0]\n",
            " [  1   0   1   1 176   5]\n",
            " [  0   0   1   2   8 180]] : \n"
          ],
          "name": "stdout"
        },
        {
          "output_type": "stream",
          "text": [
            "INFO:tensorflow:[[184   0   1   0   1   0]\n",
            " [  0 200   0   0   0   0]\n",
            " [  0   1 232   0   1   0]\n",
            " [  0   0   0 184   0   0]\n",
            " [  1   0   1   1 176   5]\n",
            " [  0   0   1   2   8 180]] : \n"
          ],
          "name": "stderr"
        },
        {
          "output_type": "stream",
          "text": [
            "INFO:tensorflow:[[184   0   1   0   1   0]\n",
            " [  0 200   0   0   0   0]\n",
            " [  0   1 232   0   1   0]\n",
            " [  0   0   0 184   0   0]\n",
            " [  1   0   1   1 176   5]\n",
            " [  0   0   1   2   8 180]]\n"
          ],
          "name": "stdout"
        },
        {
          "output_type": "stream",
          "text": [
            "INFO:tensorflow:[[184   0   1   0   1   0]\n",
            " [  0 200   0   0   0   0]\n",
            " [  0   1 232   0   1   0]\n",
            " [  0   0   0 184   0   0]\n",
            " [  1   0   1   1 176   5]\n",
            " [  0   0   1   2   8 180]]\n"
          ],
          "name": "stderr"
        },
        {
          "output_type": "stream",
          "text": [
            "INFO:tensorflow:Checking checkpoint model.ckpt-210\n"
          ],
          "name": "stdout"
        },
        {
          "output_type": "stream",
          "text": [
            "INFO:tensorflow:Checking checkpoint model.ckpt-210\n"
          ],
          "name": "stderr"
        },
        {
          "output_type": "stream",
          "text": [
            "INFO:tensorflow:skipping checkpoint model.ckpt-210 with metric/accuracy = 0.9804919362068176\n"
          ],
          "name": "stdout"
        },
        {
          "output_type": "stream",
          "text": [
            "INFO:tensorflow:skipping checkpoint model.ckpt-210 with metric/accuracy = 0.9804919362068176\n"
          ],
          "name": "stderr"
        },
        {
          "output_type": "stream",
          "text": [
            "INFO:tensorflow:global_step/sec: 0.631952\n"
          ],
          "name": "stdout"
        },
        {
          "output_type": "stream",
          "text": [
            "INFO:tensorflow:global_step/sec: 0.631952\n"
          ],
          "name": "stderr"
        },
        {
          "output_type": "stream",
          "text": [
            "INFO:tensorflow:loss = 0.020213764, step = 209 (1.582 sec)\n"
          ],
          "name": "stdout"
        },
        {
          "output_type": "stream",
          "text": [
            "INFO:tensorflow:loss = 0.020213764, step = 209 (1.582 sec)\n"
          ],
          "name": "stderr"
        },
        {
          "output_type": "stream",
          "text": [
            "INFO:tensorflow:global_step/sec: 29.9298\n"
          ],
          "name": "stdout"
        },
        {
          "output_type": "stream",
          "text": [
            "INFO:tensorflow:global_step/sec: 29.9298\n"
          ],
          "name": "stderr"
        },
        {
          "output_type": "stream",
          "text": [
            "INFO:tensorflow:loss = 0.035378523, step = 210 (0.036 sec)\n"
          ],
          "name": "stdout"
        },
        {
          "output_type": "stream",
          "text": [
            "INFO:tensorflow:loss = 0.035378523, step = 210 (0.036 sec)\n"
          ],
          "name": "stderr"
        },
        {
          "output_type": "stream",
          "text": [
            "INFO:tensorflow:global_step = 210, loss = 0.035378523 (1.935 sec)\n"
          ],
          "name": "stdout"
        },
        {
          "output_type": "stream",
          "text": [
            "INFO:tensorflow:global_step = 210, loss = 0.035378523 (1.935 sec)\n"
          ],
          "name": "stderr"
        },
        {
          "output_type": "stream",
          "text": [
            "INFO:tensorflow:global_step/sec: 15.5243\n"
          ],
          "name": "stdout"
        },
        {
          "output_type": "stream",
          "text": [
            "INFO:tensorflow:global_step/sec: 15.5243\n"
          ],
          "name": "stderr"
        },
        {
          "output_type": "stream",
          "text": [
            "INFO:tensorflow:loss = 0.008008123, step = 211 (0.064 sec)\n"
          ],
          "name": "stdout"
        },
        {
          "output_type": "stream",
          "text": [
            "INFO:tensorflow:loss = 0.008008123, step = 211 (0.064 sec)\n"
          ],
          "name": "stderr"
        },
        {
          "output_type": "stream",
          "text": [
            "INFO:tensorflow:global_step/sec: 24.7418\n"
          ],
          "name": "stdout"
        },
        {
          "output_type": "stream",
          "text": [
            "INFO:tensorflow:global_step/sec: 24.7418\n"
          ],
          "name": "stderr"
        },
        {
          "output_type": "stream",
          "text": [
            "INFO:tensorflow:loss = 0.022019172, step = 212 (0.043 sec)\n"
          ],
          "name": "stdout"
        },
        {
          "output_type": "stream",
          "text": [
            "INFO:tensorflow:loss = 0.022019172, step = 212 (0.043 sec)\n"
          ],
          "name": "stderr"
        },
        {
          "output_type": "stream",
          "text": [
            "INFO:tensorflow:global_step/sec: 26.6334\n"
          ],
          "name": "stdout"
        },
        {
          "output_type": "stream",
          "text": [
            "INFO:tensorflow:global_step/sec: 26.6334\n"
          ],
          "name": "stderr"
        },
        {
          "output_type": "stream",
          "text": [
            "INFO:tensorflow:loss = 0.03543333, step = 213 (0.043 sec)\n"
          ],
          "name": "stdout"
        },
        {
          "output_type": "stream",
          "text": [
            "INFO:tensorflow:loss = 0.03543333, step = 213 (0.043 sec)\n"
          ],
          "name": "stderr"
        },
        {
          "output_type": "stream",
          "text": [
            "INFO:tensorflow:global_step/sec: 24.4244\n"
          ],
          "name": "stdout"
        },
        {
          "output_type": "stream",
          "text": [
            "INFO:tensorflow:global_step/sec: 24.4244\n"
          ],
          "name": "stderr"
        },
        {
          "output_type": "stream",
          "text": [
            "INFO:tensorflow:loss = 0.008367922, step = 214 (0.034 sec)\n"
          ],
          "name": "stdout"
        },
        {
          "output_type": "stream",
          "text": [
            "INFO:tensorflow:loss = 0.008367922, step = 214 (0.034 sec)\n"
          ],
          "name": "stderr"
        },
        {
          "output_type": "stream",
          "text": [
            "INFO:tensorflow:global_step/sec: 25.8783\n"
          ],
          "name": "stdout"
        },
        {
          "output_type": "stream",
          "text": [
            "INFO:tensorflow:global_step/sec: 25.8783\n"
          ],
          "name": "stderr"
        },
        {
          "output_type": "stream",
          "text": [
            "INFO:tensorflow:loss = 0.0057191355, step = 215 (0.042 sec)\n"
          ],
          "name": "stdout"
        },
        {
          "output_type": "stream",
          "text": [
            "INFO:tensorflow:loss = 0.0057191355, step = 215 (0.042 sec)\n"
          ],
          "name": "stderr"
        },
        {
          "output_type": "stream",
          "text": [
            "INFO:tensorflow:global_step/sec: 25.9096\n"
          ],
          "name": "stdout"
        },
        {
          "output_type": "stream",
          "text": [
            "INFO:tensorflow:global_step/sec: 25.9096\n"
          ],
          "name": "stderr"
        },
        {
          "output_type": "stream",
          "text": [
            "INFO:tensorflow:loss = 0.039834306, step = 216 (0.042 sec)\n"
          ],
          "name": "stdout"
        },
        {
          "output_type": "stream",
          "text": [
            "INFO:tensorflow:loss = 0.039834306, step = 216 (0.042 sec)\n"
          ],
          "name": "stderr"
        },
        {
          "output_type": "stream",
          "text": [
            "INFO:tensorflow:global_step/sec: 27.7686\n"
          ],
          "name": "stdout"
        },
        {
          "output_type": "stream",
          "text": [
            "INFO:tensorflow:global_step/sec: 27.7686\n"
          ],
          "name": "stderr"
        },
        {
          "output_type": "stream",
          "text": [
            "INFO:tensorflow:loss = 0.01568616, step = 217 (0.031 sec)\n"
          ],
          "name": "stdout"
        },
        {
          "output_type": "stream",
          "text": [
            "INFO:tensorflow:loss = 0.01568616, step = 217 (0.031 sec)\n"
          ],
          "name": "stderr"
        },
        {
          "output_type": "stream",
          "text": [
            "INFO:tensorflow:global_step/sec: 28.1242\n"
          ],
          "name": "stdout"
        },
        {
          "output_type": "stream",
          "text": [
            "INFO:tensorflow:global_step/sec: 28.1242\n"
          ],
          "name": "stderr"
        },
        {
          "output_type": "stream",
          "text": [
            "INFO:tensorflow:loss = 0.026784454, step = 218 (0.040 sec)\n"
          ],
          "name": "stdout"
        },
        {
          "output_type": "stream",
          "text": [
            "INFO:tensorflow:loss = 0.026784454, step = 218 (0.040 sec)\n"
          ],
          "name": "stderr"
        },
        {
          "output_type": "stream",
          "text": [
            "INFO:tensorflow:global_step/sec: 25.8027\n"
          ],
          "name": "stdout"
        },
        {
          "output_type": "stream",
          "text": [
            "INFO:tensorflow:global_step/sec: 25.8027\n"
          ],
          "name": "stderr"
        },
        {
          "output_type": "stream",
          "text": [
            "INFO:tensorflow:loss = 0.016914792, step = 219 (0.035 sec)\n"
          ],
          "name": "stdout"
        },
        {
          "output_type": "stream",
          "text": [
            "INFO:tensorflow:loss = 0.016914792, step = 219 (0.035 sec)\n"
          ],
          "name": "stderr"
        },
        {
          "output_type": "stream",
          "text": [
            "INFO:tensorflow:global_step/sec: 19.5175\n"
          ],
          "name": "stdout"
        },
        {
          "output_type": "stream",
          "text": [
            "INFO:tensorflow:global_step/sec: 19.5175\n"
          ],
          "name": "stderr"
        },
        {
          "output_type": "stream",
          "text": [
            "INFO:tensorflow:loss = 0.07551351, step = 220 (0.051 sec)\n"
          ],
          "name": "stdout"
        },
        {
          "output_type": "stream",
          "text": [
            "INFO:tensorflow:loss = 0.07551351, step = 220 (0.051 sec)\n"
          ],
          "name": "stderr"
        },
        {
          "output_type": "stream",
          "text": [
            "INFO:tensorflow:global_step = 220, loss = 0.07551351 (0.424 sec)\n"
          ],
          "name": "stdout"
        },
        {
          "output_type": "stream",
          "text": [
            "INFO:tensorflow:global_step = 220, loss = 0.07551351 (0.424 sec)\n"
          ],
          "name": "stderr"
        },
        {
          "output_type": "stream",
          "text": [
            "INFO:tensorflow:global_step/sec: 22.4388\n"
          ],
          "name": "stdout"
        },
        {
          "output_type": "stream",
          "text": [
            "INFO:tensorflow:global_step/sec: 22.4388\n"
          ],
          "name": "stderr"
        },
        {
          "output_type": "stream",
          "text": [
            "INFO:tensorflow:loss = 0.060821548, step = 221 (0.045 sec)\n"
          ],
          "name": "stdout"
        },
        {
          "output_type": "stream",
          "text": [
            "INFO:tensorflow:loss = 0.060821548, step = 221 (0.045 sec)\n"
          ],
          "name": "stderr"
        },
        {
          "output_type": "stream",
          "text": [
            "INFO:tensorflow:global_step/sec: 21.0141\n"
          ],
          "name": "stdout"
        },
        {
          "output_type": "stream",
          "text": [
            "INFO:tensorflow:global_step/sec: 21.0141\n"
          ],
          "name": "stderr"
        },
        {
          "output_type": "stream",
          "text": [
            "INFO:tensorflow:loss = 0.012250882, step = 222 (0.046 sec)\n"
          ],
          "name": "stdout"
        },
        {
          "output_type": "stream",
          "text": [
            "INFO:tensorflow:loss = 0.012250882, step = 222 (0.046 sec)\n"
          ],
          "name": "stderr"
        },
        {
          "output_type": "stream",
          "text": [
            "INFO:tensorflow:global_step/sec: 27.6706\n"
          ],
          "name": "stdout"
        },
        {
          "output_type": "stream",
          "text": [
            "INFO:tensorflow:global_step/sec: 27.6706\n"
          ],
          "name": "stderr"
        },
        {
          "output_type": "stream",
          "text": [
            "INFO:tensorflow:loss = 0.022069246, step = 223 (0.037 sec)\n"
          ],
          "name": "stdout"
        },
        {
          "output_type": "stream",
          "text": [
            "INFO:tensorflow:loss = 0.022069246, step = 223 (0.037 sec)\n"
          ],
          "name": "stderr"
        },
        {
          "output_type": "stream",
          "text": [
            "INFO:tensorflow:global_step/sec: 25.3204\n"
          ],
          "name": "stdout"
        },
        {
          "output_type": "stream",
          "text": [
            "INFO:tensorflow:global_step/sec: 25.3204\n"
          ],
          "name": "stderr"
        },
        {
          "output_type": "stream",
          "text": [
            "INFO:tensorflow:loss = 0.00892879, step = 224 (0.042 sec)\n"
          ],
          "name": "stdout"
        },
        {
          "output_type": "stream",
          "text": [
            "INFO:tensorflow:loss = 0.00892879, step = 224 (0.042 sec)\n"
          ],
          "name": "stderr"
        },
        {
          "output_type": "stream",
          "text": [
            "INFO:tensorflow:global_step/sec: 23.2113\n"
          ],
          "name": "stdout"
        },
        {
          "output_type": "stream",
          "text": [
            "INFO:tensorflow:global_step/sec: 23.2113\n"
          ],
          "name": "stderr"
        },
        {
          "output_type": "stream",
          "text": [
            "INFO:tensorflow:loss = 0.022903845, step = 225 (0.038 sec)\n"
          ],
          "name": "stdout"
        },
        {
          "output_type": "stream",
          "text": [
            "INFO:tensorflow:loss = 0.022903845, step = 225 (0.038 sec)\n"
          ],
          "name": "stderr"
        },
        {
          "output_type": "stream",
          "text": [
            "INFO:tensorflow:global_step/sec: 30.0963\n"
          ],
          "name": "stdout"
        },
        {
          "output_type": "stream",
          "text": [
            "INFO:tensorflow:global_step/sec: 30.0963\n"
          ],
          "name": "stderr"
        },
        {
          "output_type": "stream",
          "text": [
            "INFO:tensorflow:loss = 0.029328357, step = 226 (0.036 sec)\n"
          ],
          "name": "stdout"
        },
        {
          "output_type": "stream",
          "text": [
            "INFO:tensorflow:loss = 0.029328357, step = 226 (0.036 sec)\n"
          ],
          "name": "stderr"
        },
        {
          "output_type": "stream",
          "text": [
            "INFO:tensorflow:global_step/sec: 25.0363\n"
          ],
          "name": "stdout"
        },
        {
          "output_type": "stream",
          "text": [
            "INFO:tensorflow:global_step/sec: 25.0363\n"
          ],
          "name": "stderr"
        },
        {
          "output_type": "stream",
          "text": [
            "INFO:tensorflow:loss = 0.015644468, step = 227 (0.046 sec)\n"
          ],
          "name": "stdout"
        },
        {
          "output_type": "stream",
          "text": [
            "INFO:tensorflow:loss = 0.015644468, step = 227 (0.046 sec)\n"
          ],
          "name": "stderr"
        },
        {
          "output_type": "stream",
          "text": [
            "INFO:tensorflow:global_step/sec: 24.5046\n"
          ],
          "name": "stdout"
        },
        {
          "output_type": "stream",
          "text": [
            "INFO:tensorflow:global_step/sec: 24.5046\n"
          ],
          "name": "stderr"
        },
        {
          "output_type": "stream",
          "text": [
            "INFO:tensorflow:loss = 0.029633278, step = 228 (0.033 sec)\n"
          ],
          "name": "stdout"
        },
        {
          "output_type": "stream",
          "text": [
            "INFO:tensorflow:loss = 0.029633278, step = 228 (0.033 sec)\n"
          ],
          "name": "stderr"
        },
        {
          "output_type": "stream",
          "text": [
            "INFO:tensorflow:global_step/sec: 20.9944\n"
          ],
          "name": "stdout"
        },
        {
          "output_type": "stream",
          "text": [
            "INFO:tensorflow:global_step/sec: 20.9944\n"
          ],
          "name": "stderr"
        },
        {
          "output_type": "stream",
          "text": [
            "INFO:tensorflow:loss = 0.052028198, step = 229 (0.049 sec)\n"
          ],
          "name": "stdout"
        },
        {
          "output_type": "stream",
          "text": [
            "INFO:tensorflow:loss = 0.052028198, step = 229 (0.049 sec)\n"
          ],
          "name": "stderr"
        },
        {
          "output_type": "stream",
          "text": [
            "INFO:tensorflow:global_step/sec: 30.97\n"
          ],
          "name": "stdout"
        },
        {
          "output_type": "stream",
          "text": [
            "INFO:tensorflow:global_step/sec: 30.97\n"
          ],
          "name": "stderr"
        },
        {
          "output_type": "stream",
          "text": [
            "INFO:tensorflow:loss = 0.024616951, step = 230 (0.037 sec)\n"
          ],
          "name": "stdout"
        },
        {
          "output_type": "stream",
          "text": [
            "INFO:tensorflow:loss = 0.024616951, step = 230 (0.037 sec)\n"
          ],
          "name": "stderr"
        },
        {
          "output_type": "stream",
          "text": [
            "INFO:tensorflow:global_step = 230, loss = 0.024616951 (0.409 sec)\n"
          ],
          "name": "stdout"
        },
        {
          "output_type": "stream",
          "text": [
            "INFO:tensorflow:global_step = 230, loss = 0.024616951 (0.409 sec)\n"
          ],
          "name": "stderr"
        },
        {
          "output_type": "stream",
          "text": [
            "INFO:tensorflow:global_step/sec: 23.8974\n"
          ],
          "name": "stdout"
        },
        {
          "output_type": "stream",
          "text": [
            "INFO:tensorflow:global_step/sec: 23.8974\n"
          ],
          "name": "stderr"
        },
        {
          "output_type": "stream",
          "text": [
            "INFO:tensorflow:loss = 0.012221503, step = 231 (0.038 sec)\n"
          ],
          "name": "stdout"
        },
        {
          "output_type": "stream",
          "text": [
            "INFO:tensorflow:loss = 0.012221503, step = 231 (0.038 sec)\n"
          ],
          "name": "stderr"
        },
        {
          "output_type": "stream",
          "text": [
            "INFO:tensorflow:global_step/sec: 23.0063\n"
          ],
          "name": "stdout"
        },
        {
          "output_type": "stream",
          "text": [
            "INFO:tensorflow:global_step/sec: 23.0063\n"
          ],
          "name": "stderr"
        },
        {
          "output_type": "stream",
          "text": [
            "INFO:tensorflow:loss = 0.019150745, step = 232 (0.040 sec)\n"
          ],
          "name": "stdout"
        },
        {
          "output_type": "stream",
          "text": [
            "INFO:tensorflow:loss = 0.019150745, step = 232 (0.040 sec)\n"
          ],
          "name": "stderr"
        },
        {
          "output_type": "stream",
          "text": [
            "INFO:tensorflow:global_step/sec: 27.5908\n"
          ],
          "name": "stdout"
        },
        {
          "output_type": "stream",
          "text": [
            "INFO:tensorflow:global_step/sec: 27.5908\n"
          ],
          "name": "stderr"
        },
        {
          "output_type": "stream",
          "text": [
            "INFO:tensorflow:loss = 0.011261353, step = 233 (0.040 sec)\n"
          ],
          "name": "stdout"
        },
        {
          "output_type": "stream",
          "text": [
            "INFO:tensorflow:loss = 0.011261353, step = 233 (0.040 sec)\n"
          ],
          "name": "stderr"
        },
        {
          "output_type": "stream",
          "text": [
            "INFO:tensorflow:global_step/sec: 23.1361\n"
          ],
          "name": "stdout"
        },
        {
          "output_type": "stream",
          "text": [
            "INFO:tensorflow:global_step/sec: 23.1361\n"
          ],
          "name": "stderr"
        },
        {
          "output_type": "stream",
          "text": [
            "INFO:tensorflow:loss = 0.014131499, step = 234 (0.043 sec)\n"
          ],
          "name": "stdout"
        },
        {
          "output_type": "stream",
          "text": [
            "INFO:tensorflow:loss = 0.014131499, step = 234 (0.043 sec)\n"
          ],
          "name": "stderr"
        },
        {
          "output_type": "stream",
          "text": [
            "INFO:tensorflow:global_step/sec: 24.7243\n"
          ],
          "name": "stdout"
        },
        {
          "output_type": "stream",
          "text": [
            "INFO:tensorflow:global_step/sec: 24.7243\n"
          ],
          "name": "stderr"
        },
        {
          "output_type": "stream",
          "text": [
            "INFO:tensorflow:loss = 0.017805066, step = 235 (0.040 sec)\n"
          ],
          "name": "stdout"
        },
        {
          "output_type": "stream",
          "text": [
            "INFO:tensorflow:loss = 0.017805066, step = 235 (0.040 sec)\n"
          ],
          "name": "stderr"
        },
        {
          "output_type": "stream",
          "text": [
            "INFO:tensorflow:global_step/sec: 28.4939\n"
          ],
          "name": "stdout"
        },
        {
          "output_type": "stream",
          "text": [
            "INFO:tensorflow:global_step/sec: 28.4939\n"
          ],
          "name": "stderr"
        },
        {
          "output_type": "stream",
          "text": [
            "INFO:tensorflow:loss = 0.08841887, step = 236 (0.038 sec)\n"
          ],
          "name": "stdout"
        },
        {
          "output_type": "stream",
          "text": [
            "INFO:tensorflow:loss = 0.08841887, step = 236 (0.038 sec)\n"
          ],
          "name": "stderr"
        },
        {
          "output_type": "stream",
          "text": [
            "INFO:tensorflow:global_step/sec: 22.539\n"
          ],
          "name": "stdout"
        },
        {
          "output_type": "stream",
          "text": [
            "INFO:tensorflow:global_step/sec: 22.539\n"
          ],
          "name": "stderr"
        },
        {
          "output_type": "stream",
          "text": [
            "INFO:tensorflow:loss = 0.009778261, step = 237 (0.044 sec)\n"
          ],
          "name": "stdout"
        },
        {
          "output_type": "stream",
          "text": [
            "INFO:tensorflow:loss = 0.009778261, step = 237 (0.044 sec)\n"
          ],
          "name": "stderr"
        },
        {
          "output_type": "stream",
          "text": [
            "INFO:tensorflow:global_step/sec: 26.8286\n"
          ],
          "name": "stdout"
        },
        {
          "output_type": "stream",
          "text": [
            "INFO:tensorflow:global_step/sec: 26.8286\n"
          ],
          "name": "stderr"
        },
        {
          "output_type": "stream",
          "text": [
            "INFO:tensorflow:loss = 0.013524514, step = 238 (0.038 sec)\n"
          ],
          "name": "stdout"
        },
        {
          "output_type": "stream",
          "text": [
            "INFO:tensorflow:loss = 0.013524514, step = 238 (0.038 sec)\n"
          ],
          "name": "stderr"
        },
        {
          "output_type": "stream",
          "text": [
            "INFO:tensorflow:Saving checkpoints for 240 into output/model.ckpt.\n"
          ],
          "name": "stdout"
        },
        {
          "output_type": "stream",
          "text": [
            "INFO:tensorflow:Saving checkpoints for 240 into output/model.ckpt.\n"
          ],
          "name": "stderr"
        },
        {
          "output_type": "stream",
          "text": [
            "INFO:tensorflow:Calling model_fn.\n"
          ],
          "name": "stdout"
        },
        {
          "output_type": "stream",
          "text": [
            "INFO:tensorflow:Calling model_fn.\n"
          ],
          "name": "stderr"
        },
        {
          "output_type": "stream",
          "text": [
            "INFO:tensorflow:Done calling model_fn.\n"
          ],
          "name": "stdout"
        },
        {
          "output_type": "stream",
          "text": [
            "INFO:tensorflow:Done calling model_fn.\n"
          ],
          "name": "stderr"
        },
        {
          "output_type": "stream",
          "text": [
            "INFO:tensorflow:Starting evaluation at 2020-08-21T09:13:06Z\n"
          ],
          "name": "stdout"
        },
        {
          "output_type": "stream",
          "text": [
            "INFO:tensorflow:Starting evaluation at 2020-08-21T09:13:06Z\n"
          ],
          "name": "stderr"
        },
        {
          "output_type": "stream",
          "text": [
            "INFO:tensorflow:Graph was finalized.\n"
          ],
          "name": "stdout"
        },
        {
          "output_type": "stream",
          "text": [
            "INFO:tensorflow:Graph was finalized.\n"
          ],
          "name": "stderr"
        },
        {
          "output_type": "stream",
          "text": [
            "INFO:tensorflow:Restoring parameters from output/model.ckpt-240\n"
          ],
          "name": "stdout"
        },
        {
          "output_type": "stream",
          "text": [
            "INFO:tensorflow:Restoring parameters from output/model.ckpt-240\n"
          ],
          "name": "stderr"
        },
        {
          "output_type": "stream",
          "text": [
            "INFO:tensorflow:Running local_init_op.\n"
          ],
          "name": "stdout"
        },
        {
          "output_type": "stream",
          "text": [
            "INFO:tensorflow:Running local_init_op.\n"
          ],
          "name": "stderr"
        },
        {
          "output_type": "stream",
          "text": [
            "INFO:tensorflow:Done running local_init_op.\n"
          ],
          "name": "stdout"
        },
        {
          "output_type": "stream",
          "text": [
            "INFO:tensorflow:Done running local_init_op.\n"
          ],
          "name": "stderr"
        },
        {
          "output_type": "stream",
          "text": [
            "INFO:tensorflow:Finished evaluation at 2020-08-21-09:13:07\n"
          ],
          "name": "stdout"
        },
        {
          "output_type": "stream",
          "text": [
            "INFO:tensorflow:Finished evaluation at 2020-08-21-09:13:07\n"
          ],
          "name": "stderr"
        },
        {
          "output_type": "stream",
          "text": [
            "INFO:tensorflow:Saving dict for global step 240: global_step = 240, loss = 0.0675927, metric/accuracy = 0.97964376, metric/confusion_matrix = [[184   0   1   0   1   0]\n",
            " [  0 200   0   0   0   0]\n",
            " [  0   1 232   0   1   0]\n",
            " [  0   0   0 184   0   0]\n",
            " [  1   0   1   1 176   5]\n",
            " [  0   0   1   2   9 179]]\n"
          ],
          "name": "stdout"
        },
        {
          "output_type": "stream",
          "text": [
            "INFO:tensorflow:Saving dict for global step 240: global_step = 240, loss = 0.0675927, metric/accuracy = 0.97964376, metric/confusion_matrix = [[184   0   1   0   1   0]\n",
            " [  0 200   0   0   0   0]\n",
            " [  0   1 232   0   1   0]\n",
            " [  0   0   0 184   0   0]\n",
            " [  1   0   1   1 176   5]\n",
            " [  0   0   1   2   9 179]]\n"
          ],
          "name": "stderr"
        },
        {
          "output_type": "stream",
          "text": [
            "INFO:tensorflow:Summary for np.ndarray is not visible in Tensorboard by default. Consider using a Tensorboard plugin for visualization (see https://github.com/tensorflow/tensorboard-plugin-example/blob/master/README.md for more information).\n"
          ],
          "name": "stdout"
        },
        {
          "output_type": "stream",
          "text": [
            "INFO:tensorflow:Summary for np.ndarray is not visible in Tensorboard by default. Consider using a Tensorboard plugin for visualization (see https://github.com/tensorflow/tensorboard-plugin-example/blob/master/README.md for more information).\n"
          ],
          "name": "stderr"
        },
        {
          "output_type": "stream",
          "text": [
            "INFO:tensorflow:Saving 'checkpoint_path' summary for global step 240: output/model.ckpt-240\n"
          ],
          "name": "stdout"
        },
        {
          "output_type": "stream",
          "text": [
            "INFO:tensorflow:Saving 'checkpoint_path' summary for global step 240: output/model.ckpt-240\n"
          ],
          "name": "stderr"
        },
        {
          "output_type": "stream",
          "text": [
            "INFO:tensorflow:## Step 240\n"
          ],
          "name": "stdout"
        },
        {
          "output_type": "stream",
          "text": [
            "INFO:tensorflow:## Step 240\n"
          ],
          "name": "stderr"
        },
        {
          "output_type": "stream",
          "text": [
            "INFO:tensorflow:loss : 0.06759270280599594\n"
          ],
          "name": "stdout"
        },
        {
          "output_type": "stream",
          "text": [
            "INFO:tensorflow:loss : 0.06759270280599594\n"
          ],
          "name": "stderr"
        },
        {
          "output_type": "stream",
          "text": [
            "INFO:tensorflow:[[184   0   1   0   1   0]\n",
            " [  0 200   0   0   0   0]\n",
            " [  0   1 232   0   1   0]\n",
            " [  0   0   0 184   0   0]\n",
            " [  1   0   1   1 176   5]\n",
            " [  0   0   1   2   9 179]] : \n"
          ],
          "name": "stdout"
        },
        {
          "output_type": "stream",
          "text": [
            "INFO:tensorflow:[[184   0   1   0   1   0]\n",
            " [  0 200   0   0   0   0]\n",
            " [  0   1 232   0   1   0]\n",
            " [  0   0   0 184   0   0]\n",
            " [  1   0   1   1 176   5]\n",
            " [  0   0   1   2   9 179]] : \n"
          ],
          "name": "stderr"
        },
        {
          "output_type": "stream",
          "text": [
            "INFO:tensorflow:[[184   0   1   0   1   0]\n",
            " [  0 200   0   0   0   0]\n",
            " [  0   1 232   0   1   0]\n",
            " [  0   0   0 184   0   0]\n",
            " [  1   0   1   1 176   5]\n",
            " [  0   0   1   2   9 179]]\n"
          ],
          "name": "stdout"
        },
        {
          "output_type": "stream",
          "text": [
            "INFO:tensorflow:[[184   0   1   0   1   0]\n",
            " [  0 200   0   0   0   0]\n",
            " [  0   1 232   0   1   0]\n",
            " [  0   0   0 184   0   0]\n",
            " [  1   0   1   1 176   5]\n",
            " [  0   0   1   2   9 179]]\n"
          ],
          "name": "stderr"
        },
        {
          "output_type": "stream",
          "text": [
            "INFO:tensorflow:Checking checkpoint model.ckpt-240\n"
          ],
          "name": "stdout"
        },
        {
          "output_type": "stream",
          "text": [
            "INFO:tensorflow:Checking checkpoint model.ckpt-240\n"
          ],
          "name": "stderr"
        },
        {
          "output_type": "stream",
          "text": [
            "INFO:tensorflow:skipping checkpoint model.ckpt-240 with metric/accuracy = 0.9796437621116638\n"
          ],
          "name": "stdout"
        },
        {
          "output_type": "stream",
          "text": [
            "INFO:tensorflow:skipping checkpoint model.ckpt-240 with metric/accuracy = 0.9796437621116638\n"
          ],
          "name": "stderr"
        },
        {
          "output_type": "stream",
          "text": [
            "INFO:tensorflow:global_step/sec: 0.625963\n"
          ],
          "name": "stdout"
        },
        {
          "output_type": "stream",
          "text": [
            "INFO:tensorflow:global_step/sec: 0.625963\n"
          ],
          "name": "stderr"
        },
        {
          "output_type": "stream",
          "text": [
            "INFO:tensorflow:loss = 0.02511266, step = 239 (1.591 sec)\n"
          ],
          "name": "stdout"
        },
        {
          "output_type": "stream",
          "text": [
            "INFO:tensorflow:loss = 0.02511266, step = 239 (1.591 sec)\n"
          ],
          "name": "stderr"
        },
        {
          "output_type": "stream",
          "text": [
            "INFO:tensorflow:global_step/sec: 30.0217\n"
          ],
          "name": "stdout"
        },
        {
          "output_type": "stream",
          "text": [
            "INFO:tensorflow:global_step/sec: 30.0217\n"
          ],
          "name": "stderr"
        },
        {
          "output_type": "stream",
          "text": [
            "INFO:tensorflow:loss = 0.01444523, step = 240 (0.036 sec)\n"
          ],
          "name": "stdout"
        },
        {
          "output_type": "stream",
          "text": [
            "INFO:tensorflow:loss = 0.01444523, step = 240 (0.036 sec)\n"
          ],
          "name": "stderr"
        },
        {
          "output_type": "stream",
          "text": [
            "INFO:tensorflow:global_step = 240, loss = 0.01444523 (1.948 sec)\n"
          ],
          "name": "stdout"
        },
        {
          "output_type": "stream",
          "text": [
            "INFO:tensorflow:global_step = 240, loss = 0.01444523 (1.948 sec)\n"
          ],
          "name": "stderr"
        },
        {
          "output_type": "stream",
          "text": [
            "INFO:tensorflow:global_step/sec: 18.9179\n"
          ],
          "name": "stdout"
        },
        {
          "output_type": "stream",
          "text": [
            "INFO:tensorflow:global_step/sec: 18.9179\n"
          ],
          "name": "stderr"
        },
        {
          "output_type": "stream",
          "text": [
            "INFO:tensorflow:loss = 0.00833279, step = 241 (0.056 sec)\n"
          ],
          "name": "stdout"
        },
        {
          "output_type": "stream",
          "text": [
            "INFO:tensorflow:loss = 0.00833279, step = 241 (0.056 sec)\n"
          ],
          "name": "stderr"
        },
        {
          "output_type": "stream",
          "text": [
            "INFO:tensorflow:global_step/sec: 17.2513\n"
          ],
          "name": "stdout"
        },
        {
          "output_type": "stream",
          "text": [
            "INFO:tensorflow:global_step/sec: 17.2513\n"
          ],
          "name": "stderr"
        },
        {
          "output_type": "stream",
          "text": [
            "INFO:tensorflow:loss = 0.02281763, step = 242 (0.054 sec)\n"
          ],
          "name": "stdout"
        },
        {
          "output_type": "stream",
          "text": [
            "INFO:tensorflow:loss = 0.02281763, step = 242 (0.054 sec)\n"
          ],
          "name": "stderr"
        },
        {
          "output_type": "stream",
          "text": [
            "INFO:tensorflow:global_step/sec: 19.218\n"
          ],
          "name": "stdout"
        },
        {
          "output_type": "stream",
          "text": [
            "INFO:tensorflow:global_step/sec: 19.218\n"
          ],
          "name": "stderr"
        },
        {
          "output_type": "stream",
          "text": [
            "INFO:tensorflow:loss = 0.014420186, step = 243 (0.058 sec)\n"
          ],
          "name": "stdout"
        },
        {
          "output_type": "stream",
          "text": [
            "INFO:tensorflow:loss = 0.014420186, step = 243 (0.058 sec)\n"
          ],
          "name": "stderr"
        },
        {
          "output_type": "stream",
          "text": [
            "INFO:tensorflow:global_step/sec: 22.2136\n"
          ],
          "name": "stdout"
        },
        {
          "output_type": "stream",
          "text": [
            "INFO:tensorflow:global_step/sec: 22.2136\n"
          ],
          "name": "stderr"
        },
        {
          "output_type": "stream",
          "text": [
            "INFO:tensorflow:loss = 0.008698075, step = 244 (0.041 sec)\n"
          ],
          "name": "stdout"
        },
        {
          "output_type": "stream",
          "text": [
            "INFO:tensorflow:loss = 0.008698075, step = 244 (0.041 sec)\n"
          ],
          "name": "stderr"
        },
        {
          "output_type": "stream",
          "text": [
            "INFO:tensorflow:global_step/sec: 22.0861\n"
          ],
          "name": "stdout"
        },
        {
          "output_type": "stream",
          "text": [
            "INFO:tensorflow:global_step/sec: 22.0861\n"
          ],
          "name": "stderr"
        },
        {
          "output_type": "stream",
          "text": [
            "INFO:tensorflow:loss = 0.050397325, step = 245 (0.052 sec)\n"
          ],
          "name": "stdout"
        },
        {
          "output_type": "stream",
          "text": [
            "INFO:tensorflow:loss = 0.050397325, step = 245 (0.052 sec)\n"
          ],
          "name": "stderr"
        },
        {
          "output_type": "stream",
          "text": [
            "INFO:tensorflow:global_step/sec: 20.3206\n"
          ],
          "name": "stdout"
        },
        {
          "output_type": "stream",
          "text": [
            "INFO:tensorflow:global_step/sec: 20.3206\n"
          ],
          "name": "stderr"
        },
        {
          "output_type": "stream",
          "text": [
            "INFO:tensorflow:loss = 0.016289242, step = 246 (0.038 sec)\n"
          ],
          "name": "stdout"
        },
        {
          "output_type": "stream",
          "text": [
            "INFO:tensorflow:loss = 0.016289242, step = 246 (0.038 sec)\n"
          ],
          "name": "stderr"
        },
        {
          "output_type": "stream",
          "text": [
            "INFO:tensorflow:global_step/sec: 29.9102\n"
          ],
          "name": "stdout"
        },
        {
          "output_type": "stream",
          "text": [
            "INFO:tensorflow:global_step/sec: 29.9102\n"
          ],
          "name": "stderr"
        },
        {
          "output_type": "stream",
          "text": [
            "INFO:tensorflow:loss = 0.004960591, step = 247 (0.036 sec)\n"
          ],
          "name": "stdout"
        },
        {
          "output_type": "stream",
          "text": [
            "INFO:tensorflow:loss = 0.004960591, step = 247 (0.036 sec)\n"
          ],
          "name": "stderr"
        },
        {
          "output_type": "stream",
          "text": [
            "INFO:tensorflow:global_step/sec: 33.0823\n"
          ],
          "name": "stdout"
        },
        {
          "output_type": "stream",
          "text": [
            "INFO:tensorflow:global_step/sec: 33.0823\n"
          ],
          "name": "stderr"
        },
        {
          "output_type": "stream",
          "text": [
            "INFO:tensorflow:loss = 0.015362747, step = 248 (0.034 sec)\n"
          ],
          "name": "stdout"
        },
        {
          "output_type": "stream",
          "text": [
            "INFO:tensorflow:loss = 0.015362747, step = 248 (0.034 sec)\n"
          ],
          "name": "stderr"
        },
        {
          "output_type": "stream",
          "text": [
            "INFO:tensorflow:global_step/sec: 23.5972\n"
          ],
          "name": "stdout"
        },
        {
          "output_type": "stream",
          "text": [
            "INFO:tensorflow:global_step/sec: 23.5972\n"
          ],
          "name": "stderr"
        },
        {
          "output_type": "stream",
          "text": [
            "INFO:tensorflow:loss = 0.012005605, step = 249 (0.040 sec)\n"
          ],
          "name": "stdout"
        },
        {
          "output_type": "stream",
          "text": [
            "INFO:tensorflow:loss = 0.012005605, step = 249 (0.040 sec)\n"
          ],
          "name": "stderr"
        },
        {
          "output_type": "stream",
          "text": [
            "INFO:tensorflow:global_step/sec: 25.0613\n"
          ],
          "name": "stdout"
        },
        {
          "output_type": "stream",
          "text": [
            "INFO:tensorflow:global_step/sec: 25.0613\n"
          ],
          "name": "stderr"
        },
        {
          "output_type": "stream",
          "text": [
            "INFO:tensorflow:loss = 0.01578096, step = 250 (0.044 sec)\n"
          ],
          "name": "stdout"
        },
        {
          "output_type": "stream",
          "text": [
            "INFO:tensorflow:loss = 0.01578096, step = 250 (0.044 sec)\n"
          ],
          "name": "stderr"
        },
        {
          "output_type": "stream",
          "text": [
            "INFO:tensorflow:global_step = 250, loss = 0.01578096 (0.453 sec)\n"
          ],
          "name": "stdout"
        },
        {
          "output_type": "stream",
          "text": [
            "INFO:tensorflow:global_step = 250, loss = 0.01578096 (0.453 sec)\n"
          ],
          "name": "stderr"
        },
        {
          "output_type": "stream",
          "text": [
            "INFO:tensorflow:global_step/sec: 21.8312\n"
          ],
          "name": "stdout"
        },
        {
          "output_type": "stream",
          "text": [
            "INFO:tensorflow:global_step/sec: 21.8312\n"
          ],
          "name": "stderr"
        },
        {
          "output_type": "stream",
          "text": [
            "INFO:tensorflow:loss = 0.008182914, step = 251 (0.040 sec)\n"
          ],
          "name": "stdout"
        },
        {
          "output_type": "stream",
          "text": [
            "INFO:tensorflow:loss = 0.008182914, step = 251 (0.040 sec)\n"
          ],
          "name": "stderr"
        },
        {
          "output_type": "stream",
          "text": [
            "INFO:tensorflow:global_step/sec: 31.5603\n"
          ],
          "name": "stdout"
        },
        {
          "output_type": "stream",
          "text": [
            "INFO:tensorflow:global_step/sec: 31.5603\n"
          ],
          "name": "stderr"
        },
        {
          "output_type": "stream",
          "text": [
            "INFO:tensorflow:loss = 0.0057972716, step = 252 (0.037 sec)\n"
          ],
          "name": "stdout"
        },
        {
          "output_type": "stream",
          "text": [
            "INFO:tensorflow:loss = 0.0057972716, step = 252 (0.037 sec)\n"
          ],
          "name": "stderr"
        },
        {
          "output_type": "stream",
          "text": [
            "INFO:tensorflow:global_step/sec: 24.7161\n"
          ],
          "name": "stdout"
        },
        {
          "output_type": "stream",
          "text": [
            "INFO:tensorflow:global_step/sec: 24.7161\n"
          ],
          "name": "stderr"
        },
        {
          "output_type": "stream",
          "text": [
            "INFO:tensorflow:loss = 0.008986638, step = 253 (0.038 sec)\n"
          ],
          "name": "stdout"
        },
        {
          "output_type": "stream",
          "text": [
            "INFO:tensorflow:loss = 0.008986638, step = 253 (0.038 sec)\n"
          ],
          "name": "stderr"
        },
        {
          "output_type": "stream",
          "text": [
            "INFO:tensorflow:global_step/sec: 20.712\n"
          ],
          "name": "stdout"
        },
        {
          "output_type": "stream",
          "text": [
            "INFO:tensorflow:global_step/sec: 20.712\n"
          ],
          "name": "stderr"
        },
        {
          "output_type": "stream",
          "text": [
            "INFO:tensorflow:loss = 0.020459916, step = 254 (0.047 sec)\n"
          ],
          "name": "stdout"
        },
        {
          "output_type": "stream",
          "text": [
            "INFO:tensorflow:loss = 0.020459916, step = 254 (0.047 sec)\n"
          ],
          "name": "stderr"
        },
        {
          "output_type": "stream",
          "text": [
            "INFO:tensorflow:global_step/sec: 30.8727\n"
          ],
          "name": "stdout"
        },
        {
          "output_type": "stream",
          "text": [
            "INFO:tensorflow:global_step/sec: 30.8727\n"
          ],
          "name": "stderr"
        },
        {
          "output_type": "stream",
          "text": [
            "INFO:tensorflow:loss = 0.011794869, step = 255 (0.040 sec)\n"
          ],
          "name": "stdout"
        },
        {
          "output_type": "stream",
          "text": [
            "INFO:tensorflow:loss = 0.011794869, step = 255 (0.040 sec)\n"
          ],
          "name": "stderr"
        },
        {
          "output_type": "stream",
          "text": [
            "INFO:tensorflow:global_step/sec: 21.1512\n"
          ],
          "name": "stdout"
        },
        {
          "output_type": "stream",
          "text": [
            "INFO:tensorflow:global_step/sec: 21.1512\n"
          ],
          "name": "stderr"
        },
        {
          "output_type": "stream",
          "text": [
            "INFO:tensorflow:loss = 0.021891696, step = 256 (0.041 sec)\n"
          ],
          "name": "stdout"
        },
        {
          "output_type": "stream",
          "text": [
            "INFO:tensorflow:loss = 0.021891696, step = 256 (0.041 sec)\n"
          ],
          "name": "stderr"
        },
        {
          "output_type": "stream",
          "text": [
            "INFO:tensorflow:global_step/sec: 25.7343\n"
          ],
          "name": "stdout"
        },
        {
          "output_type": "stream",
          "text": [
            "INFO:tensorflow:global_step/sec: 25.7343\n"
          ],
          "name": "stderr"
        },
        {
          "output_type": "stream",
          "text": [
            "INFO:tensorflow:loss = 0.033128094, step = 257 (0.042 sec)\n"
          ],
          "name": "stdout"
        },
        {
          "output_type": "stream",
          "text": [
            "INFO:tensorflow:loss = 0.033128094, step = 257 (0.042 sec)\n"
          ],
          "name": "stderr"
        },
        {
          "output_type": "stream",
          "text": [
            "INFO:tensorflow:global_step/sec: 28.8106\n"
          ],
          "name": "stdout"
        },
        {
          "output_type": "stream",
          "text": [
            "INFO:tensorflow:global_step/sec: 28.8106\n"
          ],
          "name": "stderr"
        },
        {
          "output_type": "stream",
          "text": [
            "INFO:tensorflow:loss = 0.016686605, step = 258 (0.030 sec)\n"
          ],
          "name": "stdout"
        },
        {
          "output_type": "stream",
          "text": [
            "INFO:tensorflow:loss = 0.016686605, step = 258 (0.030 sec)\n"
          ],
          "name": "stderr"
        },
        {
          "output_type": "stream",
          "text": [
            "INFO:tensorflow:global_step/sec: 24.364\n"
          ],
          "name": "stdout"
        },
        {
          "output_type": "stream",
          "text": [
            "INFO:tensorflow:global_step/sec: 24.364\n"
          ],
          "name": "stderr"
        },
        {
          "output_type": "stream",
          "text": [
            "INFO:tensorflow:loss = 0.017480163, step = 259 (0.044 sec)\n"
          ],
          "name": "stdout"
        },
        {
          "output_type": "stream",
          "text": [
            "INFO:tensorflow:loss = 0.017480163, step = 259 (0.044 sec)\n"
          ],
          "name": "stderr"
        },
        {
          "output_type": "stream",
          "text": [
            "INFO:tensorflow:global_step/sec: 22.5994\n"
          ],
          "name": "stdout"
        },
        {
          "output_type": "stream",
          "text": [
            "INFO:tensorflow:global_step/sec: 22.5994\n"
          ],
          "name": "stderr"
        },
        {
          "output_type": "stream",
          "text": [
            "INFO:tensorflow:loss = 0.008288528, step = 260 (0.041 sec)\n"
          ],
          "name": "stdout"
        },
        {
          "output_type": "stream",
          "text": [
            "INFO:tensorflow:loss = 0.008288528, step = 260 (0.041 sec)\n"
          ],
          "name": "stderr"
        },
        {
          "output_type": "stream",
          "text": [
            "INFO:tensorflow:global_step = 260, loss = 0.008288528 (0.401 sec)\n"
          ],
          "name": "stdout"
        },
        {
          "output_type": "stream",
          "text": [
            "INFO:tensorflow:global_step = 260, loss = 0.008288528 (0.401 sec)\n"
          ],
          "name": "stderr"
        },
        {
          "output_type": "stream",
          "text": [
            "INFO:tensorflow:global_step/sec: 25.4988\n"
          ],
          "name": "stdout"
        },
        {
          "output_type": "stream",
          "text": [
            "INFO:tensorflow:global_step/sec: 25.4988\n"
          ],
          "name": "stderr"
        },
        {
          "output_type": "stream",
          "text": [
            "INFO:tensorflow:loss = 0.016492333, step = 261 (0.040 sec)\n"
          ],
          "name": "stdout"
        },
        {
          "output_type": "stream",
          "text": [
            "INFO:tensorflow:loss = 0.016492333, step = 261 (0.040 sec)\n"
          ],
          "name": "stderr"
        },
        {
          "output_type": "stream",
          "text": [
            "INFO:tensorflow:global_step/sec: 28.6226\n"
          ],
          "name": "stdout"
        },
        {
          "output_type": "stream",
          "text": [
            "INFO:tensorflow:global_step/sec: 28.6226\n"
          ],
          "name": "stderr"
        },
        {
          "output_type": "stream",
          "text": [
            "INFO:tensorflow:loss = 0.015041186, step = 262 (0.039 sec)\n"
          ],
          "name": "stdout"
        },
        {
          "output_type": "stream",
          "text": [
            "INFO:tensorflow:loss = 0.015041186, step = 262 (0.039 sec)\n"
          ],
          "name": "stderr"
        },
        {
          "output_type": "stream",
          "text": [
            "INFO:tensorflow:global_step/sec: 25.5983\n"
          ],
          "name": "stdout"
        },
        {
          "output_type": "stream",
          "text": [
            "INFO:tensorflow:global_step/sec: 25.5983\n"
          ],
          "name": "stderr"
        },
        {
          "output_type": "stream",
          "text": [
            "INFO:tensorflow:loss = 0.025167705, step = 263 (0.033 sec)\n"
          ],
          "name": "stdout"
        },
        {
          "output_type": "stream",
          "text": [
            "INFO:tensorflow:loss = 0.025167705, step = 263 (0.033 sec)\n"
          ],
          "name": "stderr"
        },
        {
          "output_type": "stream",
          "text": [
            "INFO:tensorflow:global_step/sec: 27.9589\n"
          ],
          "name": "stdout"
        },
        {
          "output_type": "stream",
          "text": [
            "INFO:tensorflow:global_step/sec: 27.9589\n"
          ],
          "name": "stderr"
        },
        {
          "output_type": "stream",
          "text": [
            "INFO:tensorflow:loss = 0.010890281, step = 264 (0.044 sec)\n"
          ],
          "name": "stdout"
        },
        {
          "output_type": "stream",
          "text": [
            "INFO:tensorflow:loss = 0.010890281, step = 264 (0.044 sec)\n"
          ],
          "name": "stderr"
        },
        {
          "output_type": "stream",
          "text": [
            "INFO:tensorflow:global_step/sec: 24.8565\n"
          ],
          "name": "stdout"
        },
        {
          "output_type": "stream",
          "text": [
            "INFO:tensorflow:global_step/sec: 24.8565\n"
          ],
          "name": "stderr"
        },
        {
          "output_type": "stream",
          "text": [
            "INFO:tensorflow:loss = 0.07768826, step = 265 (0.031 sec)\n"
          ],
          "name": "stdout"
        },
        {
          "output_type": "stream",
          "text": [
            "INFO:tensorflow:loss = 0.07768826, step = 265 (0.031 sec)\n"
          ],
          "name": "stderr"
        },
        {
          "output_type": "stream",
          "text": [
            "INFO:tensorflow:global_step/sec: 19.9647\n"
          ],
          "name": "stdout"
        },
        {
          "output_type": "stream",
          "text": [
            "INFO:tensorflow:global_step/sec: 19.9647\n"
          ],
          "name": "stderr"
        },
        {
          "output_type": "stream",
          "text": [
            "INFO:tensorflow:loss = 0.016584866, step = 266 (0.051 sec)\n"
          ],
          "name": "stdout"
        },
        {
          "output_type": "stream",
          "text": [
            "INFO:tensorflow:loss = 0.016584866, step = 266 (0.051 sec)\n"
          ],
          "name": "stderr"
        },
        {
          "output_type": "stream",
          "text": [
            "INFO:tensorflow:global_step/sec: 27.0873\n"
          ],
          "name": "stdout"
        },
        {
          "output_type": "stream",
          "text": [
            "INFO:tensorflow:global_step/sec: 27.0873\n"
          ],
          "name": "stderr"
        },
        {
          "output_type": "stream",
          "text": [
            "INFO:tensorflow:loss = 0.011942802, step = 267 (0.037 sec)\n"
          ],
          "name": "stdout"
        },
        {
          "output_type": "stream",
          "text": [
            "INFO:tensorflow:loss = 0.011942802, step = 267 (0.037 sec)\n"
          ],
          "name": "stderr"
        },
        {
          "output_type": "stream",
          "text": [
            "INFO:tensorflow:global_step/sec: 23.8872\n"
          ],
          "name": "stdout"
        },
        {
          "output_type": "stream",
          "text": [
            "INFO:tensorflow:global_step/sec: 23.8872\n"
          ],
          "name": "stderr"
        },
        {
          "output_type": "stream",
          "text": [
            "INFO:tensorflow:loss = 0.0055907317, step = 268 (0.041 sec)\n"
          ],
          "name": "stdout"
        },
        {
          "output_type": "stream",
          "text": [
            "INFO:tensorflow:loss = 0.0055907317, step = 268 (0.041 sec)\n"
          ],
          "name": "stderr"
        },
        {
          "output_type": "stream",
          "text": [
            "INFO:tensorflow:Saving checkpoints for 270 into output/model.ckpt.\n"
          ],
          "name": "stdout"
        },
        {
          "output_type": "stream",
          "text": [
            "INFO:tensorflow:Saving checkpoints for 270 into output/model.ckpt.\n"
          ],
          "name": "stderr"
        },
        {
          "output_type": "stream",
          "text": [
            "INFO:tensorflow:Calling model_fn.\n"
          ],
          "name": "stdout"
        },
        {
          "output_type": "stream",
          "text": [
            "INFO:tensorflow:Calling model_fn.\n"
          ],
          "name": "stderr"
        },
        {
          "output_type": "stream",
          "text": [
            "INFO:tensorflow:Done calling model_fn.\n"
          ],
          "name": "stdout"
        },
        {
          "output_type": "stream",
          "text": [
            "INFO:tensorflow:Done calling model_fn.\n"
          ],
          "name": "stderr"
        },
        {
          "output_type": "stream",
          "text": [
            "INFO:tensorflow:Starting evaluation at 2020-08-21T09:13:09Z\n"
          ],
          "name": "stdout"
        },
        {
          "output_type": "stream",
          "text": [
            "INFO:tensorflow:Starting evaluation at 2020-08-21T09:13:09Z\n"
          ],
          "name": "stderr"
        },
        {
          "output_type": "stream",
          "text": [
            "INFO:tensorflow:Graph was finalized.\n"
          ],
          "name": "stdout"
        },
        {
          "output_type": "stream",
          "text": [
            "INFO:tensorflow:Graph was finalized.\n"
          ],
          "name": "stderr"
        },
        {
          "output_type": "stream",
          "text": [
            "INFO:tensorflow:Restoring parameters from output/model.ckpt-270\n"
          ],
          "name": "stdout"
        },
        {
          "output_type": "stream",
          "text": [
            "INFO:tensorflow:Restoring parameters from output/model.ckpt-270\n"
          ],
          "name": "stderr"
        },
        {
          "output_type": "stream",
          "text": [
            "INFO:tensorflow:Running local_init_op.\n"
          ],
          "name": "stdout"
        },
        {
          "output_type": "stream",
          "text": [
            "INFO:tensorflow:Running local_init_op.\n"
          ],
          "name": "stderr"
        },
        {
          "output_type": "stream",
          "text": [
            "INFO:tensorflow:Done running local_init_op.\n"
          ],
          "name": "stdout"
        },
        {
          "output_type": "stream",
          "text": [
            "INFO:tensorflow:Done running local_init_op.\n"
          ],
          "name": "stderr"
        },
        {
          "output_type": "stream",
          "text": [
            "INFO:tensorflow:Finished evaluation at 2020-08-21-09:13:10\n"
          ],
          "name": "stdout"
        },
        {
          "output_type": "stream",
          "text": [
            "INFO:tensorflow:Finished evaluation at 2020-08-21-09:13:10\n"
          ],
          "name": "stderr"
        },
        {
          "output_type": "stream",
          "text": [
            "INFO:tensorflow:Saving dict for global step 270: global_step = 270, loss = 0.067013524, metric/accuracy = 0.98049194, metric/confusion_matrix = [[184   0   1   0   1   0]\n",
            " [  0 200   0   0   0   0]\n",
            " [  0   1 232   0   1   0]\n",
            " [  0   0   0 184   0   0]\n",
            " [  1   0   1   1 176   5]\n",
            " [  0   0   1   2   8 180]]\n"
          ],
          "name": "stdout"
        },
        {
          "output_type": "stream",
          "text": [
            "INFO:tensorflow:Saving dict for global step 270: global_step = 270, loss = 0.067013524, metric/accuracy = 0.98049194, metric/confusion_matrix = [[184   0   1   0   1   0]\n",
            " [  0 200   0   0   0   0]\n",
            " [  0   1 232   0   1   0]\n",
            " [  0   0   0 184   0   0]\n",
            " [  1   0   1   1 176   5]\n",
            " [  0   0   1   2   8 180]]\n"
          ],
          "name": "stderr"
        },
        {
          "output_type": "stream",
          "text": [
            "INFO:tensorflow:Summary for np.ndarray is not visible in Tensorboard by default. Consider using a Tensorboard plugin for visualization (see https://github.com/tensorflow/tensorboard-plugin-example/blob/master/README.md for more information).\n"
          ],
          "name": "stdout"
        },
        {
          "output_type": "stream",
          "text": [
            "INFO:tensorflow:Summary for np.ndarray is not visible in Tensorboard by default. Consider using a Tensorboard plugin for visualization (see https://github.com/tensorflow/tensorboard-plugin-example/blob/master/README.md for more information).\n"
          ],
          "name": "stderr"
        },
        {
          "output_type": "stream",
          "text": [
            "INFO:tensorflow:Saving 'checkpoint_path' summary for global step 270: output/model.ckpt-270\n"
          ],
          "name": "stdout"
        },
        {
          "output_type": "stream",
          "text": [
            "INFO:tensorflow:Saving 'checkpoint_path' summary for global step 270: output/model.ckpt-270\n"
          ],
          "name": "stderr"
        },
        {
          "output_type": "stream",
          "text": [
            "INFO:tensorflow:## Step 270\n"
          ],
          "name": "stdout"
        },
        {
          "output_type": "stream",
          "text": [
            "INFO:tensorflow:## Step 270\n"
          ],
          "name": "stderr"
        },
        {
          "output_type": "stream",
          "text": [
            "INFO:tensorflow:loss : 0.06701352447271347\n"
          ],
          "name": "stdout"
        },
        {
          "output_type": "stream",
          "text": [
            "INFO:tensorflow:loss : 0.06701352447271347\n"
          ],
          "name": "stderr"
        },
        {
          "output_type": "stream",
          "text": [
            "INFO:tensorflow:[[184   0   1   0   1   0]\n",
            " [  0 200   0   0   0   0]\n",
            " [  0   1 232   0   1   0]\n",
            " [  0   0   0 184   0   0]\n",
            " [  1   0   1   1 176   5]\n",
            " [  0   0   1   2   8 180]] : \n"
          ],
          "name": "stdout"
        },
        {
          "output_type": "stream",
          "text": [
            "INFO:tensorflow:[[184   0   1   0   1   0]\n",
            " [  0 200   0   0   0   0]\n",
            " [  0   1 232   0   1   0]\n",
            " [  0   0   0 184   0   0]\n",
            " [  1   0   1   1 176   5]\n",
            " [  0   0   1   2   8 180]] : \n"
          ],
          "name": "stderr"
        },
        {
          "output_type": "stream",
          "text": [
            "INFO:tensorflow:[[184   0   1   0   1   0]\n",
            " [  0 200   0   0   0   0]\n",
            " [  0   1 232   0   1   0]\n",
            " [  0   0   0 184   0   0]\n",
            " [  1   0   1   1 176   5]\n",
            " [  0   0   1   2   8 180]]\n"
          ],
          "name": "stdout"
        },
        {
          "output_type": "stream",
          "text": [
            "INFO:tensorflow:[[184   0   1   0   1   0]\n",
            " [  0 200   0   0   0   0]\n",
            " [  0   1 232   0   1   0]\n",
            " [  0   0   0 184   0   0]\n",
            " [  1   0   1   1 176   5]\n",
            " [  0   0   1   2   8 180]]\n"
          ],
          "name": "stderr"
        },
        {
          "output_type": "stream",
          "text": [
            "INFO:tensorflow:Checking checkpoint model.ckpt-270\n"
          ],
          "name": "stdout"
        },
        {
          "output_type": "stream",
          "text": [
            "INFO:tensorflow:Checking checkpoint model.ckpt-270\n"
          ],
          "name": "stderr"
        },
        {
          "output_type": "stream",
          "text": [
            "INFO:tensorflow:skipping checkpoint model.ckpt-270 with metric/accuracy = 0.9804919362068176\n"
          ],
          "name": "stdout"
        },
        {
          "output_type": "stream",
          "text": [
            "INFO:tensorflow:skipping checkpoint model.ckpt-270 with metric/accuracy = 0.9804919362068176\n"
          ],
          "name": "stderr"
        },
        {
          "output_type": "stream",
          "text": [
            "INFO:tensorflow:global_step/sec: 0.623125\n"
          ],
          "name": "stdout"
        },
        {
          "output_type": "stream",
          "text": [
            "INFO:tensorflow:global_step/sec: 0.623125\n"
          ],
          "name": "stderr"
        },
        {
          "output_type": "stream",
          "text": [
            "INFO:tensorflow:loss = 0.08562482, step = 269 (1.604 sec)\n"
          ],
          "name": "stdout"
        },
        {
          "output_type": "stream",
          "text": [
            "INFO:tensorflow:loss = 0.08562482, step = 269 (1.604 sec)\n"
          ],
          "name": "stderr"
        },
        {
          "output_type": "stream",
          "text": [
            "INFO:tensorflow:global_step/sec: 30.3162\n"
          ],
          "name": "stdout"
        },
        {
          "output_type": "stream",
          "text": [
            "INFO:tensorflow:global_step/sec: 30.3162\n"
          ],
          "name": "stderr"
        },
        {
          "output_type": "stream",
          "text": [
            "INFO:tensorflow:loss = 0.01046607, step = 270 (0.035 sec)\n"
          ],
          "name": "stdout"
        },
        {
          "output_type": "stream",
          "text": [
            "INFO:tensorflow:loss = 0.01046607, step = 270 (0.035 sec)\n"
          ],
          "name": "stderr"
        },
        {
          "output_type": "stream",
          "text": [
            "INFO:tensorflow:global_step = 270, loss = 0.01046607 (1.953 sec)\n"
          ],
          "name": "stdout"
        },
        {
          "output_type": "stream",
          "text": [
            "INFO:tensorflow:global_step = 270, loss = 0.01046607 (1.953 sec)\n"
          ],
          "name": "stderr"
        },
        {
          "output_type": "stream",
          "text": [
            "INFO:tensorflow:global_step/sec: 18.9224\n"
          ],
          "name": "stdout"
        },
        {
          "output_type": "stream",
          "text": [
            "INFO:tensorflow:global_step/sec: 18.9224\n"
          ],
          "name": "stderr"
        },
        {
          "output_type": "stream",
          "text": [
            "INFO:tensorflow:loss = 0.012242032, step = 271 (0.054 sec)\n"
          ],
          "name": "stdout"
        },
        {
          "output_type": "stream",
          "text": [
            "INFO:tensorflow:loss = 0.012242032, step = 271 (0.054 sec)\n"
          ],
          "name": "stderr"
        },
        {
          "output_type": "stream",
          "text": [
            "INFO:tensorflow:global_step/sec: 19.3232\n"
          ],
          "name": "stdout"
        },
        {
          "output_type": "stream",
          "text": [
            "INFO:tensorflow:global_step/sec: 19.3232\n"
          ],
          "name": "stderr"
        },
        {
          "output_type": "stream",
          "text": [
            "INFO:tensorflow:loss = 0.009100653, step = 272 (0.052 sec)\n"
          ],
          "name": "stdout"
        },
        {
          "output_type": "stream",
          "text": [
            "INFO:tensorflow:loss = 0.009100653, step = 272 (0.052 sec)\n"
          ],
          "name": "stderr"
        },
        {
          "output_type": "stream",
          "text": [
            "INFO:tensorflow:global_step/sec: 23.0302\n"
          ],
          "name": "stdout"
        },
        {
          "output_type": "stream",
          "text": [
            "INFO:tensorflow:global_step/sec: 23.0302\n"
          ],
          "name": "stderr"
        },
        {
          "output_type": "stream",
          "text": [
            "INFO:tensorflow:loss = 0.10102932, step = 273 (0.044 sec)\n"
          ],
          "name": "stdout"
        },
        {
          "output_type": "stream",
          "text": [
            "INFO:tensorflow:loss = 0.10102932, step = 273 (0.044 sec)\n"
          ],
          "name": "stderr"
        },
        {
          "output_type": "stream",
          "text": [
            "INFO:tensorflow:global_step/sec: 27.7553\n"
          ],
          "name": "stdout"
        },
        {
          "output_type": "stream",
          "text": [
            "INFO:tensorflow:global_step/sec: 27.7553\n"
          ],
          "name": "stderr"
        },
        {
          "output_type": "stream",
          "text": [
            "INFO:tensorflow:loss = 0.011316898, step = 274 (0.037 sec)\n"
          ],
          "name": "stdout"
        },
        {
          "output_type": "stream",
          "text": [
            "INFO:tensorflow:loss = 0.011316898, step = 274 (0.037 sec)\n"
          ],
          "name": "stderr"
        },
        {
          "output_type": "stream",
          "text": [
            "INFO:tensorflow:global_step/sec: 27.2541\n"
          ],
          "name": "stdout"
        },
        {
          "output_type": "stream",
          "text": [
            "INFO:tensorflow:global_step/sec: 27.2541\n"
          ],
          "name": "stderr"
        },
        {
          "output_type": "stream",
          "text": [
            "INFO:tensorflow:loss = 0.020422647, step = 275 (0.038 sec)\n"
          ],
          "name": "stdout"
        },
        {
          "output_type": "stream",
          "text": [
            "INFO:tensorflow:loss = 0.020422647, step = 275 (0.038 sec)\n"
          ],
          "name": "stderr"
        },
        {
          "output_type": "stream",
          "text": [
            "INFO:tensorflow:global_step/sec: 24.8475\n"
          ],
          "name": "stdout"
        },
        {
          "output_type": "stream",
          "text": [
            "INFO:tensorflow:global_step/sec: 24.8475\n"
          ],
          "name": "stderr"
        },
        {
          "output_type": "stream",
          "text": [
            "INFO:tensorflow:loss = 0.025603766, step = 276 (0.036 sec)\n"
          ],
          "name": "stdout"
        },
        {
          "output_type": "stream",
          "text": [
            "INFO:tensorflow:loss = 0.025603766, step = 276 (0.036 sec)\n"
          ],
          "name": "stderr"
        },
        {
          "output_type": "stream",
          "text": [
            "INFO:tensorflow:global_step/sec: 28.4895\n"
          ],
          "name": "stdout"
        },
        {
          "output_type": "stream",
          "text": [
            "INFO:tensorflow:global_step/sec: 28.4895\n"
          ],
          "name": "stderr"
        },
        {
          "output_type": "stream",
          "text": [
            "INFO:tensorflow:loss = 0.04012582, step = 277 (0.040 sec)\n"
          ],
          "name": "stdout"
        },
        {
          "output_type": "stream",
          "text": [
            "INFO:tensorflow:loss = 0.04012582, step = 277 (0.040 sec)\n"
          ],
          "name": "stderr"
        },
        {
          "output_type": "stream",
          "text": [
            "INFO:tensorflow:global_step/sec: 21.7873\n"
          ],
          "name": "stdout"
        },
        {
          "output_type": "stream",
          "text": [
            "INFO:tensorflow:global_step/sec: 21.7873\n"
          ],
          "name": "stderr"
        },
        {
          "output_type": "stream",
          "text": [
            "INFO:tensorflow:loss = 0.030534502, step = 278 (0.043 sec)\n"
          ],
          "name": "stdout"
        },
        {
          "output_type": "stream",
          "text": [
            "INFO:tensorflow:loss = 0.030534502, step = 278 (0.043 sec)\n"
          ],
          "name": "stderr"
        },
        {
          "output_type": "stream",
          "text": [
            "INFO:tensorflow:global_step/sec: 22.2032\n"
          ],
          "name": "stdout"
        },
        {
          "output_type": "stream",
          "text": [
            "INFO:tensorflow:global_step/sec: 22.2032\n"
          ],
          "name": "stderr"
        },
        {
          "output_type": "stream",
          "text": [
            "INFO:tensorflow:loss = 0.010579341, step = 279 (0.044 sec)\n"
          ],
          "name": "stdout"
        },
        {
          "output_type": "stream",
          "text": [
            "INFO:tensorflow:loss = 0.010579341, step = 279 (0.044 sec)\n"
          ],
          "name": "stderr"
        },
        {
          "output_type": "stream",
          "text": [
            "INFO:tensorflow:global_step/sec: 24.8724\n"
          ],
          "name": "stdout"
        },
        {
          "output_type": "stream",
          "text": [
            "INFO:tensorflow:global_step/sec: 24.8724\n"
          ],
          "name": "stderr"
        },
        {
          "output_type": "stream",
          "text": [
            "INFO:tensorflow:loss = 0.007578614, step = 280 (0.044 sec)\n"
          ],
          "name": "stdout"
        },
        {
          "output_type": "stream",
          "text": [
            "INFO:tensorflow:loss = 0.007578614, step = 280 (0.044 sec)\n"
          ],
          "name": "stderr"
        },
        {
          "output_type": "stream",
          "text": [
            "INFO:tensorflow:global_step = 280, loss = 0.007578614 (0.434 sec)\n"
          ],
          "name": "stdout"
        },
        {
          "output_type": "stream",
          "text": [
            "INFO:tensorflow:global_step = 280, loss = 0.007578614 (0.434 sec)\n"
          ],
          "name": "stderr"
        },
        {
          "output_type": "stream",
          "text": [
            "INFO:tensorflow:global_step/sec: 22.0834\n"
          ],
          "name": "stdout"
        },
        {
          "output_type": "stream",
          "text": [
            "INFO:tensorflow:global_step/sec: 22.0834\n"
          ],
          "name": "stderr"
        },
        {
          "output_type": "stream",
          "text": [
            "INFO:tensorflow:loss = 0.019675512, step = 281 (0.044 sec)\n"
          ],
          "name": "stdout"
        },
        {
          "output_type": "stream",
          "text": [
            "INFO:tensorflow:loss = 0.019675512, step = 281 (0.044 sec)\n"
          ],
          "name": "stderr"
        },
        {
          "output_type": "stream",
          "text": [
            "INFO:tensorflow:global_step/sec: 28.1537\n"
          ],
          "name": "stdout"
        },
        {
          "output_type": "stream",
          "text": [
            "INFO:tensorflow:global_step/sec: 28.1537\n"
          ],
          "name": "stderr"
        },
        {
          "output_type": "stream",
          "text": [
            "INFO:tensorflow:loss = 0.016324686, step = 282 (0.033 sec)\n"
          ],
          "name": "stdout"
        },
        {
          "output_type": "stream",
          "text": [
            "INFO:tensorflow:loss = 0.016324686, step = 282 (0.033 sec)\n"
          ],
          "name": "stderr"
        },
        {
          "output_type": "stream",
          "text": [
            "INFO:tensorflow:global_step/sec: 29.0962\n"
          ],
          "name": "stdout"
        },
        {
          "output_type": "stream",
          "text": [
            "INFO:tensorflow:global_step/sec: 29.0962\n"
          ],
          "name": "stderr"
        },
        {
          "output_type": "stream",
          "text": [
            "INFO:tensorflow:loss = 0.020796388, step = 283 (0.036 sec)\n"
          ],
          "name": "stdout"
        },
        {
          "output_type": "stream",
          "text": [
            "INFO:tensorflow:loss = 0.020796388, step = 283 (0.036 sec)\n"
          ],
          "name": "stderr"
        },
        {
          "output_type": "stream",
          "text": [
            "INFO:tensorflow:global_step/sec: 24.333\n"
          ],
          "name": "stdout"
        },
        {
          "output_type": "stream",
          "text": [
            "INFO:tensorflow:global_step/sec: 24.333\n"
          ],
          "name": "stderr"
        },
        {
          "output_type": "stream",
          "text": [
            "INFO:tensorflow:loss = 0.01218083, step = 284 (0.038 sec)\n"
          ],
          "name": "stdout"
        },
        {
          "output_type": "stream",
          "text": [
            "INFO:tensorflow:loss = 0.01218083, step = 284 (0.038 sec)\n"
          ],
          "name": "stderr"
        },
        {
          "output_type": "stream",
          "text": [
            "INFO:tensorflow:global_step/sec: 32.4187\n"
          ],
          "name": "stdout"
        },
        {
          "output_type": "stream",
          "text": [
            "INFO:tensorflow:global_step/sec: 32.4187\n"
          ],
          "name": "stderr"
        },
        {
          "output_type": "stream",
          "text": [
            "INFO:tensorflow:loss = 0.016484464, step = 285 (0.032 sec)\n"
          ],
          "name": "stdout"
        },
        {
          "output_type": "stream",
          "text": [
            "INFO:tensorflow:loss = 0.016484464, step = 285 (0.032 sec)\n"
          ],
          "name": "stderr"
        },
        {
          "output_type": "stream",
          "text": [
            "INFO:tensorflow:global_step/sec: 25.8686\n"
          ],
          "name": "stdout"
        },
        {
          "output_type": "stream",
          "text": [
            "INFO:tensorflow:global_step/sec: 25.8686\n"
          ],
          "name": "stderr"
        },
        {
          "output_type": "stream",
          "text": [
            "INFO:tensorflow:loss = 0.026119377, step = 286 (0.038 sec)\n"
          ],
          "name": "stdout"
        },
        {
          "output_type": "stream",
          "text": [
            "INFO:tensorflow:loss = 0.026119377, step = 286 (0.038 sec)\n"
          ],
          "name": "stderr"
        },
        {
          "output_type": "stream",
          "text": [
            "INFO:tensorflow:global_step/sec: 27.2311\n"
          ],
          "name": "stdout"
        },
        {
          "output_type": "stream",
          "text": [
            "INFO:tensorflow:global_step/sec: 27.2311\n"
          ],
          "name": "stderr"
        },
        {
          "output_type": "stream",
          "text": [
            "INFO:tensorflow:loss = 0.012619506, step = 287 (0.042 sec)\n"
          ],
          "name": "stdout"
        },
        {
          "output_type": "stream",
          "text": [
            "INFO:tensorflow:loss = 0.012619506, step = 287 (0.042 sec)\n"
          ],
          "name": "stderr"
        },
        {
          "output_type": "stream",
          "text": [
            "INFO:tensorflow:global_step/sec: 23.7365\n"
          ],
          "name": "stdout"
        },
        {
          "output_type": "stream",
          "text": [
            "INFO:tensorflow:global_step/sec: 23.7365\n"
          ],
          "name": "stderr"
        },
        {
          "output_type": "stream",
          "text": [
            "INFO:tensorflow:loss = 0.007584175, step = 288 (0.036 sec)\n"
          ],
          "name": "stdout"
        },
        {
          "output_type": "stream",
          "text": [
            "INFO:tensorflow:loss = 0.007584175, step = 288 (0.036 sec)\n"
          ],
          "name": "stderr"
        },
        {
          "output_type": "stream",
          "text": [
            "INFO:tensorflow:global_step/sec: 32.6237\n"
          ],
          "name": "stdout"
        },
        {
          "output_type": "stream",
          "text": [
            "INFO:tensorflow:global_step/sec: 32.6237\n"
          ],
          "name": "stderr"
        },
        {
          "output_type": "stream",
          "text": [
            "INFO:tensorflow:loss = 0.04075586, step = 289 (0.040 sec)\n"
          ],
          "name": "stdout"
        },
        {
          "output_type": "stream",
          "text": [
            "INFO:tensorflow:loss = 0.04075586, step = 289 (0.040 sec)\n"
          ],
          "name": "stderr"
        },
        {
          "output_type": "stream",
          "text": [
            "INFO:tensorflow:global_step/sec: 26.134\n"
          ],
          "name": "stdout"
        },
        {
          "output_type": "stream",
          "text": [
            "INFO:tensorflow:global_step/sec: 26.134\n"
          ],
          "name": "stderr"
        },
        {
          "output_type": "stream",
          "text": [
            "INFO:tensorflow:loss = 0.0068019573, step = 290 (0.030 sec)\n"
          ],
          "name": "stdout"
        },
        {
          "output_type": "stream",
          "text": [
            "INFO:tensorflow:loss = 0.0068019573, step = 290 (0.030 sec)\n"
          ],
          "name": "stderr"
        },
        {
          "output_type": "stream",
          "text": [
            "INFO:tensorflow:global_step = 290, loss = 0.0068019573 (0.370 sec)\n"
          ],
          "name": "stdout"
        },
        {
          "output_type": "stream",
          "text": [
            "INFO:tensorflow:global_step = 290, loss = 0.0068019573 (0.370 sec)\n"
          ],
          "name": "stderr"
        },
        {
          "output_type": "stream",
          "text": [
            "INFO:tensorflow:global_step/sec: 21.0237\n"
          ],
          "name": "stdout"
        },
        {
          "output_type": "stream",
          "text": [
            "INFO:tensorflow:global_step/sec: 21.0237\n"
          ],
          "name": "stderr"
        },
        {
          "output_type": "stream",
          "text": [
            "INFO:tensorflow:loss = 0.013767397, step = 291 (0.047 sec)\n"
          ],
          "name": "stdout"
        },
        {
          "output_type": "stream",
          "text": [
            "INFO:tensorflow:loss = 0.013767397, step = 291 (0.047 sec)\n"
          ],
          "name": "stderr"
        },
        {
          "output_type": "stream",
          "text": [
            "INFO:tensorflow:global_step/sec: 27.5968\n"
          ],
          "name": "stdout"
        },
        {
          "output_type": "stream",
          "text": [
            "INFO:tensorflow:global_step/sec: 27.5968\n"
          ],
          "name": "stderr"
        },
        {
          "output_type": "stream",
          "text": [
            "INFO:tensorflow:loss = 0.011708237, step = 292 (0.046 sec)\n"
          ],
          "name": "stdout"
        },
        {
          "output_type": "stream",
          "text": [
            "INFO:tensorflow:loss = 0.011708237, step = 292 (0.046 sec)\n"
          ],
          "name": "stderr"
        },
        {
          "output_type": "stream",
          "text": [
            "INFO:tensorflow:global_step/sec: 20.6781\n"
          ],
          "name": "stdout"
        },
        {
          "output_type": "stream",
          "text": [
            "INFO:tensorflow:global_step/sec: 20.6781\n"
          ],
          "name": "stderr"
        },
        {
          "output_type": "stream",
          "text": [
            "INFO:tensorflow:loss = 0.0058786185, step = 293 (0.050 sec)\n"
          ],
          "name": "stdout"
        },
        {
          "output_type": "stream",
          "text": [
            "INFO:tensorflow:loss = 0.0058786185, step = 293 (0.050 sec)\n"
          ],
          "name": "stderr"
        },
        {
          "output_type": "stream",
          "text": [
            "INFO:tensorflow:global_step/sec: 25.1516\n"
          ],
          "name": "stdout"
        },
        {
          "output_type": "stream",
          "text": [
            "INFO:tensorflow:global_step/sec: 25.1516\n"
          ],
          "name": "stderr"
        },
        {
          "output_type": "stream",
          "text": [
            "INFO:tensorflow:loss = 0.035344467, step = 294 (0.034 sec)\n"
          ],
          "name": "stdout"
        },
        {
          "output_type": "stream",
          "text": [
            "INFO:tensorflow:loss = 0.035344467, step = 294 (0.034 sec)\n"
          ],
          "name": "stderr"
        },
        {
          "output_type": "stream",
          "text": [
            "INFO:tensorflow:global_step/sec: 21.2339\n"
          ],
          "name": "stdout"
        },
        {
          "output_type": "stream",
          "text": [
            "INFO:tensorflow:global_step/sec: 21.2339\n"
          ],
          "name": "stderr"
        },
        {
          "output_type": "stream",
          "text": [
            "INFO:tensorflow:loss = 0.12360191, step = 295 (0.040 sec)\n"
          ],
          "name": "stdout"
        },
        {
          "output_type": "stream",
          "text": [
            "INFO:tensorflow:loss = 0.12360191, step = 295 (0.040 sec)\n"
          ],
          "name": "stderr"
        },
        {
          "output_type": "stream",
          "text": [
            "INFO:tensorflow:global_step/sec: 28.879\n"
          ],
          "name": "stdout"
        },
        {
          "output_type": "stream",
          "text": [
            "INFO:tensorflow:global_step/sec: 28.879\n"
          ],
          "name": "stderr"
        },
        {
          "output_type": "stream",
          "text": [
            "INFO:tensorflow:loss = 0.006366824, step = 296 (0.034 sec)\n"
          ],
          "name": "stdout"
        },
        {
          "output_type": "stream",
          "text": [
            "INFO:tensorflow:loss = 0.006366824, step = 296 (0.034 sec)\n"
          ],
          "name": "stderr"
        },
        {
          "output_type": "stream",
          "text": [
            "INFO:tensorflow:global_step/sec: 33.3835\n"
          ],
          "name": "stdout"
        },
        {
          "output_type": "stream",
          "text": [
            "INFO:tensorflow:global_step/sec: 33.3835\n"
          ],
          "name": "stderr"
        },
        {
          "output_type": "stream",
          "text": [
            "INFO:tensorflow:loss = 0.056690685, step = 297 (0.036 sec)\n"
          ],
          "name": "stdout"
        },
        {
          "output_type": "stream",
          "text": [
            "INFO:tensorflow:loss = 0.056690685, step = 297 (0.036 sec)\n"
          ],
          "name": "stderr"
        },
        {
          "output_type": "stream",
          "text": [
            "INFO:tensorflow:global_step/sec: 25.3403\n"
          ],
          "name": "stdout"
        },
        {
          "output_type": "stream",
          "text": [
            "INFO:tensorflow:global_step/sec: 25.3403\n"
          ],
          "name": "stderr"
        },
        {
          "output_type": "stream",
          "text": [
            "INFO:tensorflow:loss = 0.02724113, step = 298 (0.038 sec)\n"
          ],
          "name": "stdout"
        },
        {
          "output_type": "stream",
          "text": [
            "INFO:tensorflow:loss = 0.02724113, step = 298 (0.038 sec)\n"
          ],
          "name": "stderr"
        },
        {
          "output_type": "stream",
          "text": [
            "INFO:tensorflow:Saving checkpoints for 300 into output/model.ckpt.\n"
          ],
          "name": "stdout"
        },
        {
          "output_type": "stream",
          "text": [
            "INFO:tensorflow:Saving checkpoints for 300 into output/model.ckpt.\n"
          ],
          "name": "stderr"
        },
        {
          "output_type": "stream",
          "text": [
            "INFO:tensorflow:Calling model_fn.\n"
          ],
          "name": "stdout"
        },
        {
          "output_type": "stream",
          "text": [
            "INFO:tensorflow:Calling model_fn.\n"
          ],
          "name": "stderr"
        },
        {
          "output_type": "stream",
          "text": [
            "INFO:tensorflow:Done calling model_fn.\n"
          ],
          "name": "stdout"
        },
        {
          "output_type": "stream",
          "text": [
            "INFO:tensorflow:Done calling model_fn.\n"
          ],
          "name": "stderr"
        },
        {
          "output_type": "stream",
          "text": [
            "INFO:tensorflow:Starting evaluation at 2020-08-21T09:13:12Z\n"
          ],
          "name": "stdout"
        },
        {
          "output_type": "stream",
          "text": [
            "INFO:tensorflow:Starting evaluation at 2020-08-21T09:13:12Z\n"
          ],
          "name": "stderr"
        },
        {
          "output_type": "stream",
          "text": [
            "INFO:tensorflow:Graph was finalized.\n"
          ],
          "name": "stdout"
        },
        {
          "output_type": "stream",
          "text": [
            "INFO:tensorflow:Graph was finalized.\n"
          ],
          "name": "stderr"
        },
        {
          "output_type": "stream",
          "text": [
            "INFO:tensorflow:Restoring parameters from output/model.ckpt-300\n"
          ],
          "name": "stdout"
        },
        {
          "output_type": "stream",
          "text": [
            "INFO:tensorflow:Restoring parameters from output/model.ckpt-300\n"
          ],
          "name": "stderr"
        },
        {
          "output_type": "stream",
          "text": [
            "INFO:tensorflow:Running local_init_op.\n"
          ],
          "name": "stdout"
        },
        {
          "output_type": "stream",
          "text": [
            "INFO:tensorflow:Running local_init_op.\n"
          ],
          "name": "stderr"
        },
        {
          "output_type": "stream",
          "text": [
            "INFO:tensorflow:Done running local_init_op.\n"
          ],
          "name": "stdout"
        },
        {
          "output_type": "stream",
          "text": [
            "INFO:tensorflow:Done running local_init_op.\n"
          ],
          "name": "stderr"
        },
        {
          "output_type": "stream",
          "text": [
            "INFO:tensorflow:Finished evaluation at 2020-08-21-09:13:12\n"
          ],
          "name": "stdout"
        },
        {
          "output_type": "stream",
          "text": [
            "INFO:tensorflow:Finished evaluation at 2020-08-21-09:13:12\n"
          ],
          "name": "stderr"
        },
        {
          "output_type": "stream",
          "text": [
            "INFO:tensorflow:Saving dict for global step 300: global_step = 300, loss = 0.06663004, metric/accuracy = 0.98049194, metric/confusion_matrix = [[184   0   1   0   1   0]\n",
            " [  0 200   0   0   0   0]\n",
            " [  0   1 232   0   1   0]\n",
            " [  0   0   0 184   0   0]\n",
            " [  1   0   1   1 176   5]\n",
            " [  0   0   1   2   8 180]]\n"
          ],
          "name": "stdout"
        },
        {
          "output_type": "stream",
          "text": [
            "INFO:tensorflow:Saving dict for global step 300: global_step = 300, loss = 0.06663004, metric/accuracy = 0.98049194, metric/confusion_matrix = [[184   0   1   0   1   0]\n",
            " [  0 200   0   0   0   0]\n",
            " [  0   1 232   0   1   0]\n",
            " [  0   0   0 184   0   0]\n",
            " [  1   0   1   1 176   5]\n",
            " [  0   0   1   2   8 180]]\n"
          ],
          "name": "stderr"
        },
        {
          "output_type": "stream",
          "text": [
            "INFO:tensorflow:Summary for np.ndarray is not visible in Tensorboard by default. Consider using a Tensorboard plugin for visualization (see https://github.com/tensorflow/tensorboard-plugin-example/blob/master/README.md for more information).\n"
          ],
          "name": "stdout"
        },
        {
          "output_type": "stream",
          "text": [
            "INFO:tensorflow:Summary for np.ndarray is not visible in Tensorboard by default. Consider using a Tensorboard plugin for visualization (see https://github.com/tensorflow/tensorboard-plugin-example/blob/master/README.md for more information).\n"
          ],
          "name": "stderr"
        },
        {
          "output_type": "stream",
          "text": [
            "INFO:tensorflow:Saving 'checkpoint_path' summary for global step 300: output/model.ckpt-300\n"
          ],
          "name": "stdout"
        },
        {
          "output_type": "stream",
          "text": [
            "INFO:tensorflow:Saving 'checkpoint_path' summary for global step 300: output/model.ckpt-300\n"
          ],
          "name": "stderr"
        },
        {
          "output_type": "stream",
          "text": [
            "INFO:tensorflow:## Step 300\n"
          ],
          "name": "stdout"
        },
        {
          "output_type": "stream",
          "text": [
            "INFO:tensorflow:## Step 300\n"
          ],
          "name": "stderr"
        },
        {
          "output_type": "stream",
          "text": [
            "INFO:tensorflow:loss : 0.0666300430893898\n"
          ],
          "name": "stdout"
        },
        {
          "output_type": "stream",
          "text": [
            "INFO:tensorflow:loss : 0.0666300430893898\n"
          ],
          "name": "stderr"
        },
        {
          "output_type": "stream",
          "text": [
            "INFO:tensorflow:[[184   0   1   0   1   0]\n",
            " [  0 200   0   0   0   0]\n",
            " [  0   1 232   0   1   0]\n",
            " [  0   0   0 184   0   0]\n",
            " [  1   0   1   1 176   5]\n",
            " [  0   0   1   2   8 180]] : \n"
          ],
          "name": "stdout"
        },
        {
          "output_type": "stream",
          "text": [
            "INFO:tensorflow:[[184   0   1   0   1   0]\n",
            " [  0 200   0   0   0   0]\n",
            " [  0   1 232   0   1   0]\n",
            " [  0   0   0 184   0   0]\n",
            " [  1   0   1   1 176   5]\n",
            " [  0   0   1   2   8 180]] : \n"
          ],
          "name": "stderr"
        },
        {
          "output_type": "stream",
          "text": [
            "INFO:tensorflow:[[184   0   1   0   1   0]\n",
            " [  0 200   0   0   0   0]\n",
            " [  0   1 232   0   1   0]\n",
            " [  0   0   0 184   0   0]\n",
            " [  1   0   1   1 176   5]\n",
            " [  0   0   1   2   8 180]]\n"
          ],
          "name": "stdout"
        },
        {
          "output_type": "stream",
          "text": [
            "INFO:tensorflow:[[184   0   1   0   1   0]\n",
            " [  0 200   0   0   0   0]\n",
            " [  0   1 232   0   1   0]\n",
            " [  0   0   0 184   0   0]\n",
            " [  1   0   1   1 176   5]\n",
            " [  0   0   1   2   8 180]]\n"
          ],
          "name": "stderr"
        },
        {
          "output_type": "stream",
          "text": [
            "INFO:tensorflow:Checking checkpoint model.ckpt-300\n"
          ],
          "name": "stdout"
        },
        {
          "output_type": "stream",
          "text": [
            "INFO:tensorflow:Checking checkpoint model.ckpt-300\n"
          ],
          "name": "stderr"
        },
        {
          "output_type": "stream",
          "text": [
            "INFO:tensorflow:skipping checkpoint model.ckpt-300 with metric/accuracy = 0.9804919362068176\n"
          ],
          "name": "stdout"
        },
        {
          "output_type": "stream",
          "text": [
            "INFO:tensorflow:skipping checkpoint model.ckpt-300 with metric/accuracy = 0.9804919362068176\n"
          ],
          "name": "stderr"
        },
        {
          "output_type": "stream",
          "text": [
            "INFO:tensorflow:global_step/sec: 0.631923\n"
          ],
          "name": "stdout"
        },
        {
          "output_type": "stream",
          "text": [
            "INFO:tensorflow:global_step/sec: 0.631923\n"
          ],
          "name": "stderr"
        },
        {
          "output_type": "stream",
          "text": [
            "INFO:tensorflow:loss = 0.08749862, step = 299 (1.579 sec)\n"
          ],
          "name": "stdout"
        },
        {
          "output_type": "stream",
          "text": [
            "INFO:tensorflow:loss = 0.08749862, step = 299 (1.579 sec)\n"
          ],
          "name": "stderr"
        },
        {
          "output_type": "stream",
          "text": [
            "INFO:tensorflow:Loss for final step: 0.08749862.\n"
          ],
          "name": "stdout"
        },
        {
          "output_type": "stream",
          "text": [
            "INFO:tensorflow:Loss for final step: 0.08749862.\n"
          ],
          "name": "stderr"
        },
        {
          "output_type": "stream",
          "text": [
            "INFO:tensorflow:***** Training finished. *****\n"
          ],
          "name": "stdout"
        },
        {
          "output_type": "stream",
          "text": [
            "INFO:tensorflow:***** Training finished. *****\n"
          ],
          "name": "stderr"
        },
        {
          "output_type": "stream",
          "text": [
            "INFO:tensorflow:Getting executor context info...\n"
          ],
          "name": "stdout"
        },
        {
          "output_type": "stream",
          "text": [
            "INFO:tensorflow:Getting executor context info...\n"
          ],
          "name": "stderr"
        },
        {
          "output_type": "stream",
          "text": [
            "INFO:tensorflow:Initializing RunConfig with distribution strategies.\n"
          ],
          "name": "stdout"
        },
        {
          "output_type": "stream",
          "text": [
            "INFO:tensorflow:Initializing RunConfig with distribution strategies.\n"
          ],
          "name": "stderr"
        },
        {
          "output_type": "stream",
          "text": [
            "INFO:tensorflow:Not using Distribute Coordinator.\n"
          ],
          "name": "stdout"
        },
        {
          "output_type": "stream",
          "text": [
            "INFO:tensorflow:Not using Distribute Coordinator.\n"
          ],
          "name": "stderr"
        },
        {
          "output_type": "stream",
          "text": [
            "INFO:tensorflow:Using config: {'_model_dir': 'output/best_accuracy', '_tf_random_seed': None, '_save_summary_steps': 1, '_save_checkpoints_steps': 30, '_save_checkpoints_secs': None, '_session_config': allow_soft_placement: true\n",
            "graph_options {\n",
            "  rewrite_options {\n",
            "    meta_optimizer_iterations: ONE\n",
            "  }\n",
            "}\n",
            ", '_keep_checkpoint_max': 5, '_keep_checkpoint_every_n_hours': 10000, '_log_step_count_steps': 1, '_train_distribute': <tensorflow.contrib.distribute.python.parameter_server_strategy.ParameterServerStrategy object at 0x7f9dad5be550>, '_device_fn': None, '_protocol': None, '_eval_distribute': None, '_experimental_distribute': None, '_experimental_max_worker_delay_secs': None, '_session_creation_timeout_secs': 7200, '_service': None, '_cluster_spec': <tensorflow.python.training.server_lib.ClusterSpec object at 0x7f9dad505e80>, '_task_type': 'worker', '_task_id': 0, '_global_id_in_cluster': 0, '_master': '', '_evaluation_master': '', '_is_chief': True, '_num_ps_replicas': 0, '_num_worker_replicas': 1, '_distribute_coordinator_mode': None}\n"
          ],
          "name": "stdout"
        },
        {
          "output_type": "stream",
          "text": [
            "INFO:tensorflow:Using config: {'_model_dir': 'output/best_accuracy', '_tf_random_seed': None, '_save_summary_steps': 1, '_save_checkpoints_steps': 30, '_save_checkpoints_secs': None, '_session_config': allow_soft_placement: true\n",
            "graph_options {\n",
            "  rewrite_options {\n",
            "    meta_optimizer_iterations: ONE\n",
            "  }\n",
            "}\n",
            ", '_keep_checkpoint_max': 5, '_keep_checkpoint_every_n_hours': 10000, '_log_step_count_steps': 1, '_train_distribute': <tensorflow.contrib.distribute.python.parameter_server_strategy.ParameterServerStrategy object at 0x7f9dad5be550>, '_device_fn': None, '_protocol': None, '_eval_distribute': None, '_experimental_distribute': None, '_experimental_max_worker_delay_secs': None, '_session_creation_timeout_secs': 7200, '_service': None, '_cluster_spec': <tensorflow.python.training.server_lib.ClusterSpec object at 0x7f9dad505e80>, '_task_type': 'worker', '_task_id': 0, '_global_id_in_cluster': 0, '_master': '', '_evaluation_master': '', '_is_chief': True, '_num_ps_replicas': 0, '_num_worker_replicas': 1, '_distribute_coordinator_mode': None}\n"
          ],
          "name": "stderr"
        },
        {
          "output_type": "stream",
          "text": [
            "INFO:tensorflow:Calling model_fn.\n"
          ],
          "name": "stdout"
        },
        {
          "output_type": "stream",
          "text": [
            "INFO:tensorflow:Calling model_fn.\n"
          ],
          "name": "stderr"
        },
        {
          "output_type": "stream",
          "text": [
            "INFO:tensorflow:Done calling model_fn.\n"
          ],
          "name": "stdout"
        },
        {
          "output_type": "stream",
          "text": [
            "INFO:tensorflow:Done calling model_fn.\n"
          ],
          "name": "stderr"
        },
        {
          "output_type": "stream",
          "text": [
            "INFO:tensorflow:Starting evaluation at 2020-08-21T09:13:13Z\n"
          ],
          "name": "stdout"
        },
        {
          "output_type": "stream",
          "text": [
            "INFO:tensorflow:Starting evaluation at 2020-08-21T09:13:13Z\n"
          ],
          "name": "stderr"
        },
        {
          "output_type": "stream",
          "text": [
            "INFO:tensorflow:Graph was finalized.\n"
          ],
          "name": "stdout"
        },
        {
          "output_type": "stream",
          "text": [
            "INFO:tensorflow:Graph was finalized.\n"
          ],
          "name": "stderr"
        },
        {
          "output_type": "stream",
          "text": [
            "INFO:tensorflow:Restoring parameters from output/best_accuracy/model.ckpt-150\n"
          ],
          "name": "stdout"
        },
        {
          "output_type": "stream",
          "text": [
            "INFO:tensorflow:Restoring parameters from output/best_accuracy/model.ckpt-150\n"
          ],
          "name": "stderr"
        },
        {
          "output_type": "stream",
          "text": [
            "INFO:tensorflow:Running local_init_op.\n"
          ],
          "name": "stdout"
        },
        {
          "output_type": "stream",
          "text": [
            "INFO:tensorflow:Running local_init_op.\n"
          ],
          "name": "stderr"
        },
        {
          "output_type": "stream",
          "text": [
            "INFO:tensorflow:Done running local_init_op.\n"
          ],
          "name": "stdout"
        },
        {
          "output_type": "stream",
          "text": [
            "INFO:tensorflow:Done running local_init_op.\n"
          ],
          "name": "stderr"
        },
        {
          "output_type": "stream",
          "text": [
            "INFO:tensorflow:Finished evaluation at 2020-08-21-09:13:14\n"
          ],
          "name": "stdout"
        },
        {
          "output_type": "stream",
          "text": [
            "INFO:tensorflow:Finished evaluation at 2020-08-21-09:13:14\n"
          ],
          "name": "stderr"
        },
        {
          "output_type": "stream",
          "text": [
            "INFO:tensorflow:Saving dict for global step 150: global_step = 150, loss = 0.03398878, metric/accuracy = 0.98833334, metric/confusion_matrix = [[100   0   0   0   0   0]\n",
            " [  0 100   0   0   0   0]\n",
            " [  0   0  99   0   0   1]\n",
            " [  0   0   0  99   1   0]\n",
            " [  0   0   0   0 100   0]\n",
            " [  0   0   1   0   4  95]]\n"
          ],
          "name": "stdout"
        },
        {
          "output_type": "stream",
          "text": [
            "INFO:tensorflow:Saving dict for global step 150: global_step = 150, loss = 0.03398878, metric/accuracy = 0.98833334, metric/confusion_matrix = [[100   0   0   0   0   0]\n",
            " [  0 100   0   0   0   0]\n",
            " [  0   0  99   0   0   1]\n",
            " [  0   0   0  99   1   0]\n",
            " [  0   0   0   0 100   0]\n",
            " [  0   0   1   0   4  95]]\n"
          ],
          "name": "stderr"
        },
        {
          "output_type": "stream",
          "text": [
            "INFO:tensorflow:Summary for np.ndarray is not visible in Tensorboard by default. Consider using a Tensorboard plugin for visualization (see https://github.com/tensorflow/tensorboard-plugin-example/blob/master/README.md for more information).\n"
          ],
          "name": "stdout"
        },
        {
          "output_type": "stream",
          "text": [
            "INFO:tensorflow:Summary for np.ndarray is not visible in Tensorboard by default. Consider using a Tensorboard plugin for visualization (see https://github.com/tensorflow/tensorboard-plugin-example/blob/master/README.md for more information).\n"
          ],
          "name": "stderr"
        },
        {
          "output_type": "stream",
          "text": [
            "INFO:tensorflow:Saving 'checkpoint_path' summary for global step 150: output/best_accuracy/model.ckpt-150\n"
          ],
          "name": "stdout"
        },
        {
          "output_type": "stream",
          "text": [
            "INFO:tensorflow:Saving 'checkpoint_path' summary for global step 150: output/best_accuracy/model.ckpt-150\n"
          ],
          "name": "stderr"
        },
        {
          "output_type": "stream",
          "text": [
            "INFO:tensorflow:\n",
            "***** Evaluation on test set with best exported model: *****\n"
          ],
          "name": "stdout"
        },
        {
          "output_type": "stream",
          "text": [
            "INFO:tensorflow:\n",
            "***** Evaluation on test set with best exported model: *****\n"
          ],
          "name": "stderr"
        },
        {
          "output_type": "stream",
          "text": [
            "INFO:tensorflow:global_step = 150\n"
          ],
          "name": "stdout"
        },
        {
          "output_type": "stream",
          "text": [
            "INFO:tensorflow:global_step = 150\n"
          ],
          "name": "stderr"
        },
        {
          "output_type": "stream",
          "text": [
            "INFO:tensorflow:loss = 0.03398878\n"
          ],
          "name": "stdout"
        },
        {
          "output_type": "stream",
          "text": [
            "INFO:tensorflow:loss = 0.03398878\n"
          ],
          "name": "stderr"
        },
        {
          "output_type": "stream",
          "text": [
            "INFO:tensorflow:metric/accuracy = 0.98833334\n"
          ],
          "name": "stdout"
        },
        {
          "output_type": "stream",
          "text": [
            "INFO:tensorflow:metric/accuracy = 0.98833334\n"
          ],
          "name": "stderr"
        },
        {
          "output_type": "stream",
          "text": [
            "INFO:tensorflow:metric/confusion_matrix = [[100   0   0   0   0   0]\n",
            " [  0 100   0   0   0   0]\n",
            " [  0   0  99   0   0   1]\n",
            " [  0   0   0  99   1   0]\n",
            " [  0   0   0   0 100   0]\n",
            " [  0   0   1   0   4  95]]\n"
          ],
          "name": "stdout"
        },
        {
          "output_type": "stream",
          "text": [
            "INFO:tensorflow:metric/confusion_matrix = [[100   0   0   0   0   0]\n",
            " [  0 100   0   0   0   0]\n",
            " [  0   0  99   0   0   1]\n",
            " [  0   0   0  99   1   0]\n",
            " [  0   0   0   0 100   0]\n",
            " [  0   0   1   0   4  95]]\n"
          ],
          "name": "stderr"
        },
        {
          "output_type": "stream",
          "text": [
            "INFO:tensorflow:output/export/best_accuracy/1598001178\n"
          ],
          "name": "stdout"
        }
      ]
    },
    {
      "cell_type": "markdown",
      "metadata": {
        "id": "y4ujsr4x2oHg",
        "colab_type": "text"
      },
      "source": [
        "# Let's check the predictions"
      ]
    },
    {
      "cell_type": "code",
      "metadata": {
        "id": "_TFp3ntEthXz",
        "colab_type": "code",
        "colab": {
          "base_uri": "https://localhost:8080/",
          "height": 34
        },
        "outputId": "5bf5b97a-ec49-4ee1-80b6-b4d027724297"
      },
      "source": [
        "import glob\n",
        "from tensorflow.contrib import predictor \n",
        "saved_model_path = glob.glob('output/export/best_accuracy/*')[0]\n",
        "\n",
        "print(saved_model_path)"
      ],
      "execution_count": null,
      "outputs": [
        {
          "output_type": "stream",
          "text": [
            "INFO:tensorflow:output/export/best_accuracy/1598001178\n"
          ],
          "name": "stderr"
        }
      ]
    },
    {
      "cell_type": "code",
      "metadata": {
        "id": "wHM_8u8FsDwF",
        "colab_type": "code",
        "colab": {
          "base_uri": "https://localhost:8080/",
          "height": 765
        },
        "outputId": "b785217b-097e-4f05-d748-819d890c1806"
      },
      "source": [
        "!saved_model_cli show --dir output/export/best_accuracy/* --tag_set serve --signature_def serving_default"
      ],
      "execution_count": null,
      "outputs": [
        {
          "output_type": "stream",
          "text": [
            "INFO:tensorflow:The given SavedModel SignatureDef contains the following input(s):\n",
            "  inputs['doc_query'] tensor_info:\n",
            "      dtype: DT_STRING\n",
            "      shape: (-1)\n",
            "      name: doc_query_placeholder:0\n",
            "  inputs['label'] tensor_info:\n",
            "      dtype: DT_FLOAT\n",
            "      shape: (-1)\n",
            "      name: label_placeholder:0\n",
            "  inputs['uid'] tensor_info:\n",
            "      dtype: DT_INT64\n",
            "      shape: ()\n",
            "      name: uid_placeholder:0\n",
            "  inputs['weight'] tensor_info:\n",
            "      dtype: DT_FLOAT\n",
            "      shape: ()\n",
            "      name: weight_placeholder:0\n",
            "  inputs['wide_ftrs'] tensor_info:\n",
            "      dtype: DT_FLOAT\n",
            "      shape: (-1, 1)\n",
            "      name: wide_ftr_placeholder:0\n",
            "The given SavedModel SignatureDef contains the following output(s):\n",
            "  outputs['label'] tensor_info:\n",
            "      dtype: DT_FLOAT\n",
            "      shape: (1, -1)\n",
            "      name: ExpandDims_2:0\n",
            "  outputs['multiclass_probabilities'] tensor_info:\n",
            "      dtype: DT_FLOAT\n",
            "      shape: (-1, 6)\n",
            "      name: Softmax:0\n",
            "  outputs['scores'] tensor_info:\n",
            "      dtype: DT_FLOAT\n",
            "      shape: (-1, 6)\n",
            "      name: Squeeze:0\n",
            "  outputs['uid'] tensor_info:\n",
            "      dtype: DT_INT64\n",
            "      shape: (1)\n",
            "      name: Const_6:0\n",
            "  outputs['weight'] tensor_info:\n",
            "      dtype: DT_FLOAT\n",
            "      shape: (1)\n",
            "      name: Const_7:0\n",
            "Method name is: tensorflow/serving/predict\n",
            "\n"
          ],
          "name": "stderr"
        }
      ]
    },
    {
      "cell_type": "code",
      "metadata": {
        "id": "RDsKF_Xh3PtV",
        "colab_type": "code",
        "colab": {
          "base_uri": "https://localhost:8080/",
          "height": 105
        },
        "outputId": "f82c19eb-4498-4bf3-cfd8-a979f3585ea5"
      },
      "source": [
        "import numpy as np\n",
        "predict_fn = predictor.from_saved_model(saved_model_path) \n",
        "\n",
        "def predict_class(query):\n",
        "  predictions = predict_fn( \n",
        "                  {\"doc_query\": [query], \n",
        "                   \"wide_ftrs\": [[len(query.split())]],\n",
        "                   # dummy pass-through input for label field -- this is not used in making predictions\n",
        "                   \"label\": [1.0]}) \n",
        "  probabilities = predictions['multiclass_probabilities'][0]\n",
        "  predicted_class = CLASSES[np.argmax(probabilities)]\n",
        "  print(\"query \\\"{}\\\", predicted intent \\\"{}\\\".\".format(query, predicted_class))"
      ],
      "execution_count": null,
      "outputs": [
        {
          "output_type": "stream",
          "text": [
            "WARNING:tensorflow:From /tensorflow-1.15.2/python3.6/tensorflow_core/contrib/predictor/saved_model_predictor.py:153: load (from tensorflow.python.saved_model.loader_impl) is deprecated and will be removed in a future version.\n",
            "Instructions for updating:\n",
            "This function will only be available through the v1 compatibility library as tf.compat.v1.saved_model.loader.load or tf.compat.v1.saved_model.load. There will be a new function for importing SavedModels in Tensorflow 2.0.\n",
            "INFO:tensorflow:Restoring parameters from output/export/best_accuracy/1598001178/variables/variables\n"
          ],
          "name": "stderr"
        }
      ]
    },
    {
      "cell_type": "code",
      "metadata": {
        "id": "SPVD_rNW5Jmv",
        "colab_type": "code",
        "colab": {
          "base_uri": "https://localhost:8080/",
          "height": 105
        },
        "outputId": "a6475d07-d28c-48cb-ba01-981e696ce6ee"
      },
      "source": [
        "# GetWeather intent\n",
        "predict_class(\"how's the weather in Mountain View\")\n",
        "\n",
        "# BookRestaurant intent\n",
        "predict_class(\"I need a table for 4\")\n",
        "\n",
        "# PlayMusic intent\n",
        "predict_class(\"put Jean Philippe Goncalves onto my running to rock 170 to 190 bpm\")\n",
        "\n",
        "# SearchScreeningEvent intent\n",
        "predict_class(\"Find the schedule for The Comedian\")"
      ],
      "execution_count": null,
      "outputs": [
        {
          "output_type": "stream",
          "text": [
            "INFO:tensorflow:query \"how's the weather in Mountain View\", predicted intent \"GetWeather\".\n",
            "INFO:tensorflow:query \"I need a table for 4\", predicted intent \"BookRestaurant\".\n",
            "INFO:tensorflow:query \"put Jean Philippe Goncalves onto my running to rock 170 to 190 bpm\", predicted intent \"AddToPlaylist\".\n",
            "INFO:tensorflow:query \"Find the schedule for The Comedian\", predicted intent \"SearchScreeningEvent\".\n"
          ],
          "name": "stderr"
        }
      ]
    },
    {
      "cell_type": "markdown",
      "metadata": {
        "id": "2UeK6FgOhlbB",
        "colab_type": "text"
      },
      "source": [
        "# References\n",
        "\n",
        "\\[1\\] Dataset: Snips Voice Platform: an embedded Spoken Language Understanding system for private-by-design voice interfaces, [github repo](https://github.com/snipsco/nlu-benchmark)\n",
        "\n"
      ]
    },
    {
      "cell_type": "code",
      "metadata": {
        "id": "nu7bPqd_Y3Ec",
        "colab_type": "code",
        "colab": {}
      },
      "source": [
        ""
      ],
      "execution_count": null,
      "outputs": []
    }
  ]
}